{
 "cells": [
  {
   "cell_type": "code",
   "execution_count": 20,
   "id": "cb39dac6",
   "metadata": {
    "scrolled": true
   },
   "outputs": [],
   "source": [
    "import pandas as pd\n",
    "import numpy as np\n",
    "import seaborn as sns\n",
    "import matplotlib.pyplot as plt\n",
    "import plotly.graph_objects as go\n",
    "import plotly.express as px\n"
   ]
  },
  {
   "cell_type": "code",
   "execution_count": 97,
   "id": "148ec921",
   "metadata": {},
   "outputs": [],
   "source": [
    "import warnings\n",
    "warnings.filterwarnings('ignore')"
   ]
  },
  {
   "cell_type": "code",
   "execution_count": 98,
   "id": "737857e5",
   "metadata": {},
   "outputs": [
    {
     "name": "stdout",
     "output_type": "stream",
     "text": [
      "There are 1338 rows for 7 columns.\n"
     ]
    },
    {
     "data": {
      "text/html": [
       "<div>\n",
       "<style scoped>\n",
       "    .dataframe tbody tr th:only-of-type {\n",
       "        vertical-align: middle;\n",
       "    }\n",
       "\n",
       "    .dataframe tbody tr th {\n",
       "        vertical-align: top;\n",
       "    }\n",
       "\n",
       "    .dataframe thead th {\n",
       "        text-align: right;\n",
       "    }\n",
       "</style>\n",
       "<table border=\"1\" class=\"dataframe\">\n",
       "  <thead>\n",
       "    <tr style=\"text-align: right;\">\n",
       "      <th></th>\n",
       "      <th>age</th>\n",
       "      <th>sex</th>\n",
       "      <th>bmi</th>\n",
       "      <th>children</th>\n",
       "      <th>smoker</th>\n",
       "      <th>region</th>\n",
       "      <th>charges</th>\n",
       "    </tr>\n",
       "  </thead>\n",
       "  <tbody>\n",
       "    <tr>\n",
       "      <th>0</th>\n",
       "      <td>19</td>\n",
       "      <td>female</td>\n",
       "      <td>27.900</td>\n",
       "      <td>0</td>\n",
       "      <td>yes</td>\n",
       "      <td>southwest</td>\n",
       "      <td>16884.92400</td>\n",
       "    </tr>\n",
       "    <tr>\n",
       "      <th>1</th>\n",
       "      <td>18</td>\n",
       "      <td>male</td>\n",
       "      <td>33.770</td>\n",
       "      <td>1</td>\n",
       "      <td>no</td>\n",
       "      <td>southeast</td>\n",
       "      <td>1725.55230</td>\n",
       "    </tr>\n",
       "    <tr>\n",
       "      <th>2</th>\n",
       "      <td>28</td>\n",
       "      <td>male</td>\n",
       "      <td>33.000</td>\n",
       "      <td>3</td>\n",
       "      <td>no</td>\n",
       "      <td>southeast</td>\n",
       "      <td>4449.46200</td>\n",
       "    </tr>\n",
       "    <tr>\n",
       "      <th>3</th>\n",
       "      <td>33</td>\n",
       "      <td>male</td>\n",
       "      <td>22.705</td>\n",
       "      <td>0</td>\n",
       "      <td>no</td>\n",
       "      <td>northwest</td>\n",
       "      <td>21984.47061</td>\n",
       "    </tr>\n",
       "    <tr>\n",
       "      <th>4</th>\n",
       "      <td>32</td>\n",
       "      <td>male</td>\n",
       "      <td>28.880</td>\n",
       "      <td>0</td>\n",
       "      <td>no</td>\n",
       "      <td>northwest</td>\n",
       "      <td>3866.85520</td>\n",
       "    </tr>\n",
       "  </tbody>\n",
       "</table>\n",
       "</div>"
      ],
      "text/plain": [
       "   age     sex     bmi  children smoker     region      charges\n",
       "0   19  female  27.900         0    yes  southwest  16884.92400\n",
       "1   18    male  33.770         1     no  southeast   1725.55230\n",
       "2   28    male  33.000         3     no  southeast   4449.46200\n",
       "3   33    male  22.705         0     no  northwest  21984.47061\n",
       "4   32    male  28.880         0     no  northwest   3866.85520"
      ]
     },
     "execution_count": 98,
     "metadata": {},
     "output_type": "execute_result"
    }
   ],
   "source": [
    "df = pd.read_csv(\"insurance.csv\")\n",
    "print(\"There are {} rows for {} columns.\".format(df.shape[0],df.shape[1]))\n",
    "df.head()"
   ]
  },
  {
   "cell_type": "markdown",
   "id": "6ba98804",
   "metadata": {},
   "source": [
    "# Data Inspection"
   ]
  },
  {
   "cell_type": "code",
   "execution_count": 99,
   "id": "2fa204cc",
   "metadata": {},
   "outputs": [
    {
     "data": {
      "text/plain": [
       "age         0\n",
       "sex         0\n",
       "bmi         0\n",
       "children    0\n",
       "smoker      0\n",
       "region      0\n",
       "charges     0\n",
       "dtype: int64"
      ]
     },
     "execution_count": 99,
     "metadata": {},
     "output_type": "execute_result"
    }
   ],
   "source": [
    "df.isnull().sum()"
   ]
  },
  {
   "cell_type": "code",
   "execution_count": 100,
   "id": "85a1e8b5",
   "metadata": {},
   "outputs": [
    {
     "data": {
      "text/plain": [
       "southeast    364\n",
       "southwest    325\n",
       "northwest    325\n",
       "northeast    324\n",
       "Name: region, dtype: int64"
      ]
     },
     "execution_count": 100,
     "metadata": {},
     "output_type": "execute_result"
    }
   ],
   "source": [
    "df.region.value_counts()"
   ]
  },
  {
   "cell_type": "code",
   "execution_count": 101,
   "id": "179922af",
   "metadata": {},
   "outputs": [
    {
     "name": "stdout",
     "output_type": "stream",
     "text": [
      "<class 'pandas.core.frame.DataFrame'>\n",
      "RangeIndex: 1338 entries, 0 to 1337\n",
      "Data columns (total 7 columns):\n",
      " #   Column    Non-Null Count  Dtype  \n",
      "---  ------    --------------  -----  \n",
      " 0   age       1338 non-null   int64  \n",
      " 1   sex       1338 non-null   object \n",
      " 2   bmi       1338 non-null   float64\n",
      " 3   children  1338 non-null   int64  \n",
      " 4   smoker    1338 non-null   object \n",
      " 5   region    1338 non-null   object \n",
      " 6   charges   1338 non-null   float64\n",
      "dtypes: float64(2), int64(2), object(3)\n",
      "memory usage: 73.3+ KB\n"
     ]
    }
   ],
   "source": [
    "df.info()"
   ]
  },
  {
   "cell_type": "code",
   "execution_count": 102,
   "id": "d265df43",
   "metadata": {},
   "outputs": [
    {
     "data": {
      "text/html": [
       "<div>\n",
       "<style scoped>\n",
       "    .dataframe tbody tr th:only-of-type {\n",
       "        vertical-align: middle;\n",
       "    }\n",
       "\n",
       "    .dataframe tbody tr th {\n",
       "        vertical-align: top;\n",
       "    }\n",
       "\n",
       "    .dataframe thead th {\n",
       "        text-align: right;\n",
       "    }\n",
       "</style>\n",
       "<table border=\"1\" class=\"dataframe\">\n",
       "  <thead>\n",
       "    <tr style=\"text-align: right;\">\n",
       "      <th></th>\n",
       "      <th>age</th>\n",
       "      <th>bmi</th>\n",
       "      <th>children</th>\n",
       "      <th>charges</th>\n",
       "    </tr>\n",
       "  </thead>\n",
       "  <tbody>\n",
       "    <tr>\n",
       "      <th>count</th>\n",
       "      <td>1338.000000</td>\n",
       "      <td>1338.000000</td>\n",
       "      <td>1338.000000</td>\n",
       "      <td>1338.000000</td>\n",
       "    </tr>\n",
       "    <tr>\n",
       "      <th>mean</th>\n",
       "      <td>39.207025</td>\n",
       "      <td>30.663397</td>\n",
       "      <td>1.094918</td>\n",
       "      <td>13270.422265</td>\n",
       "    </tr>\n",
       "    <tr>\n",
       "      <th>std</th>\n",
       "      <td>14.049960</td>\n",
       "      <td>6.098187</td>\n",
       "      <td>1.205493</td>\n",
       "      <td>12110.011237</td>\n",
       "    </tr>\n",
       "    <tr>\n",
       "      <th>min</th>\n",
       "      <td>18.000000</td>\n",
       "      <td>15.960000</td>\n",
       "      <td>0.000000</td>\n",
       "      <td>1121.873900</td>\n",
       "    </tr>\n",
       "    <tr>\n",
       "      <th>25%</th>\n",
       "      <td>27.000000</td>\n",
       "      <td>26.296250</td>\n",
       "      <td>0.000000</td>\n",
       "      <td>4740.287150</td>\n",
       "    </tr>\n",
       "    <tr>\n",
       "      <th>50%</th>\n",
       "      <td>39.000000</td>\n",
       "      <td>30.400000</td>\n",
       "      <td>1.000000</td>\n",
       "      <td>9382.033000</td>\n",
       "    </tr>\n",
       "    <tr>\n",
       "      <th>75%</th>\n",
       "      <td>51.000000</td>\n",
       "      <td>34.693750</td>\n",
       "      <td>2.000000</td>\n",
       "      <td>16639.912515</td>\n",
       "    </tr>\n",
       "    <tr>\n",
       "      <th>max</th>\n",
       "      <td>64.000000</td>\n",
       "      <td>53.130000</td>\n",
       "      <td>5.000000</td>\n",
       "      <td>63770.428010</td>\n",
       "    </tr>\n",
       "  </tbody>\n",
       "</table>\n",
       "</div>"
      ],
      "text/plain": [
       "               age          bmi     children       charges\n",
       "count  1338.000000  1338.000000  1338.000000   1338.000000\n",
       "mean     39.207025    30.663397     1.094918  13270.422265\n",
       "std      14.049960     6.098187     1.205493  12110.011237\n",
       "min      18.000000    15.960000     0.000000   1121.873900\n",
       "25%      27.000000    26.296250     0.000000   4740.287150\n",
       "50%      39.000000    30.400000     1.000000   9382.033000\n",
       "75%      51.000000    34.693750     2.000000  16639.912515\n",
       "max      64.000000    53.130000     5.000000  63770.428010"
      ]
     },
     "execution_count": 102,
     "metadata": {},
     "output_type": "execute_result"
    }
   ],
   "source": [
    "df.describe()"
   ]
  },
  {
   "cell_type": "code",
   "execution_count": 103,
   "id": "6c123f15",
   "metadata": {},
   "outputs": [
    {
     "data": {
      "text/plain": [
       "9382.033"
      ]
     },
     "execution_count": 103,
     "metadata": {},
     "output_type": "execute_result"
    }
   ],
   "source": [
    "df['charges'].median()"
   ]
  },
  {
   "cell_type": "code",
   "execution_count": 104,
   "id": "08dddfe7",
   "metadata": {},
   "outputs": [
    {
     "name": "stdout",
     "output_type": "stream",
     "text": [
      "Number of duplicate rows: 1\n"
     ]
    }
   ],
   "source": [
    "# Check for duplicate rows\n",
    "duplicates = df.duplicated()\n",
    "num_duplicates = duplicates.sum()\n",
    "\n",
    "if num_duplicates > 0:\n",
    "    print(\"Number of duplicate rows:\", num_duplicates)"
   ]
  },
  {
   "cell_type": "code",
   "execution_count": 105,
   "id": "4b572512",
   "metadata": {},
   "outputs": [
    {
     "name": "stdout",
     "output_type": "stream",
     "text": [
      "Unique values in column 'column_name': ['female' 'male']\n"
     ]
    }
   ],
   "source": [
    "# Get unique values in a categorical column\n",
    "unique_values = df['sex'].unique()\n",
    "\n",
    "print(\"Unique values in column 'column_name':\", unique_values)"
   ]
  },
  {
   "cell_type": "code",
   "execution_count": 106,
   "id": "926db44c",
   "metadata": {},
   "outputs": [
    {
     "name": "stdout",
     "output_type": "stream",
     "text": [
      "Unique values in column 'column_name': ['yes' 'no']\n"
     ]
    }
   ],
   "source": [
    "# Get unique values in a categorical column\n",
    "unique_values = df['smoker'].unique()\n",
    "\n",
    "print(\"Unique values in column 'column_name':\", unique_values)"
   ]
  },
  {
   "cell_type": "markdown",
   "id": "14a61670",
   "metadata": {},
   "source": [
    "#### Till Now i have Gained the insights that the data is all cleaned no missing values present and Each field has its own unique values with 6 columns (3 object types and 3 int and flot types)"
   ]
  },
  {
   "cell_type": "markdown",
   "id": "db9b94e1",
   "metadata": {},
   "source": [
    "# Outlier Check "
   ]
  },
  {
   "cell_type": "code",
   "execution_count": 107,
   "id": "d807110a",
   "metadata": {
    "scrolled": true
   },
   "outputs": [
    {
     "data": {
      "image/png": "[encoded data removed]",
      "text/plain": [
       "<Figure size 432x288 with 1 Axes>"
      ]
     },
     "metadata": {
      "needs_background": "light"
     },
     "output_type": "display_data"
    }
   ],
   "source": [
    "sns.boxplot(data=df)\n",
    "plt.show()"
   ]
  },
  {
   "cell_type": "code",
   "execution_count": 108,
   "id": "179146c9",
   "metadata": {},
   "outputs": [
    {
     "name": "stdout",
     "output_type": "stream",
     "text": [
      "Outliers in float column bmi:\n",
      "      age     sex    bmi  children smoker     region      charges\n",
      "116    58    male  49.06         0     no  southeast  11381.32540\n",
      "286    46  female  48.07         2     no  northeast   9432.92530\n",
      "401    47    male  47.52         1     no  southeast   8083.91980\n",
      "543    54  female  47.41         0    yes  southeast  63770.42801\n",
      "847    23    male  50.38         1     no  southeast   2438.05520\n",
      "860    37  female  47.60         2    yes  southwest  46113.51100\n",
      "1047   22    male  52.58         1    yes  southeast  44501.39820\n",
      "1088   52    male  47.74         1     no  southeast   9748.91060\n",
      "1317   18    male  53.13         0     no  southeast   1163.46270\n",
      "\n",
      "\n",
      "Outliers in float column charges:\n",
      "      age     sex     bmi  children smoker     region      charges\n",
      "14     27    male  42.130         0    yes  southeast  39611.75770\n",
      "19     30    male  35.300         0    yes  southwest  36837.46700\n",
      "23     34  female  31.920         1    yes  northeast  37701.87680\n",
      "29     31    male  36.300         2    yes  southwest  38711.00000\n",
      "30     22    male  35.600         0    yes  southwest  35585.57600\n",
      "...   ...     ...     ...       ...    ...        ...          ...\n",
      "1300   45    male  30.360         0    yes  southeast  62592.87309\n",
      "1301   62    male  30.875         3    yes  northwest  46718.16325\n",
      "1303   43    male  27.800         0    yes  southwest  37829.72420\n",
      "1313   19  female  34.700         2    yes  southwest  36397.57600\n",
      "1323   42  female  40.370         2    yes  southeast  43896.37630\n",
      "\n",
      "[139 rows x 7 columns]\n",
      "\n",
      "\n",
      "Outliers in integer column age:\n",
      "Empty DataFrame\n",
      "Columns: [age, sex, bmi, children, smoker, region, charges]\n",
      "Index: []\n",
      "\n",
      "\n",
      "Outliers in integer column children:\n",
      "Empty DataFrame\n",
      "Columns: [age, sex, bmi, children, smoker, region, charges]\n",
      "Index: []\n",
      "\n",
      "\n"
     ]
    }
   ],
   "source": [
    "float_columns = df.select_dtypes(include='float').columns\n",
    "integer_columns = df.select_dtypes(include='integer').columns\n",
    "\n",
    "\n",
    "for column in float_columns:\n",
    "  \n",
    "    Q1 = df[column].quantile(0.25)\n",
    "    Q3 = df[column].quantile(0.75)\n",
    "    IQR = Q3 - Q1\n",
    "\n",
    "    \n",
    "    outliers = df[(df[column] < (Q1 - 1.5 * IQR)) | (df[column] > (Q3 + 1.5 * IQR))]\n",
    "\n",
    "    \n",
    "    print(f\"Outliers in float column {column}:\")\n",
    "    print(outliers)\n",
    "    print(\"\\n\")\n",
    "\n",
    "\n",
    "for column in integer_columns:\n",
    "    \n",
    "    Q1 = df[column].quantile(0.25)\n",
    "    Q3 = df[column].quantile(0.75)\n",
    "    IQR = Q3 - Q1\n",
    "\n",
    "    \n",
    "    outliers = df[(df[column] < (Q1 - 1.5 * IQR)) | (df[column] > (Q3 + 1.5 * IQR))]\n",
    "\n",
    "\n",
    "    print(f\"Outliers in integer column {column}:\")\n",
    "    print(outliers)\n",
    "    print(\"\\n\")"
   ]
  },
  {
   "cell_type": "markdown",
   "id": "be27c81a",
   "metadata": {},
   "source": [
    "#### There are so many outliers in the Charges column thus making it a bit suspecious about the results and the EDA which we are doing further so keep that in mind "
   ]
  },
  {
   "cell_type": "markdown",
   "id": "7ac5e6db",
   "metadata": {},
   "source": [
    "# Exploratory Data Analysis (Descriptive Statistics & Data Visualization)"
   ]
  },
  {
   "cell_type": "markdown",
   "id": "fb4feb86",
   "metadata": {},
   "source": [
    "## 1. Charges Analysis "
   ]
  },
  {
   "cell_type": "code",
   "execution_count": 109,
   "id": "a0e5614b",
   "metadata": {},
   "outputs": [
    {
     "data": {
      "text/plain": [
       "<AxesSubplot:xlabel='charges'>"
      ]
     },
     "execution_count": 109,
     "metadata": {},
     "output_type": "execute_result"
    },
    {
     "data": {
      "image/png": "[encoded data removed]",
      "text/plain": [
       "<Figure size 1224x576 with 2 Axes>"
      ]
     },
     "metadata": {
      "needs_background": "light"
     },
     "output_type": "display_data"
    }
   ],
   "source": [
    "plt.figure(figsize = (17,8))\n",
    "plt.subplot(1,2,2)\n",
    "sns.histplot(x = 'charges', data = df, kde = True)\n",
    "plt.subplot(1,2,1)\n",
    "sns.boxplot(x = 'charges', data = df)"
   ]
  },
  {
   "cell_type": "markdown",
   "id": "7ca5469c",
   "metadata": {},
   "source": [
    "##### Even though the mean is - 13k the median is 9.3k this shows thats Charges Vary rapidly and it goes till 60k i.e. Charges depends on diffrent factors and is varying due to the outliers too"
   ]
  },
  {
   "cell_type": "markdown",
   "id": "44b12774",
   "metadata": {},
   "source": [
    "## 2. Age Analysis w.r.t to sex"
   ]
  },
  {
   "cell_type": "code",
   "execution_count": 110,
   "id": "3bcf01ec",
   "metadata": {},
   "outputs": [
    {
     "data": {
      "image/png": "[encoded data removed]",
      "text/plain": [
       "<Figure size 432x288 with 1 Axes>"
      ]
     },
     "metadata": {
      "needs_background": "light"
     },
     "output_type": "display_data"
    }
   ],
   "source": [
    "# As Age has no outliers - \n",
    "age_intervals = [10, 15, 20, 25, 30, 35, 40, 45, 50, 55, 60, 65, 70]\n",
    "\n",
    "# Create a new column for age groups\n",
    "df['AgeGroup'] = pd.cut(df['age'], age_intervals)\n",
    "\n",
    "# Group by age group and gender, and count the occurrences\n",
    "grouped = df.groupby(['AgeGroup', 'sex']).size().unstack()\n",
    "\n",
    "# Plot the bar graph\n",
    "grouped.plot(kind='bar', stacked=True)\n",
    "\n",
    "# Set the labels and title\n",
    "plt.xlabel('Age Group')\n",
    "plt.ylabel('Count')\n",
    "plt.title('Count of Male and Female by Age Group')\n",
    "\n",
    "# Show the plot\n",
    "plt.show()"
   ]
  },
  {
   "cell_type": "markdown",
   "id": "e3855faf",
   "metadata": {},
   "source": [
    "#### There are more number of MALES who take the insurance in Comparison to he FEMALES and the rate is highest Among Age Group of [15-20]"
   ]
  },
  {
   "cell_type": "markdown",
   "id": "869b6d02",
   "metadata": {},
   "source": [
    "## 3. Avg Charge Analysis w.r.t to Children "
   ]
  },
  {
   "cell_type": "code",
   "execution_count": 111,
   "id": "d831454f",
   "metadata": {},
   "outputs": [
    {
     "data": {
      "image/png": "[encoded data removed]",
      "text/plain": [
       "<Figure size 1080x360 with 2 Axes>"
      ]
     },
     "metadata": {
      "needs_background": "light"
     },
     "output_type": "display_data"
    }
   ],
   "source": [
    "df['charges'] = pd.to_numeric(df['charges'], errors='coerce')\n",
    "ax = sns.relplot(col=\"sex\", y=\"charges\", kind=\"line\",x='children', data=df, col_wrap=3)"
   ]
  },
  {
   "cell_type": "markdown",
   "id": "b175d061",
   "metadata": {},
   "source": [
    "#### This relPlot shows that MALE with 3 children have more Charges in all the cases And similarly male with 5 children have the least charges as well in comparison to female. Females with 0 children have less insurance than Male."
   ]
  },
  {
   "cell_type": "markdown",
   "id": "7236093b",
   "metadata": {},
   "source": [
    "## 4. Charges wrt to Region"
   ]
  },
  {
   "cell_type": "code",
   "execution_count": 113,
   "id": "7e85dcee",
   "metadata": {},
   "outputs": [
    {
     "data": {
      "application/vnd.plotly.v1+json": {
       "config": {
        "plotlyServerURL": "https://plot.ly"
       },
       "data": [
        {
         "domain": {
          "x": [
           0,
           1
          ],
          "y": [
           0,
           1
          ]
         },
         "hovertemplate": "label=%{label}<br>value=%{value}<extra></extra>",
         "labels": [
          "southeast",
          "southwest",
          "northwest",
          "northeast"
         ],
         "legendgroup": "",
         "name": "",
         "showlegend": true,
         "type": "pie",
         "values": [
          364,
          325,
          325,
          324
         ]
        }
       ],
       "layout": {
        "height": 500,
        "legend": {
         "tracegroupgap": 0
        },
        "template": {
         "data": {
          "bar": [
           {
            "error_x": {
             "color": "#2a3f5f"
            },
            "error_y": {
             "color": "#2a3f5f"
            },
            "marker": {
             "line": {
              "color": "#E5ECF6",
              "width": 0.5
             },
             "pattern": {
              "fillmode": "overlay",
              "size": 10,
              "solidity": 0.2
             }
            },
            "type": "bar"
           }
          ],
          "barpolar": [
           {
            "marker": {
             "line": {
              "color": "#E5ECF6",
              "width": 0.5
             },
             "pattern": {
              "fillmode": "overlay",
              "size": 10,
              "solidity": 0.2
             }
            },
            "type": "barpolar"
           }
          ],
          "carpet": [
           {
            "aaxis": {
             "endlinecolor": "#2a3f5f",
             "gridcolor": "white",
             "linecolor": "white",
             "minorgridcolor": "white",
             "startlinecolor": "#2a3f5f"
            },
            "baxis": {
             "endlinecolor": "#2a3f5f",
             "gridcolor": "white",
             "linecolor": "white",
             "minorgridcolor": "white",
             "startlinecolor": "#2a3f5f"
            },
            "type": "carpet"
           }
          ],
          "choropleth": [
           {
            "colorbar": {
             "outlinewidth": 0,
             "ticks": ""
            },
            "type": "choropleth"
           }
          ],
          "contour": [
           {
            "colorbar": {
             "outlinewidth": 0,
             "ticks": ""
            },
            "colorscale": [
             [
              0,
              "#0d0887"
             ],
             [
              0.1111111111111111,
              "#46039f"
             ],
             [
              0.2222222222222222,
              "#7201a8"
             ],
             [
              0.3333333333333333,
              "#9c179e"
             ],
             [
              0.4444444444444444,
              "#bd3786"
             ],
             [
              0.5555555555555556,
              "#d8576b"
             ],
             [
              0.6666666666666666,
              "#ed7953"
             ],
             [
              0.7777777777777778,
              "#fb9f3a"
             ],
             [
              0.8888888888888888,
              "#fdca26"
             ],
             [
              1,
              "#f0f921"
             ]
            ],
            "type": "contour"
           }
          ],
          "contourcarpet": [
           {
            "colorbar": {
             "outlinewidth": 0,
             "ticks": ""
            },
            "type": "contourcarpet"
           }
          ],
          "heatmap": [
           {
            "colorbar": {
             "outlinewidth": 0,
             "ticks": ""
            },
            "colorscale": [
             [
              0,
              "#0d0887"
             ],
             [
              0.1111111111111111,
              "#46039f"
             ],
             [
              0.2222222222222222,
              "#7201a8"
             ],
             [
              0.3333333333333333,
              "#9c179e"
             ],
             [
              0.4444444444444444,
              "#bd3786"
             ],
             [
              0.5555555555555556,
              "#d8576b"
             ],
             [
              0.6666666666666666,
              "#ed7953"
             ],
             [
              0.7777777777777778,
              "#fb9f3a"
             ],
             [
              0.8888888888888888,
              "#fdca26"
             ],
             [
              1,
              "#f0f921"
             ]
            ],
            "type": "heatmap"
           }
          ],
          "heatmapgl": [
           {
            "colorbar": {
             "outlinewidth": 0,
             "ticks": ""
            },
            "colorscale": [
             [
              0,
              "#0d0887"
             ],
             [
              0.1111111111111111,
              "#46039f"
             ],
             [
              0.2222222222222222,
              "#7201a8"
             ],
             [
              0.3333333333333333,
              "#9c179e"
             ],
             [
              0.4444444444444444,
              "#bd3786"
             ],
             [
              0.5555555555555556,
              "#d8576b"
             ],
             [
              0.6666666666666666,
              "#ed7953"
             ],
             [
              0.7777777777777778,
              "#fb9f3a"
             ],
             [
              0.8888888888888888,
              "#fdca26"
             ],
             [
              1,
              "#f0f921"
             ]
            ],
            "type": "heatmapgl"
           }
          ],
          "histogram": [
           {
            "marker": {
             "pattern": {
              "fillmode": "overlay",
              "size": 10,
              "solidity": 0.2
             }
            },
            "type": "histogram"
           }
          ],
          "histogram2d": [
           {
            "colorbar": {
             "outlinewidth": 0,
             "ticks": ""
            },
            "colorscale": [
             [
              0,
              "#0d0887"
             ],
             [
              0.1111111111111111,
              "#46039f"
             ],
             [
              0.2222222222222222,
              "#7201a8"
             ],
             [
              0.3333333333333333,
              "#9c179e"
             ],
             [
              0.4444444444444444,
              "#bd3786"
             ],
             [
              0.5555555555555556,
              "#d8576b"
             ],
             [
              0.6666666666666666,
              "#ed7953"
             ],
             [
              0.7777777777777778,
              "#fb9f3a"
             ],
             [
              0.8888888888888888,
              "#fdca26"
             ],
             [
              1,
              "#f0f921"
             ]
            ],
            "type": "histogram2d"
           }
          ],
          "histogram2dcontour": [
           {
            "colorbar": {
             "outlinewidth": 0,
             "ticks": ""
            },
            "colorscale": [
             [
              0,
              "#0d0887"
             ],
             [
              0.1111111111111111,
              "#46039f"
             ],
             [
              0.2222222222222222,
              "#7201a8"
             ],
             [
              0.3333333333333333,
              "#9c179e"
             ],
             [
              0.4444444444444444,
              "#bd3786"
             ],
             [
              0.5555555555555556,
              "#d8576b"
             ],
             [
              0.6666666666666666,
              "#ed7953"
             ],
             [
              0.7777777777777778,
              "#fb9f3a"
             ],
             [
              0.8888888888888888,
              "#fdca26"
             ],
             [
              1,
              "#f0f921"
             ]
            ],
            "type": "histogram2dcontour"
           }
          ],
          "mesh3d": [
           {
            "colorbar": {
             "outlinewidth": 0,
             "ticks": ""
            },
            "type": "mesh3d"
           }
          ],
          "parcoords": [
           {
            "line": {
             "colorbar": {
              "outlinewidth": 0,
              "ticks": ""
             }
            },
            "type": "parcoords"
           }
          ],
          "pie": [
           {
            "automargin": true,
            "type": "pie"
           }
          ],
          "scatter": [
           {
            "fillpattern": {
             "fillmode": "overlay",
             "size": 10,
             "solidity": 0.2
            },
            "type": "scatter"
           }
          ],
          "scatter3d": [
           {
            "line": {
             "colorbar": {
              "outlinewidth": 0,
              "ticks": ""
             }
            },
            "marker": {
             "colorbar": {
              "outlinewidth": 0,
              "ticks": ""
             }
            },
            "type": "scatter3d"
           }
          ],
          "scattercarpet": [
           {
            "marker": {
             "colorbar": {
              "outlinewidth": 0,
              "ticks": ""
             }
            },
            "type": "scattercarpet"
           }
          ],
          "scattergeo": [
           {
            "marker": {
             "colorbar": {
              "outlinewidth": 0,
              "ticks": ""
             }
            },
            "type": "scattergeo"
           }
          ],
          "scattergl": [
           {
            "marker": {
             "colorbar": {
              "outlinewidth": 0,
              "ticks": ""
             }
            },
            "type": "scattergl"
           }
          ],
          "scattermapbox": [
           {
            "marker": {
             "colorbar": {
              "outlinewidth": 0,
              "ticks": ""
             }
            },
            "type": "scattermapbox"
           }
          ],
          "scatterpolar": [
           {
            "marker": {
             "colorbar": {
              "outlinewidth": 0,
              "ticks": ""
             }
            },
            "type": "scatterpolar"
           }
          ],
          "scatterpolargl": [
           {
            "marker": {
             "colorbar": {
              "outlinewidth": 0,
              "ticks": ""
             }
            },
            "type": "scatterpolargl"
           }
          ],
          "scatterternary": [
           {
            "marker": {
             "colorbar": {
              "outlinewidth": 0,
              "ticks": ""
             }
            },
            "type": "scatterternary"
           }
          ],
          "surface": [
           {
            "colorbar": {
             "outlinewidth": 0,
             "ticks": ""
            },
            "colorscale": [
             [
              0,
              "#0d0887"
             ],
             [
              0.1111111111111111,
              "#46039f"
             ],
             [
              0.2222222222222222,
              "#7201a8"
             ],
             [
              0.3333333333333333,
              "#9c179e"
             ],
             [
              0.4444444444444444,
              "#bd3786"
             ],
             [
              0.5555555555555556,
              "#d8576b"
             ],
             [
              0.6666666666666666,
              "#ed7953"
             ],
             [
              0.7777777777777778,
              "#fb9f3a"
             ],
             [
              0.8888888888888888,
              "#fdca26"
             ],
             [
              1,
              "#f0f921"
             ]
            ],
            "type": "surface"
           }
          ],
          "table": [
           {
            "cells": {
             "fill": {
              "color": "#EBF0F8"
             },
             "line": {
              "color": "white"
             }
            },
            "header": {
             "fill": {
              "color": "#C8D4E3"
             },
             "line": {
              "color": "white"
             }
            },
            "type": "table"
           }
          ]
         },
         "layout": {
          "annotationdefaults": {
           "arrowcolor": "#2a3f5f",
           "arrowhead": 0,
           "arrowwidth": 1
          },
          "autotypenumbers": "strict",
          "coloraxis": {
           "colorbar": {
            "outlinewidth": 0,
            "ticks": ""
           }
          },
          "colorscale": {
           "diverging": [
            [
             0,
             "#8e0152"
            ],
            [
             0.1,
             "#c51b7d"
            ],
            [
             0.2,
             "#de77ae"
            ],
            [
             0.3,
             "#f1b6da"
            ],
            [
             0.4,
             "#fde0ef"
            ],
            [
             0.5,
             "#f7f7f7"
            ],
            [
             0.6,
             "#e6f5d0"
            ],
            [
             0.7,
             "#b8e186"
            ],
            [
             0.8,
             "#7fbc41"
            ],
            [
             0.9,
             "#4d9221"
            ],
            [
             1,
             "#276419"
            ]
           ],
           "sequential": [
            [
             0,
             "#0d0887"
            ],
            [
             0.1111111111111111,
             "#46039f"
            ],
            [
             0.2222222222222222,
             "#7201a8"
            ],
            [
             0.3333333333333333,
             "#9c179e"
            ],
            [
             0.4444444444444444,
             "#bd3786"
            ],
            [
             0.5555555555555556,
             "#d8576b"
            ],
            [
             0.6666666666666666,
             "#ed7953"
            ],
            [
             0.7777777777777778,
             "#fb9f3a"
            ],
            [
             0.8888888888888888,
             "#fdca26"
            ],
            [
             1,
             "#f0f921"
            ]
           ],
           "sequentialminus": [
            [
             0,
             "#0d0887"
            ],
            [
             0.1111111111111111,
             "#46039f"
            ],
            [
             0.2222222222222222,
             "#7201a8"
            ],
            [
             0.3333333333333333,
             "#9c179e"
            ],
            [
             0.4444444444444444,
             "#bd3786"
            ],
            [
             0.5555555555555556,
             "#d8576b"
            ],
            [
             0.6666666666666666,
             "#ed7953"
            ],
            [
             0.7777777777777778,
             "#fb9f3a"
            ],
            [
             0.8888888888888888,
             "#fdca26"
            ],
            [
             1,
             "#f0f921"
            ]
           ]
          },
          "colorway": [
           "#636efa",
           "#EF553B",
           "#00cc96",
           "#ab63fa",
           "#FFA15A",
           "#19d3f3",
           "#FF6692",
           "#B6E880",
           "#FF97FF",
           "#FECB52"
          ],
          "font": {
           "color": "#2a3f5f"
          },
          "geo": {
           "bgcolor": "white",
           "lakecolor": "white",
           "landcolor": "#E5ECF6",
           "showlakes": true,
           "showland": true,
           "subunitcolor": "white"
          },
          "hoverlabel": {
           "align": "left"
          },
          "hovermode": "closest",
          "mapbox": {
           "style": "light"
          },
          "paper_bgcolor": "white",
          "plot_bgcolor": "#E5ECF6",
          "polar": {
           "angularaxis": {
            "gridcolor": "white",
            "linecolor": "white",
            "ticks": ""
           },
           "bgcolor": "#E5ECF6",
           "radialaxis": {
            "gridcolor": "white",
            "linecolor": "white",
            "ticks": ""
           }
          },
          "scene": {
           "xaxis": {
            "backgroundcolor": "#E5ECF6",
            "gridcolor": "white",
            "gridwidth": 2,
            "linecolor": "white",
            "showbackground": true,
            "ticks": "",
            "zerolinecolor": "white"
           },
           "yaxis": {
            "backgroundcolor": "#E5ECF6",
            "gridcolor": "white",
            "gridwidth": 2,
            "linecolor": "white",
            "showbackground": true,
            "ticks": "",
            "zerolinecolor": "white"
           },
           "zaxis": {
            "backgroundcolor": "#E5ECF6",
            "gridcolor": "white",
            "gridwidth": 2,
            "linecolor": "white",
            "showbackground": true,
            "ticks": "",
            "zerolinecolor": "white"
           }
          },
          "shapedefaults": {
           "line": {
            "color": "#2a3f5f"
           }
          },
          "ternary": {
           "aaxis": {
            "gridcolor": "white",
            "linecolor": "white",
            "ticks": ""
           },
           "baxis": {
            "gridcolor": "white",
            "linecolor": "white",
            "ticks": ""
           },
           "bgcolor": "#E5ECF6",
           "caxis": {
            "gridcolor": "white",
            "linecolor": "white",
            "ticks": ""
           }
          },
          "title": {
           "x": 0.05
          },
          "xaxis": {
           "automargin": true,
           "gridcolor": "white",
           "linecolor": "white",
           "ticks": "",
           "title": {
            "standoff": 15
           },
           "zerolinecolor": "white",
           "zerolinewidth": 2
          },
          "yaxis": {
           "automargin": true,
           "gridcolor": "white",
           "linecolor": "white",
           "ticks": "",
           "title": {
            "standoff": 15
           },
           "zerolinecolor": "white",
           "zerolinewidth": 2
          }
         }
        },
        "title": {
         "text": "LandUse Distribution"
        },
        "width": 500
       }
      },
      "text/html": [
       "<div>                            <div id=\"35e66245-79f6-4e08-bb51-8d7046f2dd72\" class=\"plotly-graph-div\" style=\"height:500px; width:500px;\"></div>            <script type=\"text/javascript\">                require([\"plotly\"], function(Plotly) {                    window.PLOTLYENV=window.PLOTLYENV || {};                                    if (document.getElementById(\"35e66245-79f6-4e08-bb51-8d7046f2dd72\")) {                    Plotly.newPlot(                        \"35e66245-79f6-4e08-bb51-8d7046f2dd72\",                        [{\"domain\":{\"x\":[0.0,1.0],\"y\":[0.0,1.0]},\"hovertemplate\":\"label=%{label}\\u003cbr\\u003evalue=%{value}\\u003cextra\\u003e\\u003c\\u002fextra\\u003e\",\"labels\":[\"southeast\",\"southwest\",\"northwest\",\"northeast\"],\"legendgroup\":\"\",\"name\":\"\",\"showlegend\":true,\"values\":[364,325,325,324],\"type\":\"pie\"}],                        {\"template\":{\"data\":{\"histogram2dcontour\":[{\"type\":\"histogram2dcontour\",\"colorbar\":{\"outlinewidth\":0,\"ticks\":\"\"},\"colorscale\":[[0.0,\"#0d0887\"],[0.1111111111111111,\"#46039f\"],[0.2222222222222222,\"#7201a8\"],[0.3333333333333333,\"#9c179e\"],[0.4444444444444444,\"#bd3786\"],[0.5555555555555556,\"#d8576b\"],[0.6666666666666666,\"#ed7953\"],[0.7777777777777778,\"#fb9f3a\"],[0.8888888888888888,\"#fdca26\"],[1.0,\"#f0f921\"]]}],\"choropleth\":[{\"type\":\"choropleth\",\"colorbar\":{\"outlinewidth\":0,\"ticks\":\"\"}}],\"histogram2d\":[{\"type\":\"histogram2d\",\"colorbar\":{\"outlinewidth\":0,\"ticks\":\"\"},\"colorscale\":[[0.0,\"#0d0887\"],[0.1111111111111111,\"#46039f\"],[0.2222222222222222,\"#7201a8\"],[0.3333333333333333,\"#9c179e\"],[0.4444444444444444,\"#bd3786\"],[0.5555555555555556,\"#d8576b\"],[0.6666666666666666,\"#ed7953\"],[0.7777777777777778,\"#fb9f3a\"],[0.8888888888888888,\"#fdca26\"],[1.0,\"#f0f921\"]]}],\"heatmap\":[{\"type\":\"heatmap\",\"colorbar\":{\"outlinewidth\":0,\"ticks\":\"\"},\"colorscale\":[[0.0,\"#0d0887\"],[0.1111111111111111,\"#46039f\"],[0.2222222222222222,\"#7201a8\"],[0.3333333333333333,\"#9c179e\"],[0.4444444444444444,\"#bd3786\"],[0.5555555555555556,\"#d8576b\"],[0.6666666666666666,\"#ed7953\"],[0.7777777777777778,\"#fb9f3a\"],[0.8888888888888888,\"#fdca26\"],[1.0,\"#f0f921\"]]}],\"heatmapgl\":[{\"type\":\"heatmapgl\",\"colorbar\":{\"outlinewidth\":0,\"ticks\":\"\"},\"colorscale\":[[0.0,\"#0d0887\"],[0.1111111111111111,\"#46039f\"],[0.2222222222222222,\"#7201a8\"],[0.3333333333333333,\"#9c179e\"],[0.4444444444444444,\"#bd3786\"],[0.5555555555555556,\"#d8576b\"],[0.6666666666666666,\"#ed7953\"],[0.7777777777777778,\"#fb9f3a\"],[0.8888888888888888,\"#fdca26\"],[1.0,\"#f0f921\"]]}],\"contourcarpet\":[{\"type\":\"contourcarpet\",\"colorbar\":{\"outlinewidth\":0,\"ticks\":\"\"}}],\"contour\":[{\"type\":\"contour\",\"colorbar\":{\"outlinewidth\":0,\"ticks\":\"\"},\"colorscale\":[[0.0,\"#0d0887\"],[0.1111111111111111,\"#46039f\"],[0.2222222222222222,\"#7201a8\"],[0.3333333333333333,\"#9c179e\"],[0.4444444444444444,\"#bd3786\"],[0.5555555555555556,\"#d8576b\"],[0.6666666666666666,\"#ed7953\"],[0.7777777777777778,\"#fb9f3a\"],[0.8888888888888888,\"#fdca26\"],[1.0,\"#f0f921\"]]}],\"surface\":[{\"type\":\"surface\",\"colorbar\":{\"outlinewidth\":0,\"ticks\":\"\"},\"colorscale\":[[0.0,\"#0d0887\"],[0.1111111111111111,\"#46039f\"],[0.2222222222222222,\"#7201a8\"],[0.3333333333333333,\"#9c179e\"],[0.4444444444444444,\"#bd3786\"],[0.5555555555555556,\"#d8576b\"],[0.6666666666666666,\"#ed7953\"],[0.7777777777777778,\"#fb9f3a\"],[0.8888888888888888,\"#fdca26\"],[1.0,\"#f0f921\"]]}],\"mesh3d\":[{\"type\":\"mesh3d\",\"colorbar\":{\"outlinewidth\":0,\"ticks\":\"\"}}],\"scatter\":[{\"fillpattern\":{\"fillmode\":\"overlay\",\"size\":10,\"solidity\":0.2},\"type\":\"scatter\"}],\"parcoords\":[{\"type\":\"parcoords\",\"line\":{\"colorbar\":{\"outlinewidth\":0,\"ticks\":\"\"}}}],\"scatterpolargl\":[{\"type\":\"scatterpolargl\",\"marker\":{\"colorbar\":{\"outlinewidth\":0,\"ticks\":\"\"}}}],\"bar\":[{\"error_x\":{\"color\":\"#2a3f5f\"},\"error_y\":{\"color\":\"#2a3f5f\"},\"marker\":{\"line\":{\"color\":\"#E5ECF6\",\"width\":0.5},\"pattern\":{\"fillmode\":\"overlay\",\"size\":10,\"solidity\":0.2}},\"type\":\"bar\"}],\"scattergeo\":[{\"type\":\"scattergeo\",\"marker\":{\"colorbar\":{\"outlinewidth\":0,\"ticks\":\"\"}}}],\"scatterpolar\":[{\"type\":\"scatterpolar\",\"marker\":{\"colorbar\":{\"outlinewidth\":0,\"ticks\":\"\"}}}],\"histogram\":[{\"marker\":{\"pattern\":{\"fillmode\":\"overlay\",\"size\":10,\"solidity\":0.2}},\"type\":\"histogram\"}],\"scattergl\":[{\"type\":\"scattergl\",\"marker\":{\"colorbar\":{\"outlinewidth\":0,\"ticks\":\"\"}}}],\"scatter3d\":[{\"type\":\"scatter3d\",\"line\":{\"colorbar\":{\"outlinewidth\":0,\"ticks\":\"\"}},\"marker\":{\"colorbar\":{\"outlinewidth\":0,\"ticks\":\"\"}}}],\"scattermapbox\":[{\"type\":\"scattermapbox\",\"marker\":{\"colorbar\":{\"outlinewidth\":0,\"ticks\":\"\"}}}],\"scatterternary\":[{\"type\":\"scatterternary\",\"marker\":{\"colorbar\":{\"outlinewidth\":0,\"ticks\":\"\"}}}],\"scattercarpet\":[{\"type\":\"scattercarpet\",\"marker\":{\"colorbar\":{\"outlinewidth\":0,\"ticks\":\"\"}}}],\"carpet\":[{\"aaxis\":{\"endlinecolor\":\"#2a3f5f\",\"gridcolor\":\"white\",\"linecolor\":\"white\",\"minorgridcolor\":\"white\",\"startlinecolor\":\"#2a3f5f\"},\"baxis\":{\"endlinecolor\":\"#2a3f5f\",\"gridcolor\":\"white\",\"linecolor\":\"white\",\"minorgridcolor\":\"white\",\"startlinecolor\":\"#2a3f5f\"},\"type\":\"carpet\"}],\"table\":[{\"cells\":{\"fill\":{\"color\":\"#EBF0F8\"},\"line\":{\"color\":\"white\"}},\"header\":{\"fill\":{\"color\":\"#C8D4E3\"},\"line\":{\"color\":\"white\"}},\"type\":\"table\"}],\"barpolar\":[{\"marker\":{\"line\":{\"color\":\"#E5ECF6\",\"width\":0.5},\"pattern\":{\"fillmode\":\"overlay\",\"size\":10,\"solidity\":0.2}},\"type\":\"barpolar\"}],\"pie\":[{\"automargin\":true,\"type\":\"pie\"}]},\"layout\":{\"autotypenumbers\":\"strict\",\"colorway\":[\"#636efa\",\"#EF553B\",\"#00cc96\",\"#ab63fa\",\"#FFA15A\",\"#19d3f3\",\"#FF6692\",\"#B6E880\",\"#FF97FF\",\"#FECB52\"],\"font\":{\"color\":\"#2a3f5f\"},\"hovermode\":\"closest\",\"hoverlabel\":{\"align\":\"left\"},\"paper_bgcolor\":\"white\",\"plot_bgcolor\":\"#E5ECF6\",\"polar\":{\"bgcolor\":\"#E5ECF6\",\"angularaxis\":{\"gridcolor\":\"white\",\"linecolor\":\"white\",\"ticks\":\"\"},\"radialaxis\":{\"gridcolor\":\"white\",\"linecolor\":\"white\",\"ticks\":\"\"}},\"ternary\":{\"bgcolor\":\"#E5ECF6\",\"aaxis\":{\"gridcolor\":\"white\",\"linecolor\":\"white\",\"ticks\":\"\"},\"baxis\":{\"gridcolor\":\"white\",\"linecolor\":\"white\",\"ticks\":\"\"},\"caxis\":{\"gridcolor\":\"white\",\"linecolor\":\"white\",\"ticks\":\"\"}},\"coloraxis\":{\"colorbar\":{\"outlinewidth\":0,\"ticks\":\"\"}},\"colorscale\":{\"sequential\":[[0.0,\"#0d0887\"],[0.1111111111111111,\"#46039f\"],[0.2222222222222222,\"#7201a8\"],[0.3333333333333333,\"#9c179e\"],[0.4444444444444444,\"#bd3786\"],[0.5555555555555556,\"#d8576b\"],[0.6666666666666666,\"#ed7953\"],[0.7777777777777778,\"#fb9f3a\"],[0.8888888888888888,\"#fdca26\"],[1.0,\"#f0f921\"]],\"sequentialminus\":[[0.0,\"#0d0887\"],[0.1111111111111111,\"#46039f\"],[0.2222222222222222,\"#7201a8\"],[0.3333333333333333,\"#9c179e\"],[0.4444444444444444,\"#bd3786\"],[0.5555555555555556,\"#d8576b\"],[0.6666666666666666,\"#ed7953\"],[0.7777777777777778,\"#fb9f3a\"],[0.8888888888888888,\"#fdca26\"],[1.0,\"#f0f921\"]],\"diverging\":[[0,\"#8e0152\"],[0.1,\"#c51b7d\"],[0.2,\"#de77ae\"],[0.3,\"#f1b6da\"],[0.4,\"#fde0ef\"],[0.5,\"#f7f7f7\"],[0.6,\"#e6f5d0\"],[0.7,\"#b8e186\"],[0.8,\"#7fbc41\"],[0.9,\"#4d9221\"],[1,\"#276419\"]]},\"xaxis\":{\"gridcolor\":\"white\",\"linecolor\":\"white\",\"ticks\":\"\",\"title\":{\"standoff\":15},\"zerolinecolor\":\"white\",\"automargin\":true,\"zerolinewidth\":2},\"yaxis\":{\"gridcolor\":\"white\",\"linecolor\":\"white\",\"ticks\":\"\",\"title\":{\"standoff\":15},\"zerolinecolor\":\"white\",\"automargin\":true,\"zerolinewidth\":2},\"scene\":{\"xaxis\":{\"backgroundcolor\":\"#E5ECF6\",\"gridcolor\":\"white\",\"linecolor\":\"white\",\"showbackground\":true,\"ticks\":\"\",\"zerolinecolor\":\"white\",\"gridwidth\":2},\"yaxis\":{\"backgroundcolor\":\"#E5ECF6\",\"gridcolor\":\"white\",\"linecolor\":\"white\",\"showbackground\":true,\"ticks\":\"\",\"zerolinecolor\":\"white\",\"gridwidth\":2},\"zaxis\":{\"backgroundcolor\":\"#E5ECF6\",\"gridcolor\":\"white\",\"linecolor\":\"white\",\"showbackground\":true,\"ticks\":\"\",\"zerolinecolor\":\"white\",\"gridwidth\":2}},\"shapedefaults\":{\"line\":{\"color\":\"#2a3f5f\"}},\"annotationdefaults\":{\"arrowcolor\":\"#2a3f5f\",\"arrowhead\":0,\"arrowwidth\":1},\"geo\":{\"bgcolor\":\"white\",\"landcolor\":\"#E5ECF6\",\"subunitcolor\":\"white\",\"showland\":true,\"showlakes\":true,\"lakecolor\":\"white\"},\"title\":{\"x\":0.05},\"mapbox\":{\"style\":\"light\"}}},\"legend\":{\"tracegroupgap\":0},\"title\":{\"text\":\"LandUse Distribution\"},\"width\":500,\"height\":500},                        {\"responsive\": true}                    ).then(function(){\n",
       "                            \n",
       "var gd = document.getElementById('35e66245-79f6-4e08-bb51-8d7046f2dd72');\n",
       "var x = new MutationObserver(function (mutations, observer) {{\n",
       "        var display = window.getComputedStyle(gd).display;\n",
       "        if (!display || display === 'none') {{\n",
       "            console.log([gd, 'removed!']);\n",
       "            Plotly.purge(gd);\n",
       "            observer.disconnect();\n",
       "        }}\n",
       "}});\n",
       "\n",
       "// Listen for the removal of the full notebook cells\n",
       "var notebookContainer = gd.closest('#notebook-container');\n",
       "if (notebookContainer) {{\n",
       "    x.observe(notebookContainer, {childList: true});\n",
       "}}\n",
       "\n",
       "// Listen for the clearing of the current output cell\n",
       "var outputEl = gd.closest('.output');\n",
       "if (outputEl) {{\n",
       "    x.observe(outputEl, {childList: true});\n",
       "}}\n",
       "\n",
       "                        })                };                });            </script>        </div>"
      ]
     },
     "metadata": {},
     "output_type": "display_data"
    }
   ],
   "source": [
    "# Calculate the count of each LandUse category\n",
    "landuse_counts = df['region'].value_counts()\n",
    "\n",
    "# Create a pie chart for LandUse using Plotly\n",
    "fig = px.pie(df, names=landuse_counts.index, values=landuse_counts.values, title='LandUse Distribution')\n",
    "\n",
    "# Increase the figure size\n",
    "fig.update_layout(width=500, height=500)\n",
    "\n",
    "# Show the pie chart\n",
    "fig.show()"
   ]
  },
  {
   "cell_type": "markdown",
   "id": "7c221398",
   "metadata": {},
   "source": [
    "#### The land distribution is almost same in the South, east, South west and north west and north east region. The south-east region has the most number of lands. That’s why it has more number of charges at it as shown in the Below graph."
   ]
  },
  {
   "cell_type": "code",
   "execution_count": 37,
   "id": "93da224d",
   "metadata": {},
   "outputs": [
    {
     "data": {
      "image/png": "[encoded data removed]",
      "text/plain": [
       "<Figure size 720x432 with 1 Axes>"
      ]
     },
     "metadata": {
      "needs_background": "light"
     },
     "output_type": "display_data"
    }
   ],
   "source": [
    "# Create a bar plot using seaborn\n",
    "plt.figure(figsize=(10, 6))\n",
    "sns.barplot(x='charges', y='region', data=df)\n",
    "\n",
    "# Set the chart title and axis labels\n",
    "plt.title('Charges by Region')\n",
    "plt.xlabel('Region')\n",
    "plt.ylabel('Charges')\n",
    "\n",
    "# Show the plot\n",
    "plt.show()"
   ]
  },
  {
   "cell_type": "markdown",
   "id": "b75b5679",
   "metadata": {},
   "source": [
    "#### Overall, the Southeast has the greatest medical costs, while the Southwest has the lowest. As the south-east region has most number of lands, so the charges in the south-east region or mode in comparison to the other regions"
   ]
  },
  {
   "cell_type": "markdown",
   "id": "9cb93408",
   "metadata": {},
   "source": [
    "## 5. Charges wrt to BMI Category"
   ]
  },
  {
   "cell_type": "code",
   "execution_count": 38,
   "id": "f217af68",
   "metadata": {},
   "outputs": [],
   "source": [
    "bmi_ranges = [\n",
    "     (float('-inf'), 16.0, 'Underweight III'),\n",
    "    (16.0, 16.9, 'Underweight II'),\n",
    "    (17.0, 18.4, 'Underweight I'),\n",
    "    (18.5, 24.9, 'Normal range'),\n",
    "    (25.0, 29.9, 'Overweight'),\n",
    "    (30.0, 34.9, 'Obese I'),\n",
    "    (35.0, 39.9, 'Obese II'),\n",
    "    (40.0, float('inf'), 'Obese III')\n",
    "]\n",
    "\n",
    "# Create a new column 'BMI Category' and assign the corresponding category for each BMI value\n",
    "df['bmi_classes'] = pd.cut(df['bmi'], bins=[start for start, _, _ in bmi_ranges] + [float('inf')], \n",
    "                            labels=[category for _, _, category in bmi_ranges], right=False)"
   ]
  },
  {
   "cell_type": "code",
   "execution_count": 39,
   "id": "58a2409f",
   "metadata": {},
   "outputs": [
    {
     "data": {
      "application/vnd.plotly.v1+json": {
       "config": {
        "plotlyServerURL": "https://plot.ly"
       },
       "data": [
        {
         "alignmentgroup": "True",
         "hovertemplate": "bmi_classes=%{x}<br>charges=%{y}<extra></extra>",
         "legendgroup": "",
         "marker": {
          "color": "#636efa",
          "pattern": {
           "shape": ""
          }
         },
         "name": "",
         "offsetgroup": "",
         "orientation": "v",
         "showlegend": false,
         "textposition": "auto",
         "type": "bar",
         "x": [
          "Underweight III",
          "Underweight II",
          "Underweight I",
          "Normal range",
          "Overweight",
          "Obese I",
          "Obese II",
          "Obese III"
         ],
         "xaxis": "x",
         "y": [
          1694.7964,
          4904.00035,
          9737.718505882352,
          10409.337708977777,
          10987.509891318652,
          14419.674969693097,
          17022.25888271111,
          16784.615546483517
         ],
         "yaxis": "y"
        }
       ],
       "layout": {
        "barmode": "relative",
        "legend": {
         "tracegroupgap": 0
        },
        "template": {
         "data": {
          "bar": [
           {
            "error_x": {
             "color": "#2a3f5f"
            },
            "error_y": {
             "color": "#2a3f5f"
            },
            "marker": {
             "line": {
              "color": "#E5ECF6",
              "width": 0.5
             },
             "pattern": {
              "fillmode": "overlay",
              "size": 10,
              "solidity": 0.2
             }
            },
            "type": "bar"
           }
          ],
          "barpolar": [
           {
            "marker": {
             "line": {
              "color": "#E5ECF6",
              "width": 0.5
             },
             "pattern": {
              "fillmode": "overlay",
              "size": 10,
              "solidity": 0.2
             }
            },
            "type": "barpolar"
           }
          ],
          "carpet": [
           {
            "aaxis": {
             "endlinecolor": "#2a3f5f",
             "gridcolor": "white",
             "linecolor": "white",
             "minorgridcolor": "white",
             "startlinecolor": "#2a3f5f"
            },
            "baxis": {
             "endlinecolor": "#2a3f5f",
             "gridcolor": "white",
             "linecolor": "white",
             "minorgridcolor": "white",
             "startlinecolor": "#2a3f5f"
            },
            "type": "carpet"
           }
          ],
          "choropleth": [
           {
            "colorbar": {
             "outlinewidth": 0,
             "ticks": ""
            },
            "type": "choropleth"
           }
          ],
          "contour": [
           {
            "colorbar": {
             "outlinewidth": 0,
             "ticks": ""
            },
            "colorscale": [
             [
              0,
              "#0d0887"
             ],
             [
              0.1111111111111111,
              "#46039f"
             ],
             [
              0.2222222222222222,
              "#7201a8"
             ],
             [
              0.3333333333333333,
              "#9c179e"
             ],
             [
              0.4444444444444444,
              "#bd3786"
             ],
             [
              0.5555555555555556,
              "#d8576b"
             ],
             [
              0.6666666666666666,
              "#ed7953"
             ],
             [
              0.7777777777777778,
              "#fb9f3a"
             ],
             [
              0.8888888888888888,
              "#fdca26"
             ],
             [
              1,
              "#f0f921"
             ]
            ],
            "type": "contour"
           }
          ],
          "contourcarpet": [
           {
            "colorbar": {
             "outlinewidth": 0,
             "ticks": ""
            },
            "type": "contourcarpet"
           }
          ],
          "heatmap": [
           {
            "colorbar": {
             "outlinewidth": 0,
             "ticks": ""
            },
            "colorscale": [
             [
              0,
              "#0d0887"
             ],
             [
              0.1111111111111111,
              "#46039f"
             ],
             [
              0.2222222222222222,
              "#7201a8"
             ],
             [
              0.3333333333333333,
              "#9c179e"
             ],
             [
              0.4444444444444444,
              "#bd3786"
             ],
             [
              0.5555555555555556,
              "#d8576b"
             ],
             [
              0.6666666666666666,
              "#ed7953"
             ],
             [
              0.7777777777777778,
              "#fb9f3a"
             ],
             [
              0.8888888888888888,
              "#fdca26"
             ],
             [
              1,
              "#f0f921"
             ]
            ],
            "type": "heatmap"
           }
          ],
          "heatmapgl": [
           {
            "colorbar": {
             "outlinewidth": 0,
             "ticks": ""
            },
            "colorscale": [
             [
              0,
              "#0d0887"
             ],
             [
              0.1111111111111111,
              "#46039f"
             ],
             [
              0.2222222222222222,
              "#7201a8"
             ],
             [
              0.3333333333333333,
              "#9c179e"
             ],
             [
              0.4444444444444444,
              "#bd3786"
             ],
             [
              0.5555555555555556,
              "#d8576b"
             ],
             [
              0.6666666666666666,
              "#ed7953"
             ],
             [
              0.7777777777777778,
              "#fb9f3a"
             ],
             [
              0.8888888888888888,
              "#fdca26"
             ],
             [
              1,
              "#f0f921"
             ]
            ],
            "type": "heatmapgl"
           }
          ],
          "histogram": [
           {
            "marker": {
             "pattern": {
              "fillmode": "overlay",
              "size": 10,
              "solidity": 0.2
             }
            },
            "type": "histogram"
           }
          ],
          "histogram2d": [
           {
            "colorbar": {
             "outlinewidth": 0,
             "ticks": ""
            },
            "colorscale": [
             [
              0,
              "#0d0887"
             ],
             [
              0.1111111111111111,
              "#46039f"
             ],
             [
              0.2222222222222222,
              "#7201a8"
             ],
             [
              0.3333333333333333,
              "#9c179e"
             ],
             [
              0.4444444444444444,
              "#bd3786"
             ],
             [
              0.5555555555555556,
              "#d8576b"
             ],
             [
              0.6666666666666666,
              "#ed7953"
             ],
             [
              0.7777777777777778,
              "#fb9f3a"
             ],
             [
              0.8888888888888888,
              "#fdca26"
             ],
             [
              1,
              "#f0f921"
             ]
            ],
            "type": "histogram2d"
           }
          ],
          "histogram2dcontour": [
           {
            "colorbar": {
             "outlinewidth": 0,
             "ticks": ""
            },
            "colorscale": [
             [
              0,
              "#0d0887"
             ],
             [
              0.1111111111111111,
              "#46039f"
             ],
             [
              0.2222222222222222,
              "#7201a8"
             ],
             [
              0.3333333333333333,
              "#9c179e"
             ],
             [
              0.4444444444444444,
              "#bd3786"
             ],
             [
              0.5555555555555556,
              "#d8576b"
             ],
             [
              0.6666666666666666,
              "#ed7953"
             ],
             [
              0.7777777777777778,
              "#fb9f3a"
             ],
             [
              0.8888888888888888,
              "#fdca26"
             ],
             [
              1,
              "#f0f921"
             ]
            ],
            "type": "histogram2dcontour"
           }
          ],
          "mesh3d": [
           {
            "colorbar": {
             "outlinewidth": 0,
             "ticks": ""
            },
            "type": "mesh3d"
           }
          ],
          "parcoords": [
           {
            "line": {
             "colorbar": {
              "outlinewidth": 0,
              "ticks": ""
             }
            },
            "type": "parcoords"
           }
          ],
          "pie": [
           {
            "automargin": true,
            "type": "pie"
           }
          ],
          "scatter": [
           {
            "fillpattern": {
             "fillmode": "overlay",
             "size": 10,
             "solidity": 0.2
            },
            "type": "scatter"
           }
          ],
          "scatter3d": [
           {
            "line": {
             "colorbar": {
              "outlinewidth": 0,
              "ticks": ""
             }
            },
            "marker": {
             "colorbar": {
              "outlinewidth": 0,
              "ticks": ""
             }
            },
            "type": "scatter3d"
           }
          ],
          "scattercarpet": [
           {
            "marker": {
             "colorbar": {
              "outlinewidth": 0,
              "ticks": ""
             }
            },
            "type": "scattercarpet"
           }
          ],
          "scattergeo": [
           {
            "marker": {
             "colorbar": {
              "outlinewidth": 0,
              "ticks": ""
             }
            },
            "type": "scattergeo"
           }
          ],
          "scattergl": [
           {
            "marker": {
             "colorbar": {
              "outlinewidth": 0,
              "ticks": ""
             }
            },
            "type": "scattergl"
           }
          ],
          "scattermapbox": [
           {
            "marker": {
             "colorbar": {
              "outlinewidth": 0,
              "ticks": ""
             }
            },
            "type": "scattermapbox"
           }
          ],
          "scatterpolar": [
           {
            "marker": {
             "colorbar": {
              "outlinewidth": 0,
              "ticks": ""
             }
            },
            "type": "scatterpolar"
           }
          ],
          "scatterpolargl": [
           {
            "marker": {
             "colorbar": {
              "outlinewidth": 0,
              "ticks": ""
             }
            },
            "type": "scatterpolargl"
           }
          ],
          "scatterternary": [
           {
            "marker": {
             "colorbar": {
              "outlinewidth": 0,
              "ticks": ""
             }
            },
            "type": "scatterternary"
           }
          ],
          "surface": [
           {
            "colorbar": {
             "outlinewidth": 0,
             "ticks": ""
            },
            "colorscale": [
             [
              0,
              "#0d0887"
             ],
             [
              0.1111111111111111,
              "#46039f"
             ],
             [
              0.2222222222222222,
              "#7201a8"
             ],
             [
              0.3333333333333333,
              "#9c179e"
             ],
             [
              0.4444444444444444,
              "#bd3786"
             ],
             [
              0.5555555555555556,
              "#d8576b"
             ],
             [
              0.6666666666666666,
              "#ed7953"
             ],
             [
              0.7777777777777778,
              "#fb9f3a"
             ],
             [
              0.8888888888888888,
              "#fdca26"
             ],
             [
              1,
              "#f0f921"
             ]
            ],
            "type": "surface"
           }
          ],
          "table": [
           {
            "cells": {
             "fill": {
              "color": "#EBF0F8"
             },
             "line": {
              "color": "white"
             }
            },
            "header": {
             "fill": {
              "color": "#C8D4E3"
             },
             "line": {
              "color": "white"
             }
            },
            "type": "table"
           }
          ]
         },
         "layout": {
          "annotationdefaults": {
           "arrowcolor": "#2a3f5f",
           "arrowhead": 0,
           "arrowwidth": 1
          },
          "autotypenumbers": "strict",
          "coloraxis": {
           "colorbar": {
            "outlinewidth": 0,
            "ticks": ""
           }
          },
          "colorscale": {
           "diverging": [
            [
             0,
             "#8e0152"
            ],
            [
             0.1,
             "#c51b7d"
            ],
            [
             0.2,
             "#de77ae"
            ],
            [
             0.3,
             "#f1b6da"
            ],
            [
             0.4,
             "#fde0ef"
            ],
            [
             0.5,
             "#f7f7f7"
            ],
            [
             0.6,
             "#e6f5d0"
            ],
            [
             0.7,
             "#b8e186"
            ],
            [
             0.8,
             "#7fbc41"
            ],
            [
             0.9,
             "#4d9221"
            ],
            [
             1,
             "#276419"
            ]
           ],
           "sequential": [
            [
             0,
             "#0d0887"
            ],
            [
             0.1111111111111111,
             "#46039f"
            ],
            [
             0.2222222222222222,
             "#7201a8"
            ],
            [
             0.3333333333333333,
             "#9c179e"
            ],
            [
             0.4444444444444444,
             "#bd3786"
            ],
            [
             0.5555555555555556,
             "#d8576b"
            ],
            [
             0.6666666666666666,
             "#ed7953"
            ],
            [
             0.7777777777777778,
             "#fb9f3a"
            ],
            [
             0.8888888888888888,
             "#fdca26"
            ],
            [
             1,
             "#f0f921"
            ]
           ],
           "sequentialminus": [
            [
             0,
             "#0d0887"
            ],
            [
             0.1111111111111111,
             "#46039f"
            ],
            [
             0.2222222222222222,
             "#7201a8"
            ],
            [
             0.3333333333333333,
             "#9c179e"
            ],
            [
             0.4444444444444444,
             "#bd3786"
            ],
            [
             0.5555555555555556,
             "#d8576b"
            ],
            [
             0.6666666666666666,
             "#ed7953"
            ],
            [
             0.7777777777777778,
             "#fb9f3a"
            ],
            [
             0.8888888888888888,
             "#fdca26"
            ],
            [
             1,
             "#f0f921"
            ]
           ]
          },
          "colorway": [
           "#636efa",
           "#EF553B",
           "#00cc96",
           "#ab63fa",
           "#FFA15A",
           "#19d3f3",
           "#FF6692",
           "#B6E880",
           "#FF97FF",
           "#FECB52"
          ],
          "font": {
           "color": "#2a3f5f"
          },
          "geo": {
           "bgcolor": "white",
           "lakecolor": "white",
           "landcolor": "#E5ECF6",
           "showlakes": true,
           "showland": true,
           "subunitcolor": "white"
          },
          "hoverlabel": {
           "align": "left"
          },
          "hovermode": "closest",
          "mapbox": {
           "style": "light"
          },
          "paper_bgcolor": "white",
          "plot_bgcolor": "#E5ECF6",
          "polar": {
           "angularaxis": {
            "gridcolor": "white",
            "linecolor": "white",
            "ticks": ""
           },
           "bgcolor": "#E5ECF6",
           "radialaxis": {
            "gridcolor": "white",
            "linecolor": "white",
            "ticks": ""
           }
          },
          "scene": {
           "xaxis": {
            "backgroundcolor": "#E5ECF6",
            "gridcolor": "white",
            "gridwidth": 2,
            "linecolor": "white",
            "showbackground": true,
            "ticks": "",
            "zerolinecolor": "white"
           },
           "yaxis": {
            "backgroundcolor": "#E5ECF6",
            "gridcolor": "white",
            "gridwidth": 2,
            "linecolor": "white",
            "showbackground": true,
            "ticks": "",
            "zerolinecolor": "white"
           },
           "zaxis": {
            "backgroundcolor": "#E5ECF6",
            "gridcolor": "white",
            "gridwidth": 2,
            "linecolor": "white",
            "showbackground": true,
            "ticks": "",
            "zerolinecolor": "white"
           }
          },
          "shapedefaults": {
           "line": {
            "color": "#2a3f5f"
           }
          },
          "ternary": {
           "aaxis": {
            "gridcolor": "white",
            "linecolor": "white",
            "ticks": ""
           },
           "baxis": {
            "gridcolor": "white",
            "linecolor": "white",
            "ticks": ""
           },
           "bgcolor": "#E5ECF6",
           "caxis": {
            "gridcolor": "white",
            "linecolor": "white",
            "ticks": ""
           }
          },
          "title": {
           "x": 0.05
          },
          "xaxis": {
           "automargin": true,
           "gridcolor": "white",
           "linecolor": "white",
           "ticks": "",
           "title": {
            "standoff": 15
           },
           "zerolinecolor": "white",
           "zerolinewidth": 2
          },
          "yaxis": {
           "automargin": true,
           "gridcolor": "white",
           "linecolor": "white",
           "ticks": "",
           "title": {
            "standoff": 15
           },
           "zerolinecolor": "white",
           "zerolinewidth": 2
          }
         }
        },
        "title": {
         "text": "Average Charges by BMI Category"
        },
        "xaxis": {
         "anchor": "y",
         "domain": [
          0,
          1
         ],
         "title": {
          "text": "bmi_classes"
         }
        },
        "yaxis": {
         "anchor": "x",
         "domain": [
          0,
          1
         ],
         "title": {
          "text": "charges"
         }
        }
       }
      },
      "text/html": [
       "<div>                            <div id=\"7ca114b4-f952-4627-89d8-a827440384c7\" class=\"plotly-graph-div\" style=\"height:525px; width:100%;\"></div>            <script type=\"text/javascript\">                require([\"plotly\"], function(Plotly) {                    window.PLOTLYENV=window.PLOTLYENV || {};                                    if (document.getElementById(\"7ca114b4-f952-4627-89d8-a827440384c7\")) {                    Plotly.newPlot(                        \"7ca114b4-f952-4627-89d8-a827440384c7\",                        [{\"alignmentgroup\":\"True\",\"hovertemplate\":\"bmi_classes=%{x}\\u003cbr\\u003echarges=%{y}\\u003cextra\\u003e\\u003c\\u002fextra\\u003e\",\"legendgroup\":\"\",\"marker\":{\"color\":\"#636efa\",\"pattern\":{\"shape\":\"\"}},\"name\":\"\",\"offsetgroup\":\"\",\"orientation\":\"v\",\"showlegend\":false,\"textposition\":\"auto\",\"x\":[\"Underweight III\",\"Underweight II\",\"Underweight I\",\"Normal range\",\"Overweight\",\"Obese I\",\"Obese II\",\"Obese III\"],\"xaxis\":\"x\",\"y\":[1694.7964,4904.00035,9737.718505882352,10409.337708977777,10987.509891318652,14419.674969693097,17022.25888271111,16784.615546483517],\"yaxis\":\"y\",\"type\":\"bar\"}],                        {\"template\":{\"data\":{\"histogram2dcontour\":[{\"type\":\"histogram2dcontour\",\"colorbar\":{\"outlinewidth\":0,\"ticks\":\"\"},\"colorscale\":[[0.0,\"#0d0887\"],[0.1111111111111111,\"#46039f\"],[0.2222222222222222,\"#7201a8\"],[0.3333333333333333,\"#9c179e\"],[0.4444444444444444,\"#bd3786\"],[0.5555555555555556,\"#d8576b\"],[0.6666666666666666,\"#ed7953\"],[0.7777777777777778,\"#fb9f3a\"],[0.8888888888888888,\"#fdca26\"],[1.0,\"#f0f921\"]]}],\"choropleth\":[{\"type\":\"choropleth\",\"colorbar\":{\"outlinewidth\":0,\"ticks\":\"\"}}],\"histogram2d\":[{\"type\":\"histogram2d\",\"colorbar\":{\"outlinewidth\":0,\"ticks\":\"\"},\"colorscale\":[[0.0,\"#0d0887\"],[0.1111111111111111,\"#46039f\"],[0.2222222222222222,\"#7201a8\"],[0.3333333333333333,\"#9c179e\"],[0.4444444444444444,\"#bd3786\"],[0.5555555555555556,\"#d8576b\"],[0.6666666666666666,\"#ed7953\"],[0.7777777777777778,\"#fb9f3a\"],[0.8888888888888888,\"#fdca26\"],[1.0,\"#f0f921\"]]}],\"heatmap\":[{\"type\":\"heatmap\",\"colorbar\":{\"outlinewidth\":0,\"ticks\":\"\"},\"colorscale\":[[0.0,\"#0d0887\"],[0.1111111111111111,\"#46039f\"],[0.2222222222222222,\"#7201a8\"],[0.3333333333333333,\"#9c179e\"],[0.4444444444444444,\"#bd3786\"],[0.5555555555555556,\"#d8576b\"],[0.6666666666666666,\"#ed7953\"],[0.7777777777777778,\"#fb9f3a\"],[0.8888888888888888,\"#fdca26\"],[1.0,\"#f0f921\"]]}],\"heatmapgl\":[{\"type\":\"heatmapgl\",\"colorbar\":{\"outlinewidth\":0,\"ticks\":\"\"},\"colorscale\":[[0.0,\"#0d0887\"],[0.1111111111111111,\"#46039f\"],[0.2222222222222222,\"#7201a8\"],[0.3333333333333333,\"#9c179e\"],[0.4444444444444444,\"#bd3786\"],[0.5555555555555556,\"#d8576b\"],[0.6666666666666666,\"#ed7953\"],[0.7777777777777778,\"#fb9f3a\"],[0.8888888888888888,\"#fdca26\"],[1.0,\"#f0f921\"]]}],\"contourcarpet\":[{\"type\":\"contourcarpet\",\"colorbar\":{\"outlinewidth\":0,\"ticks\":\"\"}}],\"contour\":[{\"type\":\"contour\",\"colorbar\":{\"outlinewidth\":0,\"ticks\":\"\"},\"colorscale\":[[0.0,\"#0d0887\"],[0.1111111111111111,\"#46039f\"],[0.2222222222222222,\"#7201a8\"],[0.3333333333333333,\"#9c179e\"],[0.4444444444444444,\"#bd3786\"],[0.5555555555555556,\"#d8576b\"],[0.6666666666666666,\"#ed7953\"],[0.7777777777777778,\"#fb9f3a\"],[0.8888888888888888,\"#fdca26\"],[1.0,\"#f0f921\"]]}],\"surface\":[{\"type\":\"surface\",\"colorbar\":{\"outlinewidth\":0,\"ticks\":\"\"},\"colorscale\":[[0.0,\"#0d0887\"],[0.1111111111111111,\"#46039f\"],[0.2222222222222222,\"#7201a8\"],[0.3333333333333333,\"#9c179e\"],[0.4444444444444444,\"#bd3786\"],[0.5555555555555556,\"#d8576b\"],[0.6666666666666666,\"#ed7953\"],[0.7777777777777778,\"#fb9f3a\"],[0.8888888888888888,\"#fdca26\"],[1.0,\"#f0f921\"]]}],\"mesh3d\":[{\"type\":\"mesh3d\",\"colorbar\":{\"outlinewidth\":0,\"ticks\":\"\"}}],\"scatter\":[{\"fillpattern\":{\"fillmode\":\"overlay\",\"size\":10,\"solidity\":0.2},\"type\":\"scatter\"}],\"parcoords\":[{\"type\":\"parcoords\",\"line\":{\"colorbar\":{\"outlinewidth\":0,\"ticks\":\"\"}}}],\"scatterpolargl\":[{\"type\":\"scatterpolargl\",\"marker\":{\"colorbar\":{\"outlinewidth\":0,\"ticks\":\"\"}}}],\"bar\":[{\"error_x\":{\"color\":\"#2a3f5f\"},\"error_y\":{\"color\":\"#2a3f5f\"},\"marker\":{\"line\":{\"color\":\"#E5ECF6\",\"width\":0.5},\"pattern\":{\"fillmode\":\"overlay\",\"size\":10,\"solidity\":0.2}},\"type\":\"bar\"}],\"scattergeo\":[{\"type\":\"scattergeo\",\"marker\":{\"colorbar\":{\"outlinewidth\":0,\"ticks\":\"\"}}}],\"scatterpolar\":[{\"type\":\"scatterpolar\",\"marker\":{\"colorbar\":{\"outlinewidth\":0,\"ticks\":\"\"}}}],\"histogram\":[{\"marker\":{\"pattern\":{\"fillmode\":\"overlay\",\"size\":10,\"solidity\":0.2}},\"type\":\"histogram\"}],\"scattergl\":[{\"type\":\"scattergl\",\"marker\":{\"colorbar\":{\"outlinewidth\":0,\"ticks\":\"\"}}}],\"scatter3d\":[{\"type\":\"scatter3d\",\"line\":{\"colorbar\":{\"outlinewidth\":0,\"ticks\":\"\"}},\"marker\":{\"colorbar\":{\"outlinewidth\":0,\"ticks\":\"\"}}}],\"scattermapbox\":[{\"type\":\"scattermapbox\",\"marker\":{\"colorbar\":{\"outlinewidth\":0,\"ticks\":\"\"}}}],\"scatterternary\":[{\"type\":\"scatterternary\",\"marker\":{\"colorbar\":{\"outlinewidth\":0,\"ticks\":\"\"}}}],\"scattercarpet\":[{\"type\":\"scattercarpet\",\"marker\":{\"colorbar\":{\"outlinewidth\":0,\"ticks\":\"\"}}}],\"carpet\":[{\"aaxis\":{\"endlinecolor\":\"#2a3f5f\",\"gridcolor\":\"white\",\"linecolor\":\"white\",\"minorgridcolor\":\"white\",\"startlinecolor\":\"#2a3f5f\"},\"baxis\":{\"endlinecolor\":\"#2a3f5f\",\"gridcolor\":\"white\",\"linecolor\":\"white\",\"minorgridcolor\":\"white\",\"startlinecolor\":\"#2a3f5f\"},\"type\":\"carpet\"}],\"table\":[{\"cells\":{\"fill\":{\"color\":\"#EBF0F8\"},\"line\":{\"color\":\"white\"}},\"header\":{\"fill\":{\"color\":\"#C8D4E3\"},\"line\":{\"color\":\"white\"}},\"type\":\"table\"}],\"barpolar\":[{\"marker\":{\"line\":{\"color\":\"#E5ECF6\",\"width\":0.5},\"pattern\":{\"fillmode\":\"overlay\",\"size\":10,\"solidity\":0.2}},\"type\":\"barpolar\"}],\"pie\":[{\"automargin\":true,\"type\":\"pie\"}]},\"layout\":{\"autotypenumbers\":\"strict\",\"colorway\":[\"#636efa\",\"#EF553B\",\"#00cc96\",\"#ab63fa\",\"#FFA15A\",\"#19d3f3\",\"#FF6692\",\"#B6E880\",\"#FF97FF\",\"#FECB52\"],\"font\":{\"color\":\"#2a3f5f\"},\"hovermode\":\"closest\",\"hoverlabel\":{\"align\":\"left\"},\"paper_bgcolor\":\"white\",\"plot_bgcolor\":\"#E5ECF6\",\"polar\":{\"bgcolor\":\"#E5ECF6\",\"angularaxis\":{\"gridcolor\":\"white\",\"linecolor\":\"white\",\"ticks\":\"\"},\"radialaxis\":{\"gridcolor\":\"white\",\"linecolor\":\"white\",\"ticks\":\"\"}},\"ternary\":{\"bgcolor\":\"#E5ECF6\",\"aaxis\":{\"gridcolor\":\"white\",\"linecolor\":\"white\",\"ticks\":\"\"},\"baxis\":{\"gridcolor\":\"white\",\"linecolor\":\"white\",\"ticks\":\"\"},\"caxis\":{\"gridcolor\":\"white\",\"linecolor\":\"white\",\"ticks\":\"\"}},\"coloraxis\":{\"colorbar\":{\"outlinewidth\":0,\"ticks\":\"\"}},\"colorscale\":{\"sequential\":[[0.0,\"#0d0887\"],[0.1111111111111111,\"#46039f\"],[0.2222222222222222,\"#7201a8\"],[0.3333333333333333,\"#9c179e\"],[0.4444444444444444,\"#bd3786\"],[0.5555555555555556,\"#d8576b\"],[0.6666666666666666,\"#ed7953\"],[0.7777777777777778,\"#fb9f3a\"],[0.8888888888888888,\"#fdca26\"],[1.0,\"#f0f921\"]],\"sequentialminus\":[[0.0,\"#0d0887\"],[0.1111111111111111,\"#46039f\"],[0.2222222222222222,\"#7201a8\"],[0.3333333333333333,\"#9c179e\"],[0.4444444444444444,\"#bd3786\"],[0.5555555555555556,\"#d8576b\"],[0.6666666666666666,\"#ed7953\"],[0.7777777777777778,\"#fb9f3a\"],[0.8888888888888888,\"#fdca26\"],[1.0,\"#f0f921\"]],\"diverging\":[[0,\"#8e0152\"],[0.1,\"#c51b7d\"],[0.2,\"#de77ae\"],[0.3,\"#f1b6da\"],[0.4,\"#fde0ef\"],[0.5,\"#f7f7f7\"],[0.6,\"#e6f5d0\"],[0.7,\"#b8e186\"],[0.8,\"#7fbc41\"],[0.9,\"#4d9221\"],[1,\"#276419\"]]},\"xaxis\":{\"gridcolor\":\"white\",\"linecolor\":\"white\",\"ticks\":\"\",\"title\":{\"standoff\":15},\"zerolinecolor\":\"white\",\"automargin\":true,\"zerolinewidth\":2},\"yaxis\":{\"gridcolor\":\"white\",\"linecolor\":\"white\",\"ticks\":\"\",\"title\":{\"standoff\":15},\"zerolinecolor\":\"white\",\"automargin\":true,\"zerolinewidth\":2},\"scene\":{\"xaxis\":{\"backgroundcolor\":\"#E5ECF6\",\"gridcolor\":\"white\",\"linecolor\":\"white\",\"showbackground\":true,\"ticks\":\"\",\"zerolinecolor\":\"white\",\"gridwidth\":2},\"yaxis\":{\"backgroundcolor\":\"#E5ECF6\",\"gridcolor\":\"white\",\"linecolor\":\"white\",\"showbackground\":true,\"ticks\":\"\",\"zerolinecolor\":\"white\",\"gridwidth\":2},\"zaxis\":{\"backgroundcolor\":\"#E5ECF6\",\"gridcolor\":\"white\",\"linecolor\":\"white\",\"showbackground\":true,\"ticks\":\"\",\"zerolinecolor\":\"white\",\"gridwidth\":2}},\"shapedefaults\":{\"line\":{\"color\":\"#2a3f5f\"}},\"annotationdefaults\":{\"arrowcolor\":\"#2a3f5f\",\"arrowhead\":0,\"arrowwidth\":1},\"geo\":{\"bgcolor\":\"white\",\"landcolor\":\"#E5ECF6\",\"subunitcolor\":\"white\",\"showland\":true,\"showlakes\":true,\"lakecolor\":\"white\"},\"title\":{\"x\":0.05},\"mapbox\":{\"style\":\"light\"}}},\"xaxis\":{\"anchor\":\"y\",\"domain\":[0.0,1.0],\"title\":{\"text\":\"bmi_classes\"}},\"yaxis\":{\"anchor\":\"x\",\"domain\":[0.0,1.0],\"title\":{\"text\":\"charges\"}},\"legend\":{\"tracegroupgap\":0},\"title\":{\"text\":\"Average Charges by BMI Category\"},\"barmode\":\"relative\"},                        {\"responsive\": true}                    ).then(function(){\n",
       "                            \n",
       "var gd = document.getElementById('7ca114b4-f952-4627-89d8-a827440384c7');\n",
       "var x = new MutationObserver(function (mutations, observer) {{\n",
       "        var display = window.getComputedStyle(gd).display;\n",
       "        if (!display || display === 'none') {{\n",
       "            console.log([gd, 'removed!']);\n",
       "            Plotly.purge(gd);\n",
       "            observer.disconnect();\n",
       "        }}\n",
       "}});\n",
       "\n",
       "// Listen for the removal of the full notebook cells\n",
       "var notebookContainer = gd.closest('#notebook-container');\n",
       "if (notebookContainer) {{\n",
       "    x.observe(notebookContainer, {childList: true});\n",
       "}}\n",
       "\n",
       "// Listen for the clearing of the current output cell\n",
       "var outputEl = gd.closest('.output');\n",
       "if (outputEl) {{\n",
       "    x.observe(outputEl, {childList: true});\n",
       "}}\n",
       "\n",
       "                        })                };                });            </script>        </div>"
      ]
     },
     "metadata": {},
     "output_type": "display_data"
    }
   ],
   "source": [
    "# Calculate the average charges for each BMI category\n",
    "avg_charges = df.groupby('bmi_classes')['charges'].mean().reset_index()\n",
    "\n",
    "# Create a bar plot using Plotly\n",
    "fig = px.bar(avg_charges, x='bmi_classes', y='charges', title='Average Charges by BMI Category')\n",
    "\n",
    "# Show the plot\n",
    "fig.show()"
   ]
  },
  {
   "cell_type": "markdown",
   "id": "d746621d",
   "metadata": {},
   "source": [
    "#### Body mass index (BMI) and costs are strongly correlated, and those with higher BMIs often also likely to pay more for insurance. This trend makes sense because high BMI is typically linked to a higher risk of chronic disease."
   ]
  },
  {
   "cell_type": "markdown",
   "id": "14abd6de",
   "metadata": {},
   "source": [
    "## 6. Smokers wrt to Charges "
   ]
  },
  {
   "cell_type": "code",
   "execution_count": 40,
   "id": "bbc57a00",
   "metadata": {},
   "outputs": [
    {
     "data": {
      "text/plain": [
       "<AxesSubplot:xlabel='smoker', ylabel='charges'>"
      ]
     },
     "execution_count": 40,
     "metadata": {},
     "output_type": "execute_result"
    },
    {
     "data": {
      "image/png": "[encoded data removed]",
      "text/plain": [
       "<Figure size 432x288 with 1 Axes>"
      ]
     },
     "metadata": {
      "needs_background": "light"
     },
     "output_type": "display_data"
    }
   ],
   "source": [
    "sns.swarmplot(x=df['smoker'],\n",
    "              y=df['charges'])"
   ]
  },
  {
   "cell_type": "markdown",
   "id": "51b77761",
   "metadata": {},
   "source": [
    "#### This graph is a clear indication that people who are smokers have high charges in comparison to the people who are not basically we can see that most of the people who are non-smokers have a date charge between 0 to 10,000 whereas for smokers, it goes up to 60,000"
   ]
  },
  {
   "cell_type": "markdown",
   "id": "05e3de56",
   "metadata": {},
   "source": [
    "## 7. Analysing All the aspect wrt to Smoking "
   ]
  },
  {
   "cell_type": "code",
   "execution_count": 41,
   "id": "5f93964b",
   "metadata": {},
   "outputs": [
    {
     "data": {
      "application/vnd.plotly.v1+json": {
       "config": {
        "plotlyServerURL": "https://plot.ly"
       },
       "data": [
        {
         "customdata": [
          [
           "Overweight",
           19,
           0
          ],
          [
           "Overweight",
           62,
           0
          ],
          [
           "Obese III",
           27,
           0
          ],
          [
           "Obese II",
           30,
           0
          ],
          [
           "Obese I",
           34,
           1
          ],
          [
           "Obese II",
           31,
           2
          ],
          [
           "Obese II",
           22,
           0
          ],
          [
           "Obese II",
           28,
           1
          ],
          [
           "Obese II",
           35,
           1
          ],
          [
           "Obese II",
           60,
           0
          ],
          [
           "Obese II",
           36,
           1
          ],
          [
           "Overweight",
           48,
           1
          ],
          [
           "Obese I",
           36,
           0
          ],
          [
           "Obese II",
           58,
           2
          ],
          [
           "Obese I",
           18,
           2
          ],
          [
           "Normal range",
           53,
           1
          ],
          [
           "Normal range",
           20,
           0
          ],
          [
           "Normal range",
           28,
           3
          ],
          [
           "Normal range",
           27,
           0
          ],
          [
           "Obese II",
           22,
           1
          ],
          [
           "Obese I",
           37,
           2
          ],
          [
           "Normal range",
           45,
           2
          ],
          [
           "Obese I",
           57,
           0
          ],
          [
           "Overweight",
           59,
           3
          ],
          [
           "Obese I",
           64,
           2
          ],
          [
           "Normal range",
           56,
           0
          ],
          [
           "Normal range",
           38,
           0
          ],
          [
           "Overweight",
           61,
           3
          ],
          [
           "Overweight",
           20,
           1
          ],
          [
           "Obese II",
           63,
           0
          ],
          [
           "Overweight",
           29,
           1
          ],
          [
           "Obese I",
           44,
           1
          ],
          [
           "Overweight",
           19,
           0
          ],
          [
           "Underweight I",
           32,
           2
          ],
          [
           "Overweight",
           34,
           2
          ],
          [
           "Overweight",
           30,
           3
          ],
          [
           "Obese I",
           46,
           3
          ],
          [
           "Normal range",
           42,
           0
          ],
          [
           "Normal range",
           48,
           0
          ],
          [
           "Overweight",
           18,
           0
          ],
          [
           "Obese II",
           30,
           0
          ],
          [
           "Overweight",
           42,
           0
          ],
          [
           "Obese II",
           18,
           0
          ],
          [
           "Obese II",
           63,
           0
          ],
          [
           "Obese III",
           36,
           3
          ],
          [
           "Obese II",
           27,
           0
          ],
          [
           "Overweight",
           35,
           2
          ],
          [
           "Obese I",
           19,
           0
          ],
          [
           "Normal range",
           42,
           0
          ],
          [
           "Normal range",
           40,
           2
          ],
          [
           "Overweight",
           19,
           0
          ],
          [
           "Obese II",
           23,
           2
          ],
          [
           "Overweight",
           63,
           0
          ],
          [
           "Underweight I",
           18,
           2
          ],
          [
           "Obese I",
           63,
           2
          ],
          [
           "Obese I",
           54,
           2
          ],
          [
           "Obese I",
           50,
           0
          ],
          [
           "Obese I",
           56,
           0
          ],
          [
           "Obese I",
           19,
           0
          ],
          [
           "Overweight",
           20,
           1
          ],
          [
           "Normal range",
           52,
           3
          ],
          [
           "Obese II",
           19,
           0
          ],
          [
           "Obese III",
           46,
           3
          ],
          [
           "Normal range",
           40,
           1
          ],
          [
           "Obese I",
           50,
           2
          ],
          [
           "Overweight",
           40,
           1
          ],
          [
           "Obese III",
           54,
           3
          ],
          [
           "Obese II",
           59,
           1
          ],
          [
           "Obese III",
           25,
           2
          ],
          [
           "Overweight",
           19,
           0
          ],
          [
           "Overweight",
           47,
           1
          ],
          [
           "Obese I",
           31,
           3
          ],
          [
           "Normal range",
           53,
           3
          ],
          [
           "Obese II",
           43,
           3
          ],
          [
           "Obese I",
           27,
           0
          ],
          [
           "Obese I",
           34,
           0
          ],
          [
           "Obese II",
           45,
           2
          ],
          [
           "Obese I",
           64,
           1
          ],
          [
           "Obese II",
           61,
           1
          ],
          [
           "Overweight",
           52,
           0
          ],
          [
           "Obese I",
           50,
           1
          ],
          [
           "Normal range",
           19,
           0
          ],
          [
           "Obese I",
           26,
           2
          ],
          [
           "Overweight",
           23,
           0
          ],
          [
           "Normal range",
           39,
           3
          ],
          [
           "Obese III",
           24,
           0
          ],
          [
           "Underweight I",
           27,
           2
          ],
          [
           "Obese I",
           55,
           0
          ],
          [
           "Normal range",
           44,
           1
          ],
          [
           "Underweight I",
           26,
           2
          ],
          [
           "Normal range",
           36,
           2
          ],
          [
           "Overweight",
           63,
           0
          ],
          [
           "Obese I",
           64,
           0
          ],
          [
           "Obese II",
           61,
           0
          ],
          [
           "Obese I",
           40,
           1
          ],
          [
           "Obese I",
           33,
           0
          ],
          [
           "Overweight",
           56,
           1
          ],
          [
           "Obese I",
           42,
           0
          ],
          [
           "Overweight",
           30,
           1
          ],
          [
           "Overweight",
           54,
           3
          ],
          [
           "Overweight",
           61,
           1
          ],
          [
           "Overweight",
           24,
           0
          ],
          [
           "Obese II",
           44,
           0
          ],
          [
           "Overweight",
           21,
           4
          ],
          [
           "Obese I",
           29,
           0
          ],
          [
           "Normal range",
           51,
           1
          ],
          [
           "Obese I",
           19,
           0
          ],
          [
           "Overweight",
           39,
           1
          ],
          [
           "Overweight",
           42,
           1
          ],
          [
           "Obese III",
           57,
           1
          ],
          [
           "Obese III",
           54,
           0
          ],
          [
           "Overweight",
           49,
           2
          ],
          [
           "Obese III",
           43,
           0
          ],
          [
           "Obese I",
           35,
           3
          ],
          [
           "Obese III",
           48,
           2
          ],
          [
           "Obese II",
           31,
           1
          ],
          [
           "Obese I",
           34,
           1
          ],
          [
           "Normal range",
           21,
           1
          ],
          [
           "Overweight",
           19,
           0
          ],
          [
           "Normal range",
           59,
           0
          ],
          [
           "Obese II",
           30,
           2
          ],
          [
           "Obese II",
           47,
           1
          ],
          [
           "Overweight",
           49,
           2
          ],
          [
           "Obese I",
           19,
           0
          ],
          [
           "Obese I",
           37,
           4
          ],
          [
           "Obese I",
           18,
           0
          ],
          [
           "Obese II",
           44,
           0
          ],
          [
           "Overweight",
           39,
           0
          ],
          [
           "Overweight",
           42,
           3
          ],
          [
           "Overweight",
           52,
           2
          ],
          [
           "Normal range",
           64,
           0
          ],
          [
           "Obese II",
           43,
           2
          ],
          [
           "Obese I",
           40,
           2
          ],
          [
           "Obese I",
           62,
           0
          ],
          [
           "Obese III",
           44,
           2
          ],
          [
           "Obese I",
           60,
           3
          ],
          [
           "Obese II",
           39,
           2
          ],
          [
           "Obese I",
           27,
           1
          ],
          [
           "Obese II",
           41,
           1
          ],
          [
           "Obese II",
           51,
           0
          ],
          [
           "Obese II",
           30,
           3
          ],
          [
           "Normal range",
           29,
           1
          ],
          [
           "Normal range",
           35,
           3
          ],
          [
           "Obese II",
           37,
           0
          ],
          [
           "Obese I",
           23,
           3
          ],
          [
           "Obese II",
           29,
           2
          ],
          [
           "Overweight",
           27,
           0
          ],
          [
           "Obese I",
           53,
           0
          ],
          [
           "Overweight",
           37,
           0
          ],
          [
           "Overweight",
           47,
           0
          ],
          [
           "Obese II",
           18,
           0
          ],
          [
           "Overweight",
           33,
           1
          ],
          [
           "Overweight",
           19,
           0
          ],
          [
           "Normal range",
           30,
           3
          ],
          [
           "Overweight",
           50,
           1
          ],
          [
           "Normal range",
           53,
           0
          ],
          [
           "Overweight",
           27,
           0
          ],
          [
           "Normal range",
           33,
           0
          ],
          [
           "Obese III",
           18,
           0
          ],
          [
           "Overweight",
           47,
           1
          ],
          [
           "Obese II",
           33,
           0
          ],
          [
           "Obese I",
           56,
           2
          ],
          [
           "Overweight",
           36,
           1
          ],
          [
           "Obese I",
           41,
           3
          ],
          [
           "Obese I",
           23,
           2
          ],
          [
           "Overweight",
           57,
           0
          ],
          [
           "Obese I",
           60,
           0
          ],
          [
           "Obese I",
           37,
           0
          ],
          [
           "Obese II",
           46,
           0
          ],
          [
           "Normal range",
           49,
           3
          ],
          [
           "Obese I",
           48,
           0
          ],
          [
           "Normal range",
           25,
           0
          ],
          [
           "Obese III",
           37,
           2
          ],
          [
           "Obese II",
           51,
           3
          ],
          [
           "Overweight",
           32,
           1
          ],
          [
           "Overweight",
           57,
           0
          ],
          [
           "Overweight",
           64,
           0
          ],
          [
           "Obese II",
           47,
           2
          ],
          [
           "Normal range",
           43,
           2
          ],
          [
           "Obese III",
           60,
           0
          ],
          [
           "Normal range",
           32,
           0
          ],
          [
           "Obese I",
           18,
           0
          ],
          [
           "Overweight",
           43,
           0
          ],
          [
           "Normal range",
           45,
           0
          ],
          [
           "Obese I",
           37,
           1
          ],
          [
           "Overweight",
           25,
           3
          ],
          [
           "Obese III",
           51,
           2
          ],
          [
           "Obese I",
           44,
           2
          ],
          [
           "Overweight",
           34,
           1
          ],
          [
           "Obese I",
           54,
           1
          ],
          [
           "Obese I",
           43,
           1
          ],
          [
           "Normal range",
           51,
           2
          ],
          [
           "Normal range",
           29,
           0
          ],
          [
           "Overweight",
           31,
           3
          ],
          [
           "Normal range",
           24,
           0
          ],
          [
           "Normal range",
           27,
           3
          ],
          [
           "Normal range",
           30,
           2
          ],
          [
           "Obese I",
           24,
           0
          ],
          [
           "Overweight",
           47,
           3
          ],
          [
           "Normal range",
           43,
           2
          ],
          [
           "Obese I",
           22,
           3
          ],
          [
           "Obese II",
           47,
           1
          ],
          [
           "Overweight",
           19,
           1
          ],
          [
           "Normal range",
           46,
           1
          ],
          [
           "Obese II",
           55,
           0
          ],
          [
           "Normal range",
           18,
           0
          ],
          [
           "Obese II",
           22,
           2
          ],
          [
           "Obese I",
           45,
           1
          ],
          [
           "Overweight",
           35,
           0
          ],
          [
           "Obese I",
           20,
           0
          ],
          [
           "Normal range",
           43,
           2
          ],
          [
           "Obese III",
           22,
           1
          ],
          [
           "Obese I",
           49,
           0
          ],
          [
           "Overweight",
           47,
           3
          ],
          [
           "Obese III",
           59,
           1
          ],
          [
           "Obese II",
           37,
           1
          ],
          [
           "Obese I",
           28,
           0
          ],
          [
           "Underweight I",
           39,
           5
          ],
          [
           "Obese II",
           47,
           0
          ],
          [
           "Obese I",
           22,
           0
          ],
          [
           "Obese I",
           51,
           2
          ],
          [
           "Normal range",
           33,
           2
          ],
          [
           "Obese II",
           38,
           3
          ],
          [
           "Overweight",
           48,
           3
          ],
          [
           "Obese I",
           25,
           2
          ],
          [
           "Obese II",
           33,
           1
          ],
          [
           "Obese I",
           23,
           0
          ],
          [
           "Obese II",
           53,
           3
          ],
          [
           "Obese III",
           23,
           1
          ],
          [
           "Obese I",
           19,
           0
          ],
          [
           "Obese I",
           60,
           0
          ],
          [
           "Obese I",
           43,
           3
          ],
          [
           "Obese III",
           19,
           0
          ],
          [
           "Overweight",
           18,
           1
          ],
          [
           "Overweight",
           43,
           2
          ],
          [
           "Normal range",
           52,
           1
          ],
          [
           "Overweight",
           31,
           0
          ],
          [
           "Overweight",
           23,
           1
          ],
          [
           "Obese II",
           20,
           3
          ],
          [
           "Overweight",
           43,
           1
          ],
          [
           "Obese I",
           19,
           0
          ],
          [
           "Overweight",
           18,
           3
          ],
          [
           "Obese I",
           36,
           2
          ],
          [
           "Overweight",
           37,
           1
          ],
          [
           "Obese I",
           46,
           1
          ],
          [
           "Normal range",
           20,
           0
          ],
          [
           "Obese I",
           52,
           3
          ],
          [
           "Normal range",
           20,
           0
          ],
          [
           "Obese III",
           52,
           2
          ],
          [
           "Obese II",
           64,
           2
          ],
          [
           "Obese I",
           32,
           1
          ],
          [
           "Overweight",
           24,
           0
          ],
          [
           "Overweight",
           20,
           0
          ],
          [
           "Normal range",
           64,
           0
          ],
          [
           "Obese I",
           24,
           0
          ],
          [
           "Overweight",
           26,
           0
          ],
          [
           "Overweight",
           39,
           1
          ],
          [
           "Overweight",
           47,
           2
          ],
          [
           "Normal range",
           18,
           0
          ],
          [
           "Obese II",
           61,
           1
          ],
          [
           "Obese II",
           20,
           2
          ],
          [
           "Obese I",
           19,
           0
          ],
          [
           "Obese I",
           45,
           0
          ],
          [
           "Obese I",
           62,
           3
          ],
          [
           "Overweight",
           43,
           0
          ],
          [
           "Normal range",
           42,
           2
          ],
          [
           "Normal range",
           29,
           0
          ],
          [
           "Overweight",
           32,
           4
          ],
          [
           "Obese I",
           25,
           0
          ],
          [
           "Obese I",
           19,
           2
          ],
          [
           "Normal range",
           30,
           3
          ],
          [
           "Overweight",
           62,
           0
          ],
          [
           "Obese III",
           42,
           2
          ],
          [
           "Overweight",
           61,
           0
          ]
         ],
         "hovertemplate": "smoker=%{x}<br>charges=%{y}<br>bmi_classes=%{customdata[0]}<br>age=%{customdata[1]}<br>children=%{customdata[2]}<extra></extra>",
         "legendgroup": "yes",
         "marker": {
          "color": "#636efa",
          "symbol": "circle"
         },
         "mode": "markers",
         "name": "yes",
         "showlegend": true,
         "type": "scattergl",
         "x": [
          "yes",
          "yes",
          "yes",
          "yes",
          "yes",
          "yes",
          "yes",
          "yes",
          "yes",
          "yes",
          "yes",
          "yes",
          "yes",
          "yes",
          "yes",
          "yes",
          "yes",
          "yes",
          "yes",
          "yes",
          "yes",
          "yes",
          "yes",
          "yes",
          "yes",
          "yes",
          "yes",
          "yes",
          "yes",
          "yes",
          "yes",
          "yes",
          "yes",
          "yes",
          "yes",
          "yes",
          "yes",
          "yes",
          "yes",
          "yes",
          "yes",
          "yes",
          "yes",
          "yes",
          "yes",
          "yes",
          "yes",
          "yes",
          "yes",
          "yes",
          "yes",
          "yes",
          "yes",
          "yes",
          "yes",
          "yes",
          "yes",
          "yes",
          "yes",
          "yes",
          "yes",
          "yes",
          "yes",
          "yes",
          "yes",
          "yes",
          "yes",
          "yes",
          "yes",
          "yes",
          "yes",
          "yes",
          "yes",
          "yes",
          "yes",
          "yes",
          "yes",
          "yes",
          "yes",
          "yes",
          "yes",
          "yes",
          "yes",
          "yes",
          "yes",
          "yes",
          "yes",
          "yes",
          "yes",
          "yes",
          "yes",
          "yes",
          "yes",
          "yes",
          "yes",
          "yes",
          "yes",
          "yes",
          "yes",
          "yes",
          "yes",
          "yes",
          "yes",
          "yes",
          "yes",
          "yes",
          "yes",
          "yes",
          "yes",
          "yes",
          "yes",
          "yes",
          "yes",
          "yes",
          "yes",
          "yes",
          "yes",
          "yes",
          "yes",
          "yes",
          "yes",
          "yes",
          "yes",
          "yes",
          "yes",
          "yes",
          "yes",
          "yes",
          "yes",
          "yes",
          "yes",
          "yes",
          "yes",
          "yes",
          "yes",
          "yes",
          "yes",
          "yes",
          "yes",
          "yes",
          "yes",
          "yes",
          "yes",
          "yes",
          "yes",
          "yes",
          "yes",
          "yes",
          "yes",
          "yes",
          "yes",
          "yes",
          "yes",
          "yes",
          "yes",
          "yes",
          "yes",
          "yes",
          "yes",
          "yes",
          "yes",
          "yes",
          "yes",
          "yes",
          "yes",
          "yes",
          "yes",
          "yes",
          "yes",
          "yes",
          "yes",
          "yes",
          "yes",
          "yes",
          "yes",
          "yes",
          "yes",
          "yes",
          "yes",
          "yes",
          "yes",
          "yes",
          "yes",
          "yes",
          "yes",
          "yes",
          "yes",
          "yes",
          "yes",
          "yes",
          "yes",
          "yes",
          "yes",
          "yes",
          "yes",
          "yes",
          "yes",
          "yes",
          "yes",
          "yes",
          "yes",
          "yes",
          "yes",
          "yes",
          "yes",
          "yes",
          "yes",
          "yes",
          "yes",
          "yes",
          "yes",
          "yes",
          "yes",
          "yes",
          "yes",
          "yes",
          "yes",
          "yes",
          "yes",
          "yes",
          "yes",
          "yes",
          "yes",
          "yes",
          "yes",
          "yes",
          "yes",
          "yes",
          "yes",
          "yes",
          "yes",
          "yes",
          "yes",
          "yes",
          "yes",
          "yes",
          "yes",
          "yes",
          "yes",
          "yes",
          "yes",
          "yes",
          "yes",
          "yes",
          "yes",
          "yes",
          "yes",
          "yes",
          "yes",
          "yes",
          "yes",
          "yes",
          "yes",
          "yes",
          "yes",
          "yes",
          "yes",
          "yes",
          "yes",
          "yes",
          "yes",
          "yes",
          "yes",
          "yes",
          "yes",
          "yes",
          "yes",
          "yes",
          "yes",
          "yes",
          "yes",
          "yes",
          "yes",
          "yes"
         ],
         "xaxis": "x",
         "y": [
          16884.924,
          27808.7251,
          39611.7577,
          36837.467,
          37701.8768,
          38711,
          35585.576,
          51194.55914,
          39774.2763,
          48173.361,
          38709.176,
          23568.272,
          37742.5757,
          47496.49445,
          34303.1672,
          23244.7902,
          14711.7438,
          17663.1442,
          16577.7795,
          37165.1638,
          39836.519,
          21098.55405,
          43578.9394,
          30184.9367,
          47291.055,
          22412.6485,
          15820.699,
          30942.1918,
          17560.37975,
          47055.5321,
          19107.7796,
          39556.4945,
          17081.08,
          32734.1863,
          18972.495,
          20745.9891,
          40720.55105,
          19964.7463,
          21223.6758,
          15518.18025,
          36950.2567,
          21348.706,
          36149.4835,
          48824.45,
          43753.33705,
          37133.8982,
          20984.0936,
          34779.615,
          19515.5416,
          19444.2658,
          17352.6803,
          38511.6283,
          29523.1656,
          12829.4551,
          47305.305,
          44260.7499,
          41097.16175,
          43921.1837,
          33750.2918,
          17085.2676,
          24869.8368,
          36219.40545,
          46151.1245,
          17179.522,
          42856.838,
          22331.5668,
          48549.17835,
          47896.79135,
          42112.2356,
          16297.846,
          21978.6769,
          38746.3551,
          24873.3849,
          42124.5153,
          34838.873,
          35491.64,
          42760.5022,
          47928.03,
          48517.56315,
          24393.6224,
          41919.097,
          13844.506,
          36085.219,
          18033.9679,
          21659.9301,
          38126.2465,
          15006.57945,
          42303.69215,
          19594.80965,
          14455.64405,
          18608.262,
          28950.4692,
          46889.2612,
          46599.1084,
          39125.33225,
          37079.372,
          26109.32905,
          22144.032,
          19521.9682,
          25382.297,
          28868.6639,
          35147.52848,
          48885.13561,
          17942.106,
          36197.699,
          22218.1149,
          32548.3405,
          21082.16,
          38245.59327,
          48675.5177,
          63770.42801,
          23807.2406,
          45863.205,
          39983.42595,
          45702.02235,
          58571.07448,
          43943.8761,
          15359.1045,
          17468.9839,
          25678.77845,
          39241.442,
          42969.8527,
          23306.547,
          34439.8559,
          40182.246,
          34617.84065,
          42983.4585,
          20149.3229,
          32787.45859,
          24667.419,
          27037.9141,
          42560.4304,
          40003.33225,
          45710.20785,
          46200.9851,
          46130.5265,
          40103.89,
          34806.4677,
          40273.6455,
          44400.4064,
          40932.4295,
          16657.71745,
          19361.9988,
          40419.0191,
          36189.1017,
          44585.45587,
          18246.4955,
          43254.41795,
          19539.243,
          23065.4207,
          36307.7983,
          19040.876,
          17748.5062,
          18259.216,
          24520.264,
          21195.818,
          18310.742,
          17904.52705,
          38792.6856,
          23401.30575,
          55135.40209,
          43813.8661,
          20773.62775,
          39597.4072,
          36021.0112,
          27533.9129,
          45008.9555,
          37270.1512,
          42111.6647,
          24106.91255,
          40974.1649,
          15817.9857,
          46113.511,
          46255.1125,
          19719.6947,
          27218.43725,
          29330.98315,
          44202.6536,
          19798.05455,
          48673.5588,
          17496.306,
          33732.6867,
          21774.32215,
          35069.37452,
          39047.285,
          19933.458,
          47462.894,
          38998.546,
          20009.63365,
          41999.52,
          41034.2214,
          23967.38305,
          16138.76205,
          19199.944,
          14571.8908,
          16420.49455,
          17361.7661,
          34472.841,
          24915.22085,
          18767.7377,
          35595.5898,
          42211.1382,
          16450.8947,
          21677.28345,
          44423.803,
          13747.87235,
          37484.4493,
          39725.51805,
          20234.85475,
          33475.81715,
          21880.82,
          44501.3982,
          39727.614,
          25309.489,
          48970.2476,
          39871.7043,
          34672.1472,
          19023.26,
          41676.0811,
          33907.548,
          44641.1974,
          16776.30405,
          41949.2441,
          24180.9335,
          36124.5737,
          38282.7495,
          34166.273,
          46661.4424,
          40904.1995,
          36898.73308,
          52590.82939,
          40941.2854,
          39722.7462,
          17178.6824,
          22478.6,
          23887.6627,
          19350.3689,
          18328.2381,
          37465.34375,
          21771.3423,
          33307.5508,
          18223.4512,
          38415.474,
          20296.86345,
          41661.602,
          26125.67477,
          60021.39897,
          20167.33603,
          47269.854,
          49577.6624,
          37607.5277,
          18648.4217,
          16232.847,
          26926.5144,
          34254.05335,
          17043.3414,
          22462.04375,
          24535.69855,
          14283.4594,
          47403.88,
          38344.566,
          34828.654,
          62592.87309,
          46718.16325,
          37829.7242,
          21259.37795,
          16115.3045,
          21472.4788,
          33900.653,
          36397.576,
          18765.87545,
          28101.33305,
          43896.3763,
          29141.3603
         ],
         "yaxis": "y"
        },
        {
         "customdata": [
          [
           "Obese I",
           18,
           1
          ],
          [
           "Obese I",
           28,
           3
          ],
          [
           "Normal range",
           33,
           0
          ],
          [
           "Overweight",
           32,
           0
          ],
          [
           "Overweight",
           31,
           0
          ],
          [
           "Obese I",
           46,
           1
          ],
          [
           "Overweight",
           37,
           3
          ],
          [
           "Overweight",
           37,
           2
          ],
          [
           "Overweight",
           60,
           0
          ],
          [
           "Overweight",
           25,
           0
          ],
          [
           "Obese I",
           23,
           0
          ],
          [
           "Obese II",
           56,
           0
          ],
          [
           "Normal range",
           19,
           1
          ],
          [
           "Obese I",
           52,
           1
          ],
          [
           "Normal range",
           23,
           0
          ],
          [
           "Obese III",
           56,
           0
          ],
          [
           "Obese II",
           60,
           0
          ],
          [
           "Obese I",
           30,
           1
          ],
          [
           "Obese I",
           18,
           0
          ],
          [
           "Overweight",
           37,
           2
          ],
          [
           "Overweight",
           59,
           3
          ],
          [
           "Normal range",
           63,
           0
          ],
          [
           "Obese I",
           55,
           2
          ],
          [
           "Underweight I",
           23,
           1
          ],
          [
           "Overweight",
           18,
           0
          ],
          [
           "Overweight",
           19,
           5
          ],
          [
           "Overweight",
           63,
           0
          ],
          [
           "Normal range",
           19,
           0
          ],
          [
           "Obese I",
           62,
           3
          ],
          [
           "Normal range",
           26,
           0
          ],
          [
           "Overweight",
           24,
           0
          ],
          [
           "Obese II",
           31,
           2
          ],
          [
           "Normal range",
           41,
           1
          ],
          [
           "Obese I",
           37,
           2
          ],
          [
           "Obese II",
           38,
           1
          ],
          [
           "Obese II",
           55,
           0
          ],
          [
           "Obese II",
           18,
           2
          ],
          [
           "Obese I",
           28,
           0
          ],
          [
           "Normal range",
           60,
           0
          ],
          [
           "Obese II",
           18,
           0
          ],
          [
           "Obese I",
           21,
           2
          ],
          [
           "Overweight",
           40,
           3
          ],
          [
           "Obese I",
           58,
           2
          ],
          [
           "Obese II",
           34,
           2
          ],
          [
           "Overweight",
           43,
           3
          ],
          [
           "Obese I",
           25,
           4
          ],
          [
           "Normal range",
           64,
           1
          ],
          [
           "Overweight",
           28,
           1
          ],
          [
           "Overweight",
           19,
           0
          ],
          [
           "Obese II",
           61,
           2
          ],
          [
           "Overweight",
           40,
           1
          ],
          [
           "Obese II",
           40,
           0
          ],
          [
           "Overweight",
           31,
           5
          ],
          [
           "Overweight",
           53,
           3
          ],
          [
           "Obese I",
           58,
           1
          ],
          [
           "Overweight",
           44,
           2
          ],
          [
           "Obese I",
           57,
           0
          ],
          [
           "Overweight",
           29,
           1
          ],
          [
           "Obese II",
           21,
           0
          ],
          [
           "Obese II",
           22,
           0
          ],
          [
           "Obese I",
           41,
           0
          ],
          [
           "Overweight",
           31,
           1
          ],
          [
           "Obese II",
           45,
           0
          ],
          [
           "Obese III",
           48,
           4
          ],
          [
           "Overweight",
           56,
           0
          ],
          [
           "Overweight",
           46,
           0
          ],
          [
           "Overweight",
           55,
           0
          ],
          [
           "Obese II",
           21,
           0
          ],
          [
           "Normal range",
           53,
           1
          ],
          [
           "Obese I",
           35,
           2
          ],
          [
           "Obese II",
           28,
           1
          ],
          [
           "Obese I",
           54,
           3
          ],
          [
           "Obese II",
           55,
           0
          ],
          [
           "Obese I",
           41,
           0
          ],
          [
           "Overweight",
           30,
           0
          ],
          [
           "Obese I",
           18,
           0
          ],
          [
           "Overweight",
           34,
           1
          ],
          [
           "Overweight",
           19,
           1
          ],
          [
           "Obese I",
           26,
           2
          ],
          [
           "Overweight",
           29,
           0
          ],
          [
           "Obese I",
           54,
           1
          ],
          [
           "Overweight",
           55,
           2
          ],
          [
           "Obese I",
           37,
           0
          ],
          [
           "Obese II",
           21,
           0
          ],
          [
           "Obese I",
           52,
           3
          ],
          [
           "Overweight",
           60,
           0
          ],
          [
           "Obese III",
           58,
           0
          ],
          [
           "Overweight",
           49,
           0
          ],
          [
           "Normal range",
           37,
           2
          ],
          [
           "Obese II",
           44,
           2
          ],
          [
           "Normal range",
           18,
           0
          ],
          [
           "Overweight",
           20,
           0
          ],
          [
           "Obese I",
           47,
           3
          ],
          [
           "Overweight",
           26,
           0
          ],
          [
           "Obese II",
           52,
           0
          ],
          [
           "Obese I",
           38,
           2
          ],
          [
           "Overweight",
           59,
           0
          ],
          [
           "Normal range",
           61,
           0
          ],
          [
           "Obese II",
           53,
           2
          ],
          [
           "Overweight",
           19,
           0
          ],
          [
           "Overweight",
           20,
           0
          ],
          [
           "Overweight",
           22,
           0
          ],
          [
           "Obese I",
           19,
           0
          ],
          [
           "Overweight",
           22,
           0
          ],
          [
           "Obese I",
           54,
           3
          ],
          [
           "Obese II",
           22,
           0
          ],
          [
           "Normal range",
           34,
           2
          ],
          [
           "Obese I",
           26,
           1
          ],
          [
           "Overweight",
           29,
           2
          ],
          [
           "Obese II",
           29,
           3
          ],
          [
           "Obese II",
           51,
           1
          ],
          [
           "Obese II",
           53,
           1
          ],
          [
           "Overweight",
           19,
           1
          ],
          [
           "Normal range",
           35,
           1
          ],
          [
           "Overweight",
           48,
           0
          ],
          [
           "Obese II",
           32,
           3
          ],
          [
           "Overweight",
           40,
           1
          ],
          [
           "Obese II",
           44,
           0
          ],
          [
           "Overweight",
           50,
           3
          ],
          [
           "Obese II",
           54,
           1
          ],
          [
           "Overweight",
           32,
           2
          ],
          [
           "Overweight",
           37,
           0
          ],
          [
           "Overweight",
           47,
           4
          ],
          [
           "Obese II",
           20,
           5
          ],
          [
           "Obese I",
           32,
           3
          ],
          [
           "Obese I",
           19,
           1
          ],
          [
           "Normal range",
           27,
           3
          ],
          [
           "Obese III",
           63,
           0
          ],
          [
           "Obese I",
           49,
           0
          ],
          [
           "Underweight III",
           18,
           0
          ],
          [
           "Obese I",
           35,
           1
          ],
          [
           "Obese I",
           24,
           0
          ],
          [
           "Overweight",
           38,
           2
          ],
          [
           "Overweight",
           54,
           1
          ],
          [
           "Overweight",
           46,
           2
          ],
          [
           "Obese I",
           41,
           3
          ],
          [
           "Overweight",
           58,
           0
          ],
          [
           "Obese II",
           18,
           0
          ],
          [
           "Normal range",
           22,
           3
          ],
          [
           "Overweight",
           44,
           0
          ],
          [
           "Obese I",
           44,
           2
          ],
          [
           "Overweight",
           26,
           2
          ],
          [
           "Obese I",
           30,
           3
          ],
          [
           "Obese I",
           41,
           1
          ],
          [
           "Obese I",
           29,
           2
          ],
          [
           "Obese I",
           61,
           0
          ],
          [
           "Overweight",
           36,
           0
          ],
          [
           "Overweight",
           25,
           0
          ],
          [
           "Overweight",
           56,
           1
          ],
          [
           "Obese I",
           18,
           0
          ],
          [
           "Obese I",
           19,
           0
          ],
          [
           "Obese I",
           39,
           0
          ],
          [
           "Overweight",
           45,
           2
          ],
          [
           "Underweight I",
           51,
           0
          ],
          [
           "Obese II",
           64,
           0
          ],
          [
           "Obese I",
           19,
           0
          ],
          [
           "Obese I",
           48,
           1
          ],
          [
           "Normal range",
           60,
           0
          ],
          [
           "Normal range",
           46,
           0
          ],
          [
           "Overweight",
           28,
           1
          ],
          [
           "Overweight",
           59,
           0
          ],
          [
           "Obese I",
           63,
           0
          ],
          [
           "Obese III",
           40,
           1
          ],
          [
           "Obese I",
           20,
           1
          ],
          [
           "Obese I",
           40,
           4
          ],
          [
           "Overweight",
           24,
           2
          ],
          [
           "Overweight",
           34,
           1
          ],
          [
           "Obese I",
           45,
           2
          ],
          [
           "Obese II",
           41,
           2
          ],
          [
           "Overweight",
           53,
           0
          ],
          [
           "Normal range",
           27,
           0
          ],
          [
           "Overweight",
           26,
           1
          ],
          [
           "Normal range",
           24,
           0
          ],
          [
           "Obese I",
           34,
           1
          ],
          [
           "Obese I",
           53,
           0
          ],
          [
           "Obese I",
           32,
           3
          ],
          [
           "Obese I",
           55,
           3
          ],
          [
           "Obese II",
           28,
           0
          ],
          [
           "Obese III",
           58,
           0
          ],
          [
           "Obese I",
           41,
           1
          ],
          [
           "Overweight",
           47,
           2
          ],
          [
           "Obese II",
           42,
           1
          ],
          [
           "Overweight",
           59,
           3
          ],
          [
           "Underweight I",
           19,
           0
          ],
          [
           "Overweight",
           59,
           1
          ],
          [
           "Normal range",
           39,
           2
          ],
          [
           "Overweight",
           18,
           0
          ],
          [
           "Obese II",
           31,
           2
          ],
          [
           "Obese II",
           44,
           1
          ],
          [
           "Normal range",
           33,
           1
          ],
          [
           "Overweight",
           55,
           1
          ],
          [
           "Obese II",
           40,
           3
          ],
          [
           "Obese I",
           54,
           0
          ],
          [
           "Obese II",
           60,
           0
          ],
          [
           "Obese II",
           24,
           0
          ],
          [
           "Normal range",
           19,
           1
          ],
          [
           "Overweight",
           29,
           1
          ],
          [
           "Obese I",
           27,
           3
          ],
          [
           "Overweight",
           55,
           3
          ],
          [
           "Obese III",
           38,
           0
          ],
          [
           "Normal range",
           51,
           4
          ],
          [
           "Overweight",
           58,
           0
          ],
          [
           "Obese II",
           53,
           3
          ],
          [
           "Obese I",
           59,
           3
          ],
          [
           "Obese I",
           45,
           1
          ],
          [
           "Overweight",
           49,
           1
          ],
          [
           "Overweight",
           18,
           1
          ],
          [
           "Obese II",
           41,
           2
          ],
          [
           "Overweight",
           50,
           1
          ],
          [
           "Overweight",
           25,
           0
          ],
          [
           "Overweight",
           47,
           2
          ],
          [
           "Normal range",
           19,
           2
          ],
          [
           "Normal range",
           22,
           0
          ],
          [
           "Obese I",
           59,
           2
          ],
          [
           "Normal range",
           51,
           1
          ],
          [
           "Overweight",
           30,
           1
          ],
          [
           "Obese I",
           55,
           1
          ],
          [
           "Obese I",
           52,
           0
          ],
          [
           "Overweight",
           46,
           1
          ],
          [
           "Obese III",
           46,
           2
          ],
          [
           "Overweight",
           63,
           0
          ],
          [
           "Overweight",
           52,
           3
          ],
          [
           "Obese I",
           28,
           0
          ],
          [
           "Overweight",
           29,
           1
          ],
          [
           "Overweight",
           22,
           0
          ],
          [
           "Overweight",
           25,
           3
          ],
          [
           "Normal range",
           18,
           0
          ],
          [
           "Overweight",
           48,
           1
          ],
          [
           "Overweight",
           36,
           3
          ],
          [
           "Obese II",
           56,
           2
          ],
          [
           "Obese I",
           28,
           2
          ],
          [
           "Obese II",
           57,
           2
          ],
          [
           "Obese I",
           29,
           2
          ],
          [
           "Overweight",
           28,
           2
          ],
          [
           "Obese I",
           30,
           1
          ],
          [
           "Obese I",
           58,
           0
          ],
          [
           "Obese I",
           41,
           2
          ],
          [
           "Overweight",
           50,
           0
          ],
          [
           "Normal range",
           19,
           0
          ],
          [
           "Obese II",
           49,
           0
          ],
          [
           "Obese I",
           52,
           0
          ],
          [
           "Obese I",
           50,
           0
          ],
          [
           "Obese I",
           54,
           0
          ],
          [
           "Overweight",
           44,
           0
          ],
          [
           "Obese II",
           32,
           1
          ],
          [
           "Overweight",
           34,
           1
          ],
          [
           "Overweight",
           26,
           4
          ],
          [
           "Obese III",
           57,
           0
          ],
          [
           "Overweight",
           29,
           0
          ],
          [
           "Obese I",
           40,
           1
          ],
          [
           "Normal range",
           27,
           1
          ],
          [
           "Obese II",
           52,
           0
          ],
          [
           "Obese I",
           61,
           0
          ],
          [
           "Overweight",
           56,
           0
          ],
          [
           "Obese II",
           43,
           2
          ],
          [
           "Obese I",
           64,
           0
          ],
          [
           "Overweight",
           60,
           0
          ],
          [
           "Overweight",
           62,
           1
          ],
          [
           "Overweight",
           46,
           1
          ],
          [
           "Overweight",
           24,
           0
          ],
          [
           "Obese I",
           62,
           0
          ],
          [
           "Overweight",
           60,
           0
          ],
          [
           "Obese II",
           63,
           0
          ],
          [
           "Obese III",
           49,
           4
          ],
          [
           "Overweight",
           34,
           3
          ],
          [
           "Obese II",
           33,
           2
          ],
          [
           "Obese I",
           46,
           1
          ],
          [
           "Overweight",
           36,
           1
          ],
          [
           "Overweight",
           19,
           0
          ],
          [
           "Normal range",
           57,
           0
          ],
          [
           "Overweight",
           50,
           0
          ],
          [
           "Overweight",
           30,
           0
          ],
          [
           "Obese II",
           33,
           0
          ],
          [
           "Obese II",
           18,
           0
          ],
          [
           "Overweight",
           46,
           0
          ],
          [
           "Obese III",
           46,
           3
          ],
          [
           "Overweight",
           47,
           3
          ],
          [
           "Obese III",
           23,
           0
          ],
          [
           "Normal range",
           18,
           0
          ],
          [
           "Obese I",
           48,
           2
          ],
          [
           "Obese I",
           35,
           1
          ],
          [
           "Overweight",
           21,
           1
          ],
          [
           "Normal range",
           21,
           2
          ],
          [
           "Obese I",
           49,
           1
          ],
          [
           "Obese I",
           56,
           3
          ],
          [
           "Normal range",
           42,
           2
          ],
          [
           "Obese I",
           44,
           2
          ],
          [
           "Obese I",
           18,
           3
          ],
          [
           "Normal range",
           61,
           0
          ],
          [
           "Normal range",
           57,
           0
          ],
          [
           "Obese I",
           42,
           1
          ],
          [
           "Obese I",
           20,
           0
          ],
          [
           "Obese I",
           64,
           3
          ],
          [
           "Obese I",
           62,
           1
          ],
          [
           "Obese I",
           55,
           0
          ],
          [
           "Obese III",
           35,
           2
          ],
          [
           "Normal range",
           44,
           2
          ],
          [
           "Obese I",
           19,
           0
          ],
          [
           "Obese II",
           58,
           0
          ],
          [
           "Overweight",
           50,
           2
          ],
          [
           "Normal range",
           26,
           0
          ],
          [
           "Obese I",
           24,
           3
          ],
          [
           "Obese II",
           48,
           4
          ],
          [
           "Obese II",
           19,
           0
          ],
          [
           "Obese I",
           48,
           1
          ],
          [
           "Obese I",
           49,
           1
          ],
          [
           "Obese I",
           46,
           2
          ],
          [
           "Normal range",
           46,
           0
          ],
          [
           "Obese I",
           43,
           3
          ],
          [
           "Obese I",
           21,
           0
          ],
          [
           "Overweight",
           64,
           2
          ],
          [
           "Obese II",
           18,
           0
          ],
          [
           "Normal range",
           51,
           0
          ],
          [
           "Obese III",
           47,
           1
          ],
          [
           "Obese I",
           64,
           0
          ],
          [
           "Obese I",
           49,
           3
          ],
          [
           "Normal range",
           31,
           0
          ],
          [
           "Obese II",
           52,
           2
          ],
          [
           "Normal range",
           33,
           0
          ],
          [
           "Normal range",
           47,
           1
          ],
          [
           "Normal range",
           38,
           3
          ],
          [
           "Obese I",
           32,
           1
          ],
          [
           "Underweight I",
           19,
           0
          ],
          [
           "Normal range",
           25,
           5
          ],
          [
           "Obese II",
           19,
           0
          ],
          [
           "Obese II",
           43,
           1
          ],
          [
           "Obese I",
           52,
           0
          ],
          [
           "Obese II",
           64,
           1
          ],
          [
           "Obese I",
           25,
           0
          ],
          [
           "Obese I",
           48,
           2
          ],
          [
           "Normal range",
           45,
           5
          ],
          [
           "Overweight",
           38,
           1
          ],
          [
           "Overweight",
           18,
           0
          ],
          [
           "Underweight II",
           21,
           1
          ],
          [
           "Obese I",
           27,
           3
          ],
          [
           "Obese I",
           19,
           0
          ],
          [
           "Normal range",
           29,
           2
          ],
          [
           "Overweight",
           42,
           0
          ],
          [
           "Obese I",
           60,
           0
          ],
          [
           "Overweight",
           31,
           1
          ],
          [
           "Obese I",
           60,
           3
          ],
          [
           "Obese I",
           22,
           0
          ],
          [
           "Overweight",
           35,
           3
          ],
          [
           "Obese III",
           52,
           5
          ],
          [
           "Overweight",
           26,
           0
          ],
          [
           "Obese I",
           31,
           1
          ],
          [
           "Obese III",
           18,
           0
          ],
          [
           "Obese II",
           59,
           1
          ],
          [
           "Obese I",
           45,
           0
          ],
          [
           "Overweight",
           60,
           0
          ],
          [
           "Overweight",
           56,
           0
          ],
          [
           "Overweight",
           40,
           0
          ],
          [
           "Obese II",
           35,
           1
          ],
          [
           "Overweight",
           39,
           4
          ],
          [
           "Normal range",
           30,
           1
          ],
          [
           "Normal range",
           24,
           0
          ],
          [
           "Overweight",
           20,
           0
          ],
          [
           "Obese III",
           32,
           2
          ],
          [
           "Obese II",
           59,
           0
          ],
          [
           "Obese I",
           55,
           2
          ],
          [
           "Obese I",
           57,
           0
          ],
          [
           "Obese II",
           56,
           0
          ],
          [
           "Obese I",
           40,
           3
          ],
          [
           "Obese II",
           49,
           3
          ],
          [
           "Obese II",
           62,
           2
          ],
          [
           "Overweight",
           56,
           0
          ],
          [
           "Overweight",
           19,
           0
          ],
          [
           "Overweight",
           60,
           1
          ],
          [
           "Obese I",
           56,
           2
          ],
          [
           "Normal range",
           28,
           1
          ],
          [
           "Normal range",
           18,
           1
          ],
          [
           "Obese I",
           27,
           0
          ],
          [
           "Obese I",
           18,
           0
          ],
          [
           "Overweight",
           19,
           0
          ],
          [
           "Obese I",
           47,
           0
          ],
          [
           "Obese II",
           25,
           0
          ],
          [
           "Obese II",
           21,
           0
          ],
          [
           "Obese I",
           23,
           0
          ],
          [
           "Obese III",
           63,
           3
          ],
          [
           "Obese II",
           49,
           2
          ],
          [
           "Obese I",
           18,
           0
          ],
          [
           "Obese II",
           51,
           1
          ],
          [
           "Obese I",
           48,
           3
          ],
          [
           "Obese I",
           31,
           0
          ],
          [
           "Normal range",
           54,
           3
          ],
          [
           "Overweight",
           19,
           0
          ],
          [
           "Obese I",
           53,
           1
          ],
          [
           "Obese I",
           19,
           0
          ],
          [
           "Overweight",
           61,
           0
          ],
          [
           "Overweight",
           18,
           0
          ],
          [
           "Obese III",
           61,
           0
          ],
          [
           "Overweight",
           20,
           0
          ],
          [
           "Normal range",
           31,
           2
          ],
          [
           "Overweight",
           45,
           2
          ],
          [
           "Normal range",
           44,
           2
          ],
          [
           "Obese II",
           62,
           0
          ],
          [
           "Overweight",
           43,
           0
          ],
          [
           "Overweight",
           38,
           1
          ],
          [
           "Obese I",
           37,
           3
          ],
          [
           "Obese I",
           22,
           1
          ],
          [
           "Normal range",
           21,
           2
          ],
          [
           "Overweight",
           24,
           0
          ],
          [
           "Overweight",
           57,
           0
          ],
          [
           "Obese I",
           56,
           1
          ],
          [
           "Obese I",
           27,
           0
          ],
          [
           "Normal range",
           51,
           0
          ],
          [
           "Obese I",
           19,
           0
          ],
          [
           "Obese II",
           58,
           0
          ],
          [
           "Obese II",
           20,
           1
          ],
          [
           "Obese I",
           45,
           2
          ],
          [
           "Obese I",
           35,
           1
          ],
          [
           "Obese I",
           31,
           0
          ],
          [
           "Overweight",
           50,
           0
          ],
          [
           "Obese III",
           32,
           0
          ],
          [
           "Obese I",
           51,
           0
          ],
          [
           "Obese II",
           38,
           0
          ],
          [
           "Obese I",
           18,
           0
          ],
          [
           "Obese I",
           19,
           2
          ],
          [
           "Overweight",
           51,
           1
          ],
          [
           "Obese II",
           46,
           1
          ],
          [
           "Overweight",
           18,
           0
          ],
          [
           "Obese I",
           62,
           0
          ],
          [
           "Overweight",
           59,
           2
          ],
          [
           "Obese II",
           37,
           0
          ],
          [
           "Obese III",
           64,
           0
          ],
          [
           "Overweight",
           38,
           1
          ],
          [
           "Obese II",
           33,
           3
          ],
          [
           "Obese I",
           46,
           2
          ],
          [
           "Overweight",
           46,
           1
          ],
          [
           "Obese I",
           53,
           0
          ],
          [
           "Obese II",
           34,
           3
          ],
          [
           "Obese I",
           20,
           2
          ],
          [
           "Obese II",
           63,
           0
          ],
          [
           "Obese I",
           54,
           0
          ],
          [
           "Obese II",
           28,
           0
          ],
          [
           "Obese III",
           54,
           2
          ],
          [
           "Overweight",
           25,
           0
          ],
          [
           "Obese I",
           63,
           0
          ],
          [
           "Overweight",
           32,
           0
          ],
          [
           "Normal range",
           62,
           0
          ],
          [
           "Obese I",
           52,
           2
          ],
          [
           "Obese III",
           25,
           0
          ],
          [
           "Normal range",
           28,
           2
          ],
          [
           "Obese I",
           46,
           1
          ],
          [
           "Obese I",
           34,
           0
          ],
          [
           "Obese II",
           19,
           0
          ],
          [
           "Normal range",
           46,
           2
          ],
          [
           "Obese I",
           54,
           0
          ],
          [
           "Obese I",
           27,
           0
          ],
          [
           "Obese III",
           50,
           1
          ],
          [
           "Obese I",
           18,
           2
          ],
          [
           "Obese I",
           19,
           0
          ],
          [
           "Obese III",
           38,
           1
          ],
          [
           "Obese I",
           41,
           2
          ],
          [
           "Obese I",
           49,
           5
          ],
          [
           "Overweight",
           31,
           0
          ],
          [
           "Obese II",
           18,
           1
          ],
          [
           "Obese III",
           30,
           2
          ],
          [
           "Obese II",
           62,
           1
          ],
          [
           "Obese I",
           57,
           2
          ],
          [
           "Overweight",
           58,
           0
          ],
          [
           "Overweight",
           22,
           0
          ],
          [
           "Obese I",
           52,
           1
          ],
          [
           "Normal range",
           25,
           0
          ],
          [
           "Overweight",
           59,
           1
          ],
          [
           "Obese I",
           19,
           0
          ],
          [
           "Obese III",
           39,
           2
          ],
          [
           "Normal range",
           32,
           1
          ],
          [
           "Normal range",
           19,
           0
          ],
          [
           "Overweight",
           33,
           1
          ],
          [
           "Normal range",
           21,
           3
          ],
          [
           "Obese II",
           61,
           0
          ],
          [
           "Obese I",
           38,
           1
          ],
          [
           "Overweight",
           58,
           0
          ],
          [
           "Normal range",
           47,
           1
          ],
          [
           "Obese I",
           20,
           2
          ],
          [
           "Obese III",
           41,
           0
          ],
          [
           "Obese I",
           46,
           1
          ],
          [
           "Overweight",
           42,
           2
          ],
          [
           "Obese I",
           34,
           1
          ],
          [
           "Obese I",
           43,
           2
          ],
          [
           "Obese II",
           52,
           2
          ],
          [
           "Obese II",
           18,
           0
          ],
          [
           "Obese I",
           51,
           0
          ],
          [
           "Overweight",
           56,
           0
          ],
          [
           "Obese II",
           64,
           3
          ],
          [
           "Obese I",
           51,
           0
          ],
          [
           "Overweight",
           27,
           0
          ],
          [
           "Overweight",
           28,
           2
          ],
          [
           "Overweight",
           47,
           1
          ],
          [
           "Obese I",
           38,
           2
          ],
          [
           "Obese I",
           18,
           0
          ],
          [
           "Normal range",
           34,
           3
          ],
          [
           "Obese I",
           20,
           0
          ],
          [
           "Overweight",
           56,
           0
          ],
          [
           "Obese II",
           55,
           0
          ],
          [
           "Obese I",
           30,
           1
          ],
          [
           "Normal range",
           49,
           1
          ],
          [
           "Overweight",
           59,
           0
          ],
          [
           "Overweight",
           29,
           0
          ],
          [
           "Overweight",
           36,
           3
          ],
          [
           "Obese III",
           33,
           1
          ],
          [
           "Obese II",
           58,
           0
          ],
          [
           "Obese II",
           53,
           1
          ],
          [
           "Overweight",
           24,
           0
          ],
          [
           "Obese II",
           29,
           0
          ],
          [
           "Normal range",
           40,
           2
          ],
          [
           "Obese II",
           51,
           1
          ],
          [
           "Obese II",
           64,
           0
          ],
          [
           "Normal range",
           19,
           1
          ],
          [
           "Obese II",
           35,
           2
          ],
          [
           "Obese I",
           56,
           4
          ],
          [
           "Obese III",
           33,
           5
          ],
          [
           "Obese I",
           61,
           0
          ],
          [
           "Obese I",
           23,
           3
          ],
          [
           "Obese II",
           43,
           2
          ],
          [
           "Obese I",
           48,
           3
          ],
          [
           "Overweight",
           39,
           1
          ],
          [
           "Normal range",
           40,
           3
          ],
          [
           "Overweight",
           18,
           0
          ],
          [
           "Obese I",
           58,
           0
          ],
          [
           "Obese III",
           49,
           2
          ],
          [
           "Obese II",
           53,
           1
          ],
          [
           "Obese I",
           48,
           0
          ],
          [
           "Obese II",
           45,
           2
          ],
          [
           "Obese II",
           59,
           0
          ],
          [
           "Obese III",
           26,
           1
          ],
          [
           "Obese I",
           27,
           2
          ],
          [
           "Obese II",
           48,
           1
          ],
          [
           "Overweight",
           57,
           4
          ],
          [
           "Obese III",
           37,
           3
          ],
          [
           "Normal range",
           57,
           1
          ],
          [
           "Obese I",
           32,
           1
          ],
          [
           "Obese I",
           18,
           0
          ],
          [
           "Overweight",
           49,
           1
          ],
          [
           "Overweight",
           40,
           1
          ],
          [
           "Obese I",
           30,
           3
          ],
          [
           "Obese I",
           29,
           0
          ],
          [
           "Overweight",
           36,
           0
          ],
          [
           "Obese I",
           41,
           0
          ],
          [
           "Normal range",
           45,
           0
          ],
          [
           "Obese III",
           55,
           3
          ],
          [
           "Obese II",
           56,
           3
          ],
          [
           "Normal range",
           49,
           2
          ],
          [
           "Underweight I",
           21,
           1
          ],
          [
           "Normal range",
           19,
           0
          ],
          [
           "Normal range",
           53,
           0
          ],
          [
           "Normal range",
           33,
           1
          ],
          [
           "Overweight",
           53,
           2
          ],
          [
           "Overweight",
           42,
           2
          ],
          [
           "Obese III",
           40,
           0
          ],
          [
           "Normal range",
           47,
           1
          ],
          [
           "Overweight",
           21,
           0
          ],
          [
           "Obese II",
           47,
           1
          ],
          [
           "Obese I",
           20,
           1
          ],
          [
           "Normal range",
           24,
           0
          ],
          [
           "Obese I",
           27,
           1
          ],
          [
           "Obese III",
           26,
           0
          ],
          [
           "Obese I",
           53,
           2
          ],
          [
           "Obese I",
           56,
           0
          ],
          [
           "Obese II",
           23,
           2
          ],
          [
           "Obese I",
           21,
           0
          ],
          [
           "Obese III",
           50,
           0
          ],
          [
           "Obese III",
           53,
           0
          ],
          [
           "Overweight",
           34,
           1
          ],
          [
           "Overweight",
           47,
           1
          ],
          [
           "Obese I",
           33,
           2
          ],
          [
           "Overweight",
           49,
           3
          ],
          [
           "Obese I",
           31,
           3
          ],
          [
           "Overweight",
           36,
           0
          ],
          [
           "Obese II",
           18,
           1
          ],
          [
           "Normal range",
           50,
           2
          ],
          [
           "Obese I",
           43,
           2
          ],
          [
           "Obese III",
           20,
           0
          ],
          [
           "Normal range",
           24,
           0
          ],
          [
           "Overweight",
           60,
           0
          ],
          [
           "Normal range",
           49,
           1
          ],
          [
           "Normal range",
           60,
           1
          ],
          [
           "Obese II",
           51,
           2
          ],
          [
           "Obese I",
           58,
           0
          ],
          [
           "Obese III",
           51,
           0
          ],
          [
           "Obese II",
           53,
           3
          ],
          [
           "Obese II",
           62,
           0
          ],
          [
           "Obese II",
           19,
           0
          ],
          [
           "Overweight",
           50,
           1
          ],
          [
           "Overweight",
           41,
           1
          ],
          [
           "Obese III",
           18,
           0
          ],
          [
           "Obese II",
           41,
           1
          ],
          [
           "Normal range",
           53,
           1
          ],
          [
           "Obese I",
           24,
           3
          ],
          [
           "Overweight",
           48,
           1
          ],
          [
           "Obese I",
           59,
           3
          ],
          [
           "Obese I",
           49,
           1
          ],
          [
           "Normal range",
           26,
           2
          ],
          [
           "Normal range",
           45,
           2
          ],
          [
           "Overweight",
           31,
           0
          ],
          [
           "Overweight",
           50,
           0
          ],
          [
           "Obese I",
           50,
           1
          ],
          [
           "Overweight",
           34,
           2
          ],
          [
           "Normal range",
           19,
           0
          ],
          [
           "Obese II",
           47,
           1
          ],
          [
           "Obese I",
           28,
           0
          ],
          [
           "Overweight",
           21,
           0
          ],
          [
           "Obese II",
           64,
           0
          ],
          [
           "Normal range",
           58,
           0
          ],
          [
           "Obese I",
           24,
           4
          ],
          [
           "Overweight",
           31,
           2
          ],
          [
           "Normal range",
           39,
           3
          ],
          [
           "Obese II",
           30,
           3
          ],
          [
           "Obese I",
           22,
           2
          ],
          [
           "Obese II",
           23,
           1
          ],
          [
           "Overweight",
           27,
           0
          ],
          [
           "Overweight",
           45,
           2
          ],
          [
           "Obese I",
           57,
           0
          ],
          [
           "Obese I",
           47,
           1
          ],
          [
           "Overweight",
           42,
           1
          ],
          [
           "Obese II",
           64,
           0
          ],
          [
           "Normal range",
           38,
           2
          ],
          [
           "Obese II",
           61,
           3
          ],
          [
           "Overweight",
           53,
           2
          ],
          [
           "Obese II",
           44,
           0
          ],
          [
           "Obese I",
           41,
           2
          ],
          [
           "Obese I",
           51,
           3
          ],
          [
           "Obese I",
           40,
           2
          ],
          [
           "Obese II",
           45,
           0
          ],
          [
           "Obese I",
           35,
           3
          ],
          [
           "Overweight",
           53,
           0
          ],
          [
           "Obese III",
           18,
           0
          ],
          [
           "Obese II",
           51,
           1
          ],
          [
           "Overweight",
           31,
           1
          ],
          [
           "Overweight",
           35,
           3
          ],
          [
           "Obese II",
           60,
           0
          ],
          [
           "Obese II",
           21,
           0
          ],
          [
           "Normal range",
           29,
           3
          ],
          [
           "Overweight",
           62,
           0
          ],
          [
           "Obese III",
           39,
           0
          ],
          [
           "Overweight",
           19,
           0
          ],
          [
           "Normal range",
           22,
           0
          ],
          [
           "Obese I",
           39,
           2
          ],
          [
           "Obese III",
           30,
           2
          ],
          [
           "Normal range",
           30,
           1
          ],
          [
           "Obese I",
           58,
           0
          ],
          [
           "Overweight",
           42,
           1
          ],
          [
           "Obese II",
           64,
           0
          ],
          [
           "Normal range",
           21,
           1
          ],
          [
           "Overweight",
           23,
           0
          ],
          [
           "Obese II",
           45,
           0
          ],
          [
           "Obese III",
           40,
           1
          ],
          [
           "Obese II",
           19,
           0
          ],
          [
           "Obese I",
           18,
           0
          ],
          [
           "Overweight",
           25,
           1
          ],
          [
           "Obese I",
           46,
           3
          ],
          [
           "Obese III",
           33,
           3
          ],
          [
           "Normal range",
           54,
           2
          ],
          [
           "Normal range",
           28,
           2
          ],
          [
           "Obese I",
           36,
           2
          ],
          [
           "Obese I",
           20,
           0
          ],
          [
           "Normal range",
           24,
           0
          ],
          [
           "Obese II",
           23,
           3
          ],
          [
           "Obese I",
           45,
           1
          ],
          [
           "Underweight I",
           26,
           0
          ],
          [
           "Obese I",
           18,
           0
          ],
          [
           "Overweight",
           44,
           2
          ],
          [
           "Normal range",
           60,
           0
          ],
          [
           "Obese I",
           64,
           2
          ],
          [
           "Normal range",
           39,
           1
          ],
          [
           "Obese I",
           63,
           0
          ],
          [
           "Overweight",
           36,
           0
          ],
          [
           "Normal range",
           28,
           2
          ],
          [
           "Obese I",
           58,
           0
          ],
          [
           "Obese I",
           36,
           1
          ],
          [
           "Obese II",
           42,
           2
          ],
          [
           "Obese I",
           36,
           0
          ],
          [
           "Overweight",
           56,
           0
          ],
          [
           "Normal range",
           35,
           2
          ],
          [
           "Obese I",
           59,
           0
          ],
          [
           "Obese I",
           21,
           0
          ],
          [
           "Normal range",
           59,
           0
          ],
          [
           "Obese I",
           53,
           0
          ],
          [
           "Obese I",
           51,
           1
          ],
          [
           "Obese III",
           23,
           1
          ],
          [
           "Normal range",
           27,
           0
          ],
          [
           "Obese I",
           55,
           0
          ],
          [
           "Obese I",
           61,
           2
          ],
          [
           "Normal range",
           53,
           2
          ],
          [
           "Overweight",
           20,
           0
          ],
          [
           "Obese I",
           25,
           1
          ],
          [
           "Overweight",
           57,
           0
          ],
          [
           "Overweight",
           38,
           3
          ],
          [
           "Obese I",
           55,
           2
          ],
          [
           "Normal range",
           36,
           0
          ],
          [
           "Overweight",
           51,
           0
          ],
          [
           "Overweight",
           40,
           2
          ],
          [
           "Obese II",
           18,
           0
          ],
          [
           "Obese III",
           57,
           1
          ],
          [
           "Normal range",
           61,
           0
          ],
          [
           "Normal range",
           25,
           3
          ],
          [
           "Obese II",
           50,
           0
          ],
          [
           "Overweight",
           26,
           1
          ],
          [
           "Normal range",
           42,
           0
          ],
          [
           "Obese I",
           43,
           1
          ],
          [
           "Normal range",
           44,
           3
          ],
          [
           "Overweight",
           23,
           0
          ],
          [
           "Overweight",
           49,
           1
          ],
          [
           "Obese I",
           33,
           5
          ],
          [
           "Overweight",
           41,
           1
          ],
          [
           "Overweight",
           37,
           2
          ],
          [
           "Obese I",
           22,
           3
          ],
          [
           "Overweight",
           23,
           1
          ],
          [
           "Normal range",
           21,
           0
          ],
          [
           "Overweight",
           25,
           4
          ],
          [
           "Obese I",
           36,
           0
          ],
          [
           "Obese II",
           22,
           0
          ],
          [
           "Obese I",
           57,
           1
          ],
          [
           "Overweight",
           36,
           4
          ],
          [
           "Normal range",
           54,
           0
          ],
          [
           "Obese I",
           62,
           0
          ],
          [
           "Obese III",
           61,
           0
          ],
          [
           "Overweight",
           19,
           1
          ],
          [
           "Obese III",
           18,
           0
          ],
          [
           "Normal range",
           19,
           0
          ],
          [
           "Normal range",
           49,
           0
          ],
          [
           "Overweight",
           26,
           3
          ],
          [
           "Obese II",
           49,
           0
          ],
          [
           "Obese II",
           60,
           0
          ],
          [
           "Overweight",
           26,
           2
          ],
          [
           "Obese I",
           27,
           3
          ],
          [
           "Obese I",
           44,
           1
          ],
          [
           "Obese II",
           63,
           3
          ],
          [
           "Overweight",
           22,
           1
          ],
          [
           "Overweight",
           59,
           3
          ],
          [
           "Overweight",
           44,
           1
          ],
          [
           "Normal range",
           33,
           2
          ],
          [
           "Obese I",
           24,
           0
          ],
          [
           "Overweight",
           61,
           0
          ],
          [
           "Obese I",
           35,
           1
          ],
          [
           "Overweight",
           62,
           0
          ],
          [
           "Obese I",
           62,
           0
          ],
          [
           "Obese I",
           38,
           1
          ],
          [
           "Obese II",
           34,
           0
          ],
          [
           "Normal range",
           43,
           0
          ],
          [
           "Obese I",
           50,
           2
          ],
          [
           "Normal range",
           19,
           2
          ],
          [
           "Normal range",
           57,
           1
          ],
          [
           "Obese II",
           62,
           0
          ],
          [
           "Obese I",
           41,
           1
          ],
          [
           "Obese III",
           26,
           1
          ],
          [
           "Obese I",
           39,
           1
          ],
          [
           "Overweight",
           46,
           5
          ],
          [
           "Obese II",
           45,
           0
          ],
          [
           "Obese II",
           32,
           2
          ],
          [
           "Overweight",
           59,
           0
          ],
          [
           "Overweight",
           44,
           2
          ],
          [
           "Normal range",
           39,
           5
          ],
          [
           "Overweight",
           18,
           2
          ],
          [
           "Overweight",
           53,
           0
          ],
          [
           "Normal range",
           18,
           0
          ],
          [
           "Obese III",
           50,
           1
          ],
          [
           "Obese III",
           18,
           0
          ],
          [
           "Normal range",
           19,
           0
          ],
          [
           "Obese II",
           62,
           0
          ],
          [
           "Obese II",
           56,
           1
          ],
          [
           "Obese II",
           42,
           2
          ],
          [
           "Obese I",
           42,
           0
          ],
          [
           "Underweight I",
           57,
           0
          ],
          [
           "Overweight",
           30,
           1
          ],
          [
           "Obese II",
           31,
           1
          ],
          [
           "Overweight",
           24,
           1
          ],
          [
           "Obese II",
           48,
           1
          ],
          [
           "Obese II",
           19,
           1
          ],
          [
           "Overweight",
           29,
           0
          ],
          [
           "Obese II",
           63,
           1
          ],
          [
           "Normal range",
           46,
           3
          ],
          [
           "Obese II",
           52,
           2
          ],
          [
           "Overweight",
           35,
           1
          ],
          [
           "Overweight",
           44,
           1
          ],
          [
           "Overweight",
           21,
           2
          ],
          [
           "Obese I",
           39,
           5
          ],
          [
           "Overweight",
           50,
           3
          ],
          [
           "Normal range",
           34,
           0
          ],
          [
           "Normal range",
           22,
           0
          ],
          [
           "Obese III",
           19,
           0
          ],
          [
           "Obese II",
           26,
           0
          ],
          [
           "Obese III",
           48,
           0
          ],
          [
           "Overweight",
           26,
           1
          ],
          [
           "Obese II",
           45,
           3
          ],
          [
           "Overweight",
           36,
           0
          ],
          [
           "Overweight",
           54,
           1
          ],
          [
           "Normal range",
           34,
           0
          ],
          [
           "Obese I",
           27,
           1
          ],
          [
           "Obese I",
           20,
           5
          ],
          [
           "Overweight",
           44,
           1
          ],
          [
           "Obese I",
           43,
           3
          ],
          [
           "Overweight",
           45,
           1
          ],
          [
           "Obese I",
           34,
           0
          ],
          [
           "Normal range",
           26,
           1
          ],
          [
           "Overweight",
           38,
           2
          ],
          [
           "Obese I",
           50,
           2
          ],
          [
           "Overweight",
           38,
           1
          ],
          [
           "Normal range",
           39,
           3
          ],
          [
           "Obese I",
           39,
           3
          ],
          [
           "Obese II",
           63,
           0
          ],
          [
           "Obese II",
           33,
           3
          ],
          [
           "Overweight",
           36,
           0
          ],
          [
           "Overweight",
           24,
           0
          ],
          [
           "Overweight",
           48,
           0
          ],
          [
           "Normal range",
           47,
           1
          ],
          [
           "Obese I",
           29,
           2
          ],
          [
           "Overweight",
           28,
           2
          ],
          [
           "Normal range",
           25,
           2
          ],
          [
           "Overweight",
           51,
           1
          ],
          [
           "Normal range",
           48,
           0
          ],
          [
           "Obese I",
           61,
           4
          ],
          [
           "Obese I",
           48,
           1
          ],
          [
           "Overweight",
           38,
           0
          ],
          [
           "Overweight",
           59,
           0
          ],
          [
           "Normal range",
           19,
           1
          ],
          [
           "Obese I",
           26,
           2
          ],
          [
           "Obese II",
           54,
           3
          ],
          [
           "Obese I",
           21,
           2
          ],
          [
           "Obese II",
           51,
           0
          ],
          [
           "Normal range",
           18,
           1
          ],
          [
           "Obese III",
           47,
           1
          ],
          [
           "Obese I",
           21,
           0
          ],
          [
           "Normal range",
           23,
           0
          ],
          [
           "Obese I",
           54,
           0
          ],
          [
           "Underweight I",
           37,
           2
          ],
          [
           "Overweight",
           30,
           0
          ],
          [
           "Obese II",
           61,
           0
          ],
          [
           "Normal range",
           54,
           3
          ],
          [
           "Overweight",
           22,
           0
          ],
          [
           "Overweight",
           19,
           2
          ],
          [
           "Normal range",
           18,
           0
          ],
          [
           "Overweight",
           28,
           0
          ],
          [
           "Obese II",
           55,
           1
          ],
          [
           "Overweight",
           43,
           0
          ],
          [
           "Normal range",
           25,
           1
          ],
          [
           "Obese II",
           44,
           1
          ],
          [
           "Overweight",
           64,
           0
          ],
          [
           "Overweight",
           49,
           1
          ],
          [
           "Normal range",
           27,
           0
          ],
          [
           "Overweight",
           55,
           0
          ],
          [
           "Overweight",
           48,
           0
          ],
          [
           "Obese I",
           45,
           0
          ],
          [
           "Obese II",
           24,
           0
          ],
          [
           "Obese I",
           32,
           1
          ],
          [
           "Obese I",
           24,
           0
          ],
          [
           "Overweight",
           57,
           1
          ],
          [
           "Overweight",
           36,
           3
          ],
          [
           "Overweight",
           29,
           4
          ],
          [
           "Overweight",
           42,
           1
          ],
          [
           "Obese II",
           48,
           2
          ],
          [
           "Obese III",
           39,
           0
          ],
          [
           "Normal range",
           63,
           1
          ],
          [
           "Obese I",
           54,
           1
          ],
          [
           "Obese I",
           63,
           0
          ],
          [
           "Obese I",
           21,
           0
          ],
          [
           "Overweight",
           54,
           2
          ],
          [
           "Underweight I",
           60,
           0
          ],
          [
           "Overweight",
           32,
           1
          ],
          [
           "Obese I",
           47,
           1
          ],
          [
           "Overweight",
           21,
           0
          ],
          [
           "Obese I",
           63,
           3
          ],
          [
           "Normal range",
           18,
           2
          ],
          [
           "Overweight",
           32,
           1
          ],
          [
           "Normal range",
           38,
           1
          ],
          [
           "Obese I",
           32,
           1
          ],
          [
           "Obese I",
           62,
           2
          ],
          [
           "Overweight",
           55,
           0
          ],
          [
           "Obese I",
           57,
           0
          ],
          [
           "Obese III",
           52,
           1
          ],
          [
           "Normal range",
           56,
           0
          ],
          [
           "Overweight",
           55,
           0
          ],
          [
           "Obese I",
           23,
           3
          ],
          [
           "Obese I",
           50,
           4
          ],
          [
           "Obese I",
           18,
           4
          ],
          [
           "Obese I",
           22,
           0
          ],
          [
           "Obese I",
           52,
           0
          ],
          [
           "Obese I",
           25,
           1
          ],
          [
           "Overweight",
           53,
           3
          ],
          [
           "Obese II",
           29,
           1
          ],
          [
           "Obese II",
           58,
           0
          ],
          [
           "Overweight",
           37,
           0
          ],
          [
           "Obese I",
           54,
           0
          ],
          [
           "Overweight",
           49,
           0
          ],
          [
           "Overweight",
           50,
           2
          ],
          [
           "Obese I",
           26,
           1
          ],
          [
           "Normal range",
           45,
           3
          ],
          [
           "Obese I",
           54,
           1
          ],
          [
           "Overweight",
           28,
           3
          ],
          [
           "Normal range",
           23,
           0
          ],
          [
           "Obese I",
           55,
           1
          ],
          [
           "Overweight",
           41,
           5
          ],
          [
           "Normal range",
           30,
           3
          ],
          [
           "Obese II",
           46,
           2
          ],
          [
           "Obese I",
           27,
           1
          ],
          [
           "Overweight",
           63,
           0
          ],
          [
           "Overweight",
           55,
           0
          ],
          [
           "Obese II",
           35,
           2
          ],
          [
           "Obese I",
           34,
           1
          ],
          [
           "Normal range",
           19,
           0
          ],
          [
           "Normal range",
           39,
           5
          ],
          [
           "Obese III",
           27,
           2
          ],
          [
           "Obese III",
           57,
           0
          ],
          [
           "Underweight I",
           52,
           0
          ],
          [
           "Obese I",
           28,
           0
          ],
          [
           "Overweight",
           50,
           3
          ],
          [
           "Overweight",
           44,
           1
          ],
          [
           "Normal range",
           26,
           0
          ],
          [
           "Obese I",
           33,
           0
          ],
          [
           "Obese II",
           50,
           1
          ],
          [
           "Obese I",
           41,
           3
          ],
          [
           "Normal range",
           52,
           0
          ],
          [
           "Obese I",
           39,
           2
          ],
          [
           "Obese I",
           50,
           2
          ],
          [
           "Obese I",
           52,
           3
          ],
          [
           "Obese I",
           20,
           0
          ],
          [
           "Normal range",
           55,
           1
          ],
          [
           "Obese I",
           42,
           0
          ],
          [
           "Obese I",
           18,
           0
          ],
          [
           "Obese II",
           58,
           0
          ],
          [
           "Obese II",
           35,
           1
          ],
          [
           "Overweight",
           48,
           4
          ],
          [
           "Normal range",
           36,
           3
          ],
          [
           "Normal range",
           23,
           2
          ],
          [
           "Obese I",
           20,
           0
          ],
          [
           "Obese III",
           32,
           0
          ],
          [
           "Obese I",
           43,
           1
          ],
          [
           "Obese III",
           34,
           2
          ],
          [
           "Obese II",
           30,
           1
          ],
          [
           "Overweight",
           18,
           0
          ],
          [
           "Overweight",
           41,
           1
          ],
          [
           "Overweight",
           35,
           0
          ],
          [
           "Obese III",
           57,
           0
          ],
          [
           "Normal range",
           29,
           2
          ],
          [
           "Obese II",
           32,
           2
          ],
          [
           "Obese I",
           37,
           1
          ],
          [
           "Obese III",
           56,
           0
          ],
          [
           "Overweight",
           38,
           2
          ],
          [
           "Obese I",
           29,
           2
          ],
          [
           "Overweight",
           22,
           0
          ],
          [
           "Overweight",
           40,
           1
          ],
          [
           "Obese I",
           23,
           0
          ],
          [
           "Obese III",
           42,
           1
          ],
          [
           "Overweight",
           24,
           0
          ],
          [
           "Obese I",
           25,
           0
          ],
          [
           "Overweight",
           48,
           1
          ],
          [
           "Normal range",
           45,
           2
          ],
          [
           "Obese I",
           62,
           0
          ],
          [
           "Overweight",
           23,
           0
          ],
          [
           "Obese I",
           31,
           2
          ],
          [
           "Normal range",
           41,
           1
          ],
          [
           "Obese I",
           58,
           1
          ],
          [
           "Obese II",
           48,
           0
          ],
          [
           "Normal range",
           31,
           0
          ],
          [
           "Overweight",
           19,
           3
          ],
          [
           "Obese I",
           41,
           0
          ],
          [
           "Overweight",
           40,
           1
          ],
          [
           "Overweight",
           31,
           2
          ],
          [
           "Normal range",
           37,
           2
          ],
          [
           "Obese III",
           46,
           2
          ],
          [
           "Obese I",
           22,
           0
          ],
          [
           "Obese I",
           51,
           1
          ],
          [
           "Underweight I",
           35,
           1
          ],
          [
           "Obese I",
           59,
           2
          ],
          [
           "Obese II",
           59,
           1
          ],
          [
           "Obese I",
           36,
           1
          ],
          [
           "Obese I",
           39,
           2
          ],
          [
           "Normal range",
           18,
           0
          ],
          [
           "Obese I",
           52,
           2
          ],
          [
           "Obese I",
           27,
           1
          ],
          [
           "Obese II",
           18,
           0
          ],
          [
           "Overweight",
           40,
           0
          ],
          [
           "Obese II",
           29,
           2
          ],
          [
           "Obese I",
           38,
           3
          ],
          [
           "Normal range",
           30,
           1
          ],
          [
           "Normal range",
           40,
           2
          ],
          [
           "Overweight",
           50,
           0
          ],
          [
           "Normal range",
           41,
           1
          ],
          [
           "Obese II",
           33,
           1
          ],
          [
           "Underweight II",
           38,
           2
          ],
          [
           "Obese II",
           42,
           2
          ],
          [
           "Obese I",
           56,
           0
          ],
          [
           "Obese I",
           58,
           0
          ],
          [
           "Normal range",
           54,
           3
          ],
          [
           "Normal range",
           58,
           0
          ],
          [
           "Overweight",
           45,
           2
          ],
          [
           "Obese I",
           26,
           0
          ],
          [
           "Normal range",
           63,
           0
          ],
          [
           "Overweight",
           58,
           0
          ],
          [
           "Normal range",
           37,
           3
          ],
          [
           "Obese III",
           25,
           1
          ],
          [
           "Normal range",
           22,
           3
          ],
          [
           "Obese I",
           28,
           0
          ],
          [
           "Obese I",
           18,
           0
          ],
          [
           "Normal range",
           28,
           5
          ],
          [
           "Overweight",
           45,
           3
          ],
          [
           "Overweight",
           33,
           4
          ],
          [
           "Obese II",
           18,
           0
          ],
          [
           "Normal range",
           19,
           0
          ],
          [
           "Overweight",
           40,
           4
          ],
          [
           "Overweight",
           34,
           0
          ],
          [
           "Obese II",
           42,
           0
          ],
          [
           "Obese II",
           51,
           3
          ],
          [
           "Overweight",
           54,
           1
          ],
          [
           "Obese II",
           55,
           3
          ],
          [
           "Normal range",
           52,
           0
          ],
          [
           "Normal range",
           32,
           0
          ],
          [
           "Obese II",
           28,
           1
          ],
          [
           "Overweight",
           41,
           1
          ],
          [
           "Overweight",
           43,
           1
          ],
          [
           "Obese I",
           49,
           2
          ],
          [
           "Obese I",
           55,
           0
          ],
          [
           "Obese I",
           20,
           0
          ],
          [
           "Overweight",
           45,
           3
          ],
          [
           "Obese I",
           26,
           1
          ],
          [
           "Obese I",
           25,
           0
          ],
          [
           "Overweight",
           43,
           5
          ],
          [
           "Overweight",
           35,
           1
          ],
          [
           "Normal range",
           57,
           0
          ],
          [
           "Obese I",
           22,
           0
          ],
          [
           "Overweight",
           32,
           0
          ],
          [
           "Overweight",
           25,
           2
          ],
          [
           "Obese I",
           48,
           0
          ],
          [
           "Obese I",
           18,
           1
          ],
          [
           "Normal range",
           47,
           0
          ],
          [
           "Underweight I",
           28,
           0
          ],
          [
           "Overweight",
           36,
           1
          ],
          [
           "Obese I",
           44,
           1
          ],
          [
           "Normal range",
           38,
           2
          ],
          [
           "Normal range",
           21,
           0
          ],
          [
           "Overweight",
           46,
           3
          ],
          [
           "Overweight",
           58,
           0
          ],
          [
           "Normal range",
           20,
           1
          ],
          [
           "Overweight",
           18,
           0
          ],
          [
           "Overweight",
           28,
           2
          ],
          [
           "Overweight",
           33,
           2
          ],
          [
           "Overweight",
           19,
           1
          ],
          [
           "Normal range",
           25,
           1
          ],
          [
           "Overweight",
           24,
           0
          ],
          [
           "Obese I",
           41,
           2
          ],
          [
           "Overweight",
           42,
           1
          ],
          [
           "Overweight",
           33,
           0
          ],
          [
           "Obese III",
           34,
           1
          ],
          [
           "Overweight",
           18,
           1
          ],
          [
           "Normal range",
           19,
           0
          ],
          [
           "Obese III",
           18,
           0
          ],
          [
           "Obese II",
           35,
           4
          ],
          [
           "Overweight",
           39,
           2
          ],
          [
           "Obese I",
           31,
           3
          ],
          [
           "Obese II",
           62,
           0
          ],
          [
           "Overweight",
           31,
           1
          ],
          [
           "Obese I",
           61,
           0
          ],
          [
           "Obese I",
           42,
           0
          ],
          [
           "Obese I",
           51,
           1
          ],
          [
           "Normal range",
           23,
           2
          ],
          [
           "Obese II",
           52,
           2
          ],
          [
           "Overweight",
           57,
           2
          ],
          [
           "Obese I",
           23,
           0
          ],
          [
           "Obese III",
           52,
           3
          ],
          [
           "Obese I",
           50,
           3
          ],
          [
           "Obese I",
           18,
           0
          ],
          [
           "Obese II",
           18,
           0
          ],
          [
           "Overweight",
           21,
           0
          ]
         ],
         "hovertemplate": "smoker=%{x}<br>charges=%{y}<br>bmi_classes=%{customdata[0]}<br>age=%{customdata[1]}<br>children=%{customdata[2]}<extra></extra>",
         "legendgroup": "no",
         "marker": {
          "color": "#EF553B",
          "symbol": "circle"
         },
         "mode": "markers",
         "name": "no",
         "showlegend": true,
         "type": "scattergl",
         "x": [
          "no",
          "no",
          "no",
          "no",
          "no",
          "no",
          "no",
          "no",
          "no",
          "no",
          "no",
          "no",
          "no",
          "no",
          "no",
          "no",
          "no",
          "no",
          "no",
          "no",
          "no",
          "no",
          "no",
          "no",
          "no",
          "no",
          "no",
          "no",
          "no",
          "no",
          "no",
          "no",
          "no",
          "no",
          "no",
          "no",
          "no",
          "no",
          "no",
          "no",
          "no",
          "no",
          "no",
          "no",
          "no",
          "no",
          "no",
          "no",
          "no",
          "no",
          "no",
          "no",
          "no",
          "no",
          "no",
          "no",
          "no",
          "no",
          "no",
          "no",
          "no",
          "no",
          "no",
          "no",
          "no",
          "no",
          "no",
          "no",
          "no",
          "no",
          "no",
          "no",
          "no",
          "no",
          "no",
          "no",
          "no",
          "no",
          "no",
          "no",
          "no",
          "no",
          "no",
          "no",
          "no",
          "no",
          "no",
          "no",
          "no",
          "no",
          "no",
          "no",
          "no",
          "no",
          "no",
          "no",
          "no",
          "no",
          "no",
          "no",
          "no",
          "no",
          "no",
          "no",
          "no",
          "no",
          "no",
          "no",
          "no",
          "no",
          "no",
          "no",
          "no",
          "no",
          "no",
          "no",
          "no",
          "no",
          "no",
          "no",
          "no",
          "no",
          "no",
          "no",
          "no",
          "no",
          "no",
          "no",
          "no",
          "no",
          "no",
          "no",
          "no",
          "no",
          "no",
          "no",
          "no",
          "no",
          "no",
          "no",
          "no",
          "no",
          "no",
          "no",
          "no",
          "no",
          "no",
          "no",
          "no",
          "no",
          "no",
          "no",
          "no",
          "no",
          "no",
          "no",
          "no",
          "no",
          "no",
          "no",
          "no",
          "no",
          "no",
          "no",
          "no",
          "no",
          "no",
          "no",
          "no",
          "no",
          "no",
          "no",
          "no",
          "no",
          "no",
          "no",
          "no",
          "no",
          "no",
          "no",
          "no",
          "no",
          "no",
          "no",
          "no",
          "no",
          "no",
          "no",
          "no",
          "no",
          "no",
          "no",
          "no",
          "no",
          "no",
          "no",
          "no",
          "no",
          "no",
          "no",
          "no",
          "no",
          "no",
          "no",
          "no",
          "no",
          "no",
          "no",
          "no",
          "no",
          "no",
          "no",
          "no",
          "no",
          "no",
          "no",
          "no",
          "no",
          "no",
          "no",
          "no",
          "no",
          "no",
          "no",
          "no",
          "no",
          "no",
          "no",
          "no",
          "no",
          "no",
          "no",
          "no",
          "no",
          "no",
          "no",
          "no",
          "no",
          "no",
          "no",
          "no",
          "no",
          "no",
          "no",
          "no",
          "no",
          "no",
          "no",
          "no",
          "no",
          "no",
          "no",
          "no",
          "no",
          "no",
          "no",
          "no",
          "no",
          "no",
          "no",
          "no",
          "no",
          "no",
          "no",
          "no",
          "no",
          "no",
          "no",
          "no",
          "no",
          "no",
          "no",
          "no",
          "no",
          "no",
          "no",
          "no",
          "no",
          "no",
          "no",
          "no",
          "no",
          "no",
          "no",
          "no",
          "no",
          "no",
          "no",
          "no",
          "no",
          "no",
          "no",
          "no",
          "no",
          "no",
          "no",
          "no",
          "no",
          "no",
          "no",
          "no",
          "no",
          "no",
          "no",
          "no",
          "no",
          "no",
          "no",
          "no",
          "no",
          "no",
          "no",
          "no",
          "no",
          "no",
          "no",
          "no",
          "no",
          "no",
          "no",
          "no",
          "no",
          "no",
          "no",
          "no",
          "no",
          "no",
          "no",
          "no",
          "no",
          "no",
          "no",
          "no",
          "no",
          "no",
          "no",
          "no",
          "no",
          "no",
          "no",
          "no",
          "no",
          "no",
          "no",
          "no",
          "no",
          "no",
          "no",
          "no",
          "no",
          "no",
          "no",
          "no",
          "no",
          "no",
          "no",
          "no",
          "no",
          "no",
          "no",
          "no",
          "no",
          "no",
          "no",
          "no",
          "no",
          "no",
          "no",
          "no",
          "no",
          "no",
          "no",
          "no",
          "no",
          "no",
          "no",
          "no",
          "no",
          "no",
          "no",
          "no",
          "no",
          "no",
          "no",
          "no",
          "no",
          "no",
          "no",
          "no",
          "no",
          "no",
          "no",
          "no",
          "no",
          "no",
          "no",
          "no",
          "no",
          "no",
          "no",
          "no",
          "no",
          "no",
          "no",
          "no",
          "no",
          "no",
          "no",
          "no",
          "no",
          "no",
          "no",
          "no",
          "no",
          "no",
          "no",
          "no",
          "no",
          "no",
          "no",
          "no",
          "no",
          "no",
          "no",
          "no",
          "no",
          "no",
          "no",
          "no",
          "no",
          "no",
          "no",
          "no",
          "no",
          "no",
          "no",
          "no",
          "no",
          "no",
          "no",
          "no",
          "no",
          "no",
          "no",
          "no",
          "no",
          "no",
          "no",
          "no",
          "no",
          "no",
          "no",
          "no",
          "no",
          "no",
          "no",
          "no",
          "no",
          "no",
          "no",
          "no",
          "no",
          "no",
          "no",
          "no",
          "no",
          "no",
          "no",
          "no",
          "no",
          "no",
          "no",
          "no",
          "no",
          "no",
          "no",
          "no",
          "no",
          "no",
          "no",
          "no",
          "no",
          "no",
          "no",
          "no",
          "no",
          "no",
          "no",
          "no",
          "no",
          "no",
          "no",
          "no",
          "no",
          "no",
          "no",
          "no",
          "no",
          "no",
          "no",
          "no",
          "no",
          "no",
          "no",
          "no",
          "no",
          "no",
          "no",
          "no",
          "no",
          "no",
          "no",
          "no",
          "no",
          "no",
          "no",
          "no",
          "no",
          "no",
          "no",
          "no",
          "no",
          "no",
          "no",
          "no",
          "no",
          "no",
          "no",
          "no",
          "no",
          "no",
          "no",
          "no",
          "no",
          "no",
          "no",
          "no",
          "no",
          "no",
          "no",
          "no",
          "no",
          "no",
          "no",
          "no",
          "no",
          "no",
          "no",
          "no",
          "no",
          "no",
          "no",
          "no",
          "no",
          "no",
          "no",
          "no",
          "no",
          "no",
          "no",
          "no",
          "no",
          "no",
          "no",
          "no",
          "no",
          "no",
          "no",
          "no",
          "no",
          "no",
          "no",
          "no",
          "no",
          "no",
          "no",
          "no",
          "no",
          "no",
          "no",
          "no",
          "no",
          "no",
          "no",
          "no",
          "no",
          "no",
          "no",
          "no",
          "no",
          "no",
          "no",
          "no",
          "no",
          "no",
          "no",
          "no",
          "no",
          "no",
          "no",
          "no",
          "no",
          "no",
          "no",
          "no",
          "no",
          "no",
          "no",
          "no",
          "no",
          "no",
          "no",
          "no",
          "no",
          "no",
          "no",
          "no",
          "no",
          "no",
          "no",
          "no",
          "no",
          "no",
          "no",
          "no",
          "no",
          "no",
          "no",
          "no",
          "no",
          "no",
          "no",
          "no",
          "no",
          "no",
          "no",
          "no",
          "no",
          "no",
          "no",
          "no",
          "no",
          "no",
          "no",
          "no",
          "no",
          "no",
          "no",
          "no",
          "no",
          "no",
          "no",
          "no",
          "no",
          "no",
          "no",
          "no",
          "no",
          "no",
          "no",
          "no",
          "no",
          "no",
          "no",
          "no",
          "no",
          "no",
          "no",
          "no",
          "no",
          "no",
          "no",
          "no",
          "no",
          "no",
          "no",
          "no",
          "no",
          "no",
          "no",
          "no",
          "no",
          "no",
          "no",
          "no",
          "no",
          "no",
          "no",
          "no",
          "no",
          "no",
          "no",
          "no",
          "no",
          "no",
          "no",
          "no",
          "no",
          "no",
          "no",
          "no",
          "no",
          "no",
          "no",
          "no",
          "no",
          "no",
          "no",
          "no",
          "no",
          "no",
          "no",
          "no",
          "no",
          "no",
          "no",
          "no",
          "no",
          "no",
          "no",
          "no",
          "no",
          "no",
          "no",
          "no",
          "no",
          "no",
          "no",
          "no",
          "no",
          "no",
          "no",
          "no",
          "no",
          "no",
          "no",
          "no",
          "no",
          "no",
          "no",
          "no",
          "no",
          "no",
          "no",
          "no",
          "no",
          "no",
          "no",
          "no",
          "no",
          "no",
          "no",
          "no",
          "no",
          "no",
          "no",
          "no",
          "no",
          "no",
          "no",
          "no",
          "no",
          "no",
          "no",
          "no",
          "no",
          "no",
          "no",
          "no",
          "no",
          "no",
          "no",
          "no",
          "no",
          "no",
          "no",
          "no",
          "no",
          "no",
          "no",
          "no",
          "no",
          "no",
          "no",
          "no",
          "no",
          "no",
          "no",
          "no",
          "no",
          "no",
          "no",
          "no",
          "no",
          "no",
          "no",
          "no",
          "no",
          "no",
          "no",
          "no",
          "no",
          "no",
          "no",
          "no",
          "no",
          "no",
          "no",
          "no",
          "no",
          "no",
          "no",
          "no",
          "no",
          "no",
          "no",
          "no",
          "no",
          "no",
          "no",
          "no",
          "no",
          "no",
          "no",
          "no",
          "no",
          "no",
          "no",
          "no",
          "no",
          "no",
          "no",
          "no",
          "no",
          "no",
          "no",
          "no",
          "no",
          "no",
          "no",
          "no",
          "no",
          "no",
          "no",
          "no",
          "no",
          "no",
          "no",
          "no",
          "no",
          "no",
          "no",
          "no",
          "no",
          "no",
          "no",
          "no",
          "no",
          "no",
          "no",
          "no",
          "no",
          "no",
          "no",
          "no",
          "no",
          "no",
          "no",
          "no",
          "no",
          "no",
          "no",
          "no",
          "no",
          "no",
          "no",
          "no",
          "no",
          "no",
          "no",
          "no",
          "no",
          "no",
          "no",
          "no",
          "no",
          "no",
          "no",
          "no",
          "no",
          "no",
          "no",
          "no",
          "no",
          "no",
          "no",
          "no",
          "no",
          "no",
          "no",
          "no",
          "no",
          "no",
          "no",
          "no",
          "no",
          "no",
          "no",
          "no",
          "no",
          "no",
          "no",
          "no",
          "no",
          "no",
          "no",
          "no",
          "no",
          "no",
          "no",
          "no",
          "no",
          "no",
          "no",
          "no",
          "no",
          "no",
          "no",
          "no",
          "no",
          "no",
          "no",
          "no",
          "no",
          "no",
          "no",
          "no",
          "no",
          "no",
          "no",
          "no",
          "no",
          "no",
          "no",
          "no",
          "no",
          "no",
          "no",
          "no",
          "no",
          "no",
          "no",
          "no",
          "no",
          "no",
          "no",
          "no",
          "no",
          "no",
          "no",
          "no",
          "no",
          "no",
          "no",
          "no",
          "no",
          "no",
          "no",
          "no",
          "no",
          "no",
          "no",
          "no",
          "no",
          "no",
          "no",
          "no",
          "no",
          "no",
          "no",
          "no",
          "no",
          "no",
          "no",
          "no",
          "no",
          "no",
          "no",
          "no",
          "no",
          "no",
          "no",
          "no",
          "no",
          "no",
          "no",
          "no",
          "no",
          "no",
          "no",
          "no",
          "no",
          "no",
          "no",
          "no",
          "no",
          "no",
          "no",
          "no",
          "no",
          "no",
          "no",
          "no",
          "no",
          "no",
          "no",
          "no",
          "no",
          "no",
          "no",
          "no",
          "no",
          "no",
          "no",
          "no",
          "no",
          "no",
          "no",
          "no",
          "no",
          "no",
          "no",
          "no",
          "no",
          "no",
          "no",
          "no",
          "no",
          "no",
          "no",
          "no",
          "no",
          "no",
          "no",
          "no",
          "no",
          "no",
          "no",
          "no",
          "no",
          "no",
          "no",
          "no",
          "no",
          "no",
          "no",
          "no",
          "no",
          "no",
          "no",
          "no",
          "no",
          "no",
          "no"
         ],
         "xaxis": "x",
         "y": [
          1725.5523,
          4449.462,
          21984.47061,
          3866.8552,
          3756.6216,
          8240.5896,
          7281.5056,
          6406.4107,
          28923.13692,
          2721.3208,
          1826.843,
          11090.7178,
          1837.237,
          10797.3362,
          2395.17155,
          10602.385,
          13228.84695,
          4149.736,
          1137.011,
          6203.90175,
          14001.1338,
          14451.83515,
          12268.63225,
          2775.19215,
          2198.18985,
          4687.797,
          13770.0979,
          1625.43375,
          15612.19335,
          2302.3,
          3046.062,
          4949.7587,
          6272.4772,
          6313.759,
          6079.6715,
          20630.28351,
          3393.35635,
          3556.9223,
          12629.8967,
          2211.13075,
          3579.8287,
          8059.6791,
          13607.36875,
          5989.52365,
          8606.2174,
          4504.6624,
          30166.61817,
          4133.64165,
          1743.214,
          14235.072,
          6389.37785,
          5920.1041,
          6799.458,
          11741.726,
          11946.6259,
          7726.854,
          11356.6609,
          3947.4131,
          1532.4697,
          2755.02095,
          6571.02435,
          4441.21315,
          7935.29115,
          11033.6617,
          11073.176,
          8026.6666,
          11082.5772,
          2026.9741,
          10942.13205,
          5729.0053,
          3766.8838,
          12105.32,
          10226.2842,
          6186.127,
          3645.0894,
          21344.8467,
          5003.853,
          2331.519,
          3877.30425,
          2867.1196,
          10825.2537,
          11881.358,
          4646.759,
          2404.7338,
          11488.31695,
          30259.99556,
          11381.3254,
          8601.3293,
          6686.4313,
          7740.337,
          1705.6245,
          2257.47525,
          10115.00885,
          3385.39915,
          9634.538,
          6082.405,
          12815.44495,
          13616.3586,
          11163.568,
          1632.56445,
          2457.21115,
          2155.6815,
          1261.442,
          2045.68525,
          27322.73386,
          2166.732,
          27375.90478,
          3490.5491,
          18157.876,
          5138.2567,
          9877.6077,
          10959.6947,
          1842.519,
          5125.2157,
          7789.635,
          6334.34355,
          7077.1894,
          6948.7008,
          19749.38338,
          10450.552,
          5152.134,
          5028.1466,
          10407.08585,
          4830.63,
          6128.79745,
          2719.27975,
          4827.90495,
          13405.3903,
          8116.68,
          1694.7964,
          5246.047,
          2855.43755,
          6455.86265,
          10436.096,
          8823.279,
          8538.28845,
          11735.87905,
          1631.8212,
          4005.4225,
          7419.4779,
          7731.4271,
          3981.9768,
          5325.651,
          6775.961,
          4922.9159,
          12557.6053,
          4883.866,
          2137.6536,
          12044.342,
          1137.4697,
          1639.5631,
          5649.715,
          8516.829,
          9644.2525,
          14901.5167,
          2130.6759,
          8871.1517,
          13012.20865,
          7147.105,
          4337.7352,
          11743.299,
          13880.949,
          6610.1097,
          1980.07,
          8162.71625,
          3537.703,
          5002.7827,
          8520.026,
          7371.772,
          10355.641,
          2483.736,
          3392.9768,
          25081.76784,
          5012.471,
          10564.8845,
          5253.524,
          11987.1682,
          2689.4954,
          24227.33724,
          7358.17565,
          9225.2564,
          7443.64305,
          14001.2867,
          1727.785,
          12333.828,
          6710.1919,
          1615.7667,
          4463.2051,
          7152.6714,
          5354.07465,
          35160.13457,
          7196.867,
          24476.47851,
          12648.7034,
          1986.9334,
          1832.094,
          4040.55825,
          4260.744,
          13047.33235,
          5400.9805,
          11520.09985,
          11837.16,
          20462.99766,
          14590.63205,
          7441.053,
          9282.4806,
          1719.4363,
          7265.7025,
          9617.66245,
          2523.1695,
          9715.841,
          2803.69785,
          2150.469,
          12928.7911,
          9855.1314,
          4237.12655,
          11879.10405,
          9625.92,
          7742.1098,
          9432.9253,
          14256.1928,
          25992.82104,
          3172.018,
          20277.80751,
          2156.7518,
          3906.127,
          1704.5681,
          9249.4952,
          6746.7425,
          12265.5069,
          4349.462,
          12646.207,
          19442.3535,
          20177.67113,
          4151.0287,
          11944.59435,
          7749.1564,
          8444.474,
          1737.376,
          8124.4084,
          9722.7695,
          8835.26495,
          10435.06525,
          7421.19455,
          4667.60765,
          4894.7533,
          24671.66334,
          11566.30055,
          2866.091,
          6600.20595,
          3561.8889,
          9144.565,
          13429.0354,
          11658.37915,
          19144.57652,
          13822.803,
          12142.5786,
          13937.6665,
          8232.6388,
          18955.22017,
          13352.0998,
          13217.0945,
          13981.85035,
          10977.2063,
          6184.2994,
          4889.9995,
          8334.45755,
          5478.0368,
          1635.73365,
          11830.6072,
          8932.084,
          3554.203,
          12404.8791,
          14133.03775,
          24603.04837,
          8944.1151,
          9620.3307,
          1837.2819,
          1607.5101,
          10043.249,
          4751.07,
          2597.779,
          3180.5101,
          9778.3472,
          13430.265,
          8017.06115,
          8116.26885,
          3481.868,
          13415.0381,
          12029.2867,
          7639.41745,
          1391.5287,
          16455.70785,
          27000.98473,
          20781.48892,
          5846.9176,
          8302.53565,
          1261.859,
          11856.4115,
          30284.64294,
          3176.8159,
          4618.0799,
          10736.87075,
          2138.0707,
          8964.06055,
          9290.1395,
          9411.005,
          7526.70645,
          8522.003,
          16586.49771,
          14988.432,
          1631.6683,
          9264.797,
          8083.9198,
          14692.66935,
          10269.46,
          3260.199,
          11396.9002,
          4185.0979,
          8539.671,
          6652.5288,
          4074.4537,
          1621.3402,
          5080.096,
          2134.9015,
          7345.7266,
          9140.951,
          14418.2804,
          2727.3951,
          8968.33,
          9788.8659,
          6555.07035,
          7323.734819,
          3167.45585,
          18804.7524,
          23082.95533,
          4906.40965,
          5969.723,
          12638.195,
          4243.59005,
          13919.8229,
          2254.7967,
          5926.846,
          12592.5345,
          2897.3235,
          4738.2682,
          1149.3959,
          28287.89766,
          7345.084,
          12730.9996,
          11454.0215,
          5910.944,
          4762.329,
          7512.267,
          4032.2407,
          1969.614,
          1769.53165,
          4686.3887,
          21797.0004,
          11881.9696,
          11840.77505,
          10601.412,
          7682.67,
          10381.4787,
          15230.32405,
          11165.41765,
          1632.03625,
          13224.693,
          12643.3778,
          23288.9284,
          2201.0971,
          2497.0383,
          2203.47185,
          1744.465,
          20878.78443,
          2534.39375,
          1534.3045,
          1824.2854,
          15555.18875,
          9304.7019,
          1622.1885,
          9880.068,
          9563.029,
          4347.02335,
          12475.3513,
          1253.936,
          10461.9794,
          1748.774,
          24513.09126,
          2196.4732,
          12574.049,
          1967.0227,
          4931.647,
          8027.968,
          8211.1002,
          13470.86,
          6837.3687,
          5974.3847,
          6796.86325,
          2643.2685,
          3077.0955,
          3044.2133,
          11455.28,
          11763.0009,
          2498.4144,
          9361.3268,
          1256.299,
          11362.755,
          27724.28875,
          8413.46305,
          5240.765,
          3857.75925,
          25656.57526,
          3994.1778,
          9866.30485,
          5397.6167,
          11482.63485,
          24059.68019,
          9861.025,
          8342.90875,
          1708.0014,
          14043.4767,
          12925.886,
          19214.70553,
          13831.1152,
          6067.12675,
          5972.378,
          8825.086,
          8233.0975,
          27346.04207,
          6196.448,
          3056.3881,
          13887.204,
          10231.4999,
          3268.84665,
          11538.421,
          3213.62205,
          13390.559,
          3972.9247,
          12957.118,
          11187.6567,
          17878.90068,
          3847.674,
          8334.5896,
          3935.1799,
          1646.4297,
          9193.8385,
          10923.9332,
          2494.022,
          9058.7303,
          2801.2588,
          2128.43105,
          6373.55735,
          7256.7231,
          11552.904,
          3761.292,
          2219.4451,
          4753.6368,
          31620.00106,
          13224.05705,
          12222.8983,
          1664.9996,
          9724.53,
          3206.49135,
          12913.9924,
          1639.5631,
          6356.2707,
          17626.23951,
          1242.816,
          4779.6023,
          3861.20965,
          13635.6379,
          5976.8311,
          11842.442,
          8428.0693,
          2566.4707,
          5709.1644,
          8823.98575,
          7640.3092,
          5594.8455,
          7441.501,
          33471.97189,
          1633.0444,
          9174.13565,
          11070.535,
          16085.1275,
          9283.562,
          3558.62025,
          4435.0942,
          8547.6913,
          6571.544,
          2207.69745,
          6753.038,
          1880.07,
          11658.11505,
          10713.644,
          3659.346,
          9182.17,
          12129.61415,
          3736.4647,
          6748.5912,
          11326.71487,
          11365.952,
          10085.846,
          1977.815,
          3366.6697,
          7173.35995,
          9391.346,
          14410.9321,
          2709.1119,
          24915.04626,
          12949.1554,
          6666.243,
          13143.86485,
          4466.6214,
          18806.14547,
          10141.1362,
          6123.5688,
          8252.2843,
          1712.227,
          12430.95335,
          9800.8882,
          10579.711,
          8280.6227,
          8527.532,
          12244.531,
          3410.324,
          4058.71245,
          26392.26029,
          14394.39815,
          6435.6237,
          22192.43711,
          5148.5526,
          1136.3994,
          8703.456,
          6500.2359,
          4837.5823,
          3943.5954,
          4399.731,
          6185.3208,
          7222.78625,
          12485.8009,
          12363.547,
          10156.7832,
          2585.269,
          1242.26,
          9863.4718,
          4766.022,
          11244.3769,
          7729.64575,
          5438.7491,
          26236.57997,
          2104.1134,
          8068.185,
          2362.22905,
          2352.96845,
          3577.999,
          3201.24515,
          29186.48236,
          10976.24575,
          3500.6123,
          2020.5523,
          9541.69555,
          9504.3103,
          5385.3379,
          8930.93455,
          5375.038,
          10264.4421,
          6113.23105,
          5469.0066,
          1727.54,
          10107.2206,
          8310.83915,
          1984.4533,
          2457.502,
          12146.971,
          9566.9909,
          13112.6048,
          10848.1343,
          12231.6136,
          9875.6804,
          11264.541,
          12979.358,
          1263.249,
          10106.13425,
          6664.68595,
          2217.6012,
          6781.3542,
          10065.413,
          4234.927,
          9447.25035,
          14007.222,
          9583.8933,
          3484.331,
          8604.48365,
          3757.8448,
          8827.2099,
          9910.35985,
          11737.84884,
          1627.28245,
          8556.907,
          3062.50825,
          1906.35825,
          14210.53595,
          11833.7823,
          17128.42608,
          5031.26955,
          7985.815,
          5428.7277,
          3925.7582,
          2416.955,
          3070.8087,
          9095.06825,
          11842.62375,
          8062.764,
          7050.642,
          14319.031,
          6933.24225,
          27941.28758,
          11150.78,
          12797.20962,
          7261.741,
          10560.4917,
          6986.697,
          7448.40395,
          5934.3798,
          9869.8102,
          1146.7966,
          9386.1613,
          4350.5144,
          6414.178,
          12741.16745,
          1917.3184,
          5209.57885,
          13457.9608,
          5662.225,
          1252.407,
          2731.9122,
          7209.4918,
          4266.1658,
          4719.52405,
          11848.141,
          7046.7222,
          14313.8463,
          2103.08,
          1815.8759,
          7731.85785,
          28476.73499,
          2136.88225,
          1131.5066,
          3309.7926,
          9414.92,
          6360.9936,
          11013.7119,
          4428.88785,
          5584.3057,
          1877.9294,
          2842.76075,
          3597.596,
          7445.918,
          2680.9493,
          1621.8827,
          8219.2039,
          12523.6048,
          16069.08475,
          6117.4945,
          13393.756,
          5266.3656,
          4719.73655,
          11743.9341,
          5377.4578,
          7160.3303,
          4402.233,
          11657.7189,
          6402.29135,
          12622.1795,
          1526.312,
          12323.936,
          10072.05505,
          9872.701,
          2438.0552,
          2974.126,
          10601.63225,
          14119.62,
          11729.6795,
          1875.344,
          18218.16139,
          10965.446,
          7151.092,
          12269.68865,
          5458.04645,
          8782.469,
          6600.361,
          1141.4451,
          11576.13,
          13129.60345,
          4391.652,
          8457.818,
          3392.3652,
          5966.8874,
          6849.026,
          8891.1395,
          2690.1138,
          26140.3603,
          6653.7886,
          6282.235,
          6311.952,
          3443.064,
          2789.0574,
          2585.85065,
          4877.98105,
          5272.1758,
          1682.597,
          11945.1327,
          7243.8136,
          10422.91665,
          13555.0049,
          13063.883,
          2221.56445,
          1634.5734,
          2117.33885,
          8688.85885,
          4661.28635,
          8125.7845,
          12644.589,
          4564.19145,
          4846.92015,
          7633.7206,
          15170.069,
          2639.0429,
          14382.70905,
          7626.993,
          5257.50795,
          2473.3341,
          13041.921,
          5245.2269,
          13451.122,
          13462.52,
          5488.262,
          4320.41085,
          6250.435,
          25333.33284,
          2913.569,
          12032.326,
          13470.8044,
          6289.7549,
          2927.0647,
          6238.298,
          10096.97,
          7348.142,
          4673.3922,
          12233.828,
          32108.66282,
          8965.79575,
          2304.0022,
          9487.6442,
          1121.8739,
          9549.5651,
          2217.46915,
          1628.4709,
          12982.8747,
          11674.13,
          7160.094,
          6358.77645,
          11534.87265,
          4527.18295,
          3875.7341,
          12609.88702,
          28468.91901,
          2730.10785,
          3353.284,
          14474.675,
          9500.57305,
          26467.09737,
          4746.344,
          7518.02535,
          3279.86855,
          8596.8278,
          10702.6424,
          4992.3764,
          2527.81865,
          1759.338,
          2322.6218,
          7804.1605,
          2902.9065,
          9704.66805,
          4889.0368,
          25517.11363,
          4500.33925,
          16796.41194,
          4915.05985,
          7624.63,
          8410.04685,
          28340.18885,
          4518.82625,
          3378.91,
          7144.86265,
          10118.424,
          5484.4673,
          7986.47525,
          7418.522,
          13887.9685,
          6551.7501,
          5267.81815,
          1972.95,
          21232.18226,
          8627.5411,
          4433.3877,
          4438.2634,
          23241.47453,
          9957.7216,
          8269.044,
          36580.28216,
          8765.249,
          5383.536,
          12124.9924,
          2709.24395,
          3987.926,
          12495.29085,
          26018.95052,
          8798.593,
          1711.0268,
          8569.8618,
          2020.177,
          21595.38229,
          9850.432,
          6877.9801,
          4137.5227,
          12950.0712,
          12094.478,
          2250.8352,
          22493.65964,
          1704.70015,
          3161.454,
          11394.06555,
          7325.0482,
          3594.17085,
          8023.13545,
          14394.5579,
          9288.0267,
          3353.4703,
          10594.50155,
          8277.523,
          17929.30337,
          2480.9791,
          4462.7218,
          1981.5819,
          11554.2236,
          6548.19505,
          5708.867,
          7045.499,
          8978.1851,
          5757.41345,
          14349.8544,
          10928.849,
          13974.45555,
          1909.52745,
          12096.6512,
          13204.28565,
          4562.8421,
          8551.347,
          2102.2647,
          15161.5344,
          11884.04858,
          4454.40265,
          5855.9025,
          4076.497,
          15019.76005,
          10796.35025,
          11353.2276,
          9748.9106,
          10577.087,
          11286.5387,
          3591.48,
          11299.343,
          4561.1885,
          1674.6323,
          23045.56616,
          3227.1211,
          11253.421,
          3471.4096,
          11363.2832,
          20420.60465,
          10338.9316,
          8988.15875,
          10493.9458,
          2904.088,
          8605.3615,
          11512.405,
          5312.16985,
          2396.0959,
          10807.4863,
          9222.4026,
          5693.4305,
          8347.1643,
          18903.49141,
          14254.6082,
          10214.636,
          5836.5204,
          14358.36437,
          1728.897,
          8582.3023,
          3693.428,
          20709.02034,
          9991.03765,
          19673.33573,
          11085.5868,
          7623.518,
          3176.2877,
          3704.3545,
          9048.0273,
          7954.517,
          27117.99378,
          6338.0756,
          9630.397,
          11289.10925,
          2261.5688,
          10791.96,
          5979.731,
          2203.73595,
          12235.8392,
          5630.45785,
          11015.1747,
          7228.21565,
          14426.07385,
          2459.7201,
          3989.841,
          7727.2532,
          5124.1887,
          18963.17192,
          2200.83085,
          7153.5539,
          5227.98875,
          10982.5013,
          4529.477,
          4670.64,
          6112.35295,
          11093.6229,
          6457.8434,
          4433.9159,
          2154.361,
          6496.886,
          2899.48935,
          7650.77375,
          2850.68375,
          2632.992,
          9447.3824,
          8603.8234,
          13844.7972,
          13126.67745,
          5327.40025,
          13725.47184,
          13019.16105,
          8671.19125,
          4134.08245,
          18838.70366,
          5699.8375,
          6393.60345,
          4934.705,
          6198.7518,
          8733.22925,
          2055.3249,
          9964.06,
          5116.5004,
          36910.60803,
          12347.172,
          5373.36425,
          23563.01618,
          1702.4553,
          10806.839,
          3956.07145,
          12890.05765,
          5415.6612,
          4058.1161,
          7537.1639,
          4718.20355,
          6593.5083,
          8442.667,
          6858.4796,
          4795.6568,
          6640.54485,
          7162.0122,
          10594.2257,
          11938.25595,
          12479.70895,
          11345.519,
          8515.7587,
          2699.56835,
          14449.8544,
          12224.35085,
          6985.50695,
          3238.4357,
          4296.2712,
          3171.6149,
          1135.9407,
          5615.369,
          9101.798,
          6059.173,
          1633.9618,
          1241.565,
          15828.82173,
          4415.1588,
          6474.013,
          11436.73815,
          11305.93455,
          30063.58055,
          10197.7722,
          4544.2348,
          3277.161,
          6770.1925,
          7337.748,
          10370.91255,
          10704.47,
          1880.487,
          8615.3,
          3292.52985,
          3021.80915,
          14478.33015,
          4747.0529,
          10959.33,
          2741.948,
          4357.04365,
          4189.1131,
          8283.6807,
          1720.3537,
          8534.6718,
          3732.6251,
          5472.449,
          7147.4728,
          7133.9025,
          1515.3449,
          9301.89355,
          11931.12525,
          1964.78,
          1708.92575,
          4340.4409,
          5261.46945,
          2710.82855,
          3208.787,
          2464.6188,
          6875.961,
          6940.90985,
          4571.41305,
          4536.259,
          11272.33139,
          1731.677,
          1163.4627,
          19496.71917,
          7201.70085,
          5425.02335,
          12981.3457,
          4239.89265,
          13143.33665,
          7050.0213,
          9377.9047,
          22395.74424,
          10325.206,
          12629.1656,
          10795.93733,
          11411.685,
          10600.5483,
          2205.9808,
          1629.8335,
          2007.945
         ],
         "yaxis": "y"
        }
       ],
       "layout": {
        "height": 500,
        "legend": {
         "title": {
          "text": "smoker"
         },
         "tracegroupgap": 0
        },
        "template": {
         "data": {
          "bar": [
           {
            "error_x": {
             "color": "#2a3f5f"
            },
            "error_y": {
             "color": "#2a3f5f"
            },
            "marker": {
             "line": {
              "color": "#E5ECF6",
              "width": 0.5
             },
             "pattern": {
              "fillmode": "overlay",
              "size": 10,
              "solidity": 0.2
             }
            },
            "type": "bar"
           }
          ],
          "barpolar": [
           {
            "marker": {
             "line": {
              "color": "#E5ECF6",
              "width": 0.5
             },
             "pattern": {
              "fillmode": "overlay",
              "size": 10,
              "solidity": 0.2
             }
            },
            "type": "barpolar"
           }
          ],
          "carpet": [
           {
            "aaxis": {
             "endlinecolor": "#2a3f5f",
             "gridcolor": "white",
             "linecolor": "white",
             "minorgridcolor": "white",
             "startlinecolor": "#2a3f5f"
            },
            "baxis": {
             "endlinecolor": "#2a3f5f",
             "gridcolor": "white",
             "linecolor": "white",
             "minorgridcolor": "white",
             "startlinecolor": "#2a3f5f"
            },
            "type": "carpet"
           }
          ],
          "choropleth": [
           {
            "colorbar": {
             "outlinewidth": 0,
             "ticks": ""
            },
            "type": "choropleth"
           }
          ],
          "contour": [
           {
            "colorbar": {
             "outlinewidth": 0,
             "ticks": ""
            },
            "colorscale": [
             [
              0,
              "#0d0887"
             ],
             [
              0.1111111111111111,
              "#46039f"
             ],
             [
              0.2222222222222222,
              "#7201a8"
             ],
             [
              0.3333333333333333,
              "#9c179e"
             ],
             [
              0.4444444444444444,
              "#bd3786"
             ],
             [
              0.5555555555555556,
              "#d8576b"
             ],
             [
              0.6666666666666666,
              "#ed7953"
             ],
             [
              0.7777777777777778,
              "#fb9f3a"
             ],
             [
              0.8888888888888888,
              "#fdca26"
             ],
             [
              1,
              "#f0f921"
             ]
            ],
            "type": "contour"
           }
          ],
          "contourcarpet": [
           {
            "colorbar": {
             "outlinewidth": 0,
             "ticks": ""
            },
            "type": "contourcarpet"
           }
          ],
          "heatmap": [
           {
            "colorbar": {
             "outlinewidth": 0,
             "ticks": ""
            },
            "colorscale": [
             [
              0,
              "#0d0887"
             ],
             [
              0.1111111111111111,
              "#46039f"
             ],
             [
              0.2222222222222222,
              "#7201a8"
             ],
             [
              0.3333333333333333,
              "#9c179e"
             ],
             [
              0.4444444444444444,
              "#bd3786"
             ],
             [
              0.5555555555555556,
              "#d8576b"
             ],
             [
              0.6666666666666666,
              "#ed7953"
             ],
             [
              0.7777777777777778,
              "#fb9f3a"
             ],
             [
              0.8888888888888888,
              "#fdca26"
             ],
             [
              1,
              "#f0f921"
             ]
            ],
            "type": "heatmap"
           }
          ],
          "heatmapgl": [
           {
            "colorbar": {
             "outlinewidth": 0,
             "ticks": ""
            },
            "colorscale": [
             [
              0,
              "#0d0887"
             ],
             [
              0.1111111111111111,
              "#46039f"
             ],
             [
              0.2222222222222222,
              "#7201a8"
             ],
             [
              0.3333333333333333,
              "#9c179e"
             ],
             [
              0.4444444444444444,
              "#bd3786"
             ],
             [
              0.5555555555555556,
              "#d8576b"
             ],
             [
              0.6666666666666666,
              "#ed7953"
             ],
             [
              0.7777777777777778,
              "#fb9f3a"
             ],
             [
              0.8888888888888888,
              "#fdca26"
             ],
             [
              1,
              "#f0f921"
             ]
            ],
            "type": "heatmapgl"
           }
          ],
          "histogram": [
           {
            "marker": {
             "pattern": {
              "fillmode": "overlay",
              "size": 10,
              "solidity": 0.2
             }
            },
            "type": "histogram"
           }
          ],
          "histogram2d": [
           {
            "colorbar": {
             "outlinewidth": 0,
             "ticks": ""
            },
            "colorscale": [
             [
              0,
              "#0d0887"
             ],
             [
              0.1111111111111111,
              "#46039f"
             ],
             [
              0.2222222222222222,
              "#7201a8"
             ],
             [
              0.3333333333333333,
              "#9c179e"
             ],
             [
              0.4444444444444444,
              "#bd3786"
             ],
             [
              0.5555555555555556,
              "#d8576b"
             ],
             [
              0.6666666666666666,
              "#ed7953"
             ],
             [
              0.7777777777777778,
              "#fb9f3a"
             ],
             [
              0.8888888888888888,
              "#fdca26"
             ],
             [
              1,
              "#f0f921"
             ]
            ],
            "type": "histogram2d"
           }
          ],
          "histogram2dcontour": [
           {
            "colorbar": {
             "outlinewidth": 0,
             "ticks": ""
            },
            "colorscale": [
             [
              0,
              "#0d0887"
             ],
             [
              0.1111111111111111,
              "#46039f"
             ],
             [
              0.2222222222222222,
              "#7201a8"
             ],
             [
              0.3333333333333333,
              "#9c179e"
             ],
             [
              0.4444444444444444,
              "#bd3786"
             ],
             [
              0.5555555555555556,
              "#d8576b"
             ],
             [
              0.6666666666666666,
              "#ed7953"
             ],
             [
              0.7777777777777778,
              "#fb9f3a"
             ],
             [
              0.8888888888888888,
              "#fdca26"
             ],
             [
              1,
              "#f0f921"
             ]
            ],
            "type": "histogram2dcontour"
           }
          ],
          "mesh3d": [
           {
            "colorbar": {
             "outlinewidth": 0,
             "ticks": ""
            },
            "type": "mesh3d"
           }
          ],
          "parcoords": [
           {
            "line": {
             "colorbar": {
              "outlinewidth": 0,
              "ticks": ""
             }
            },
            "type": "parcoords"
           }
          ],
          "pie": [
           {
            "automargin": true,
            "type": "pie"
           }
          ],
          "scatter": [
           {
            "fillpattern": {
             "fillmode": "overlay",
             "size": 10,
             "solidity": 0.2
            },
            "type": "scatter"
           }
          ],
          "scatter3d": [
           {
            "line": {
             "colorbar": {
              "outlinewidth": 0,
              "ticks": ""
             }
            },
            "marker": {
             "colorbar": {
              "outlinewidth": 0,
              "ticks": ""
             }
            },
            "type": "scatter3d"
           }
          ],
          "scattercarpet": [
           {
            "marker": {
             "colorbar": {
              "outlinewidth": 0,
              "ticks": ""
             }
            },
            "type": "scattercarpet"
           }
          ],
          "scattergeo": [
           {
            "marker": {
             "colorbar": {
              "outlinewidth": 0,
              "ticks": ""
             }
            },
            "type": "scattergeo"
           }
          ],
          "scattergl": [
           {
            "marker": {
             "colorbar": {
              "outlinewidth": 0,
              "ticks": ""
             }
            },
            "type": "scattergl"
           }
          ],
          "scattermapbox": [
           {
            "marker": {
             "colorbar": {
              "outlinewidth": 0,
              "ticks": ""
             }
            },
            "type": "scattermapbox"
           }
          ],
          "scatterpolar": [
           {
            "marker": {
             "colorbar": {
              "outlinewidth": 0,
              "ticks": ""
             }
            },
            "type": "scatterpolar"
           }
          ],
          "scatterpolargl": [
           {
            "marker": {
             "colorbar": {
              "outlinewidth": 0,
              "ticks": ""
             }
            },
            "type": "scatterpolargl"
           }
          ],
          "scatterternary": [
           {
            "marker": {
             "colorbar": {
              "outlinewidth": 0,
              "ticks": ""
             }
            },
            "type": "scatterternary"
           }
          ],
          "surface": [
           {
            "colorbar": {
             "outlinewidth": 0,
             "ticks": ""
            },
            "colorscale": [
             [
              0,
              "#0d0887"
             ],
             [
              0.1111111111111111,
              "#46039f"
             ],
             [
              0.2222222222222222,
              "#7201a8"
             ],
             [
              0.3333333333333333,
              "#9c179e"
             ],
             [
              0.4444444444444444,
              "#bd3786"
             ],
             [
              0.5555555555555556,
              "#d8576b"
             ],
             [
              0.6666666666666666,
              "#ed7953"
             ],
             [
              0.7777777777777778,
              "#fb9f3a"
             ],
             [
              0.8888888888888888,
              "#fdca26"
             ],
             [
              1,
              "#f0f921"
             ]
            ],
            "type": "surface"
           }
          ],
          "table": [
           {
            "cells": {
             "fill": {
              "color": "#EBF0F8"
             },
             "line": {
              "color": "white"
             }
            },
            "header": {
             "fill": {
              "color": "#C8D4E3"
             },
             "line": {
              "color": "white"
             }
            },
            "type": "table"
           }
          ]
         },
         "layout": {
          "annotationdefaults": {
           "arrowcolor": "#2a3f5f",
           "arrowhead": 0,
           "arrowwidth": 1
          },
          "autotypenumbers": "strict",
          "coloraxis": {
           "colorbar": {
            "outlinewidth": 0,
            "ticks": ""
           }
          },
          "colorscale": {
           "diverging": [
            [
             0,
             "#8e0152"
            ],
            [
             0.1,
             "#c51b7d"
            ],
            [
             0.2,
             "#de77ae"
            ],
            [
             0.3,
             "#f1b6da"
            ],
            [
             0.4,
             "#fde0ef"
            ],
            [
             0.5,
             "#f7f7f7"
            ],
            [
             0.6,
             "#e6f5d0"
            ],
            [
             0.7,
             "#b8e186"
            ],
            [
             0.8,
             "#7fbc41"
            ],
            [
             0.9,
             "#4d9221"
            ],
            [
             1,
             "#276419"
            ]
           ],
           "sequential": [
            [
             0,
             "#0d0887"
            ],
            [
             0.1111111111111111,
             "#46039f"
            ],
            [
             0.2222222222222222,
             "#7201a8"
            ],
            [
             0.3333333333333333,
             "#9c179e"
            ],
            [
             0.4444444444444444,
             "#bd3786"
            ],
            [
             0.5555555555555556,
             "#d8576b"
            ],
            [
             0.6666666666666666,
             "#ed7953"
            ],
            [
             0.7777777777777778,
             "#fb9f3a"
            ],
            [
             0.8888888888888888,
             "#fdca26"
            ],
            [
             1,
             "#f0f921"
            ]
           ],
           "sequentialminus": [
            [
             0,
             "#0d0887"
            ],
            [
             0.1111111111111111,
             "#46039f"
            ],
            [
             0.2222222222222222,
             "#7201a8"
            ],
            [
             0.3333333333333333,
             "#9c179e"
            ],
            [
             0.4444444444444444,
             "#bd3786"
            ],
            [
             0.5555555555555556,
             "#d8576b"
            ],
            [
             0.6666666666666666,
             "#ed7953"
            ],
            [
             0.7777777777777778,
             "#fb9f3a"
            ],
            [
             0.8888888888888888,
             "#fdca26"
            ],
            [
             1,
             "#f0f921"
            ]
           ]
          },
          "colorway": [
           "#636efa",
           "#EF553B",
           "#00cc96",
           "#ab63fa",
           "#FFA15A",
           "#19d3f3",
           "#FF6692",
           "#B6E880",
           "#FF97FF",
           "#FECB52"
          ],
          "font": {
           "color": "#2a3f5f"
          },
          "geo": {
           "bgcolor": "white",
           "lakecolor": "white",
           "landcolor": "#E5ECF6",
           "showlakes": true,
           "showland": true,
           "subunitcolor": "white"
          },
          "hoverlabel": {
           "align": "left"
          },
          "hovermode": "closest",
          "mapbox": {
           "style": "light"
          },
          "paper_bgcolor": "white",
          "plot_bgcolor": "#E5ECF6",
          "polar": {
           "angularaxis": {
            "gridcolor": "white",
            "linecolor": "white",
            "ticks": ""
           },
           "bgcolor": "#E5ECF6",
           "radialaxis": {
            "gridcolor": "white",
            "linecolor": "white",
            "ticks": ""
           }
          },
          "scene": {
           "xaxis": {
            "backgroundcolor": "#E5ECF6",
            "gridcolor": "white",
            "gridwidth": 2,
            "linecolor": "white",
            "showbackground": true,
            "ticks": "",
            "zerolinecolor": "white"
           },
           "yaxis": {
            "backgroundcolor": "#E5ECF6",
            "gridcolor": "white",
            "gridwidth": 2,
            "linecolor": "white",
            "showbackground": true,
            "ticks": "",
            "zerolinecolor": "white"
           },
           "zaxis": {
            "backgroundcolor": "#E5ECF6",
            "gridcolor": "white",
            "gridwidth": 2,
            "linecolor": "white",
            "showbackground": true,
            "ticks": "",
            "zerolinecolor": "white"
           }
          },
          "shapedefaults": {
           "line": {
            "color": "#2a3f5f"
           }
          },
          "ternary": {
           "aaxis": {
            "gridcolor": "white",
            "linecolor": "white",
            "ticks": ""
           },
           "baxis": {
            "gridcolor": "white",
            "linecolor": "white",
            "ticks": ""
           },
           "bgcolor": "#E5ECF6",
           "caxis": {
            "gridcolor": "white",
            "linecolor": "white",
            "ticks": ""
           }
          },
          "title": {
           "x": 0.05
          },
          "xaxis": {
           "automargin": true,
           "gridcolor": "white",
           "linecolor": "white",
           "ticks": "",
           "title": {
            "standoff": 15
           },
           "zerolinecolor": "white",
           "zerolinewidth": 2
          },
          "yaxis": {
           "automargin": true,
           "gridcolor": "white",
           "linecolor": "white",
           "ticks": "",
           "title": {
            "standoff": 15
           },
           "zerolinecolor": "white",
           "zerolinewidth": 2
          }
         }
        },
        "title": {
         "text": "Swarm Plot: Charges by Smokers"
        },
        "width": 800,
        "xaxis": {
         "anchor": "y",
         "categoryarray": [
          "yes",
          "no"
         ],
         "categoryorder": "array",
         "domain": [
          0,
          1
         ],
         "title": {
          "text": "Smokers"
         }
        },
        "yaxis": {
         "anchor": "x",
         "domain": [
          0,
          1
         ],
         "title": {
          "text": "Charges"
         }
        }
       }
      },
      "text/html": [
       "<div>                            <div id=\"c436f6df-bd04-4fe1-8658-27c16f9c84b0\" class=\"plotly-graph-div\" style=\"height:500px; width:800px;\"></div>            <script type=\"text/javascript\">                require([\"plotly\"], function(Plotly) {                    window.PLOTLYENV=window.PLOTLYENV || {};                                    if (document.getElementById(\"c436f6df-bd04-4fe1-8658-27c16f9c84b0\")) {                    Plotly.newPlot(                        \"c436f6df-bd04-4fe1-8658-27c16f9c84b0\",                        [{\"customdata\":[[\"Overweight\",19,0],[\"Overweight\",62,0],[\"Obese III\",27,0],[\"Obese II\",30,0],[\"Obese I\",34,1],[\"Obese II\",31,2],[\"Obese II\",22,0],[\"Obese II\",28,1],[\"Obese II\",35,1],[\"Obese II\",60,0],[\"Obese II\",36,1],[\"Overweight\",48,1],[\"Obese I\",36,0],[\"Obese II\",58,2],[\"Obese I\",18,2],[\"Normal range\",53,1],[\"Normal range\",20,0],[\"Normal range\",28,3],[\"Normal range\",27,0],[\"Obese II\",22,1],[\"Obese I\",37,2],[\"Normal range\",45,2],[\"Obese I\",57,0],[\"Overweight\",59,3],[\"Obese I\",64,2],[\"Normal range\",56,0],[\"Normal range\",38,0],[\"Overweight\",61,3],[\"Overweight\",20,1],[\"Obese II\",63,0],[\"Overweight\",29,1],[\"Obese I\",44,1],[\"Overweight\",19,0],[\"Underweight I\",32,2],[\"Overweight\",34,2],[\"Overweight\",30,3],[\"Obese I\",46,3],[\"Normal range\",42,0],[\"Normal range\",48,0],[\"Overweight\",18,0],[\"Obese II\",30,0],[\"Overweight\",42,0],[\"Obese II\",18,0],[\"Obese II\",63,0],[\"Obese III\",36,3],[\"Obese II\",27,0],[\"Overweight\",35,2],[\"Obese I\",19,0],[\"Normal range\",42,0],[\"Normal range\",40,2],[\"Overweight\",19,0],[\"Obese II\",23,2],[\"Overweight\",63,0],[\"Underweight I\",18,2],[\"Obese I\",63,2],[\"Obese I\",54,2],[\"Obese I\",50,0],[\"Obese I\",56,0],[\"Obese I\",19,0],[\"Overweight\",20,1],[\"Normal range\",52,3],[\"Obese II\",19,0],[\"Obese III\",46,3],[\"Normal range\",40,1],[\"Obese I\",50,2],[\"Overweight\",40,1],[\"Obese III\",54,3],[\"Obese II\",59,1],[\"Obese III\",25,2],[\"Overweight\",19,0],[\"Overweight\",47,1],[\"Obese I\",31,3],[\"Normal range\",53,3],[\"Obese II\",43,3],[\"Obese I\",27,0],[\"Obese I\",34,0],[\"Obese II\",45,2],[\"Obese I\",64,1],[\"Obese II\",61,1],[\"Overweight\",52,0],[\"Obese I\",50,1],[\"Normal range\",19,0],[\"Obese I\",26,2],[\"Overweight\",23,0],[\"Normal range\",39,3],[\"Obese III\",24,0],[\"Underweight I\",27,2],[\"Obese I\",55,0],[\"Normal range\",44,1],[\"Underweight I\",26,2],[\"Normal range\",36,2],[\"Overweight\",63,0],[\"Obese I\",64,0],[\"Obese II\",61,0],[\"Obese I\",40,1],[\"Obese I\",33,0],[\"Overweight\",56,1],[\"Obese I\",42,0],[\"Overweight\",30,1],[\"Overweight\",54,3],[\"Overweight\",61,1],[\"Overweight\",24,0],[\"Obese II\",44,0],[\"Overweight\",21,4],[\"Obese I\",29,0],[\"Normal range\",51,1],[\"Obese I\",19,0],[\"Overweight\",39,1],[\"Overweight\",42,1],[\"Obese III\",57,1],[\"Obese III\",54,0],[\"Overweight\",49,2],[\"Obese III\",43,0],[\"Obese I\",35,3],[\"Obese III\",48,2],[\"Obese II\",31,1],[\"Obese I\",34,1],[\"Normal range\",21,1],[\"Overweight\",19,0],[\"Normal range\",59,0],[\"Obese II\",30,2],[\"Obese II\",47,1],[\"Overweight\",49,2],[\"Obese I\",19,0],[\"Obese I\",37,4],[\"Obese I\",18,0],[\"Obese II\",44,0],[\"Overweight\",39,0],[\"Overweight\",42,3],[\"Overweight\",52,2],[\"Normal range\",64,0],[\"Obese II\",43,2],[\"Obese I\",40,2],[\"Obese I\",62,0],[\"Obese III\",44,2],[\"Obese I\",60,3],[\"Obese II\",39,2],[\"Obese I\",27,1],[\"Obese II\",41,1],[\"Obese II\",51,0],[\"Obese II\",30,3],[\"Normal range\",29,1],[\"Normal range\",35,3],[\"Obese II\",37,0],[\"Obese I\",23,3],[\"Obese II\",29,2],[\"Overweight\",27,0],[\"Obese I\",53,0],[\"Overweight\",37,0],[\"Overweight\",47,0],[\"Obese II\",18,0],[\"Overweight\",33,1],[\"Overweight\",19,0],[\"Normal range\",30,3],[\"Overweight\",50,1],[\"Normal range\",53,0],[\"Overweight\",27,0],[\"Normal range\",33,0],[\"Obese III\",18,0],[\"Overweight\",47,1],[\"Obese II\",33,0],[\"Obese I\",56,2],[\"Overweight\",36,1],[\"Obese I\",41,3],[\"Obese I\",23,2],[\"Overweight\",57,0],[\"Obese I\",60,0],[\"Obese I\",37,0],[\"Obese II\",46,0],[\"Normal range\",49,3],[\"Obese I\",48,0],[\"Normal range\",25,0],[\"Obese III\",37,2],[\"Obese II\",51,3],[\"Overweight\",32,1],[\"Overweight\",57,0],[\"Overweight\",64,0],[\"Obese II\",47,2],[\"Normal range\",43,2],[\"Obese III\",60,0],[\"Normal range\",32,0],[\"Obese I\",18,0],[\"Overweight\",43,0],[\"Normal range\",45,0],[\"Obese I\",37,1],[\"Overweight\",25,3],[\"Obese III\",51,2],[\"Obese I\",44,2],[\"Overweight\",34,1],[\"Obese I\",54,1],[\"Obese I\",43,1],[\"Normal range\",51,2],[\"Normal range\",29,0],[\"Overweight\",31,3],[\"Normal range\",24,0],[\"Normal range\",27,3],[\"Normal range\",30,2],[\"Obese I\",24,0],[\"Overweight\",47,3],[\"Normal range\",43,2],[\"Obese I\",22,3],[\"Obese II\",47,1],[\"Overweight\",19,1],[\"Normal range\",46,1],[\"Obese II\",55,0],[\"Normal range\",18,0],[\"Obese II\",22,2],[\"Obese I\",45,1],[\"Overweight\",35,0],[\"Obese I\",20,0],[\"Normal range\",43,2],[\"Obese III\",22,1],[\"Obese I\",49,0],[\"Overweight\",47,3],[\"Obese III\",59,1],[\"Obese II\",37,1],[\"Obese I\",28,0],[\"Underweight I\",39,5],[\"Obese II\",47,0],[\"Obese I\",22,0],[\"Obese I\",51,2],[\"Normal range\",33,2],[\"Obese II\",38,3],[\"Overweight\",48,3],[\"Obese I\",25,2],[\"Obese II\",33,1],[\"Obese I\",23,0],[\"Obese II\",53,3],[\"Obese III\",23,1],[\"Obese I\",19,0],[\"Obese I\",60,0],[\"Obese I\",43,3],[\"Obese III\",19,0],[\"Overweight\",18,1],[\"Overweight\",43,2],[\"Normal range\",52,1],[\"Overweight\",31,0],[\"Overweight\",23,1],[\"Obese II\",20,3],[\"Overweight\",43,1],[\"Obese I\",19,0],[\"Overweight\",18,3],[\"Obese I\",36,2],[\"Overweight\",37,1],[\"Obese I\",46,1],[\"Normal range\",20,0],[\"Obese I\",52,3],[\"Normal range\",20,0],[\"Obese III\",52,2],[\"Obese II\",64,2],[\"Obese I\",32,1],[\"Overweight\",24,0],[\"Overweight\",20,0],[\"Normal range\",64,0],[\"Obese I\",24,0],[\"Overweight\",26,0],[\"Overweight\",39,1],[\"Overweight\",47,2],[\"Normal range\",18,0],[\"Obese II\",61,1],[\"Obese II\",20,2],[\"Obese I\",19,0],[\"Obese I\",45,0],[\"Obese I\",62,3],[\"Overweight\",43,0],[\"Normal range\",42,2],[\"Normal range\",29,0],[\"Overweight\",32,4],[\"Obese I\",25,0],[\"Obese I\",19,2],[\"Normal range\",30,3],[\"Overweight\",62,0],[\"Obese III\",42,2],[\"Overweight\",61,0]],\"hovertemplate\":\"smoker=%{x}\\u003cbr\\u003echarges=%{y}\\u003cbr\\u003ebmi_classes=%{customdata[0]}\\u003cbr\\u003eage=%{customdata[1]}\\u003cbr\\u003echildren=%{customdata[2]}\\u003cextra\\u003e\\u003c\\u002fextra\\u003e\",\"legendgroup\":\"yes\",\"marker\":{\"color\":\"#636efa\",\"symbol\":\"circle\"},\"mode\":\"markers\",\"name\":\"yes\",\"showlegend\":true,\"x\":[\"yes\",\"yes\",\"yes\",\"yes\",\"yes\",\"yes\",\"yes\",\"yes\",\"yes\",\"yes\",\"yes\",\"yes\",\"yes\",\"yes\",\"yes\",\"yes\",\"yes\",\"yes\",\"yes\",\"yes\",\"yes\",\"yes\",\"yes\",\"yes\",\"yes\",\"yes\",\"yes\",\"yes\",\"yes\",\"yes\",\"yes\",\"yes\",\"yes\",\"yes\",\"yes\",\"yes\",\"yes\",\"yes\",\"yes\",\"yes\",\"yes\",\"yes\",\"yes\",\"yes\",\"yes\",\"yes\",\"yes\",\"yes\",\"yes\",\"yes\",\"yes\",\"yes\",\"yes\",\"yes\",\"yes\",\"yes\",\"yes\",\"yes\",\"yes\",\"yes\",\"yes\",\"yes\",\"yes\",\"yes\",\"yes\",\"yes\",\"yes\",\"yes\",\"yes\",\"yes\",\"yes\",\"yes\",\"yes\",\"yes\",\"yes\",\"yes\",\"yes\",\"yes\",\"yes\",\"yes\",\"yes\",\"yes\",\"yes\",\"yes\",\"yes\",\"yes\",\"yes\",\"yes\",\"yes\",\"yes\",\"yes\",\"yes\",\"yes\",\"yes\",\"yes\",\"yes\",\"yes\",\"yes\",\"yes\",\"yes\",\"yes\",\"yes\",\"yes\",\"yes\",\"yes\",\"yes\",\"yes\",\"yes\",\"yes\",\"yes\",\"yes\",\"yes\",\"yes\",\"yes\",\"yes\",\"yes\",\"yes\",\"yes\",\"yes\",\"yes\",\"yes\",\"yes\",\"yes\",\"yes\",\"yes\",\"yes\",\"yes\",\"yes\",\"yes\",\"yes\",\"yes\",\"yes\",\"yes\",\"yes\",\"yes\",\"yes\",\"yes\",\"yes\",\"yes\",\"yes\",\"yes\",\"yes\",\"yes\",\"yes\",\"yes\",\"yes\",\"yes\",\"yes\",\"yes\",\"yes\",\"yes\",\"yes\",\"yes\",\"yes\",\"yes\",\"yes\",\"yes\",\"yes\",\"yes\",\"yes\",\"yes\",\"yes\",\"yes\",\"yes\",\"yes\",\"yes\",\"yes\",\"yes\",\"yes\",\"yes\",\"yes\",\"yes\",\"yes\",\"yes\",\"yes\",\"yes\",\"yes\",\"yes\",\"yes\",\"yes\",\"yes\",\"yes\",\"yes\",\"yes\",\"yes\",\"yes\",\"yes\",\"yes\",\"yes\",\"yes\",\"yes\",\"yes\",\"yes\",\"yes\",\"yes\",\"yes\",\"yes\",\"yes\",\"yes\",\"yes\",\"yes\",\"yes\",\"yes\",\"yes\",\"yes\",\"yes\",\"yes\",\"yes\",\"yes\",\"yes\",\"yes\",\"yes\",\"yes\",\"yes\",\"yes\",\"yes\",\"yes\",\"yes\",\"yes\",\"yes\",\"yes\",\"yes\",\"yes\",\"yes\",\"yes\",\"yes\",\"yes\",\"yes\",\"yes\",\"yes\",\"yes\",\"yes\",\"yes\",\"yes\",\"yes\",\"yes\",\"yes\",\"yes\",\"yes\",\"yes\",\"yes\",\"yes\",\"yes\",\"yes\",\"yes\",\"yes\",\"yes\",\"yes\",\"yes\",\"yes\",\"yes\",\"yes\",\"yes\",\"yes\",\"yes\",\"yes\",\"yes\",\"yes\",\"yes\",\"yes\",\"yes\",\"yes\",\"yes\",\"yes\",\"yes\",\"yes\",\"yes\",\"yes\",\"yes\",\"yes\",\"yes\",\"yes\",\"yes\",\"yes\"],\"xaxis\":\"x\",\"y\":[16884.924,27808.7251,39611.7577,36837.467,37701.8768,38711.0,35585.576,51194.55914,39774.2763,48173.361,38709.176,23568.272,37742.5757,47496.49445,34303.1672,23244.7902,14711.7438,17663.1442,16577.7795,37165.1638,39836.519,21098.55405,43578.9394,30184.9367,47291.055,22412.6485,15820.699,30942.1918,17560.37975,47055.5321,19107.7796,39556.4945,17081.08,32734.1863,18972.495,20745.9891,40720.55105,19964.7463,21223.6758,15518.18025,36950.2567,21348.706,36149.4835,48824.45,43753.33705,37133.8982,20984.0936,34779.615,19515.5416,19444.2658,17352.6803,38511.6283,29523.1656,12829.4551,47305.305,44260.7499,41097.16175,43921.1837,33750.2918,17085.2676,24869.8368,36219.40545,46151.1245,17179.522,42856.838,22331.5668,48549.17835,47896.79135,42112.2356,16297.846,21978.6769,38746.3551,24873.3849,42124.5153,34838.873,35491.64,42760.5022,47928.03,48517.56315,24393.6224,41919.097,13844.506,36085.219,18033.9679,21659.9301,38126.2465,15006.57945,42303.69215,19594.80965,14455.64405,18608.262,28950.4692,46889.2612,46599.1084,39125.33225,37079.372,26109.32905,22144.032,19521.9682,25382.297,28868.6639,35147.52848,48885.13561,17942.106,36197.699,22218.1149,32548.3405,21082.16,38245.59327,48675.5177,63770.42801,23807.2406,45863.205,39983.42595,45702.02235,58571.07448,43943.8761,15359.1045,17468.9839,25678.77845,39241.442,42969.8527,23306.547,34439.8559,40182.246,34617.84065,42983.4585,20149.3229,32787.45859,24667.419,27037.9141,42560.4304,40003.33225,45710.20785,46200.9851,46130.5265,40103.89,34806.4677,40273.6455,44400.4064,40932.4295,16657.71745,19361.9988,40419.0191,36189.1017,44585.45587,18246.4955,43254.41795,19539.243,23065.4207,36307.7983,19040.876,17748.5062,18259.216,24520.264,21195.818,18310.742,17904.52705,38792.6856,23401.30575,55135.40209,43813.8661,20773.62775,39597.4072,36021.0112,27533.9129,45008.9555,37270.1512,42111.6647,24106.91255,40974.1649,15817.9857,46113.511,46255.1125,19719.6947,27218.43725,29330.98315,44202.6536,19798.05455,48673.5588,17496.306,33732.6867,21774.32215,35069.37452,39047.285,19933.458,47462.894,38998.546,20009.63365,41999.52,41034.2214,23967.38305,16138.76205,19199.944,14571.8908,16420.49455,17361.7661,34472.841,24915.22085,18767.7377,35595.5898,42211.1382,16450.8947,21677.28345,44423.803,13747.87235,37484.4493,39725.51805,20234.85475,33475.81715,21880.82,44501.3982,39727.614,25309.489,48970.2476,39871.7043,34672.1472,19023.26,41676.0811,33907.548,44641.1974,16776.30405,41949.2441,24180.9335,36124.5737,38282.7495,34166.273,46661.4424,40904.1995,36898.73308,52590.82939,40941.2854,39722.7462,17178.6824,22478.6,23887.6627,19350.3689,18328.2381,37465.34375,21771.3423,33307.5508,18223.4512,38415.474,20296.86345,41661.602,26125.67477,60021.39897,20167.33603,47269.854,49577.6624,37607.5277,18648.4217,16232.847,26926.5144,34254.05335,17043.3414,22462.04375,24535.69855,14283.4594,47403.88,38344.566,34828.654,62592.87309,46718.16325,37829.7242,21259.37795,16115.3045,21472.4788,33900.653,36397.576,18765.87545,28101.33305,43896.3763,29141.3603],\"yaxis\":\"y\",\"type\":\"scattergl\"},{\"customdata\":[[\"Obese I\",18,1],[\"Obese I\",28,3],[\"Normal range\",33,0],[\"Overweight\",32,0],[\"Overweight\",31,0],[\"Obese I\",46,1],[\"Overweight\",37,3],[\"Overweight\",37,2],[\"Overweight\",60,0],[\"Overweight\",25,0],[\"Obese I\",23,0],[\"Obese II\",56,0],[\"Normal range\",19,1],[\"Obese I\",52,1],[\"Normal range\",23,0],[\"Obese III\",56,0],[\"Obese II\",60,0],[\"Obese I\",30,1],[\"Obese I\",18,0],[\"Overweight\",37,2],[\"Overweight\",59,3],[\"Normal range\",63,0],[\"Obese I\",55,2],[\"Underweight I\",23,1],[\"Overweight\",18,0],[\"Overweight\",19,5],[\"Overweight\",63,0],[\"Normal range\",19,0],[\"Obese I\",62,3],[\"Normal range\",26,0],[\"Overweight\",24,0],[\"Obese II\",31,2],[\"Normal range\",41,1],[\"Obese I\",37,2],[\"Obese II\",38,1],[\"Obese II\",55,0],[\"Obese II\",18,2],[\"Obese I\",28,0],[\"Normal range\",60,0],[\"Obese II\",18,0],[\"Obese I\",21,2],[\"Overweight\",40,3],[\"Obese I\",58,2],[\"Obese II\",34,2],[\"Overweight\",43,3],[\"Obese I\",25,4],[\"Normal range\",64,1],[\"Overweight\",28,1],[\"Overweight\",19,0],[\"Obese II\",61,2],[\"Overweight\",40,1],[\"Obese II\",40,0],[\"Overweight\",31,5],[\"Overweight\",53,3],[\"Obese I\",58,1],[\"Overweight\",44,2],[\"Obese I\",57,0],[\"Overweight\",29,1],[\"Obese II\",21,0],[\"Obese II\",22,0],[\"Obese I\",41,0],[\"Overweight\",31,1],[\"Obese II\",45,0],[\"Obese III\",48,4],[\"Overweight\",56,0],[\"Overweight\",46,0],[\"Overweight\",55,0],[\"Obese II\",21,0],[\"Normal range\",53,1],[\"Obese I\",35,2],[\"Obese II\",28,1],[\"Obese I\",54,3],[\"Obese II\",55,0],[\"Obese I\",41,0],[\"Overweight\",30,0],[\"Obese I\",18,0],[\"Overweight\",34,1],[\"Overweight\",19,1],[\"Obese I\",26,2],[\"Overweight\",29,0],[\"Obese I\",54,1],[\"Overweight\",55,2],[\"Obese I\",37,0],[\"Obese II\",21,0],[\"Obese I\",52,3],[\"Overweight\",60,0],[\"Obese III\",58,0],[\"Overweight\",49,0],[\"Normal range\",37,2],[\"Obese II\",44,2],[\"Normal range\",18,0],[\"Overweight\",20,0],[\"Obese I\",47,3],[\"Overweight\",26,0],[\"Obese II\",52,0],[\"Obese I\",38,2],[\"Overweight\",59,0],[\"Normal range\",61,0],[\"Obese II\",53,2],[\"Overweight\",19,0],[\"Overweight\",20,0],[\"Overweight\",22,0],[\"Obese I\",19,0],[\"Overweight\",22,0],[\"Obese I\",54,3],[\"Obese II\",22,0],[\"Normal range\",34,2],[\"Obese I\",26,1],[\"Overweight\",29,2],[\"Obese II\",29,3],[\"Obese II\",51,1],[\"Obese II\",53,1],[\"Overweight\",19,1],[\"Normal range\",35,1],[\"Overweight\",48,0],[\"Obese II\",32,3],[\"Overweight\",40,1],[\"Obese II\",44,0],[\"Overweight\",50,3],[\"Obese II\",54,1],[\"Overweight\",32,2],[\"Overweight\",37,0],[\"Overweight\",47,4],[\"Obese II\",20,5],[\"Obese I\",32,3],[\"Obese I\",19,1],[\"Normal range\",27,3],[\"Obese III\",63,0],[\"Obese I\",49,0],[\"Underweight III\",18,0],[\"Obese I\",35,1],[\"Obese I\",24,0],[\"Overweight\",38,2],[\"Overweight\",54,1],[\"Overweight\",46,2],[\"Obese I\",41,3],[\"Overweight\",58,0],[\"Obese II\",18,0],[\"Normal range\",22,3],[\"Overweight\",44,0],[\"Obese I\",44,2],[\"Overweight\",26,2],[\"Obese I\",30,3],[\"Obese I\",41,1],[\"Obese I\",29,2],[\"Obese I\",61,0],[\"Overweight\",36,0],[\"Overweight\",25,0],[\"Overweight\",56,1],[\"Obese I\",18,0],[\"Obese I\",19,0],[\"Obese I\",39,0],[\"Overweight\",45,2],[\"Underweight I\",51,0],[\"Obese II\",64,0],[\"Obese I\",19,0],[\"Obese I\",48,1],[\"Normal range\",60,0],[\"Normal range\",46,0],[\"Overweight\",28,1],[\"Overweight\",59,0],[\"Obese I\",63,0],[\"Obese III\",40,1],[\"Obese I\",20,1],[\"Obese I\",40,4],[\"Overweight\",24,2],[\"Overweight\",34,1],[\"Obese I\",45,2],[\"Obese II\",41,2],[\"Overweight\",53,0],[\"Normal range\",27,0],[\"Overweight\",26,1],[\"Normal range\",24,0],[\"Obese I\",34,1],[\"Obese I\",53,0],[\"Obese I\",32,3],[\"Obese I\",55,3],[\"Obese II\",28,0],[\"Obese III\",58,0],[\"Obese I\",41,1],[\"Overweight\",47,2],[\"Obese II\",42,1],[\"Overweight\",59,3],[\"Underweight I\",19,0],[\"Overweight\",59,1],[\"Normal range\",39,2],[\"Overweight\",18,0],[\"Obese II\",31,2],[\"Obese II\",44,1],[\"Normal range\",33,1],[\"Overweight\",55,1],[\"Obese II\",40,3],[\"Obese I\",54,0],[\"Obese II\",60,0],[\"Obese II\",24,0],[\"Normal range\",19,1],[\"Overweight\",29,1],[\"Obese I\",27,3],[\"Overweight\",55,3],[\"Obese III\",38,0],[\"Normal range\",51,4],[\"Overweight\",58,0],[\"Obese II\",53,3],[\"Obese I\",59,3],[\"Obese I\",45,1],[\"Overweight\",49,1],[\"Overweight\",18,1],[\"Obese II\",41,2],[\"Overweight\",50,1],[\"Overweight\",25,0],[\"Overweight\",47,2],[\"Normal range\",19,2],[\"Normal range\",22,0],[\"Obese I\",59,2],[\"Normal range\",51,1],[\"Overweight\",30,1],[\"Obese I\",55,1],[\"Obese I\",52,0],[\"Overweight\",46,1],[\"Obese III\",46,2],[\"Overweight\",63,0],[\"Overweight\",52,3],[\"Obese I\",28,0],[\"Overweight\",29,1],[\"Overweight\",22,0],[\"Overweight\",25,3],[\"Normal range\",18,0],[\"Overweight\",48,1],[\"Overweight\",36,3],[\"Obese II\",56,2],[\"Obese I\",28,2],[\"Obese II\",57,2],[\"Obese I\",29,2],[\"Overweight\",28,2],[\"Obese I\",30,1],[\"Obese I\",58,0],[\"Obese I\",41,2],[\"Overweight\",50,0],[\"Normal range\",19,0],[\"Obese II\",49,0],[\"Obese I\",52,0],[\"Obese I\",50,0],[\"Obese I\",54,0],[\"Overweight\",44,0],[\"Obese II\",32,1],[\"Overweight\",34,1],[\"Overweight\",26,4],[\"Obese III\",57,0],[\"Overweight\",29,0],[\"Obese I\",40,1],[\"Normal range\",27,1],[\"Obese II\",52,0],[\"Obese I\",61,0],[\"Overweight\",56,0],[\"Obese II\",43,2],[\"Obese I\",64,0],[\"Overweight\",60,0],[\"Overweight\",62,1],[\"Overweight\",46,1],[\"Overweight\",24,0],[\"Obese I\",62,0],[\"Overweight\",60,0],[\"Obese II\",63,0],[\"Obese III\",49,4],[\"Overweight\",34,3],[\"Obese II\",33,2],[\"Obese I\",46,1],[\"Overweight\",36,1],[\"Overweight\",19,0],[\"Normal range\",57,0],[\"Overweight\",50,0],[\"Overweight\",30,0],[\"Obese II\",33,0],[\"Obese II\",18,0],[\"Overweight\",46,0],[\"Obese III\",46,3],[\"Overweight\",47,3],[\"Obese III\",23,0],[\"Normal range\",18,0],[\"Obese I\",48,2],[\"Obese I\",35,1],[\"Overweight\",21,1],[\"Normal range\",21,2],[\"Obese I\",49,1],[\"Obese I\",56,3],[\"Normal range\",42,2],[\"Obese I\",44,2],[\"Obese I\",18,3],[\"Normal range\",61,0],[\"Normal range\",57,0],[\"Obese I\",42,1],[\"Obese I\",20,0],[\"Obese I\",64,3],[\"Obese I\",62,1],[\"Obese I\",55,0],[\"Obese III\",35,2],[\"Normal range\",44,2],[\"Obese I\",19,0],[\"Obese II\",58,0],[\"Overweight\",50,2],[\"Normal range\",26,0],[\"Obese I\",24,3],[\"Obese II\",48,4],[\"Obese II\",19,0],[\"Obese I\",48,1],[\"Obese I\",49,1],[\"Obese I\",46,2],[\"Normal range\",46,0],[\"Obese I\",43,3],[\"Obese I\",21,0],[\"Overweight\",64,2],[\"Obese II\",18,0],[\"Normal range\",51,0],[\"Obese III\",47,1],[\"Obese I\",64,0],[\"Obese I\",49,3],[\"Normal range\",31,0],[\"Obese II\",52,2],[\"Normal range\",33,0],[\"Normal range\",47,1],[\"Normal range\",38,3],[\"Obese I\",32,1],[\"Underweight I\",19,0],[\"Normal range\",25,5],[\"Obese II\",19,0],[\"Obese II\",43,1],[\"Obese I\",52,0],[\"Obese II\",64,1],[\"Obese I\",25,0],[\"Obese I\",48,2],[\"Normal range\",45,5],[\"Overweight\",38,1],[\"Overweight\",18,0],[\"Underweight II\",21,1],[\"Obese I\",27,3],[\"Obese I\",19,0],[\"Normal range\",29,2],[\"Overweight\",42,0],[\"Obese I\",60,0],[\"Overweight\",31,1],[\"Obese I\",60,3],[\"Obese I\",22,0],[\"Overweight\",35,3],[\"Obese III\",52,5],[\"Overweight\",26,0],[\"Obese I\",31,1],[\"Obese III\",18,0],[\"Obese II\",59,1],[\"Obese I\",45,0],[\"Overweight\",60,0],[\"Overweight\",56,0],[\"Overweight\",40,0],[\"Obese II\",35,1],[\"Overweight\",39,4],[\"Normal range\",30,1],[\"Normal range\",24,0],[\"Overweight\",20,0],[\"Obese III\",32,2],[\"Obese II\",59,0],[\"Obese I\",55,2],[\"Obese I\",57,0],[\"Obese II\",56,0],[\"Obese I\",40,3],[\"Obese II\",49,3],[\"Obese II\",62,2],[\"Overweight\",56,0],[\"Overweight\",19,0],[\"Overweight\",60,1],[\"Obese I\",56,2],[\"Normal range\",28,1],[\"Normal range\",18,1],[\"Obese I\",27,0],[\"Obese I\",18,0],[\"Overweight\",19,0],[\"Obese I\",47,0],[\"Obese II\",25,0],[\"Obese II\",21,0],[\"Obese I\",23,0],[\"Obese III\",63,3],[\"Obese II\",49,2],[\"Obese I\",18,0],[\"Obese II\",51,1],[\"Obese I\",48,3],[\"Obese I\",31,0],[\"Normal range\",54,3],[\"Overweight\",19,0],[\"Obese I\",53,1],[\"Obese I\",19,0],[\"Overweight\",61,0],[\"Overweight\",18,0],[\"Obese III\",61,0],[\"Overweight\",20,0],[\"Normal range\",31,2],[\"Overweight\",45,2],[\"Normal range\",44,2],[\"Obese II\",62,0],[\"Overweight\",43,0],[\"Overweight\",38,1],[\"Obese I\",37,3],[\"Obese I\",22,1],[\"Normal range\",21,2],[\"Overweight\",24,0],[\"Overweight\",57,0],[\"Obese I\",56,1],[\"Obese I\",27,0],[\"Normal range\",51,0],[\"Obese I\",19,0],[\"Obese II\",58,0],[\"Obese II\",20,1],[\"Obese I\",45,2],[\"Obese I\",35,1],[\"Obese I\",31,0],[\"Overweight\",50,0],[\"Obese III\",32,0],[\"Obese I\",51,0],[\"Obese II\",38,0],[\"Obese I\",18,0],[\"Obese I\",19,2],[\"Overweight\",51,1],[\"Obese II\",46,1],[\"Overweight\",18,0],[\"Obese I\",62,0],[\"Overweight\",59,2],[\"Obese II\",37,0],[\"Obese III\",64,0],[\"Overweight\",38,1],[\"Obese II\",33,3],[\"Obese I\",46,2],[\"Overweight\",46,1],[\"Obese I\",53,0],[\"Obese II\",34,3],[\"Obese I\",20,2],[\"Obese II\",63,0],[\"Obese I\",54,0],[\"Obese II\",28,0],[\"Obese III\",54,2],[\"Overweight\",25,0],[\"Obese I\",63,0],[\"Overweight\",32,0],[\"Normal range\",62,0],[\"Obese I\",52,2],[\"Obese III\",25,0],[\"Normal range\",28,2],[\"Obese I\",46,1],[\"Obese I\",34,0],[\"Obese II\",19,0],[\"Normal range\",46,2],[\"Obese I\",54,0],[\"Obese I\",27,0],[\"Obese III\",50,1],[\"Obese I\",18,2],[\"Obese I\",19,0],[\"Obese III\",38,1],[\"Obese I\",41,2],[\"Obese I\",49,5],[\"Overweight\",31,0],[\"Obese II\",18,1],[\"Obese III\",30,2],[\"Obese II\",62,1],[\"Obese I\",57,2],[\"Overweight\",58,0],[\"Overweight\",22,0],[\"Obese I\",52,1],[\"Normal range\",25,0],[\"Overweight\",59,1],[\"Obese I\",19,0],[\"Obese III\",39,2],[\"Normal range\",32,1],[\"Normal range\",19,0],[\"Overweight\",33,1],[\"Normal range\",21,3],[\"Obese II\",61,0],[\"Obese I\",38,1],[\"Overweight\",58,0],[\"Normal range\",47,1],[\"Obese I\",20,2],[\"Obese III\",41,0],[\"Obese I\",46,1],[\"Overweight\",42,2],[\"Obese I\",34,1],[\"Obese I\",43,2],[\"Obese II\",52,2],[\"Obese II\",18,0],[\"Obese I\",51,0],[\"Overweight\",56,0],[\"Obese II\",64,3],[\"Obese I\",51,0],[\"Overweight\",27,0],[\"Overweight\",28,2],[\"Overweight\",47,1],[\"Obese I\",38,2],[\"Obese I\",18,0],[\"Normal range\",34,3],[\"Obese I\",20,0],[\"Overweight\",56,0],[\"Obese II\",55,0],[\"Obese I\",30,1],[\"Normal range\",49,1],[\"Overweight\",59,0],[\"Overweight\",29,0],[\"Overweight\",36,3],[\"Obese III\",33,1],[\"Obese II\",58,0],[\"Obese II\",53,1],[\"Overweight\",24,0],[\"Obese II\",29,0],[\"Normal range\",40,2],[\"Obese II\",51,1],[\"Obese II\",64,0],[\"Normal range\",19,1],[\"Obese II\",35,2],[\"Obese I\",56,4],[\"Obese III\",33,5],[\"Obese I\",61,0],[\"Obese I\",23,3],[\"Obese II\",43,2],[\"Obese I\",48,3],[\"Overweight\",39,1],[\"Normal range\",40,3],[\"Overweight\",18,0],[\"Obese I\",58,0],[\"Obese III\",49,2],[\"Obese II\",53,1],[\"Obese I\",48,0],[\"Obese II\",45,2],[\"Obese II\",59,0],[\"Obese III\",26,1],[\"Obese I\",27,2],[\"Obese II\",48,1],[\"Overweight\",57,4],[\"Obese III\",37,3],[\"Normal range\",57,1],[\"Obese I\",32,1],[\"Obese I\",18,0],[\"Overweight\",49,1],[\"Overweight\",40,1],[\"Obese I\",30,3],[\"Obese I\",29,0],[\"Overweight\",36,0],[\"Obese I\",41,0],[\"Normal range\",45,0],[\"Obese III\",55,3],[\"Obese II\",56,3],[\"Normal range\",49,2],[\"Underweight I\",21,1],[\"Normal range\",19,0],[\"Normal range\",53,0],[\"Normal range\",33,1],[\"Overweight\",53,2],[\"Overweight\",42,2],[\"Obese III\",40,0],[\"Normal range\",47,1],[\"Overweight\",21,0],[\"Obese II\",47,1],[\"Obese I\",20,1],[\"Normal range\",24,0],[\"Obese I\",27,1],[\"Obese III\",26,0],[\"Obese I\",53,2],[\"Obese I\",56,0],[\"Obese II\",23,2],[\"Obese I\",21,0],[\"Obese III\",50,0],[\"Obese III\",53,0],[\"Overweight\",34,1],[\"Overweight\",47,1],[\"Obese I\",33,2],[\"Overweight\",49,3],[\"Obese I\",31,3],[\"Overweight\",36,0],[\"Obese II\",18,1],[\"Normal range\",50,2],[\"Obese I\",43,2],[\"Obese III\",20,0],[\"Normal range\",24,0],[\"Overweight\",60,0],[\"Normal range\",49,1],[\"Normal range\",60,1],[\"Obese II\",51,2],[\"Obese I\",58,0],[\"Obese III\",51,0],[\"Obese II\",53,3],[\"Obese II\",62,0],[\"Obese II\",19,0],[\"Overweight\",50,1],[\"Overweight\",41,1],[\"Obese III\",18,0],[\"Obese II\",41,1],[\"Normal range\",53,1],[\"Obese I\",24,3],[\"Overweight\",48,1],[\"Obese I\",59,3],[\"Obese I\",49,1],[\"Normal range\",26,2],[\"Normal range\",45,2],[\"Overweight\",31,0],[\"Overweight\",50,0],[\"Obese I\",50,1],[\"Overweight\",34,2],[\"Normal range\",19,0],[\"Obese II\",47,1],[\"Obese I\",28,0],[\"Overweight\",21,0],[\"Obese II\",64,0],[\"Normal range\",58,0],[\"Obese I\",24,4],[\"Overweight\",31,2],[\"Normal range\",39,3],[\"Obese II\",30,3],[\"Obese I\",22,2],[\"Obese II\",23,1],[\"Overweight\",27,0],[\"Overweight\",45,2],[\"Obese I\",57,0],[\"Obese I\",47,1],[\"Overweight\",42,1],[\"Obese II\",64,0],[\"Normal range\",38,2],[\"Obese II\",61,3],[\"Overweight\",53,2],[\"Obese II\",44,0],[\"Obese I\",41,2],[\"Obese I\",51,3],[\"Obese I\",40,2],[\"Obese II\",45,0],[\"Obese I\",35,3],[\"Overweight\",53,0],[\"Obese III\",18,0],[\"Obese II\",51,1],[\"Overweight\",31,1],[\"Overweight\",35,3],[\"Obese II\",60,0],[\"Obese II\",21,0],[\"Normal range\",29,3],[\"Overweight\",62,0],[\"Obese III\",39,0],[\"Overweight\",19,0],[\"Normal range\",22,0],[\"Obese I\",39,2],[\"Obese III\",30,2],[\"Normal range\",30,1],[\"Obese I\",58,0],[\"Overweight\",42,1],[\"Obese II\",64,0],[\"Normal range\",21,1],[\"Overweight\",23,0],[\"Obese II\",45,0],[\"Obese III\",40,1],[\"Obese II\",19,0],[\"Obese I\",18,0],[\"Overweight\",25,1],[\"Obese I\",46,3],[\"Obese III\",33,3],[\"Normal range\",54,2],[\"Normal range\",28,2],[\"Obese I\",36,2],[\"Obese I\",20,0],[\"Normal range\",24,0],[\"Obese II\",23,3],[\"Obese I\",45,1],[\"Underweight I\",26,0],[\"Obese I\",18,0],[\"Overweight\",44,2],[\"Normal range\",60,0],[\"Obese I\",64,2],[\"Normal range\",39,1],[\"Obese I\",63,0],[\"Overweight\",36,0],[\"Normal range\",28,2],[\"Obese I\",58,0],[\"Obese I\",36,1],[\"Obese II\",42,2],[\"Obese I\",36,0],[\"Overweight\",56,0],[\"Normal range\",35,2],[\"Obese I\",59,0],[\"Obese I\",21,0],[\"Normal range\",59,0],[\"Obese I\",53,0],[\"Obese I\",51,1],[\"Obese III\",23,1],[\"Normal range\",27,0],[\"Obese I\",55,0],[\"Obese I\",61,2],[\"Normal range\",53,2],[\"Overweight\",20,0],[\"Obese I\",25,1],[\"Overweight\",57,0],[\"Overweight\",38,3],[\"Obese I\",55,2],[\"Normal range\",36,0],[\"Overweight\",51,0],[\"Overweight\",40,2],[\"Obese II\",18,0],[\"Obese III\",57,1],[\"Normal range\",61,0],[\"Normal range\",25,3],[\"Obese II\",50,0],[\"Overweight\",26,1],[\"Normal range\",42,0],[\"Obese I\",43,1],[\"Normal range\",44,3],[\"Overweight\",23,0],[\"Overweight\",49,1],[\"Obese I\",33,5],[\"Overweight\",41,1],[\"Overweight\",37,2],[\"Obese I\",22,3],[\"Overweight\",23,1],[\"Normal range\",21,0],[\"Overweight\",25,4],[\"Obese I\",36,0],[\"Obese II\",22,0],[\"Obese I\",57,1],[\"Overweight\",36,4],[\"Normal range\",54,0],[\"Obese I\",62,0],[\"Obese III\",61,0],[\"Overweight\",19,1],[\"Obese III\",18,0],[\"Normal range\",19,0],[\"Normal range\",49,0],[\"Overweight\",26,3],[\"Obese II\",49,0],[\"Obese II\",60,0],[\"Overweight\",26,2],[\"Obese I\",27,3],[\"Obese I\",44,1],[\"Obese II\",63,3],[\"Overweight\",22,1],[\"Overweight\",59,3],[\"Overweight\",44,1],[\"Normal range\",33,2],[\"Obese I\",24,0],[\"Overweight\",61,0],[\"Obese I\",35,1],[\"Overweight\",62,0],[\"Obese I\",62,0],[\"Obese I\",38,1],[\"Obese II\",34,0],[\"Normal range\",43,0],[\"Obese I\",50,2],[\"Normal range\",19,2],[\"Normal range\",57,1],[\"Obese II\",62,0],[\"Obese I\",41,1],[\"Obese III\",26,1],[\"Obese I\",39,1],[\"Overweight\",46,5],[\"Obese II\",45,0],[\"Obese II\",32,2],[\"Overweight\",59,0],[\"Overweight\",44,2],[\"Normal range\",39,5],[\"Overweight\",18,2],[\"Overweight\",53,0],[\"Normal range\",18,0],[\"Obese III\",50,1],[\"Obese III\",18,0],[\"Normal range\",19,0],[\"Obese II\",62,0],[\"Obese II\",56,1],[\"Obese II\",42,2],[\"Obese I\",42,0],[\"Underweight I\",57,0],[\"Overweight\",30,1],[\"Obese II\",31,1],[\"Overweight\",24,1],[\"Obese II\",48,1],[\"Obese II\",19,1],[\"Overweight\",29,0],[\"Obese II\",63,1],[\"Normal range\",46,3],[\"Obese II\",52,2],[\"Overweight\",35,1],[\"Overweight\",44,1],[\"Overweight\",21,2],[\"Obese I\",39,5],[\"Overweight\",50,3],[\"Normal range\",34,0],[\"Normal range\",22,0],[\"Obese III\",19,0],[\"Obese II\",26,0],[\"Obese III\",48,0],[\"Overweight\",26,1],[\"Obese II\",45,3],[\"Overweight\",36,0],[\"Overweight\",54,1],[\"Normal range\",34,0],[\"Obese I\",27,1],[\"Obese I\",20,5],[\"Overweight\",44,1],[\"Obese I\",43,3],[\"Overweight\",45,1],[\"Obese I\",34,0],[\"Normal range\",26,1],[\"Overweight\",38,2],[\"Obese I\",50,2],[\"Overweight\",38,1],[\"Normal range\",39,3],[\"Obese I\",39,3],[\"Obese II\",63,0],[\"Obese II\",33,3],[\"Overweight\",36,0],[\"Overweight\",24,0],[\"Overweight\",48,0],[\"Normal range\",47,1],[\"Obese I\",29,2],[\"Overweight\",28,2],[\"Normal range\",25,2],[\"Overweight\",51,1],[\"Normal range\",48,0],[\"Obese I\",61,4],[\"Obese I\",48,1],[\"Overweight\",38,0],[\"Overweight\",59,0],[\"Normal range\",19,1],[\"Obese I\",26,2],[\"Obese II\",54,3],[\"Obese I\",21,2],[\"Obese II\",51,0],[\"Normal range\",18,1],[\"Obese III\",47,1],[\"Obese I\",21,0],[\"Normal range\",23,0],[\"Obese I\",54,0],[\"Underweight I\",37,2],[\"Overweight\",30,0],[\"Obese II\",61,0],[\"Normal range\",54,3],[\"Overweight\",22,0],[\"Overweight\",19,2],[\"Normal range\",18,0],[\"Overweight\",28,0],[\"Obese II\",55,1],[\"Overweight\",43,0],[\"Normal range\",25,1],[\"Obese II\",44,1],[\"Overweight\",64,0],[\"Overweight\",49,1],[\"Normal range\",27,0],[\"Overweight\",55,0],[\"Overweight\",48,0],[\"Obese I\",45,0],[\"Obese II\",24,0],[\"Obese I\",32,1],[\"Obese I\",24,0],[\"Overweight\",57,1],[\"Overweight\",36,3],[\"Overweight\",29,4],[\"Overweight\",42,1],[\"Obese II\",48,2],[\"Obese III\",39,0],[\"Normal range\",63,1],[\"Obese I\",54,1],[\"Obese I\",63,0],[\"Obese I\",21,0],[\"Overweight\",54,2],[\"Underweight I\",60,0],[\"Overweight\",32,1],[\"Obese I\",47,1],[\"Overweight\",21,0],[\"Obese I\",63,3],[\"Normal range\",18,2],[\"Overweight\",32,1],[\"Normal range\",38,1],[\"Obese I\",32,1],[\"Obese I\",62,2],[\"Overweight\",55,0],[\"Obese I\",57,0],[\"Obese III\",52,1],[\"Normal range\",56,0],[\"Overweight\",55,0],[\"Obese I\",23,3],[\"Obese I\",50,4],[\"Obese I\",18,4],[\"Obese I\",22,0],[\"Obese I\",52,0],[\"Obese I\",25,1],[\"Overweight\",53,3],[\"Obese II\",29,1],[\"Obese II\",58,0],[\"Overweight\",37,0],[\"Obese I\",54,0],[\"Overweight\",49,0],[\"Overweight\",50,2],[\"Obese I\",26,1],[\"Normal range\",45,3],[\"Obese I\",54,1],[\"Overweight\",28,3],[\"Normal range\",23,0],[\"Obese I\",55,1],[\"Overweight\",41,5],[\"Normal range\",30,3],[\"Obese II\",46,2],[\"Obese I\",27,1],[\"Overweight\",63,0],[\"Overweight\",55,0],[\"Obese II\",35,2],[\"Obese I\",34,1],[\"Normal range\",19,0],[\"Normal range\",39,5],[\"Obese III\",27,2],[\"Obese III\",57,0],[\"Underweight I\",52,0],[\"Obese I\",28,0],[\"Overweight\",50,3],[\"Overweight\",44,1],[\"Normal range\",26,0],[\"Obese I\",33,0],[\"Obese II\",50,1],[\"Obese I\",41,3],[\"Normal range\",52,0],[\"Obese I\",39,2],[\"Obese I\",50,2],[\"Obese I\",52,3],[\"Obese I\",20,0],[\"Normal range\",55,1],[\"Obese I\",42,0],[\"Obese I\",18,0],[\"Obese II\",58,0],[\"Obese II\",35,1],[\"Overweight\",48,4],[\"Normal range\",36,3],[\"Normal range\",23,2],[\"Obese I\",20,0],[\"Obese III\",32,0],[\"Obese I\",43,1],[\"Obese III\",34,2],[\"Obese II\",30,1],[\"Overweight\",18,0],[\"Overweight\",41,1],[\"Overweight\",35,0],[\"Obese III\",57,0],[\"Normal range\",29,2],[\"Obese II\",32,2],[\"Obese I\",37,1],[\"Obese III\",56,0],[\"Overweight\",38,2],[\"Obese I\",29,2],[\"Overweight\",22,0],[\"Overweight\",40,1],[\"Obese I\",23,0],[\"Obese III\",42,1],[\"Overweight\",24,0],[\"Obese I\",25,0],[\"Overweight\",48,1],[\"Normal range\",45,2],[\"Obese I\",62,0],[\"Overweight\",23,0],[\"Obese I\",31,2],[\"Normal range\",41,1],[\"Obese I\",58,1],[\"Obese II\",48,0],[\"Normal range\",31,0],[\"Overweight\",19,3],[\"Obese I\",41,0],[\"Overweight\",40,1],[\"Overweight\",31,2],[\"Normal range\",37,2],[\"Obese III\",46,2],[\"Obese I\",22,0],[\"Obese I\",51,1],[\"Underweight I\",35,1],[\"Obese I\",59,2],[\"Obese II\",59,1],[\"Obese I\",36,1],[\"Obese I\",39,2],[\"Normal range\",18,0],[\"Obese I\",52,2],[\"Obese I\",27,1],[\"Obese II\",18,0],[\"Overweight\",40,0],[\"Obese II\",29,2],[\"Obese I\",38,3],[\"Normal range\",30,1],[\"Normal range\",40,2],[\"Overweight\",50,0],[\"Normal range\",41,1],[\"Obese II\",33,1],[\"Underweight II\",38,2],[\"Obese II\",42,2],[\"Obese I\",56,0],[\"Obese I\",58,0],[\"Normal range\",54,3],[\"Normal range\",58,0],[\"Overweight\",45,2],[\"Obese I\",26,0],[\"Normal range\",63,0],[\"Overweight\",58,0],[\"Normal range\",37,3],[\"Obese III\",25,1],[\"Normal range\",22,3],[\"Obese I\",28,0],[\"Obese I\",18,0],[\"Normal range\",28,5],[\"Overweight\",45,3],[\"Overweight\",33,4],[\"Obese II\",18,0],[\"Normal range\",19,0],[\"Overweight\",40,4],[\"Overweight\",34,0],[\"Obese II\",42,0],[\"Obese II\",51,3],[\"Overweight\",54,1],[\"Obese II\",55,3],[\"Normal range\",52,0],[\"Normal range\",32,0],[\"Obese II\",28,1],[\"Overweight\",41,1],[\"Overweight\",43,1],[\"Obese I\",49,2],[\"Obese I\",55,0],[\"Obese I\",20,0],[\"Overweight\",45,3],[\"Obese I\",26,1],[\"Obese I\",25,0],[\"Overweight\",43,5],[\"Overweight\",35,1],[\"Normal range\",57,0],[\"Obese I\",22,0],[\"Overweight\",32,0],[\"Overweight\",25,2],[\"Obese I\",48,0],[\"Obese I\",18,1],[\"Normal range\",47,0],[\"Underweight I\",28,0],[\"Overweight\",36,1],[\"Obese I\",44,1],[\"Normal range\",38,2],[\"Normal range\",21,0],[\"Overweight\",46,3],[\"Overweight\",58,0],[\"Normal range\",20,1],[\"Overweight\",18,0],[\"Overweight\",28,2],[\"Overweight\",33,2],[\"Overweight\",19,1],[\"Normal range\",25,1],[\"Overweight\",24,0],[\"Obese I\",41,2],[\"Overweight\",42,1],[\"Overweight\",33,0],[\"Obese III\",34,1],[\"Overweight\",18,1],[\"Normal range\",19,0],[\"Obese III\",18,0],[\"Obese II\",35,4],[\"Overweight\",39,2],[\"Obese I\",31,3],[\"Obese II\",62,0],[\"Overweight\",31,1],[\"Obese I\",61,0],[\"Obese I\",42,0],[\"Obese I\",51,1],[\"Normal range\",23,2],[\"Obese II\",52,2],[\"Overweight\",57,2],[\"Obese I\",23,0],[\"Obese III\",52,3],[\"Obese I\",50,3],[\"Obese I\",18,0],[\"Obese II\",18,0],[\"Overweight\",21,0]],\"hovertemplate\":\"smoker=%{x}\\u003cbr\\u003echarges=%{y}\\u003cbr\\u003ebmi_classes=%{customdata[0]}\\u003cbr\\u003eage=%{customdata[1]}\\u003cbr\\u003echildren=%{customdata[2]}\\u003cextra\\u003e\\u003c\\u002fextra\\u003e\",\"legendgroup\":\"no\",\"marker\":{\"color\":\"#EF553B\",\"symbol\":\"circle\"},\"mode\":\"markers\",\"name\":\"no\",\"showlegend\":true,\"x\":[\"no\",\"no\",\"no\",\"no\",\"no\",\"no\",\"no\",\"no\",\"no\",\"no\",\"no\",\"no\",\"no\",\"no\",\"no\",\"no\",\"no\",\"no\",\"no\",\"no\",\"no\",\"no\",\"no\",\"no\",\"no\",\"no\",\"no\",\"no\",\"no\",\"no\",\"no\",\"no\",\"no\",\"no\",\"no\",\"no\",\"no\",\"no\",\"no\",\"no\",\"no\",\"no\",\"no\",\"no\",\"no\",\"no\",\"no\",\"no\",\"no\",\"no\",\"no\",\"no\",\"no\",\"no\",\"no\",\"no\",\"no\",\"no\",\"no\",\"no\",\"no\",\"no\",\"no\",\"no\",\"no\",\"no\",\"no\",\"no\",\"no\",\"no\",\"no\",\"no\",\"no\",\"no\",\"no\",\"no\",\"no\",\"no\",\"no\",\"no\",\"no\",\"no\",\"no\",\"no\",\"no\",\"no\",\"no\",\"no\",\"no\",\"no\",\"no\",\"no\",\"no\",\"no\",\"no\",\"no\",\"no\",\"no\",\"no\",\"no\",\"no\",\"no\",\"no\",\"no\",\"no\",\"no\",\"no\",\"no\",\"no\",\"no\",\"no\",\"no\",\"no\",\"no\",\"no\",\"no\",\"no\",\"no\",\"no\",\"no\",\"no\",\"no\",\"no\",\"no\",\"no\",\"no\",\"no\",\"no\",\"no\",\"no\",\"no\",\"no\",\"no\",\"no\",\"no\",\"no\",\"no\",\"no\",\"no\",\"no\",\"no\",\"no\",\"no\",\"no\",\"no\",\"no\",\"no\",\"no\",\"no\",\"no\",\"no\",\"no\",\"no\",\"no\",\"no\",\"no\",\"no\",\"no\",\"no\",\"no\",\"no\",\"no\",\"no\",\"no\",\"no\",\"no\",\"no\",\"no\",\"no\",\"no\",\"no\",\"no\",\"no\",\"no\",\"no\",\"no\",\"no\",\"no\",\"no\",\"no\",\"no\",\"no\",\"no\",\"no\",\"no\",\"no\",\"no\",\"no\",\"no\",\"no\",\"no\",\"no\",\"no\",\"no\",\"no\",\"no\",\"no\",\"no\",\"no\",\"no\",\"no\",\"no\",\"no\",\"no\",\"no\",\"no\",\"no\",\"no\",\"no\",\"no\",\"no\",\"no\",\"no\",\"no\",\"no\",\"no\",\"no\",\"no\",\"no\",\"no\",\"no\",\"no\",\"no\",\"no\",\"no\",\"no\",\"no\",\"no\",\"no\",\"no\",\"no\",\"no\",\"no\",\"no\",\"no\",\"no\",\"no\",\"no\",\"no\",\"no\",\"no\",\"no\",\"no\",\"no\",\"no\",\"no\",\"no\",\"no\",\"no\",\"no\",\"no\",\"no\",\"no\",\"no\",\"no\",\"no\",\"no\",\"no\",\"no\",\"no\",\"no\",\"no\",\"no\",\"no\",\"no\",\"no\",\"no\",\"no\",\"no\",\"no\",\"no\",\"no\",\"no\",\"no\",\"no\",\"no\",\"no\",\"no\",\"no\",\"no\",\"no\",\"no\",\"no\",\"no\",\"no\",\"no\",\"no\",\"no\",\"no\",\"no\",\"no\",\"no\",\"no\",\"no\",\"no\",\"no\",\"no\",\"no\",\"no\",\"no\",\"no\",\"no\",\"no\",\"no\",\"no\",\"no\",\"no\",\"no\",\"no\",\"no\",\"no\",\"no\",\"no\",\"no\",\"no\",\"no\",\"no\",\"no\",\"no\",\"no\",\"no\",\"no\",\"no\",\"no\",\"no\",\"no\",\"no\",\"no\",\"no\",\"no\",\"no\",\"no\",\"no\",\"no\",\"no\",\"no\",\"no\",\"no\",\"no\",\"no\",\"no\",\"no\",\"no\",\"no\",\"no\",\"no\",\"no\",\"no\",\"no\",\"no\",\"no\",\"no\",\"no\",\"no\",\"no\",\"no\",\"no\",\"no\",\"no\",\"no\",\"no\",\"no\",\"no\",\"no\",\"no\",\"no\",\"no\",\"no\",\"no\",\"no\",\"no\",\"no\",\"no\",\"no\",\"no\",\"no\",\"no\",\"no\",\"no\",\"no\",\"no\",\"no\",\"no\",\"no\",\"no\",\"no\",\"no\",\"no\",\"no\",\"no\",\"no\",\"no\",\"no\",\"no\",\"no\",\"no\",\"no\",\"no\",\"no\",\"no\",\"no\",\"no\",\"no\",\"no\",\"no\",\"no\",\"no\",\"no\",\"no\",\"no\",\"no\",\"no\",\"no\",\"no\",\"no\",\"no\",\"no\",\"no\",\"no\",\"no\",\"no\",\"no\",\"no\",\"no\",\"no\",\"no\",\"no\",\"no\",\"no\",\"no\",\"no\",\"no\",\"no\",\"no\",\"no\",\"no\",\"no\",\"no\",\"no\",\"no\",\"no\",\"no\",\"no\",\"no\",\"no\",\"no\",\"no\",\"no\",\"no\",\"no\",\"no\",\"no\",\"no\",\"no\",\"no\",\"no\",\"no\",\"no\",\"no\",\"no\",\"no\",\"no\",\"no\",\"no\",\"no\",\"no\",\"no\",\"no\",\"no\",\"no\",\"no\",\"no\",\"no\",\"no\",\"no\",\"no\",\"no\",\"no\",\"no\",\"no\",\"no\",\"no\",\"no\",\"no\",\"no\",\"no\",\"no\",\"no\",\"no\",\"no\",\"no\",\"no\",\"no\",\"no\",\"no\",\"no\",\"no\",\"no\",\"no\",\"no\",\"no\",\"no\",\"no\",\"no\",\"no\",\"no\",\"no\",\"no\",\"no\",\"no\",\"no\",\"no\",\"no\",\"no\",\"no\",\"no\",\"no\",\"no\",\"no\",\"no\",\"no\",\"no\",\"no\",\"no\",\"no\",\"no\",\"no\",\"no\",\"no\",\"no\",\"no\",\"no\",\"no\",\"no\",\"no\",\"no\",\"no\",\"no\",\"no\",\"no\",\"no\",\"no\",\"no\",\"no\",\"no\",\"no\",\"no\",\"no\",\"no\",\"no\",\"no\",\"no\",\"no\",\"no\",\"no\",\"no\",\"no\",\"no\",\"no\",\"no\",\"no\",\"no\",\"no\",\"no\",\"no\",\"no\",\"no\",\"no\",\"no\",\"no\",\"no\",\"no\",\"no\",\"no\",\"no\",\"no\",\"no\",\"no\",\"no\",\"no\",\"no\",\"no\",\"no\",\"no\",\"no\",\"no\",\"no\",\"no\",\"no\",\"no\",\"no\",\"no\",\"no\",\"no\",\"no\",\"no\",\"no\",\"no\",\"no\",\"no\",\"no\",\"no\",\"no\",\"no\",\"no\",\"no\",\"no\",\"no\",\"no\",\"no\",\"no\",\"no\",\"no\",\"no\",\"no\",\"no\",\"no\",\"no\",\"no\",\"no\",\"no\",\"no\",\"no\",\"no\",\"no\",\"no\",\"no\",\"no\",\"no\",\"no\",\"no\",\"no\",\"no\",\"no\",\"no\",\"no\",\"no\",\"no\",\"no\",\"no\",\"no\",\"no\",\"no\",\"no\",\"no\",\"no\",\"no\",\"no\",\"no\",\"no\",\"no\",\"no\",\"no\",\"no\",\"no\",\"no\",\"no\",\"no\",\"no\",\"no\",\"no\",\"no\",\"no\",\"no\",\"no\",\"no\",\"no\",\"no\",\"no\",\"no\",\"no\",\"no\",\"no\",\"no\",\"no\",\"no\",\"no\",\"no\",\"no\",\"no\",\"no\",\"no\",\"no\",\"no\",\"no\",\"no\",\"no\",\"no\",\"no\",\"no\",\"no\",\"no\",\"no\",\"no\",\"no\",\"no\",\"no\",\"no\",\"no\",\"no\",\"no\",\"no\",\"no\",\"no\",\"no\",\"no\",\"no\",\"no\",\"no\",\"no\",\"no\",\"no\",\"no\",\"no\",\"no\",\"no\",\"no\",\"no\",\"no\",\"no\",\"no\",\"no\",\"no\",\"no\",\"no\",\"no\",\"no\",\"no\",\"no\",\"no\",\"no\",\"no\",\"no\",\"no\",\"no\",\"no\",\"no\",\"no\",\"no\",\"no\",\"no\",\"no\",\"no\",\"no\",\"no\",\"no\",\"no\",\"no\",\"no\",\"no\",\"no\",\"no\",\"no\",\"no\",\"no\",\"no\",\"no\",\"no\",\"no\",\"no\",\"no\",\"no\",\"no\",\"no\",\"no\",\"no\",\"no\",\"no\",\"no\",\"no\",\"no\",\"no\",\"no\",\"no\",\"no\",\"no\",\"no\",\"no\",\"no\",\"no\",\"no\",\"no\",\"no\",\"no\",\"no\",\"no\",\"no\",\"no\",\"no\",\"no\",\"no\",\"no\",\"no\",\"no\",\"no\",\"no\",\"no\",\"no\",\"no\",\"no\",\"no\",\"no\",\"no\",\"no\",\"no\",\"no\",\"no\",\"no\",\"no\",\"no\",\"no\",\"no\",\"no\",\"no\",\"no\",\"no\",\"no\",\"no\",\"no\",\"no\",\"no\",\"no\",\"no\",\"no\",\"no\",\"no\",\"no\",\"no\",\"no\",\"no\",\"no\",\"no\",\"no\",\"no\",\"no\",\"no\",\"no\",\"no\",\"no\",\"no\",\"no\",\"no\",\"no\",\"no\",\"no\",\"no\",\"no\",\"no\",\"no\",\"no\",\"no\",\"no\",\"no\",\"no\",\"no\",\"no\",\"no\",\"no\",\"no\",\"no\",\"no\",\"no\",\"no\",\"no\",\"no\",\"no\",\"no\",\"no\",\"no\",\"no\",\"no\",\"no\",\"no\",\"no\",\"no\",\"no\",\"no\",\"no\",\"no\",\"no\",\"no\",\"no\",\"no\",\"no\",\"no\",\"no\",\"no\",\"no\",\"no\",\"no\",\"no\",\"no\",\"no\",\"no\",\"no\",\"no\",\"no\",\"no\",\"no\",\"no\",\"no\",\"no\",\"no\",\"no\",\"no\",\"no\",\"no\",\"no\",\"no\",\"no\",\"no\",\"no\",\"no\",\"no\",\"no\",\"no\",\"no\",\"no\",\"no\",\"no\",\"no\",\"no\",\"no\",\"no\",\"no\",\"no\",\"no\",\"no\",\"no\",\"no\",\"no\",\"no\",\"no\",\"no\",\"no\",\"no\",\"no\",\"no\",\"no\",\"no\",\"no\",\"no\",\"no\",\"no\",\"no\",\"no\",\"no\",\"no\",\"no\",\"no\",\"no\",\"no\",\"no\",\"no\",\"no\",\"no\",\"no\",\"no\",\"no\",\"no\",\"no\",\"no\",\"no\",\"no\",\"no\",\"no\",\"no\",\"no\",\"no\",\"no\",\"no\",\"no\",\"no\",\"no\",\"no\",\"no\",\"no\",\"no\",\"no\",\"no\",\"no\",\"no\",\"no\",\"no\",\"no\",\"no\",\"no\",\"no\",\"no\",\"no\",\"no\",\"no\",\"no\",\"no\",\"no\",\"no\",\"no\",\"no\",\"no\",\"no\",\"no\",\"no\",\"no\",\"no\",\"no\",\"no\",\"no\",\"no\",\"no\",\"no\",\"no\",\"no\",\"no\",\"no\",\"no\",\"no\",\"no\",\"no\",\"no\",\"no\",\"no\",\"no\",\"no\",\"no\",\"no\",\"no\",\"no\",\"no\",\"no\",\"no\",\"no\",\"no\",\"no\",\"no\",\"no\",\"no\",\"no\",\"no\",\"no\",\"no\",\"no\",\"no\",\"no\",\"no\",\"no\",\"no\",\"no\",\"no\",\"no\",\"no\",\"no\",\"no\",\"no\",\"no\",\"no\",\"no\",\"no\",\"no\",\"no\",\"no\",\"no\",\"no\",\"no\",\"no\"],\"xaxis\":\"x\",\"y\":[1725.5523,4449.462,21984.47061,3866.8552,3756.6216,8240.5896,7281.5056,6406.4107,28923.13692,2721.3208,1826.843,11090.7178,1837.237,10797.3362,2395.17155,10602.385,13228.84695,4149.736,1137.011,6203.90175,14001.1338,14451.83515,12268.63225,2775.19215,2198.18985,4687.797,13770.0979,1625.43375,15612.19335,2302.3,3046.062,4949.7587,6272.4772,6313.759,6079.6715,20630.28351,3393.35635,3556.9223,12629.8967,2211.13075,3579.8287,8059.6791,13607.36875,5989.52365,8606.2174,4504.6624,30166.61817,4133.64165,1743.214,14235.072,6389.37785,5920.1041,6799.458,11741.726,11946.6259,7726.854,11356.6609,3947.4131,1532.4697,2755.02095,6571.02435,4441.21315,7935.29115,11033.6617,11073.176,8026.6666,11082.5772,2026.9741,10942.13205,5729.0053,3766.8838,12105.32,10226.2842,6186.127,3645.0894,21344.8467,5003.853,2331.519,3877.30425,2867.1196,10825.2537,11881.358,4646.759,2404.7338,11488.31695,30259.99556,11381.3254,8601.3293,6686.4313,7740.337,1705.6245,2257.47525,10115.00885,3385.39915,9634.538,6082.405,12815.44495,13616.3586,11163.568,1632.56445,2457.21115,2155.6815,1261.442,2045.68525,27322.73386,2166.732,27375.90478,3490.5491,18157.876,5138.2567,9877.6077,10959.6947,1842.519,5125.2157,7789.635,6334.34355,7077.1894,6948.7008,19749.38338,10450.552,5152.134,5028.1466,10407.08585,4830.63,6128.79745,2719.27975,4827.90495,13405.3903,8116.68,1694.7964,5246.047,2855.43755,6455.86265,10436.096,8823.279,8538.28845,11735.87905,1631.8212,4005.4225,7419.4779,7731.4271,3981.9768,5325.651,6775.961,4922.9159,12557.6053,4883.866,2137.6536,12044.342,1137.4697,1639.5631,5649.715,8516.829,9644.2525,14901.5167,2130.6759,8871.1517,13012.20865,7147.105,4337.7352,11743.299,13880.949,6610.1097,1980.07,8162.71625,3537.703,5002.7827,8520.026,7371.772,10355.641,2483.736,3392.9768,25081.76784,5012.471,10564.8845,5253.524,11987.1682,2689.4954,24227.33724,7358.17565,9225.2564,7443.64305,14001.2867,1727.785,12333.828,6710.1919,1615.7667,4463.2051,7152.6714,5354.07465,35160.13457,7196.867,24476.47851,12648.7034,1986.9334,1832.094,4040.55825,4260.744,13047.33235,5400.9805,11520.09985,11837.16,20462.99766,14590.63205,7441.053,9282.4806,1719.4363,7265.7025,9617.66245,2523.1695,9715.841,2803.69785,2150.469,12928.7911,9855.1314,4237.12655,11879.10405,9625.92,7742.1098,9432.9253,14256.1928,25992.82104,3172.018,20277.80751,2156.7518,3906.127,1704.5681,9249.4952,6746.7425,12265.5069,4349.462,12646.207,19442.3535,20177.67113,4151.0287,11944.59435,7749.1564,8444.474,1737.376,8124.4084,9722.7695,8835.26495,10435.06525,7421.19455,4667.60765,4894.7533,24671.66334,11566.30055,2866.091,6600.20595,3561.8889,9144.565,13429.0354,11658.37915,19144.57652,13822.803,12142.5786,13937.6665,8232.6388,18955.22017,13352.0998,13217.0945,13981.85035,10977.2063,6184.2994,4889.9995,8334.45755,5478.0368,1635.73365,11830.6072,8932.084,3554.203,12404.8791,14133.03775,24603.04837,8944.1151,9620.3307,1837.2819,1607.5101,10043.249,4751.07,2597.779,3180.5101,9778.3472,13430.265,8017.06115,8116.26885,3481.868,13415.0381,12029.2867,7639.41745,1391.5287,16455.70785,27000.98473,20781.48892,5846.9176,8302.53565,1261.859,11856.4115,30284.64294,3176.8159,4618.0799,10736.87075,2138.0707,8964.06055,9290.1395,9411.005,7526.70645,8522.003,16586.49771,14988.432,1631.6683,9264.797,8083.9198,14692.66935,10269.46,3260.199,11396.9002,4185.0979,8539.671,6652.5288,4074.4537,1621.3402,5080.096,2134.9015,7345.7266,9140.951,14418.2804,2727.3951,8968.33,9788.8659,6555.07035,7323.734819,3167.45585,18804.7524,23082.95533,4906.40965,5969.723,12638.195,4243.59005,13919.8229,2254.7967,5926.846,12592.5345,2897.3235,4738.2682,1149.3959,28287.89766,7345.084,12730.9996,11454.0215,5910.944,4762.329,7512.267,4032.2407,1969.614,1769.53165,4686.3887,21797.0004,11881.9696,11840.77505,10601.412,7682.67,10381.4787,15230.32405,11165.41765,1632.03625,13224.693,12643.3778,23288.9284,2201.0971,2497.0383,2203.47185,1744.465,20878.78443,2534.39375,1534.3045,1824.2854,15555.18875,9304.7019,1622.1885,9880.068,9563.029,4347.02335,12475.3513,1253.936,10461.9794,1748.774,24513.09126,2196.4732,12574.049,1967.0227,4931.647,8027.968,8211.1002,13470.86,6837.3687,5974.3847,6796.86325,2643.2685,3077.0955,3044.2133,11455.28,11763.0009,2498.4144,9361.3268,1256.299,11362.755,27724.28875,8413.46305,5240.765,3857.75925,25656.57526,3994.1778,9866.30485,5397.6167,11482.63485,24059.68019,9861.025,8342.90875,1708.0014,14043.4767,12925.886,19214.70553,13831.1152,6067.12675,5972.378,8825.086,8233.0975,27346.04207,6196.448,3056.3881,13887.204,10231.4999,3268.84665,11538.421,3213.62205,13390.559,3972.9247,12957.118,11187.6567,17878.90068,3847.674,8334.5896,3935.1799,1646.4297,9193.8385,10923.9332,2494.022,9058.7303,2801.2588,2128.43105,6373.55735,7256.7231,11552.904,3761.292,2219.4451,4753.6368,31620.00106,13224.05705,12222.8983,1664.9996,9724.53,3206.49135,12913.9924,1639.5631,6356.2707,17626.23951,1242.816,4779.6023,3861.20965,13635.6379,5976.8311,11842.442,8428.0693,2566.4707,5709.1644,8823.98575,7640.3092,5594.8455,7441.501,33471.97189,1633.0444,9174.13565,11070.535,16085.1275,9283.562,3558.62025,4435.0942,8547.6913,6571.544,2207.69745,6753.038,1880.07,11658.11505,10713.644,3659.346,9182.17,12129.61415,3736.4647,6748.5912,11326.71487,11365.952,10085.846,1977.815,3366.6697,7173.35995,9391.346,14410.9321,2709.1119,24915.04626,12949.1554,6666.243,13143.86485,4466.6214,18806.14547,10141.1362,6123.5688,8252.2843,1712.227,12430.95335,9800.8882,10579.711,8280.6227,8527.532,12244.531,3410.324,4058.71245,26392.26029,14394.39815,6435.6237,22192.43711,5148.5526,1136.3994,8703.456,6500.2359,4837.5823,3943.5954,4399.731,6185.3208,7222.78625,12485.8009,12363.547,10156.7832,2585.269,1242.26,9863.4718,4766.022,11244.3769,7729.64575,5438.7491,26236.57997,2104.1134,8068.185,2362.22905,2352.96845,3577.999,3201.24515,29186.48236,10976.24575,3500.6123,2020.5523,9541.69555,9504.3103,5385.3379,8930.93455,5375.038,10264.4421,6113.23105,5469.0066,1727.54,10107.2206,8310.83915,1984.4533,2457.502,12146.971,9566.9909,13112.6048,10848.1343,12231.6136,9875.6804,11264.541,12979.358,1263.249,10106.13425,6664.68595,2217.6012,6781.3542,10065.413,4234.927,9447.25035,14007.222,9583.8933,3484.331,8604.48365,3757.8448,8827.2099,9910.35985,11737.84884,1627.28245,8556.907,3062.50825,1906.35825,14210.53595,11833.7823,17128.42608,5031.26955,7985.815,5428.7277,3925.7582,2416.955,3070.8087,9095.06825,11842.62375,8062.764,7050.642,14319.031,6933.24225,27941.28758,11150.78,12797.20962,7261.741,10560.4917,6986.697,7448.40395,5934.3798,9869.8102,1146.7966,9386.1613,4350.5144,6414.178,12741.16745,1917.3184,5209.57885,13457.9608,5662.225,1252.407,2731.9122,7209.4918,4266.1658,4719.52405,11848.141,7046.7222,14313.8463,2103.08,1815.8759,7731.85785,28476.73499,2136.88225,1131.5066,3309.7926,9414.92,6360.9936,11013.7119,4428.88785,5584.3057,1877.9294,2842.76075,3597.596,7445.918,2680.9493,1621.8827,8219.2039,12523.6048,16069.08475,6117.4945,13393.756,5266.3656,4719.73655,11743.9341,5377.4578,7160.3303,4402.233,11657.7189,6402.29135,12622.1795,1526.312,12323.936,10072.05505,9872.701,2438.0552,2974.126,10601.63225,14119.62,11729.6795,1875.344,18218.16139,10965.446,7151.092,12269.68865,5458.04645,8782.469,6600.361,1141.4451,11576.13,13129.60345,4391.652,8457.818,3392.3652,5966.8874,6849.026,8891.1395,2690.1138,26140.3603,6653.7886,6282.235,6311.952,3443.064,2789.0574,2585.85065,4877.98105,5272.1758,1682.597,11945.1327,7243.8136,10422.91665,13555.0049,13063.883,2221.56445,1634.5734,2117.33885,8688.85885,4661.28635,8125.7845,12644.589,4564.19145,4846.92015,7633.7206,15170.069,2639.0429,14382.70905,7626.993,5257.50795,2473.3341,13041.921,5245.2269,13451.122,13462.52,5488.262,4320.41085,6250.435,25333.33284,2913.569,12032.326,13470.8044,6289.7549,2927.0647,6238.298,10096.97,7348.142,4673.3922,12233.828,32108.66282,8965.79575,2304.0022,9487.6442,1121.8739,9549.5651,2217.46915,1628.4709,12982.8747,11674.13,7160.094,6358.77645,11534.87265,4527.18295,3875.7341,12609.88702,28468.91901,2730.10785,3353.284,14474.675,9500.57305,26467.09737,4746.344,7518.02535,3279.86855,8596.8278,10702.6424,4992.3764,2527.81865,1759.338,2322.6218,7804.1605,2902.9065,9704.66805,4889.0368,25517.11363,4500.33925,16796.41194,4915.05985,7624.63,8410.04685,28340.18885,4518.82625,3378.91,7144.86265,10118.424,5484.4673,7986.47525,7418.522,13887.9685,6551.7501,5267.81815,1972.95,21232.18226,8627.5411,4433.3877,4438.2634,23241.47453,9957.7216,8269.044,36580.28216,8765.249,5383.536,12124.9924,2709.24395,3987.926,12495.29085,26018.95052,8798.593,1711.0268,8569.8618,2020.177,21595.38229,9850.432,6877.9801,4137.5227,12950.0712,12094.478,2250.8352,22493.65964,1704.70015,3161.454,11394.06555,7325.0482,3594.17085,8023.13545,14394.5579,9288.0267,3353.4703,10594.50155,8277.523,17929.30337,2480.9791,4462.7218,1981.5819,11554.2236,6548.19505,5708.867,7045.499,8978.1851,5757.41345,14349.8544,10928.849,13974.45555,1909.52745,12096.6512,13204.28565,4562.8421,8551.347,2102.2647,15161.5344,11884.04858,4454.40265,5855.9025,4076.497,15019.76005,10796.35025,11353.2276,9748.9106,10577.087,11286.5387,3591.48,11299.343,4561.1885,1674.6323,23045.56616,3227.1211,11253.421,3471.4096,11363.2832,20420.60465,10338.9316,8988.15875,10493.9458,2904.088,8605.3615,11512.405,5312.16985,2396.0959,10807.4863,9222.4026,5693.4305,8347.1643,18903.49141,14254.6082,10214.636,5836.5204,14358.36437,1728.897,8582.3023,3693.428,20709.02034,9991.03765,19673.33573,11085.5868,7623.518,3176.2877,3704.3545,9048.0273,7954.517,27117.99378,6338.0756,9630.397,11289.10925,2261.5688,10791.96,5979.731,2203.73595,12235.8392,5630.45785,11015.1747,7228.21565,14426.07385,2459.7201,3989.841,7727.2532,5124.1887,18963.17192,2200.83085,7153.5539,5227.98875,10982.5013,4529.477,4670.64,6112.35295,11093.6229,6457.8434,4433.9159,2154.361,6496.886,2899.48935,7650.77375,2850.68375,2632.992,9447.3824,8603.8234,13844.7972,13126.67745,5327.40025,13725.47184,13019.16105,8671.19125,4134.08245,18838.70366,5699.8375,6393.60345,4934.705,6198.7518,8733.22925,2055.3249,9964.06,5116.5004,36910.60803,12347.172,5373.36425,23563.01618,1702.4553,10806.839,3956.07145,12890.05765,5415.6612,4058.1161,7537.1639,4718.20355,6593.5083,8442.667,6858.4796,4795.6568,6640.54485,7162.0122,10594.2257,11938.25595,12479.70895,11345.519,8515.7587,2699.56835,14449.8544,12224.35085,6985.50695,3238.4357,4296.2712,3171.6149,1135.9407,5615.369,9101.798,6059.173,1633.9618,1241.565,15828.82173,4415.1588,6474.013,11436.73815,11305.93455,30063.58055,10197.7722,4544.2348,3277.161,6770.1925,7337.748,10370.91255,10704.47,1880.487,8615.3,3292.52985,3021.80915,14478.33015,4747.0529,10959.33,2741.948,4357.04365,4189.1131,8283.6807,1720.3537,8534.6718,3732.6251,5472.449,7147.4728,7133.9025,1515.3449,9301.89355,11931.12525,1964.78,1708.92575,4340.4409,5261.46945,2710.82855,3208.787,2464.6188,6875.961,6940.90985,4571.41305,4536.259,11272.33139,1731.677,1163.4627,19496.71917,7201.70085,5425.02335,12981.3457,4239.89265,13143.33665,7050.0213,9377.9047,22395.74424,10325.206,12629.1656,10795.93733,11411.685,10600.5483,2205.9808,1629.8335,2007.945],\"yaxis\":\"y\",\"type\":\"scattergl\"}],                        {\"template\":{\"data\":{\"histogram2dcontour\":[{\"type\":\"histogram2dcontour\",\"colorbar\":{\"outlinewidth\":0,\"ticks\":\"\"},\"colorscale\":[[0.0,\"#0d0887\"],[0.1111111111111111,\"#46039f\"],[0.2222222222222222,\"#7201a8\"],[0.3333333333333333,\"#9c179e\"],[0.4444444444444444,\"#bd3786\"],[0.5555555555555556,\"#d8576b\"],[0.6666666666666666,\"#ed7953\"],[0.7777777777777778,\"#fb9f3a\"],[0.8888888888888888,\"#fdca26\"],[1.0,\"#f0f921\"]]}],\"choropleth\":[{\"type\":\"choropleth\",\"colorbar\":{\"outlinewidth\":0,\"ticks\":\"\"}}],\"histogram2d\":[{\"type\":\"histogram2d\",\"colorbar\":{\"outlinewidth\":0,\"ticks\":\"\"},\"colorscale\":[[0.0,\"#0d0887\"],[0.1111111111111111,\"#46039f\"],[0.2222222222222222,\"#7201a8\"],[0.3333333333333333,\"#9c179e\"],[0.4444444444444444,\"#bd3786\"],[0.5555555555555556,\"#d8576b\"],[0.6666666666666666,\"#ed7953\"],[0.7777777777777778,\"#fb9f3a\"],[0.8888888888888888,\"#fdca26\"],[1.0,\"#f0f921\"]]}],\"heatmap\":[{\"type\":\"heatmap\",\"colorbar\":{\"outlinewidth\":0,\"ticks\":\"\"},\"colorscale\":[[0.0,\"#0d0887\"],[0.1111111111111111,\"#46039f\"],[0.2222222222222222,\"#7201a8\"],[0.3333333333333333,\"#9c179e\"],[0.4444444444444444,\"#bd3786\"],[0.5555555555555556,\"#d8576b\"],[0.6666666666666666,\"#ed7953\"],[0.7777777777777778,\"#fb9f3a\"],[0.8888888888888888,\"#fdca26\"],[1.0,\"#f0f921\"]]}],\"heatmapgl\":[{\"type\":\"heatmapgl\",\"colorbar\":{\"outlinewidth\":0,\"ticks\":\"\"},\"colorscale\":[[0.0,\"#0d0887\"],[0.1111111111111111,\"#46039f\"],[0.2222222222222222,\"#7201a8\"],[0.3333333333333333,\"#9c179e\"],[0.4444444444444444,\"#bd3786\"],[0.5555555555555556,\"#d8576b\"],[0.6666666666666666,\"#ed7953\"],[0.7777777777777778,\"#fb9f3a\"],[0.8888888888888888,\"#fdca26\"],[1.0,\"#f0f921\"]]}],\"contourcarpet\":[{\"type\":\"contourcarpet\",\"colorbar\":{\"outlinewidth\":0,\"ticks\":\"\"}}],\"contour\":[{\"type\":\"contour\",\"colorbar\":{\"outlinewidth\":0,\"ticks\":\"\"},\"colorscale\":[[0.0,\"#0d0887\"],[0.1111111111111111,\"#46039f\"],[0.2222222222222222,\"#7201a8\"],[0.3333333333333333,\"#9c179e\"],[0.4444444444444444,\"#bd3786\"],[0.5555555555555556,\"#d8576b\"],[0.6666666666666666,\"#ed7953\"],[0.7777777777777778,\"#fb9f3a\"],[0.8888888888888888,\"#fdca26\"],[1.0,\"#f0f921\"]]}],\"surface\":[{\"type\":\"surface\",\"colorbar\":{\"outlinewidth\":0,\"ticks\":\"\"},\"colorscale\":[[0.0,\"#0d0887\"],[0.1111111111111111,\"#46039f\"],[0.2222222222222222,\"#7201a8\"],[0.3333333333333333,\"#9c179e\"],[0.4444444444444444,\"#bd3786\"],[0.5555555555555556,\"#d8576b\"],[0.6666666666666666,\"#ed7953\"],[0.7777777777777778,\"#fb9f3a\"],[0.8888888888888888,\"#fdca26\"],[1.0,\"#f0f921\"]]}],\"mesh3d\":[{\"type\":\"mesh3d\",\"colorbar\":{\"outlinewidth\":0,\"ticks\":\"\"}}],\"scatter\":[{\"fillpattern\":{\"fillmode\":\"overlay\",\"size\":10,\"solidity\":0.2},\"type\":\"scatter\"}],\"parcoords\":[{\"type\":\"parcoords\",\"line\":{\"colorbar\":{\"outlinewidth\":0,\"ticks\":\"\"}}}],\"scatterpolargl\":[{\"type\":\"scatterpolargl\",\"marker\":{\"colorbar\":{\"outlinewidth\":0,\"ticks\":\"\"}}}],\"bar\":[{\"error_x\":{\"color\":\"#2a3f5f\"},\"error_y\":{\"color\":\"#2a3f5f\"},\"marker\":{\"line\":{\"color\":\"#E5ECF6\",\"width\":0.5},\"pattern\":{\"fillmode\":\"overlay\",\"size\":10,\"solidity\":0.2}},\"type\":\"bar\"}],\"scattergeo\":[{\"type\":\"scattergeo\",\"marker\":{\"colorbar\":{\"outlinewidth\":0,\"ticks\":\"\"}}}],\"scatterpolar\":[{\"type\":\"scatterpolar\",\"marker\":{\"colorbar\":{\"outlinewidth\":0,\"ticks\":\"\"}}}],\"histogram\":[{\"marker\":{\"pattern\":{\"fillmode\":\"overlay\",\"size\":10,\"solidity\":0.2}},\"type\":\"histogram\"}],\"scattergl\":[{\"type\":\"scattergl\",\"marker\":{\"colorbar\":{\"outlinewidth\":0,\"ticks\":\"\"}}}],\"scatter3d\":[{\"type\":\"scatter3d\",\"line\":{\"colorbar\":{\"outlinewidth\":0,\"ticks\":\"\"}},\"marker\":{\"colorbar\":{\"outlinewidth\":0,\"ticks\":\"\"}}}],\"scattermapbox\":[{\"type\":\"scattermapbox\",\"marker\":{\"colorbar\":{\"outlinewidth\":0,\"ticks\":\"\"}}}],\"scatterternary\":[{\"type\":\"scatterternary\",\"marker\":{\"colorbar\":{\"outlinewidth\":0,\"ticks\":\"\"}}}],\"scattercarpet\":[{\"type\":\"scattercarpet\",\"marker\":{\"colorbar\":{\"outlinewidth\":0,\"ticks\":\"\"}}}],\"carpet\":[{\"aaxis\":{\"endlinecolor\":\"#2a3f5f\",\"gridcolor\":\"white\",\"linecolor\":\"white\",\"minorgridcolor\":\"white\",\"startlinecolor\":\"#2a3f5f\"},\"baxis\":{\"endlinecolor\":\"#2a3f5f\",\"gridcolor\":\"white\",\"linecolor\":\"white\",\"minorgridcolor\":\"white\",\"startlinecolor\":\"#2a3f5f\"},\"type\":\"carpet\"}],\"table\":[{\"cells\":{\"fill\":{\"color\":\"#EBF0F8\"},\"line\":{\"color\":\"white\"}},\"header\":{\"fill\":{\"color\":\"#C8D4E3\"},\"line\":{\"color\":\"white\"}},\"type\":\"table\"}],\"barpolar\":[{\"marker\":{\"line\":{\"color\":\"#E5ECF6\",\"width\":0.5},\"pattern\":{\"fillmode\":\"overlay\",\"size\":10,\"solidity\":0.2}},\"type\":\"barpolar\"}],\"pie\":[{\"automargin\":true,\"type\":\"pie\"}]},\"layout\":{\"autotypenumbers\":\"strict\",\"colorway\":[\"#636efa\",\"#EF553B\",\"#00cc96\",\"#ab63fa\",\"#FFA15A\",\"#19d3f3\",\"#FF6692\",\"#B6E880\",\"#FF97FF\",\"#FECB52\"],\"font\":{\"color\":\"#2a3f5f\"},\"hovermode\":\"closest\",\"hoverlabel\":{\"align\":\"left\"},\"paper_bgcolor\":\"white\",\"plot_bgcolor\":\"#E5ECF6\",\"polar\":{\"bgcolor\":\"#E5ECF6\",\"angularaxis\":{\"gridcolor\":\"white\",\"linecolor\":\"white\",\"ticks\":\"\"},\"radialaxis\":{\"gridcolor\":\"white\",\"linecolor\":\"white\",\"ticks\":\"\"}},\"ternary\":{\"bgcolor\":\"#E5ECF6\",\"aaxis\":{\"gridcolor\":\"white\",\"linecolor\":\"white\",\"ticks\":\"\"},\"baxis\":{\"gridcolor\":\"white\",\"linecolor\":\"white\",\"ticks\":\"\"},\"caxis\":{\"gridcolor\":\"white\",\"linecolor\":\"white\",\"ticks\":\"\"}},\"coloraxis\":{\"colorbar\":{\"outlinewidth\":0,\"ticks\":\"\"}},\"colorscale\":{\"sequential\":[[0.0,\"#0d0887\"],[0.1111111111111111,\"#46039f\"],[0.2222222222222222,\"#7201a8\"],[0.3333333333333333,\"#9c179e\"],[0.4444444444444444,\"#bd3786\"],[0.5555555555555556,\"#d8576b\"],[0.6666666666666666,\"#ed7953\"],[0.7777777777777778,\"#fb9f3a\"],[0.8888888888888888,\"#fdca26\"],[1.0,\"#f0f921\"]],\"sequentialminus\":[[0.0,\"#0d0887\"],[0.1111111111111111,\"#46039f\"],[0.2222222222222222,\"#7201a8\"],[0.3333333333333333,\"#9c179e\"],[0.4444444444444444,\"#bd3786\"],[0.5555555555555556,\"#d8576b\"],[0.6666666666666666,\"#ed7953\"],[0.7777777777777778,\"#fb9f3a\"],[0.8888888888888888,\"#fdca26\"],[1.0,\"#f0f921\"]],\"diverging\":[[0,\"#8e0152\"],[0.1,\"#c51b7d\"],[0.2,\"#de77ae\"],[0.3,\"#f1b6da\"],[0.4,\"#fde0ef\"],[0.5,\"#f7f7f7\"],[0.6,\"#e6f5d0\"],[0.7,\"#b8e186\"],[0.8,\"#7fbc41\"],[0.9,\"#4d9221\"],[1,\"#276419\"]]},\"xaxis\":{\"gridcolor\":\"white\",\"linecolor\":\"white\",\"ticks\":\"\",\"title\":{\"standoff\":15},\"zerolinecolor\":\"white\",\"automargin\":true,\"zerolinewidth\":2},\"yaxis\":{\"gridcolor\":\"white\",\"linecolor\":\"white\",\"ticks\":\"\",\"title\":{\"standoff\":15},\"zerolinecolor\":\"white\",\"automargin\":true,\"zerolinewidth\":2},\"scene\":{\"xaxis\":{\"backgroundcolor\":\"#E5ECF6\",\"gridcolor\":\"white\",\"linecolor\":\"white\",\"showbackground\":true,\"ticks\":\"\",\"zerolinecolor\":\"white\",\"gridwidth\":2},\"yaxis\":{\"backgroundcolor\":\"#E5ECF6\",\"gridcolor\":\"white\",\"linecolor\":\"white\",\"showbackground\":true,\"ticks\":\"\",\"zerolinecolor\":\"white\",\"gridwidth\":2},\"zaxis\":{\"backgroundcolor\":\"#E5ECF6\",\"gridcolor\":\"white\",\"linecolor\":\"white\",\"showbackground\":true,\"ticks\":\"\",\"zerolinecolor\":\"white\",\"gridwidth\":2}},\"shapedefaults\":{\"line\":{\"color\":\"#2a3f5f\"}},\"annotationdefaults\":{\"arrowcolor\":\"#2a3f5f\",\"arrowhead\":0,\"arrowwidth\":1},\"geo\":{\"bgcolor\":\"white\",\"landcolor\":\"#E5ECF6\",\"subunitcolor\":\"white\",\"showland\":true,\"showlakes\":true,\"lakecolor\":\"white\"},\"title\":{\"x\":0.05},\"mapbox\":{\"style\":\"light\"}}},\"xaxis\":{\"anchor\":\"y\",\"domain\":[0.0,1.0],\"title\":{\"text\":\"Smokers\"},\"categoryorder\":\"array\",\"categoryarray\":[\"yes\",\"no\"]},\"yaxis\":{\"anchor\":\"x\",\"domain\":[0.0,1.0],\"title\":{\"text\":\"Charges\"}},\"legend\":{\"title\":{\"text\":\"smoker\"},\"tracegroupgap\":0},\"title\":{\"text\":\"Swarm Plot: Charges by Smokers\"},\"height\":500,\"width\":800},                        {\"responsive\": true}                    ).then(function(){\n",
       "                            \n",
       "var gd = document.getElementById('c436f6df-bd04-4fe1-8658-27c16f9c84b0');\n",
       "var x = new MutationObserver(function (mutations, observer) {{\n",
       "        var display = window.getComputedStyle(gd).display;\n",
       "        if (!display || display === 'none') {{\n",
       "            console.log([gd, 'removed!']);\n",
       "            Plotly.purge(gd);\n",
       "            observer.disconnect();\n",
       "        }}\n",
       "}});\n",
       "\n",
       "// Listen for the removal of the full notebook cells\n",
       "var notebookContainer = gd.closest('#notebook-container');\n",
       "if (notebookContainer) {{\n",
       "    x.observe(notebookContainer, {childList: true});\n",
       "}}\n",
       "\n",
       "// Listen for the clearing of the current output cell\n",
       "var outputEl = gd.closest('.output');\n",
       "if (outputEl) {{\n",
       "    x.observe(outputEl, {childList: true});\n",
       "}}\n",
       "\n",
       "                        })                };                });            </script>        </div>"
      ]
     },
     "metadata": {},
     "output_type": "display_data"
    }
   ],
   "source": [
    "# Create a scatter plot using Plotly with 'strip' mode\n",
    "fig = px.scatter(df, x='smoker', y='charges', title='Charges by Smokers',\n",
    "                 hover_data=['bmi_classes','age','children'], color='smoker',\n",
    "                 width=800, height=500)\n",
    "\n",
    "# Set the chart title and axis labels\n",
    "fig.update_layout(title='Swarm Plot: Charges by Smokers',\n",
    "                  xaxis_title='Smokers',\n",
    "                  yaxis_title='Charges')\n",
    "\n",
    "# Show the plot\n",
    "fig.show()"
   ]
  },
  {
   "cell_type": "markdown",
   "id": "5b9a17ab",
   "metadata": {},
   "source": [
    "#### Here we can conclude that The people who are nonSmokers and who pay more Charge are Above normal BMI Range,Thus making it valid to charge them more. In this graph, we are analysing all the aspects that is BMI, Classes age number of children with respect to smokers yes or not, which clearly shows that the people who have higher charges in the non-smoker range for most of the cases obese or above over weight category"
   ]
  },
  {
   "cell_type": "markdown",
   "id": "f8e7c24d",
   "metadata": {},
   "source": [
    "## 8. Charges wrt Smokers and for different BMI "
   ]
  },
  {
   "cell_type": "code",
   "execution_count": 42,
   "id": "c0d1bd69",
   "metadata": {},
   "outputs": [
    {
     "data": {
      "image/png": "[encoded data removed]",
      "text/plain": [
       "<Figure size 864x576 with 1 Axes>"
      ]
     },
     "metadata": {
      "needs_background": "light"
     },
     "output_type": "display_data"
    }
   ],
   "source": [
    "f, ax = plt.subplots(1, 1, figsize=(12, 8))\n",
    "ax = sns.barplot(x='smoker', y='charges', hue='bmi_classes', data=df, palette='Set1')"
   ]
  },
  {
   "cell_type": "markdown",
   "id": "fd27d102",
   "metadata": {},
   "source": [
    "#### This graph shows the charges with respect to the BMI classes for smokers, yes or no, and clearly shows that for people who don’t smoke have less charges but in the less charges with higher obesity, the charges increases"
   ]
  },
  {
   "cell_type": "code",
   "execution_count": 43,
   "id": "4c498bfa",
   "metadata": {},
   "outputs": [
    {
     "data": {
      "application/vnd.plotly.v1+json": {
       "config": {
        "plotlyServerURL": "https://plot.ly"
       },
       "data": [
        {
         "marker": {
          "color": "rgb(252, 186, 3)"
         },
         "name": "Overweight",
         "type": "bar",
         "x": [
          "yes",
          "no",
          "no",
          "no",
          "no",
          "no",
          "no",
          "yes",
          "no",
          "no",
          "no",
          "no",
          "no",
          "no",
          "yes",
          "no",
          "no",
          "no",
          "no",
          "no",
          "no",
          "no",
          "no",
          "no",
          "no",
          "no",
          "no",
          "no",
          "yes",
          "no",
          "yes",
          "no",
          "yes",
          "no",
          "no",
          "no",
          "no",
          "yes",
          "no",
          "no",
          "no",
          "yes",
          "no",
          "no",
          "no",
          "no",
          "no",
          "yes",
          "no",
          "yes",
          "no",
          "no",
          "no",
          "yes",
          "no",
          "yes",
          "no",
          "no",
          "no",
          "no",
          "no",
          "no",
          "no",
          "no",
          "no",
          "no",
          "no",
          "no",
          "no",
          "no",
          "no",
          "yes",
          "no",
          "no",
          "no",
          "no",
          "no",
          "no",
          "no",
          "no",
          "yes",
          "no",
          "yes",
          "no",
          "no",
          "no",
          "yes",
          "no",
          "no",
          "no",
          "no",
          "no",
          "yes",
          "no",
          "no",
          "no",
          "no",
          "no",
          "no",
          "no",
          "yes",
          "yes",
          "no",
          "no",
          "no",
          "no",
          "no",
          "no",
          "no",
          "no",
          "yes",
          "no",
          "no",
          "no",
          "no",
          "no",
          "no",
          "no",
          "no",
          "no",
          "no",
          "no",
          "no",
          "no",
          "no",
          "yes",
          "no",
          "no",
          "yes",
          "no",
          "no",
          "no",
          "no",
          "no",
          "no",
          "yes",
          "no",
          "no",
          "no",
          "no",
          "no",
          "no",
          "no",
          "yes",
          "no",
          "no",
          "yes",
          "yes",
          "yes",
          "no",
          "no",
          "no",
          "yes",
          "no",
          "no",
          "no",
          "no",
          "no",
          "no",
          "yes",
          "no",
          "yes",
          "no",
          "no",
          "no",
          "no",
          "no",
          "yes",
          "no",
          "no",
          "no",
          "no",
          "no",
          "no",
          "no",
          "no",
          "no",
          "no",
          "yes",
          "no",
          "no",
          "no",
          "no",
          "yes",
          "no",
          "no",
          "no",
          "no",
          "yes",
          "yes",
          "no",
          "no",
          "yes",
          "no",
          "no",
          "no",
          "no",
          "no",
          "no",
          "no",
          "no",
          "no",
          "no",
          "no",
          "no",
          "no",
          "no",
          "no",
          "yes",
          "no",
          "no",
          "no",
          "yes",
          "no",
          "no",
          "yes",
          "yes",
          "no",
          "no",
          "no",
          "no",
          "yes",
          "no",
          "yes",
          "no",
          "no",
          "no",
          "no",
          "yes",
          "no",
          "no",
          "no",
          "yes",
          "no",
          "yes",
          "no",
          "no",
          "yes",
          "no",
          "no",
          "no",
          "no",
          "no",
          "no",
          "no",
          "no",
          "no",
          "no",
          "no",
          "no",
          "yes",
          "yes",
          "yes",
          "no",
          "no",
          "no",
          "no",
          "no",
          "no",
          "no",
          "yes",
          "no",
          "no",
          "no",
          "no",
          "no",
          "no",
          "no",
          "yes",
          "no",
          "yes",
          "no",
          "no",
          "no",
          "no",
          "no",
          "no",
          "no",
          "no",
          "no",
          "yes",
          "no",
          "no",
          "no",
          "no",
          "no",
          "no",
          "no",
          "no",
          "yes",
          "no",
          "no",
          "no",
          "yes",
          "no",
          "no",
          "no",
          "yes",
          "no",
          "no",
          "no",
          "no",
          "yes",
          "no",
          "no",
          "no",
          "no",
          "no",
          "no",
          "no",
          "no",
          "no",
          "no",
          "no",
          "no",
          "no",
          "no",
          "no",
          "no",
          "yes",
          "no",
          "no",
          "no",
          "no",
          "no",
          "no",
          "no",
          "no",
          "no",
          "no",
          "yes",
          "yes",
          "no",
          "no",
          "no",
          "yes",
          "no",
          "no",
          "yes",
          "yes",
          "no",
          "no",
          "no",
          "no",
          "yes",
          "yes",
          "no",
          "no",
          "no",
          "no",
          "no",
          "no",
          "yes",
          "yes",
          "no",
          "no",
          "no",
          "no",
          "no",
          "no",
          "no",
          "no",
          "yes",
          "no",
          "yes",
          "no",
          "yes",
          "no",
          "no",
          "no",
          "no",
          "no",
          "no",
          "no",
          "yes",
          "no",
          "yes",
          "no",
          "no",
          "no",
          "no",
          "yes",
          "no",
          "no",
          "no",
          "yes"
         ],
         "y": [
          16884.924,
          3866.8552,
          3756.6216,
          7281.5056,
          6406.4107,
          28923.13692,
          2721.3208,
          27808.7251,
          6203.90175,
          14001.1338,
          2198.18985,
          4687.797,
          13770.0979,
          3046.062,
          23568.272,
          8059.6791,
          8606.2174,
          4133.64165,
          1743.214,
          6389.37785,
          6799.458,
          11741.726,
          7726.854,
          3947.4131,
          4441.21315,
          11073.176,
          8026.6666,
          11082.5772,
          30184.9367,
          3645.0894,
          30942.1918,
          5003.853,
          17560.37975,
          2331.519,
          2867.1196,
          11881.358,
          30259.99556,
          19107.7796,
          8601.3293,
          2257.47525,
          3385.39915,
          17081.08,
          12815.44495,
          1632.56445,
          2457.21115,
          2155.6815,
          2045.68525,
          18972.495,
          18157.876,
          20745.9891,
          1842.519,
          7789.635,
          7077.1894,
          15518.18025,
          19749.38338,
          21348.706,
          5152.134,
          5028.1466,
          10407.08585,
          6455.86265,
          10436.096,
          8823.279,
          11735.87905,
          7419.4779,
          3981.9768,
          4883.866,
          2137.6536,
          12044.342,
          8516.829,
          4337.7352,
          11743.299,
          20984.0936,
          3537.703,
          5002.7827,
          10355.641,
          3392.9768,
          9225.2564,
          14001.2867,
          12333.828,
          1615.7667,
          17352.6803,
          35160.13457,
          29523.1656,
          4040.55825,
          13047.33235,
          11837.16,
          17085.2676,
          9282.4806,
          1719.4363,
          9617.66245,
          2523.1695,
          9715.841,
          22331.5668,
          4237.12655,
          7742.1098,
          14256.1928,
          25992.82104,
          20277.80751,
          2156.7518,
          3906.127,
          16297.846,
          21978.6769,
          9249.4952,
          6746.7425,
          20177.67113,
          8444.474,
          7421.19455,
          4894.7533,
          24671.66334,
          2866.091,
          24393.6224,
          11658.37915,
          12142.5786,
          13937.6665,
          8232.6388,
          18955.22017,
          13217.0945,
          6184.2994,
          5478.0368,
          1635.73365,
          8932.084,
          3554.203,
          24603.04837,
          9620.3307,
          2597.779,
          18033.9679,
          30284.64294,
          14988.432,
          28950.4692,
          6555.07035,
          7323.734819,
          5969.723,
          4243.59005,
          5926.846,
          2897.3235,
          26109.32905,
          12730.9996,
          11454.0215,
          5910.944,
          7512.267,
          1769.53165,
          11165.41765,
          1632.03625,
          19521.9682,
          13224.693,
          1744.465,
          25382.297,
          28868.6639,
          35147.52848,
          1253.936,
          24513.09126,
          2196.4732,
          17942.106,
          1967.0227,
          8027.968,
          6837.3687,
          5974.3847,
          3044.2133,
          11455.28,
          21082.16,
          25656.57526,
          38245.59327,
          9861.025,
          1708.0014,
          12925.886,
          6067.12675,
          8233.0975,
          23807.2406,
          3213.62205,
          3972.9247,
          3761.292,
          12222.8983,
          1664.9996,
          12913.9924,
          4779.6023,
          11842.442,
          7640.3092,
          11070.535,
          17468.9839,
          3558.62025,
          4435.0942,
          8547.6913,
          11658.11505,
          23306.547,
          12129.61415,
          3736.4647,
          6748.5912,
          1977.815,
          20149.3229,
          32787.45859,
          6123.5688,
          1712.227,
          24667.419,
          14394.39815,
          8703.456,
          6500.2359,
          4399.731,
          11244.3769,
          7729.64575,
          2104.1134,
          5385.3379,
          8930.93455,
          10264.4421,
          5469.0066,
          12146.971,
          10106.13425,
          6664.68595,
          9447.25035,
          18246.4955,
          3757.8448,
          8827.2099,
          11737.84884,
          19539.243,
          1906.35825,
          5031.26955,
          23065.4207,
          19040.876,
          3070.8087,
          9095.06825,
          7050.642,
          11150.78,
          17748.5062,
          9869.8102,
          24520.264,
          4350.5144,
          6414.178,
          13457.9608,
          1252.407,
          18310.742,
          7046.7222,
          1815.8759,
          3309.7926,
          23401.30575,
          8219.2039,
          20773.62775,
          5266.3656,
          11657.7189,
          27533.9129,
          1875.344,
          10965.446,
          7151.092,
          8782.469,
          6600.361,
          3392.3652,
          2690.1138,
          26140.3603,
          6282.235,
          6311.952,
          2789.0574,
          4877.98105,
          19719.6947,
          27218.43725,
          29330.98315,
          7243.8136,
          2221.56445,
          4661.28635,
          4564.19145,
          2639.0429,
          14382.70905,
          7626.993,
          21774.32215,
          13041.921,
          13451.122,
          10096.97,
          12233.828,
          32108.66282,
          2304.0022,
          9487.6442,
          19933.458,
          4527.18295,
          20009.63365,
          12609.88702,
          3353.284,
          4746.344,
          7518.02535,
          3279.86855,
          10702.6424,
          2902.9065,
          4889.0368,
          25517.11363,
          19199.944,
          7624.63,
          28340.18885,
          7144.86265,
          5484.4673,
          5267.81815,
          1972.95,
          21232.18226,
          4438.2634,
          24915.22085,
          9957.7216,
          5383.536,
          12124.9924,
          16450.8947,
          4137.5227,
          2250.8352,
          22493.65964,
          20234.85475,
          3161.454,
          7325.0482,
          14394.5579,
          9288.0267,
          25309.489,
          10594.50155,
          8277.523,
          11554.2236,
          6548.19505,
          5708.867,
          7045.499,
          12096.6512,
          4562.8421,
          2102.2647,
          4454.40265,
          10796.35025,
          11286.5387,
          11253.421,
          20420.60465,
          8988.15875,
          10493.9458,
          24180.9335,
          5312.16985,
          9222.4026,
          14254.6082,
          10214.636,
          11085.5868,
          7623.518,
          11015.1747,
          2200.83085,
          7153.5539,
          5227.98875,
          17178.6824,
          22478.6,
          6457.8434,
          2154.361,
          6496.886,
          19350.3689,
          2850.68375,
          9447.3824,
          18328.2381,
          21771.3423,
          13126.67745,
          18838.70366,
          6393.60345,
          4934.705,
          18223.4512,
          20296.86345,
          5415.6612,
          8442.667,
          8515.7587,
          12224.35085,
          9101.798,
          6059.173,
          18648.4217,
          16232.847,
          15828.82173,
          4415.1588,
          11305.93455,
          6770.1925,
          7337.748,
          8615.3,
          14478.33015,
          4747.0529,
          17043.3414,
          4357.04365,
          22462.04375,
          4189.1131,
          24535.69855,
          5472.449,
          9301.89355,
          11931.12525,
          1708.92575,
          4340.4409,
          5261.46945,
          2710.82855,
          37829.7242,
          2464.6188,
          21472.4788,
          6940.90985,
          4571.41305,
          11272.33139,
          7201.70085,
          28101.33305,
          4239.89265,
          12629.1656,
          2007.945,
          29141.3603
         ]
        },
        {
         "marker": {
          "color": "rgb(244, 109, 67)"
         },
         "name": "Obese I",
         "type": "bar",
         "x": [
          "no",
          "no",
          "no",
          "no",
          "no",
          "no",
          "no",
          "yes",
          "no",
          "no",
          "no",
          "no",
          "no",
          "yes",
          "no",
          "yes",
          "no",
          "no",
          "no",
          "no",
          "yes",
          "yes",
          "no",
          "yes",
          "no",
          "no",
          "no",
          "no",
          "no",
          "no",
          "no",
          "yes",
          "no",
          "no",
          "no",
          "no",
          "no",
          "yes",
          "no",
          "no",
          "no",
          "no",
          "no",
          "no",
          "no",
          "no",
          "no",
          "no",
          "no",
          "no",
          "no",
          "no",
          "no",
          "no",
          "no",
          "no",
          "no",
          "no",
          "no",
          "no",
          "no",
          "yes",
          "no",
          "no",
          "no",
          "yes",
          "yes",
          "no",
          "yes",
          "yes",
          "yes",
          "no",
          "no",
          "yes",
          "no",
          "no",
          "no",
          "no",
          "yes",
          "no",
          "no",
          "no",
          "no",
          "no",
          "yes",
          "no",
          "no",
          "no",
          "yes",
          "no",
          "yes",
          "no",
          "no",
          "yes",
          "no",
          "no",
          "no",
          "no",
          "no",
          "no",
          "no",
          "no",
          "no",
          "yes",
          "no",
          "no",
          "no",
          "yes",
          "no",
          "no",
          "no",
          "no",
          "no",
          "no",
          "no",
          "no",
          "no",
          "no",
          "no",
          "no",
          "yes",
          "yes",
          "no",
          "no",
          "no",
          "no",
          "no",
          "no",
          "no",
          "no",
          "yes",
          "no",
          "no",
          "no",
          "no",
          "yes",
          "no",
          "no",
          "no",
          "no",
          "no",
          "no",
          "no",
          "no",
          "no",
          "no",
          "yes",
          "yes",
          "no",
          "no",
          "no",
          "no",
          "no",
          "no",
          "no",
          "no",
          "no",
          "no",
          "no",
          "no",
          "no",
          "no",
          "no",
          "no",
          "no",
          "no",
          "no",
          "no",
          "yes",
          "no",
          "no",
          "no",
          "no",
          "no",
          "no",
          "no",
          "no",
          "no",
          "yes",
          "no",
          "no",
          "no",
          "no",
          "no",
          "no",
          "no",
          "no",
          "no",
          "no",
          "yes",
          "no",
          "yes",
          "yes",
          "no",
          "no",
          "no",
          "no",
          "no",
          "no",
          "no",
          "no",
          "no",
          "yes",
          "yes",
          "no",
          "no",
          "no",
          "yes",
          "yes",
          "no",
          "no",
          "no",
          "no",
          "no",
          "no",
          "no",
          "no",
          "no",
          "no",
          "no",
          "no",
          "yes",
          "yes",
          "no",
          "no",
          "no",
          "no",
          "no",
          "no",
          "no",
          "no",
          "no",
          "no",
          "no",
          "no",
          "no",
          "no",
          "no",
          "no",
          "no",
          "no",
          "no",
          "yes",
          "yes",
          "no",
          "no",
          "no",
          "no",
          "no",
          "no",
          "yes",
          "no",
          "yes",
          "no",
          "no",
          "yes",
          "no",
          "yes",
          "no",
          "no",
          "no",
          "no",
          "no",
          "no",
          "no",
          "no",
          "no",
          "no",
          "yes",
          "no",
          "no",
          "no",
          "no",
          "no",
          "no",
          "no",
          "yes",
          "no",
          "yes",
          "yes",
          "yes",
          "no",
          "no",
          "no",
          "no",
          "no",
          "no",
          "no",
          "yes",
          "no",
          "no",
          "no",
          "no",
          "no",
          "yes",
          "no",
          "no",
          "yes",
          "yes",
          "yes",
          "no",
          "no",
          "no",
          "no",
          "no",
          "no",
          "no",
          "yes",
          "no",
          "no",
          "no",
          "no",
          "no",
          "yes",
          "no",
          "no",
          "yes",
          "no",
          "no",
          "no",
          "no",
          "no",
          "no",
          "no",
          "yes",
          "yes",
          "no",
          "no",
          "no",
          "no",
          "yes",
          "no",
          "no",
          "no",
          "no",
          "yes",
          "no",
          "no",
          "no",
          "yes",
          "no",
          "no",
          "no",
          "no",
          "no",
          "no",
          "no",
          "no",
          "no",
          "yes",
          "no",
          "no",
          "no",
          "no",
          "yes",
          "no",
          "no",
          "no",
          "no",
          "yes",
          "no",
          "no",
          "no",
          "yes",
          "no",
          "no",
          "no",
          "yes",
          "no",
          "no",
          "yes",
          "no",
          "no",
          "no",
          "no",
          "no",
          "no",
          "no",
          "yes",
          "yes",
          "yes",
          "yes",
          "no",
          "yes",
          "no",
          "no",
          "no",
          "no",
          "no",
          "no",
          "no"
         ],
         "y": [
          1725.5523,
          4449.462,
          8240.5896,
          1826.843,
          10797.3362,
          4149.736,
          1137.011,
          37701.8768,
          12268.63225,
          15612.19335,
          6313.759,
          3556.9223,
          3579.8287,
          37742.5757,
          13607.36875,
          34303.1672,
          4504.6624,
          11946.6259,
          11356.6609,
          6571.02435,
          39836.519,
          43578.9394,
          5729.0053,
          47291.055,
          12105.32,
          6186.127,
          21344.8467,
          3877.30425,
          10825.2537,
          4646.759,
          11488.31695,
          39556.4945,
          10115.00885,
          6082.405,
          1261.442,
          27322.73386,
          3490.5491,
          40720.55105,
          6128.79745,
          2719.27975,
          8116.68,
          5246.047,
          2855.43755,
          8538.28845,
          7731.4271,
          5325.651,
          6775.961,
          4922.9159,
          12557.6053,
          1137.4697,
          1639.5631,
          5649.715,
          2130.6759,
          8871.1517,
          13880.949,
          1980.07,
          8162.71625,
          8520.026,
          5012.471,
          10564.8845,
          5253.524,
          34779.615,
          11987.1682,
          7358.17565,
          24476.47851,
          47305.305,
          44260.7499,
          4260.744,
          41097.16175,
          43921.1837,
          33750.2918,
          14590.63205,
          7441.053,
          42856.838,
          12928.7911,
          11879.10405,
          9625.92,
          3172.018,
          38746.3551,
          4349.462,
          19442.3535,
          4151.0287,
          11944.59435,
          7749.1564,
          34838.873,
          9722.7695,
          8835.26495,
          10435.06525,
          35491.64,
          6600.20595,
          47928.03,
          13429.0354,
          13822.803,
          41919.097,
          13352.0998,
          8334.45755,
          10043.249,
          4751.07,
          9778.3472,
          13430.265,
          8116.26885,
          3481.868,
          7639.41745,
          36085.219,
          1391.5287,
          16455.70785,
          27000.98473,
          42303.69215,
          20781.48892,
          1261.859,
          4618.0799,
          8964.06055,
          9290.1395,
          9411.005,
          8522.003,
          16586.49771,
          14692.66935,
          10269.46,
          4074.4537,
          9140.951,
          46889.2612,
          39125.33225,
          2727.3951,
          8968.33,
          18804.7524,
          23082.95533,
          12638.195,
          13919.8229,
          2254.7967,
          4738.2682,
          37079.372,
          7345.084,
          11881.9696,
          11840.77505,
          7682.67,
          22144.032,
          12643.3778,
          2497.0383,
          2203.47185,
          20878.78443,
          1824.2854,
          1622.1885,
          9563.029,
          4347.02335,
          10461.9794,
          1748.774,
          36197.699,
          32548.3405,
          6796.86325,
          2643.2685,
          11763.0009,
          2498.4144,
          1256.299,
          8413.46305,
          5240.765,
          3857.75925,
          9866.30485,
          11482.63485,
          24059.68019,
          14043.4767,
          8825.086,
          27346.04207,
          3056.3881,
          10231.4999,
          13390.559,
          11187.6567,
          8334.5896,
          3935.1799,
          39983.42595,
          10923.9332,
          2494.022,
          2801.2588,
          2128.43105,
          7256.7231,
          11552.904,
          13224.05705,
          9724.53,
          1639.5631,
          43943.8761,
          5976.8311,
          2566.4707,
          8823.98575,
          5594.8455,
          7441.501,
          9174.13565,
          9283.562,
          6571.544,
          2207.69745,
          1880.07,
          34439.8559,
          3659.346,
          40182.246,
          34617.84065,
          12949.1554,
          13143.86485,
          4466.6214,
          10141.1362,
          12430.95335,
          8280.6227,
          4058.71245,
          5148.5526,
          1136.3994,
          40003.33225,
          45710.20785,
          4837.5823,
          3943.5954,
          6185.3208,
          46130.5265,
          34806.4677,
          2362.22905,
          3577.999,
          29186.48236,
          10976.24575,
          2020.5523,
          5375.038,
          6113.23105,
          8310.83915,
          12231.6136,
          4234.927,
          14007.222,
          9583.8933,
          36189.1017,
          43254.41795,
          9910.35985,
          3062.50825,
          17128.42608,
          3925.7582,
          11842.62375,
          8062.764,
          7261.741,
          10560.4917,
          6986.697,
          5934.3798,
          7209.4918,
          11848.141,
          1131.5066,
          9414.92,
          5584.3057,
          1877.9294,
          7445.918,
          1621.8827,
          16069.08475,
          43813.8661,
          39597.4072,
          13393.756,
          11743.9341,
          5377.4578,
          4402.233,
          12622.1795,
          1526.312,
          36021.0112,
          10072.05505,
          45008.9555,
          9872.701,
          10601.63225,
          37270.1512,
          14119.62,
          40974.1649,
          18218.16139,
          12269.68865,
          6849.026,
          6653.7886,
          3443.064,
          5272.1758,
          11945.1327,
          13555.0049,
          4846.92015,
          7633.7206,
          33732.6867,
          2473.3341,
          5245.2269,
          13462.52,
          5488.262,
          25333.33284,
          6289.7549,
          6238.298,
          39047.285,
          6358.77645,
          38998.546,
          41999.52,
          41034.2214,
          8596.8278,
          16796.41194,
          4915.05985,
          8410.04685,
          4518.82625,
          10118.424,
          7418.522,
          34472.841,
          4433.3877,
          36580.28216,
          8765.249,
          3987.926,
          26018.95052,
          35595.5898,
          2020.177,
          9850.432,
          39725.51805,
          33475.81715,
          39727.614,
          17929.30337,
          4462.7218,
          1981.5819,
          10928.849,
          13974.45555,
          1909.52745,
          8551.347,
          34672.1472,
          15161.5344,
          4076.497,
          15019.76005,
          11353.2276,
          3591.48,
          33907.548,
          11299.343,
          4561.1885,
          44641.1974,
          1674.6323,
          23045.56616,
          3227.1211,
          10338.9316,
          2904.088,
          11512.405,
          10807.4863,
          36124.5737,
          34166.273,
          18903.49141,
          14358.36437,
          19673.33573,
          3704.3545,
          36898.73308,
          7954.517,
          6338.0756,
          9630.397,
          11289.10925,
          52590.82939,
          2261.5688,
          5979.731,
          2203.73595,
          40941.2854,
          2459.7201,
          7727.2532,
          6112.35295,
          4433.9159,
          2899.48935,
          2632.992,
          13844.7972,
          5327.40025,
          13019.16105,
          33307.5508,
          5699.8375,
          2055.3249,
          9964.06,
          36910.60803,
          38415.474,
          5373.36425,
          23563.01618,
          10806.839,
          3956.07145,
          41661.602,
          7537.1639,
          10594.2257,
          11938.25595,
          60021.39897,
          2699.56835,
          3171.6149,
          1135.9407,
          37607.5277,
          10370.91255,
          10704.47,
          34254.05335,
          1880.487,
          3292.52985,
          3021.80915,
          2741.948,
          8283.6807,
          1720.3537,
          7147.4728,
          34828.654,
          62592.87309,
          46718.16325,
          33900.653,
          6875.961,
          36397.576,
          5425.02335,
          13143.33665,
          7050.0213,
          9377.9047,
          10795.93733,
          10600.5483,
          2205.9808
         ]
        },
        {
         "marker": {
          "color": "rgb(255, 127, 14)"
         },
         "name": "Normal range",
         "type": "bar",
         "x": [
          "no",
          "no",
          "no",
          "no",
          "no",
          "no",
          "no",
          "no",
          "yes",
          "no",
          "yes",
          "yes",
          "yes",
          "yes",
          "no",
          "yes",
          "yes",
          "no",
          "no",
          "no",
          "no",
          "no",
          "yes",
          "yes",
          "no",
          "no",
          "no",
          "no",
          "no",
          "no",
          "yes",
          "no",
          "yes",
          "no",
          "no",
          "no",
          "yes",
          "yes",
          "no",
          "no",
          "no",
          "no",
          "yes",
          "no",
          "no",
          "no",
          "no",
          "yes",
          "no",
          "no",
          "no",
          "no",
          "yes",
          "no",
          "no",
          "no",
          "no",
          "no",
          "no",
          "no",
          "no",
          "yes",
          "no",
          "yes",
          "no",
          "no",
          "no",
          "no",
          "no",
          "no",
          "no",
          "no",
          "no",
          "yes",
          "no",
          "no",
          "no",
          "no",
          "no",
          "no",
          "no",
          "no",
          "no",
          "no",
          "yes",
          "yes",
          "no",
          "no",
          "no",
          "no",
          "no",
          "no",
          "yes",
          "no",
          "no",
          "no",
          "no",
          "no",
          "no",
          "no",
          "no",
          "no",
          "no",
          "no",
          "yes",
          "yes",
          "no",
          "no",
          "no",
          "no",
          "no",
          "no",
          "no",
          "yes",
          "no",
          "no",
          "yes",
          "no",
          "yes",
          "no",
          "no",
          "no",
          "no",
          "no",
          "no",
          "no",
          "no",
          "no",
          "no",
          "no",
          "yes",
          "yes",
          "no",
          "no",
          "no",
          "no",
          "no",
          "no",
          "no",
          "yes",
          "no",
          "no",
          "yes",
          "no",
          "yes",
          "no",
          "no",
          "no",
          "no",
          "no",
          "no",
          "no",
          "yes",
          "no",
          "no",
          "yes",
          "no",
          "yes",
          "no",
          "yes",
          "no",
          "yes",
          "no",
          "no",
          "no",
          "yes",
          "no",
          "no",
          "no",
          "yes",
          "yes",
          "no",
          "no",
          "yes",
          "no",
          "no",
          "no",
          "no",
          "no",
          "no",
          "yes",
          "no",
          "no",
          "no",
          "no",
          "no",
          "no",
          "no",
          "no",
          "no",
          "no",
          "no",
          "yes",
          "no",
          "no",
          "no",
          "no",
          "no",
          "no",
          "no",
          "yes",
          "no",
          "yes",
          "no",
          "no",
          "no",
          "no",
          "no",
          "no",
          "no",
          "no",
          "no",
          "yes",
          "no",
          "yes",
          "no",
          "no",
          "no",
          "no",
          "no",
          "yes",
          "yes",
          "yes",
          "no",
          "no"
         ],
         "y": [
          21984.47061,
          1837.237,
          2395.17155,
          14451.83515,
          1625.43375,
          2302.3,
          6272.4772,
          12629.8967,
          23244.7902,
          30166.61817,
          14711.7438,
          17663.1442,
          16577.7795,
          21098.55405,
          10942.13205,
          22412.6485,
          15820.699,
          6686.4313,
          1705.6245,
          13616.3586,
          27375.90478,
          5125.2157,
          19964.7463,
          21223.6758,
          4827.90495,
          4005.4225,
          13012.20865,
          7147.105,
          2483.736,
          25081.76784,
          19515.5416,
          6710.1919,
          19444.2658,
          5354.07465,
          1832.094,
          11520.09985,
          24869.8368,
          17179.522,
          2803.69785,
          2150.469,
          9855.1314,
          1704.5681,
          24873.3849,
          1737.376,
          3561.8889,
          11830.6072,
          1607.5101,
          13844.506,
          3180.5101,
          8017.06115,
          13415.0381,
          12029.2867,
          21659.9301,
          8302.53565,
          3176.8159,
          7526.70645,
          9264.797,
          3260.199,
          4185.0979,
          8539.671,
          6652.5288,
          19594.80965,
          5080.096,
          18608.262,
          9788.8659,
          4906.40965,
          4032.2407,
          1969.614,
          23288.9284,
          2201.0971,
          12475.3513,
          4931.647,
          8211.1002,
          22218.1149,
          3077.0955,
          9361.3268,
          12957.118,
          3847.674,
          9193.8385,
          3206.49135,
          17626.23951,
          1242.816,
          3861.20965,
          8428.0693,
          15359.1045,
          25678.77845,
          6753.038,
          9182.17,
          7173.35995,
          2709.1119,
          8252.2843,
          22192.43711,
          27037.9141,
          7222.78625,
          10156.7832,
          1242.26,
          9863.4718,
          4766.022,
          26236.57997,
          2352.96845,
          10107.2206,
          2457.502,
          9566.9909,
          13112.6048,
          16657.71745,
          19361.9988,
          10065.413,
          3484.331,
          8604.48365,
          1627.28245,
          11833.7823,
          7985.815,
          6933.24225,
          18259.216,
          5209.57885,
          2731.9122,
          21195.818,
          4719.52405,
          17904.52705,
          2103.08,
          11013.7119,
          4428.88785,
          2842.76075,
          12523.6048,
          6117.4945,
          4719.73655,
          6402.29135,
          12323.936,
          2974.126,
          11729.6795,
          24106.91255,
          15817.9857,
          5458.04645,
          13129.60345,
          4391.652,
          5966.8874,
          8891.1395,
          2585.85065,
          10422.91665,
          19798.05455,
          2117.33885,
          8688.85885,
          17496.306,
          5257.50795,
          35069.37452,
          6250.435,
          2913.569,
          12032.326,
          8965.79575,
          1121.8739,
          1628.4709,
          9500.57305,
          23967.38305,
          4992.3764,
          2527.81865,
          16138.76205,
          4500.33925,
          14571.8908,
          3378.91,
          16420.49455,
          7986.47525,
          17361.7661,
          8627.5411,
          23241.47453,
          8269.044,
          18767.7377,
          2709.24395,
          1711.0268,
          21595.38229,
          21677.28345,
          13747.87235,
          12094.478,
          1704.70015,
          21880.82,
          3594.17085,
          3353.4703,
          14349.8544,
          11884.04858,
          5855.9025,
          10577.087,
          16776.30405,
          8605.3615,
          2396.0959,
          5693.4305,
          1728.897,
          8582.3023,
          3176.2877,
          27117.99378,
          10791.96,
          7228.21565,
          14426.07385,
          4529.477,
          23887.6627,
          8603.8234,
          13725.47184,
          4134.08245,
          6198.7518,
          1702.4553,
          4718.20355,
          6593.5083,
          26125.67477,
          6858.4796,
          20167.33603,
          12479.70895,
          11345.519,
          14449.8544,
          6985.50695,
          4296.2712,
          5615.369,
          1241.565,
          10197.7722,
          4544.2348,
          26926.5144,
          10959.33,
          14283.4594,
          8534.6718,
          7133.9025,
          1515.3449,
          1964.78,
          3208.787,
          21259.37795,
          16115.3045,
          18765.87545,
          1731.677,
          22395.74424
         ]
        },
        {
         "marker": {
          "color": "rgb(228, 26, 28)"
         },
         "name": "Obese II",
         "type": "bar",
         "x": [
          "no",
          "yes",
          "no",
          "yes",
          "yes",
          "yes",
          "yes",
          "yes",
          "no",
          "no",
          "no",
          "no",
          "yes",
          "no",
          "yes",
          "no",
          "no",
          "no",
          "no",
          "no",
          "no",
          "yes",
          "no",
          "no",
          "no",
          "yes",
          "no",
          "no",
          "no",
          "no",
          "no",
          "no",
          "no",
          "no",
          "no",
          "no",
          "yes",
          "yes",
          "no",
          "no",
          "yes",
          "no",
          "no",
          "yes",
          "no",
          "no",
          "no",
          "no",
          "no",
          "yes",
          "no",
          "no",
          "no",
          "yes",
          "no",
          "no",
          "yes",
          "no",
          "no",
          "yes",
          "no",
          "no",
          "yes",
          "no",
          "yes",
          "no",
          "no",
          "no",
          "no",
          "no",
          "no",
          "no",
          "no",
          "no",
          "no",
          "no",
          "no",
          "no",
          "yes",
          "no",
          "no",
          "no",
          "no",
          "no",
          "no",
          "no",
          "no",
          "no",
          "no",
          "yes",
          "no",
          "no",
          "no",
          "no",
          "no",
          "no",
          "no",
          "no",
          "no",
          "no",
          "no",
          "no",
          "no",
          "yes",
          "no",
          "no",
          "no",
          "no",
          "yes",
          "yes",
          "no",
          "no",
          "yes",
          "no",
          "no",
          "no",
          "no",
          "no",
          "no",
          "no",
          "no",
          "no",
          "no",
          "yes",
          "no",
          "yes",
          "no",
          "yes",
          "no",
          "yes",
          "no",
          "no",
          "no",
          "no",
          "no",
          "yes",
          "no",
          "yes",
          "yes",
          "no",
          "no",
          "no",
          "yes",
          "no",
          "no",
          "no",
          "no",
          "no",
          "no",
          "no",
          "no",
          "no",
          "no",
          "no",
          "no",
          "yes",
          "no",
          "yes",
          "no",
          "no",
          "yes",
          "no",
          "yes",
          "no",
          "no",
          "no",
          "no",
          "no",
          "no",
          "no",
          "no",
          "no",
          "no",
          "no",
          "no",
          "no",
          "no",
          "no",
          "no",
          "no",
          "no",
          "no",
          "no",
          "no",
          "yes",
          "yes",
          "no",
          "yes",
          "no",
          "no",
          "no",
          "no",
          "yes",
          "yes",
          "no",
          "no",
          "yes",
          "yes",
          "no",
          "yes",
          "no",
          "no",
          "no",
          "no",
          "no",
          "no",
          "yes",
          "no",
          "no",
          "no",
          "no",
          "no",
          "no",
          "yes",
          "no",
          "no",
          "no",
          "no",
          "no",
          "yes",
          "yes",
          "no",
          "no",
          "no",
          "no"
         ],
         "y": [
          11090.7178,
          36837.467,
          13228.84695,
          38711,
          35585.576,
          51194.55914,
          39774.2763,
          48173.361,
          4949.7587,
          6079.6715,
          20630.28351,
          3393.35635,
          38709.176,
          2211.13075,
          47496.49445,
          5989.52365,
          14235.072,
          5920.1041,
          1532.4697,
          2755.02095,
          7935.29115,
          37165.1638,
          2026.9741,
          3766.8838,
          10226.2842,
          47055.5321,
          2404.7338,
          7740.337,
          9634.538,
          11163.568,
          2166.732,
          5138.2567,
          9877.6077,
          10959.6947,
          6334.34355,
          6948.7008,
          36950.2567,
          36149.4835,
          10450.552,
          4830.63,
          48824.45,
          1631.8212,
          14901.5167,
          37133.8982,
          7371.772,
          2689.4954,
          7443.64305,
          4463.2051,
          7152.6714,
          38511.6283,
          7196.867,
          12648.7034,
          1986.9334,
          36219.40545,
          20462.99766,
          7265.7025,
          47896.79135,
          12265.5069,
          12646.207,
          42124.5153,
          8124.4084,
          4667.60765,
          42760.5022,
          9144.565,
          48517.56315,
          19144.57652,
          13981.85035,
          4889.9995,
          12404.8791,
          14133.03775,
          11856.4115,
          10736.87075,
          2138.0707,
          1631.6683,
          11396.9002,
          2134.9015,
          7345.7266,
          14418.2804,
          46599.1084,
          28287.89766,
          4762.329,
          21797.0004,
          10601.412,
          10381.4787,
          15230.32405,
          2534.39375,
          1534.3045,
          9304.7019,
          9880.068,
          48885.13561,
          13470.86,
          11362.755,
          27724.28875,
          5397.6167,
          8342.90875,
          19214.70553,
          5972.378,
          6196.448,
          13887.204,
          3268.84665,
          1646.4297,
          2219.4451,
          31620.00106,
          58571.07448,
          13635.6379,
          33471.97189,
          1633.0444,
          16085.1275,
          39241.442,
          42969.8527,
          10713.644,
          11365.952,
          42983.4585,
          10085.846,
          3366.6697,
          9391.346,
          14410.9321,
          24915.04626,
          18806.14547,
          10579.711,
          8527.532,
          12244.531,
          26392.26029,
          42560.4304,
          12363.547,
          40103.89,
          8068.185,
          40273.6455,
          3500.6123,
          44400.4064,
          1727.54,
          10848.1343,
          11264.541,
          12979.358,
          1263.249,
          40932.4295,
          6781.3542,
          40419.0191,
          44585.45587,
          8556.907,
          14210.53595,
          5428.7277,
          36307.7983,
          2416.955,
          14319.031,
          27941.28758,
          12797.20962,
          7448.40395,
          9386.1613,
          12741.16745,
          1917.3184,
          14313.8463,
          7731.85785,
          2136.88225,
          3597.596,
          55135.40209,
          7160.3303,
          42111.6647,
          1141.4451,
          8457.818,
          46255.1125,
          1682.597,
          44202.6536,
          8125.7845,
          12644.589,
          15170.069,
          4320.41085,
          13470.8044,
          7348.142,
          4673.3922,
          12982.8747,
          11674.13,
          7160.094,
          3875.7341,
          28468.91901,
          2730.10785,
          14474.675,
          26467.09737,
          2322.6218,
          9704.66805,
          13887.9685,
          6551.7501,
          12495.29085,
          8798.593,
          42211.1382,
          44423.803,
          12950.0712,
          37484.4493,
          11394.06555,
          8023.13545,
          2480.9791,
          8978.1851,
          39871.7043,
          41676.0811,
          3471.4096,
          11363.2832,
          41949.2441,
          38282.7495,
          8347.1643,
          46661.4424,
          5836.5204,
          9048.0273,
          12235.8392,
          5630.45785,
          18963.17192,
          4670.64,
          37465.34375,
          8671.19125,
          12347.172,
          12890.05765,
          4058.1161,
          4795.6568,
          7162.0122,
          49577.6624,
          1633.9618,
          6474.013,
          11436.73815,
          30063.58055,
          3277.161,
          47403.88,
          38344.566,
          19496.71917,
          12981.3457,
          10325.206,
          1629.8335
         ]
        },
        {
         "marker": {
          "color": "rgb(176, 28, 58)"
         },
         "name": "Obese III",
         "type": "bar",
         "x": [
          "yes",
          "no",
          "no",
          "no",
          "no",
          "yes",
          "no",
          "no",
          "no",
          "yes",
          "yes",
          "no",
          "yes",
          "no",
          "no",
          "no",
          "no",
          "yes",
          "no",
          "no",
          "no",
          "no",
          "no",
          "no",
          "no",
          "no",
          "yes",
          "no",
          "yes",
          "no",
          "yes",
          "no",
          "no",
          "no",
          "yes",
          "no",
          "no",
          "no",
          "no",
          "no",
          "no",
          "no",
          "no",
          "yes",
          "no",
          "no",
          "no",
          "no",
          "no",
          "no",
          "no",
          "no",
          "no",
          "no",
          "no",
          "yes",
          "no",
          "no",
          "no",
          "yes",
          "no",
          "no",
          "no",
          "yes",
          "no",
          "no",
          "no",
          "yes",
          "no",
          "no",
          "no",
          "yes",
          "yes",
          "no",
          "no",
          "yes",
          "no",
          "no",
          "yes",
          "no",
          "no",
          "no",
          "no",
          "no",
          "no",
          "no",
          "yes",
          "no",
          "no",
          "yes",
          "no"
         ],
         "y": [
          39611.7577,
          10602.385,
          11033.6617,
          11381.3254,
          13405.3903,
          43753.33705,
          6610.1097,
          24227.33724,
          5400.9805,
          46151.1245,
          48549.17835,
          9432.9253,
          42112.2356,
          11566.30055,
          10977.2063,
          8944.1151,
          1837.2819,
          38126.2465,
          5846.9176,
          8083.9198,
          12592.5345,
          1149.3959,
          4686.3887,
          15555.18875,
          12574.049,
          3994.1778,
          48675.5177,
          13831.1152,
          63770.42801,
          11538.421,
          45863.205,
          17878.90068,
          9058.7303,
          6373.55735,
          45702.02235,
          4753.6368,
          6356.2707,
          5709.1644,
          11326.71487,
          6666.243,
          9800.8882,
          3410.324,
          6435.6237,
          46200.9851,
          12485.8009,
          5438.7491,
          3201.24515,
          9541.69555,
          9504.3103,
          1984.4533,
          9875.6804,
          2217.6012,
          1146.7966,
          5662.225,
          4266.1658,
          38792.6856,
          28476.73499,
          6360.9936,
          2438.0552,
          46113.511,
          11576.13,
          13063.883,
          1634.5734,
          48673.5588,
          2927.0647,
          9549.5651,
          2217.46915,
          47462.894,
          1759.338,
          7804.1605,
          8569.8618,
          44501.3982,
          48970.2476,
          5757.41345,
          9748.9106,
          40904.1995,
          3693.428,
          20709.02034,
          39722.7462,
          3989.841,
          5124.1887,
          10982.5013,
          11093.6229,
          7650.77375,
          8733.22925,
          3238.4357,
          47269.854,
          4536.259,
          1163.4627,
          43896.3763,
          11411.685
         ]
        },
        {
         "marker": {
          "color": "rgb(128, 205, 193)"
         },
         "name": "Underweight I",
         "type": "bar",
         "x": [
          "no",
          "yes",
          "no",
          "no",
          "yes",
          "yes",
          "no",
          "yes",
          "no",
          "no",
          "no",
          "no",
          "no",
          "yes",
          "no",
          "no",
          "no"
         ],
         "y": [
          2775.19215,
          32734.1863,
          9644.2525,
          1727.785,
          12829.4551,
          15006.57945,
          1621.3402,
          14455.64405,
          2585.269,
          2680.9493,
          11534.87265,
          6877.9801,
          13204.28565,
          19023.26,
          9991.03765,
          5116.5004,
          3732.6251
         ]
        },
        {
         "marker": {
          "color": "rgb(31, 119, 180)"
         },
         "name": "Underweight III",
         "type": "bar",
         "x": [
          "no"
         ],
         "y": [
          1694.7964
         ]
        },
        {
         "marker": {
          "color": "rgb(65, 171, 93)"
         },
         "name": "Underweight II",
         "type": "bar",
         "x": [
          "no",
          "no"
         ],
         "y": [
          3167.45585,
          6640.54485
         ]
        }
       ],
       "layout": {
        "template": {
         "data": {
          "bar": [
           {
            "error_x": {
             "color": "#2a3f5f"
            },
            "error_y": {
             "color": "#2a3f5f"
            },
            "marker": {
             "line": {
              "color": "#E5ECF6",
              "width": 0.5
             },
             "pattern": {
              "fillmode": "overlay",
              "size": 10,
              "solidity": 0.2
             }
            },
            "type": "bar"
           }
          ],
          "barpolar": [
           {
            "marker": {
             "line": {
              "color": "#E5ECF6",
              "width": 0.5
             },
             "pattern": {
              "fillmode": "overlay",
              "size": 10,
              "solidity": 0.2
             }
            },
            "type": "barpolar"
           }
          ],
          "carpet": [
           {
            "aaxis": {
             "endlinecolor": "#2a3f5f",
             "gridcolor": "white",
             "linecolor": "white",
             "minorgridcolor": "white",
             "startlinecolor": "#2a3f5f"
            },
            "baxis": {
             "endlinecolor": "#2a3f5f",
             "gridcolor": "white",
             "linecolor": "white",
             "minorgridcolor": "white",
             "startlinecolor": "#2a3f5f"
            },
            "type": "carpet"
           }
          ],
          "choropleth": [
           {
            "colorbar": {
             "outlinewidth": 0,
             "ticks": ""
            },
            "type": "choropleth"
           }
          ],
          "contour": [
           {
            "colorbar": {
             "outlinewidth": 0,
             "ticks": ""
            },
            "colorscale": [
             [
              0,
              "#0d0887"
             ],
             [
              0.1111111111111111,
              "#46039f"
             ],
             [
              0.2222222222222222,
              "#7201a8"
             ],
             [
              0.3333333333333333,
              "#9c179e"
             ],
             [
              0.4444444444444444,
              "#bd3786"
             ],
             [
              0.5555555555555556,
              "#d8576b"
             ],
             [
              0.6666666666666666,
              "#ed7953"
             ],
             [
              0.7777777777777778,
              "#fb9f3a"
             ],
             [
              0.8888888888888888,
              "#fdca26"
             ],
             [
              1,
              "#f0f921"
             ]
            ],
            "type": "contour"
           }
          ],
          "contourcarpet": [
           {
            "colorbar": {
             "outlinewidth": 0,
             "ticks": ""
            },
            "type": "contourcarpet"
           }
          ],
          "heatmap": [
           {
            "colorbar": {
             "outlinewidth": 0,
             "ticks": ""
            },
            "colorscale": [
             [
              0,
              "#0d0887"
             ],
             [
              0.1111111111111111,
              "#46039f"
             ],
             [
              0.2222222222222222,
              "#7201a8"
             ],
             [
              0.3333333333333333,
              "#9c179e"
             ],
             [
              0.4444444444444444,
              "#bd3786"
             ],
             [
              0.5555555555555556,
              "#d8576b"
             ],
             [
              0.6666666666666666,
              "#ed7953"
             ],
             [
              0.7777777777777778,
              "#fb9f3a"
             ],
             [
              0.8888888888888888,
              "#fdca26"
             ],
             [
              1,
              "#f0f921"
             ]
            ],
            "type": "heatmap"
           }
          ],
          "heatmapgl": [
           {
            "colorbar": {
             "outlinewidth": 0,
             "ticks": ""
            },
            "colorscale": [
             [
              0,
              "#0d0887"
             ],
             [
              0.1111111111111111,
              "#46039f"
             ],
             [
              0.2222222222222222,
              "#7201a8"
             ],
             [
              0.3333333333333333,
              "#9c179e"
             ],
             [
              0.4444444444444444,
              "#bd3786"
             ],
             [
              0.5555555555555556,
              "#d8576b"
             ],
             [
              0.6666666666666666,
              "#ed7953"
             ],
             [
              0.7777777777777778,
              "#fb9f3a"
             ],
             [
              0.8888888888888888,
              "#fdca26"
             ],
             [
              1,
              "#f0f921"
             ]
            ],
            "type": "heatmapgl"
           }
          ],
          "histogram": [
           {
            "marker": {
             "pattern": {
              "fillmode": "overlay",
              "size": 10,
              "solidity": 0.2
             }
            },
            "type": "histogram"
           }
          ],
          "histogram2d": [
           {
            "colorbar": {
             "outlinewidth": 0,
             "ticks": ""
            },
            "colorscale": [
             [
              0,
              "#0d0887"
             ],
             [
              0.1111111111111111,
              "#46039f"
             ],
             [
              0.2222222222222222,
              "#7201a8"
             ],
             [
              0.3333333333333333,
              "#9c179e"
             ],
             [
              0.4444444444444444,
              "#bd3786"
             ],
             [
              0.5555555555555556,
              "#d8576b"
             ],
             [
              0.6666666666666666,
              "#ed7953"
             ],
             [
              0.7777777777777778,
              "#fb9f3a"
             ],
             [
              0.8888888888888888,
              "#fdca26"
             ],
             [
              1,
              "#f0f921"
             ]
            ],
            "type": "histogram2d"
           }
          ],
          "histogram2dcontour": [
           {
            "colorbar": {
             "outlinewidth": 0,
             "ticks": ""
            },
            "colorscale": [
             [
              0,
              "#0d0887"
             ],
             [
              0.1111111111111111,
              "#46039f"
             ],
             [
              0.2222222222222222,
              "#7201a8"
             ],
             [
              0.3333333333333333,
              "#9c179e"
             ],
             [
              0.4444444444444444,
              "#bd3786"
             ],
             [
              0.5555555555555556,
              "#d8576b"
             ],
             [
              0.6666666666666666,
              "#ed7953"
             ],
             [
              0.7777777777777778,
              "#fb9f3a"
             ],
             [
              0.8888888888888888,
              "#fdca26"
             ],
             [
              1,
              "#f0f921"
             ]
            ],
            "type": "histogram2dcontour"
           }
          ],
          "mesh3d": [
           {
            "colorbar": {
             "outlinewidth": 0,
             "ticks": ""
            },
            "type": "mesh3d"
           }
          ],
          "parcoords": [
           {
            "line": {
             "colorbar": {
              "outlinewidth": 0,
              "ticks": ""
             }
            },
            "type": "parcoords"
           }
          ],
          "pie": [
           {
            "automargin": true,
            "type": "pie"
           }
          ],
          "scatter": [
           {
            "fillpattern": {
             "fillmode": "overlay",
             "size": 10,
             "solidity": 0.2
            },
            "type": "scatter"
           }
          ],
          "scatter3d": [
           {
            "line": {
             "colorbar": {
              "outlinewidth": 0,
              "ticks": ""
             }
            },
            "marker": {
             "colorbar": {
              "outlinewidth": 0,
              "ticks": ""
             }
            },
            "type": "scatter3d"
           }
          ],
          "scattercarpet": [
           {
            "marker": {
             "colorbar": {
              "outlinewidth": 0,
              "ticks": ""
             }
            },
            "type": "scattercarpet"
           }
          ],
          "scattergeo": [
           {
            "marker": {
             "colorbar": {
              "outlinewidth": 0,
              "ticks": ""
             }
            },
            "type": "scattergeo"
           }
          ],
          "scattergl": [
           {
            "marker": {
             "colorbar": {
              "outlinewidth": 0,
              "ticks": ""
             }
            },
            "type": "scattergl"
           }
          ],
          "scattermapbox": [
           {
            "marker": {
             "colorbar": {
              "outlinewidth": 0,
              "ticks": ""
             }
            },
            "type": "scattermapbox"
           }
          ],
          "scatterpolar": [
           {
            "marker": {
             "colorbar": {
              "outlinewidth": 0,
              "ticks": ""
             }
            },
            "type": "scatterpolar"
           }
          ],
          "scatterpolargl": [
           {
            "marker": {
             "colorbar": {
              "outlinewidth": 0,
              "ticks": ""
             }
            },
            "type": "scatterpolargl"
           }
          ],
          "scatterternary": [
           {
            "marker": {
             "colorbar": {
              "outlinewidth": 0,
              "ticks": ""
             }
            },
            "type": "scatterternary"
           }
          ],
          "surface": [
           {
            "colorbar": {
             "outlinewidth": 0,
             "ticks": ""
            },
            "colorscale": [
             [
              0,
              "#0d0887"
             ],
             [
              0.1111111111111111,
              "#46039f"
             ],
             [
              0.2222222222222222,
              "#7201a8"
             ],
             [
              0.3333333333333333,
              "#9c179e"
             ],
             [
              0.4444444444444444,
              "#bd3786"
             ],
             [
              0.5555555555555556,
              "#d8576b"
             ],
             [
              0.6666666666666666,
              "#ed7953"
             ],
             [
              0.7777777777777778,
              "#fb9f3a"
             ],
             [
              0.8888888888888888,
              "#fdca26"
             ],
             [
              1,
              "#f0f921"
             ]
            ],
            "type": "surface"
           }
          ],
          "table": [
           {
            "cells": {
             "fill": {
              "color": "#EBF0F8"
             },
             "line": {
              "color": "white"
             }
            },
            "header": {
             "fill": {
              "color": "#C8D4E3"
             },
             "line": {
              "color": "white"
             }
            },
            "type": "table"
           }
          ]
         },
         "layout": {
          "annotationdefaults": {
           "arrowcolor": "#2a3f5f",
           "arrowhead": 0,
           "arrowwidth": 1
          },
          "autotypenumbers": "strict",
          "coloraxis": {
           "colorbar": {
            "outlinewidth": 0,
            "ticks": ""
           }
          },
          "colorscale": {
           "diverging": [
            [
             0,
             "#8e0152"
            ],
            [
             0.1,
             "#c51b7d"
            ],
            [
             0.2,
             "#de77ae"
            ],
            [
             0.3,
             "#f1b6da"
            ],
            [
             0.4,
             "#fde0ef"
            ],
            [
             0.5,
             "#f7f7f7"
            ],
            [
             0.6,
             "#e6f5d0"
            ],
            [
             0.7,
             "#b8e186"
            ],
            [
             0.8,
             "#7fbc41"
            ],
            [
             0.9,
             "#4d9221"
            ],
            [
             1,
             "#276419"
            ]
           ],
           "sequential": [
            [
             0,
             "#0d0887"
            ],
            [
             0.1111111111111111,
             "#46039f"
            ],
            [
             0.2222222222222222,
             "#7201a8"
            ],
            [
             0.3333333333333333,
             "#9c179e"
            ],
            [
             0.4444444444444444,
             "#bd3786"
            ],
            [
             0.5555555555555556,
             "#d8576b"
            ],
            [
             0.6666666666666666,
             "#ed7953"
            ],
            [
             0.7777777777777778,
             "#fb9f3a"
            ],
            [
             0.8888888888888888,
             "#fdca26"
            ],
            [
             1,
             "#f0f921"
            ]
           ],
           "sequentialminus": [
            [
             0,
             "#0d0887"
            ],
            [
             0.1111111111111111,
             "#46039f"
            ],
            [
             0.2222222222222222,
             "#7201a8"
            ],
            [
             0.3333333333333333,
             "#9c179e"
            ],
            [
             0.4444444444444444,
             "#bd3786"
            ],
            [
             0.5555555555555556,
             "#d8576b"
            ],
            [
             0.6666666666666666,
             "#ed7953"
            ],
            [
             0.7777777777777778,
             "#fb9f3a"
            ],
            [
             0.8888888888888888,
             "#fdca26"
            ],
            [
             1,
             "#f0f921"
            ]
           ]
          },
          "colorway": [
           "#636efa",
           "#EF553B",
           "#00cc96",
           "#ab63fa",
           "#FFA15A",
           "#19d3f3",
           "#FF6692",
           "#B6E880",
           "#FF97FF",
           "#FECB52"
          ],
          "font": {
           "color": "#2a3f5f"
          },
          "geo": {
           "bgcolor": "white",
           "lakecolor": "white",
           "landcolor": "#E5ECF6",
           "showlakes": true,
           "showland": true,
           "subunitcolor": "white"
          },
          "hoverlabel": {
           "align": "left"
          },
          "hovermode": "closest",
          "mapbox": {
           "style": "light"
          },
          "paper_bgcolor": "white",
          "plot_bgcolor": "#E5ECF6",
          "polar": {
           "angularaxis": {
            "gridcolor": "white",
            "linecolor": "white",
            "ticks": ""
           },
           "bgcolor": "#E5ECF6",
           "radialaxis": {
            "gridcolor": "white",
            "linecolor": "white",
            "ticks": ""
           }
          },
          "scene": {
           "xaxis": {
            "backgroundcolor": "#E5ECF6",
            "gridcolor": "white",
            "gridwidth": 2,
            "linecolor": "white",
            "showbackground": true,
            "ticks": "",
            "zerolinecolor": "white"
           },
           "yaxis": {
            "backgroundcolor": "#E5ECF6",
            "gridcolor": "white",
            "gridwidth": 2,
            "linecolor": "white",
            "showbackground": true,
            "ticks": "",
            "zerolinecolor": "white"
           },
           "zaxis": {
            "backgroundcolor": "#E5ECF6",
            "gridcolor": "white",
            "gridwidth": 2,
            "linecolor": "white",
            "showbackground": true,
            "ticks": "",
            "zerolinecolor": "white"
           }
          },
          "shapedefaults": {
           "line": {
            "color": "#2a3f5f"
           }
          },
          "ternary": {
           "aaxis": {
            "gridcolor": "white",
            "linecolor": "white",
            "ticks": ""
           },
           "baxis": {
            "gridcolor": "white",
            "linecolor": "white",
            "ticks": ""
           },
           "bgcolor": "#E5ECF6",
           "caxis": {
            "gridcolor": "white",
            "linecolor": "white",
            "ticks": ""
           }
          },
          "title": {
           "x": 0.05
          },
          "xaxis": {
           "automargin": true,
           "gridcolor": "white",
           "linecolor": "white",
           "ticks": "",
           "title": {
            "standoff": 15
           },
           "zerolinecolor": "white",
           "zerolinewidth": 2
          },
          "yaxis": {
           "automargin": true,
           "gridcolor": "white",
           "linecolor": "white",
           "ticks": "",
           "title": {
            "standoff": 15
           },
           "zerolinecolor": "white",
           "zerolinewidth": 2
          }
         }
        },
        "title": {
         "text": "Bar Plot: Charges by Smokers and BMI Classes"
        },
        "xaxis": {
         "title": {
          "text": "Smoker"
         }
        },
        "yaxis": {
         "title": {
          "text": "Charges"
         }
        }
       }
      },
      "text/html": [
       "<div>                            <div id=\"ee76f795-3e93-4e93-9f5f-23308d829ae2\" class=\"plotly-graph-div\" style=\"height:525px; width:100%;\"></div>            <script type=\"text/javascript\">                require([\"plotly\"], function(Plotly) {                    window.PLOTLYENV=window.PLOTLYENV || {};                                    if (document.getElementById(\"ee76f795-3e93-4e93-9f5f-23308d829ae2\")) {                    Plotly.newPlot(                        \"ee76f795-3e93-4e93-9f5f-23308d829ae2\",                        [{\"marker\":{\"color\":\"rgb(252, 186, 3)\"},\"name\":\"Overweight\",\"x\":[\"yes\",\"no\",\"no\",\"no\",\"no\",\"no\",\"no\",\"yes\",\"no\",\"no\",\"no\",\"no\",\"no\",\"no\",\"yes\",\"no\",\"no\",\"no\",\"no\",\"no\",\"no\",\"no\",\"no\",\"no\",\"no\",\"no\",\"no\",\"no\",\"yes\",\"no\",\"yes\",\"no\",\"yes\",\"no\",\"no\",\"no\",\"no\",\"yes\",\"no\",\"no\",\"no\",\"yes\",\"no\",\"no\",\"no\",\"no\",\"no\",\"yes\",\"no\",\"yes\",\"no\",\"no\",\"no\",\"yes\",\"no\",\"yes\",\"no\",\"no\",\"no\",\"no\",\"no\",\"no\",\"no\",\"no\",\"no\",\"no\",\"no\",\"no\",\"no\",\"no\",\"no\",\"yes\",\"no\",\"no\",\"no\",\"no\",\"no\",\"no\",\"no\",\"no\",\"yes\",\"no\",\"yes\",\"no\",\"no\",\"no\",\"yes\",\"no\",\"no\",\"no\",\"no\",\"no\",\"yes\",\"no\",\"no\",\"no\",\"no\",\"no\",\"no\",\"no\",\"yes\",\"yes\",\"no\",\"no\",\"no\",\"no\",\"no\",\"no\",\"no\",\"no\",\"yes\",\"no\",\"no\",\"no\",\"no\",\"no\",\"no\",\"no\",\"no\",\"no\",\"no\",\"no\",\"no\",\"no\",\"no\",\"yes\",\"no\",\"no\",\"yes\",\"no\",\"no\",\"no\",\"no\",\"no\",\"no\",\"yes\",\"no\",\"no\",\"no\",\"no\",\"no\",\"no\",\"no\",\"yes\",\"no\",\"no\",\"yes\",\"yes\",\"yes\",\"no\",\"no\",\"no\",\"yes\",\"no\",\"no\",\"no\",\"no\",\"no\",\"no\",\"yes\",\"no\",\"yes\",\"no\",\"no\",\"no\",\"no\",\"no\",\"yes\",\"no\",\"no\",\"no\",\"no\",\"no\",\"no\",\"no\",\"no\",\"no\",\"no\",\"yes\",\"no\",\"no\",\"no\",\"no\",\"yes\",\"no\",\"no\",\"no\",\"no\",\"yes\",\"yes\",\"no\",\"no\",\"yes\",\"no\",\"no\",\"no\",\"no\",\"no\",\"no\",\"no\",\"no\",\"no\",\"no\",\"no\",\"no\",\"no\",\"no\",\"no\",\"yes\",\"no\",\"no\",\"no\",\"yes\",\"no\",\"no\",\"yes\",\"yes\",\"no\",\"no\",\"no\",\"no\",\"yes\",\"no\",\"yes\",\"no\",\"no\",\"no\",\"no\",\"yes\",\"no\",\"no\",\"no\",\"yes\",\"no\",\"yes\",\"no\",\"no\",\"yes\",\"no\",\"no\",\"no\",\"no\",\"no\",\"no\",\"no\",\"no\",\"no\",\"no\",\"no\",\"no\",\"yes\",\"yes\",\"yes\",\"no\",\"no\",\"no\",\"no\",\"no\",\"no\",\"no\",\"yes\",\"no\",\"no\",\"no\",\"no\",\"no\",\"no\",\"no\",\"yes\",\"no\",\"yes\",\"no\",\"no\",\"no\",\"no\",\"no\",\"no\",\"no\",\"no\",\"no\",\"yes\",\"no\",\"no\",\"no\",\"no\",\"no\",\"no\",\"no\",\"no\",\"yes\",\"no\",\"no\",\"no\",\"yes\",\"no\",\"no\",\"no\",\"yes\",\"no\",\"no\",\"no\",\"no\",\"yes\",\"no\",\"no\",\"no\",\"no\",\"no\",\"no\",\"no\",\"no\",\"no\",\"no\",\"no\",\"no\",\"no\",\"no\",\"no\",\"no\",\"yes\",\"no\",\"no\",\"no\",\"no\",\"no\",\"no\",\"no\",\"no\",\"no\",\"no\",\"yes\",\"yes\",\"no\",\"no\",\"no\",\"yes\",\"no\",\"no\",\"yes\",\"yes\",\"no\",\"no\",\"no\",\"no\",\"yes\",\"yes\",\"no\",\"no\",\"no\",\"no\",\"no\",\"no\",\"yes\",\"yes\",\"no\",\"no\",\"no\",\"no\",\"no\",\"no\",\"no\",\"no\",\"yes\",\"no\",\"yes\",\"no\",\"yes\",\"no\",\"no\",\"no\",\"no\",\"no\",\"no\",\"no\",\"yes\",\"no\",\"yes\",\"no\",\"no\",\"no\",\"no\",\"yes\",\"no\",\"no\",\"no\",\"yes\"],\"y\":[16884.924,3866.8552,3756.6216,7281.5056,6406.4107,28923.13692,2721.3208,27808.7251,6203.90175,14001.1338,2198.18985,4687.797,13770.0979,3046.062,23568.272,8059.6791,8606.2174,4133.64165,1743.214,6389.37785,6799.458,11741.726,7726.854,3947.4131,4441.21315,11073.176,8026.6666,11082.5772,30184.9367,3645.0894,30942.1918,5003.853,17560.37975,2331.519,2867.1196,11881.358,30259.99556,19107.7796,8601.3293,2257.47525,3385.39915,17081.08,12815.44495,1632.56445,2457.21115,2155.6815,2045.68525,18972.495,18157.876,20745.9891,1842.519,7789.635,7077.1894,15518.18025,19749.38338,21348.706,5152.134,5028.1466,10407.08585,6455.86265,10436.096,8823.279,11735.87905,7419.4779,3981.9768,4883.866,2137.6536,12044.342,8516.829,4337.7352,11743.299,20984.0936,3537.703,5002.7827,10355.641,3392.9768,9225.2564,14001.2867,12333.828,1615.7667,17352.6803,35160.13457,29523.1656,4040.55825,13047.33235,11837.16,17085.2676,9282.4806,1719.4363,9617.66245,2523.1695,9715.841,22331.5668,4237.12655,7742.1098,14256.1928,25992.82104,20277.80751,2156.7518,3906.127,16297.846,21978.6769,9249.4952,6746.7425,20177.67113,8444.474,7421.19455,4894.7533,24671.66334,2866.091,24393.6224,11658.37915,12142.5786,13937.6665,8232.6388,18955.22017,13217.0945,6184.2994,5478.0368,1635.73365,8932.084,3554.203,24603.04837,9620.3307,2597.779,18033.9679,30284.64294,14988.432,28950.4692,6555.07035,7323.734819,5969.723,4243.59005,5926.846,2897.3235,26109.32905,12730.9996,11454.0215,5910.944,7512.267,1769.53165,11165.41765,1632.03625,19521.9682,13224.693,1744.465,25382.297,28868.6639,35147.52848,1253.936,24513.09126,2196.4732,17942.106,1967.0227,8027.968,6837.3687,5974.3847,3044.2133,11455.28,21082.16,25656.57526,38245.59327,9861.025,1708.0014,12925.886,6067.12675,8233.0975,23807.2406,3213.62205,3972.9247,3761.292,12222.8983,1664.9996,12913.9924,4779.6023,11842.442,7640.3092,11070.535,17468.9839,3558.62025,4435.0942,8547.6913,11658.11505,23306.547,12129.61415,3736.4647,6748.5912,1977.815,20149.3229,32787.45859,6123.5688,1712.227,24667.419,14394.39815,8703.456,6500.2359,4399.731,11244.3769,7729.64575,2104.1134,5385.3379,8930.93455,10264.4421,5469.0066,12146.971,10106.13425,6664.68595,9447.25035,18246.4955,3757.8448,8827.2099,11737.84884,19539.243,1906.35825,5031.26955,23065.4207,19040.876,3070.8087,9095.06825,7050.642,11150.78,17748.5062,9869.8102,24520.264,4350.5144,6414.178,13457.9608,1252.407,18310.742,7046.7222,1815.8759,3309.7926,23401.30575,8219.2039,20773.62775,5266.3656,11657.7189,27533.9129,1875.344,10965.446,7151.092,8782.469,6600.361,3392.3652,2690.1138,26140.3603,6282.235,6311.952,2789.0574,4877.98105,19719.6947,27218.43725,29330.98315,7243.8136,2221.56445,4661.28635,4564.19145,2639.0429,14382.70905,7626.993,21774.32215,13041.921,13451.122,10096.97,12233.828,32108.66282,2304.0022,9487.6442,19933.458,4527.18295,20009.63365,12609.88702,3353.284,4746.344,7518.02535,3279.86855,10702.6424,2902.9065,4889.0368,25517.11363,19199.944,7624.63,28340.18885,7144.86265,5484.4673,5267.81815,1972.95,21232.18226,4438.2634,24915.22085,9957.7216,5383.536,12124.9924,16450.8947,4137.5227,2250.8352,22493.65964,20234.85475,3161.454,7325.0482,14394.5579,9288.0267,25309.489,10594.50155,8277.523,11554.2236,6548.19505,5708.867,7045.499,12096.6512,4562.8421,2102.2647,4454.40265,10796.35025,11286.5387,11253.421,20420.60465,8988.15875,10493.9458,24180.9335,5312.16985,9222.4026,14254.6082,10214.636,11085.5868,7623.518,11015.1747,2200.83085,7153.5539,5227.98875,17178.6824,22478.6,6457.8434,2154.361,6496.886,19350.3689,2850.68375,9447.3824,18328.2381,21771.3423,13126.67745,18838.70366,6393.60345,4934.705,18223.4512,20296.86345,5415.6612,8442.667,8515.7587,12224.35085,9101.798,6059.173,18648.4217,16232.847,15828.82173,4415.1588,11305.93455,6770.1925,7337.748,8615.3,14478.33015,4747.0529,17043.3414,4357.04365,22462.04375,4189.1131,24535.69855,5472.449,9301.89355,11931.12525,1708.92575,4340.4409,5261.46945,2710.82855,37829.7242,2464.6188,21472.4788,6940.90985,4571.41305,11272.33139,7201.70085,28101.33305,4239.89265,12629.1656,2007.945,29141.3603],\"type\":\"bar\"},{\"marker\":{\"color\":\"rgb(244, 109, 67)\"},\"name\":\"Obese I\",\"x\":[\"no\",\"no\",\"no\",\"no\",\"no\",\"no\",\"no\",\"yes\",\"no\",\"no\",\"no\",\"no\",\"no\",\"yes\",\"no\",\"yes\",\"no\",\"no\",\"no\",\"no\",\"yes\",\"yes\",\"no\",\"yes\",\"no\",\"no\",\"no\",\"no\",\"no\",\"no\",\"no\",\"yes\",\"no\",\"no\",\"no\",\"no\",\"no\",\"yes\",\"no\",\"no\",\"no\",\"no\",\"no\",\"no\",\"no\",\"no\",\"no\",\"no\",\"no\",\"no\",\"no\",\"no\",\"no\",\"no\",\"no\",\"no\",\"no\",\"no\",\"no\",\"no\",\"no\",\"yes\",\"no\",\"no\",\"no\",\"yes\",\"yes\",\"no\",\"yes\",\"yes\",\"yes\",\"no\",\"no\",\"yes\",\"no\",\"no\",\"no\",\"no\",\"yes\",\"no\",\"no\",\"no\",\"no\",\"no\",\"yes\",\"no\",\"no\",\"no\",\"yes\",\"no\",\"yes\",\"no\",\"no\",\"yes\",\"no\",\"no\",\"no\",\"no\",\"no\",\"no\",\"no\",\"no\",\"no\",\"yes\",\"no\",\"no\",\"no\",\"yes\",\"no\",\"no\",\"no\",\"no\",\"no\",\"no\",\"no\",\"no\",\"no\",\"no\",\"no\",\"no\",\"yes\",\"yes\",\"no\",\"no\",\"no\",\"no\",\"no\",\"no\",\"no\",\"no\",\"yes\",\"no\",\"no\",\"no\",\"no\",\"yes\",\"no\",\"no\",\"no\",\"no\",\"no\",\"no\",\"no\",\"no\",\"no\",\"no\",\"yes\",\"yes\",\"no\",\"no\",\"no\",\"no\",\"no\",\"no\",\"no\",\"no\",\"no\",\"no\",\"no\",\"no\",\"no\",\"no\",\"no\",\"no\",\"no\",\"no\",\"no\",\"no\",\"yes\",\"no\",\"no\",\"no\",\"no\",\"no\",\"no\",\"no\",\"no\",\"no\",\"yes\",\"no\",\"no\",\"no\",\"no\",\"no\",\"no\",\"no\",\"no\",\"no\",\"no\",\"yes\",\"no\",\"yes\",\"yes\",\"no\",\"no\",\"no\",\"no\",\"no\",\"no\",\"no\",\"no\",\"no\",\"yes\",\"yes\",\"no\",\"no\",\"no\",\"yes\",\"yes\",\"no\",\"no\",\"no\",\"no\",\"no\",\"no\",\"no\",\"no\",\"no\",\"no\",\"no\",\"no\",\"yes\",\"yes\",\"no\",\"no\",\"no\",\"no\",\"no\",\"no\",\"no\",\"no\",\"no\",\"no\",\"no\",\"no\",\"no\",\"no\",\"no\",\"no\",\"no\",\"no\",\"no\",\"yes\",\"yes\",\"no\",\"no\",\"no\",\"no\",\"no\",\"no\",\"yes\",\"no\",\"yes\",\"no\",\"no\",\"yes\",\"no\",\"yes\",\"no\",\"no\",\"no\",\"no\",\"no\",\"no\",\"no\",\"no\",\"no\",\"no\",\"yes\",\"no\",\"no\",\"no\",\"no\",\"no\",\"no\",\"no\",\"yes\",\"no\",\"yes\",\"yes\",\"yes\",\"no\",\"no\",\"no\",\"no\",\"no\",\"no\",\"no\",\"yes\",\"no\",\"no\",\"no\",\"no\",\"no\",\"yes\",\"no\",\"no\",\"yes\",\"yes\",\"yes\",\"no\",\"no\",\"no\",\"no\",\"no\",\"no\",\"no\",\"yes\",\"no\",\"no\",\"no\",\"no\",\"no\",\"yes\",\"no\",\"no\",\"yes\",\"no\",\"no\",\"no\",\"no\",\"no\",\"no\",\"no\",\"yes\",\"yes\",\"no\",\"no\",\"no\",\"no\",\"yes\",\"no\",\"no\",\"no\",\"no\",\"yes\",\"no\",\"no\",\"no\",\"yes\",\"no\",\"no\",\"no\",\"no\",\"no\",\"no\",\"no\",\"no\",\"no\",\"yes\",\"no\",\"no\",\"no\",\"no\",\"yes\",\"no\",\"no\",\"no\",\"no\",\"yes\",\"no\",\"no\",\"no\",\"yes\",\"no\",\"no\",\"no\",\"yes\",\"no\",\"no\",\"yes\",\"no\",\"no\",\"no\",\"no\",\"no\",\"no\",\"no\",\"yes\",\"yes\",\"yes\",\"yes\",\"no\",\"yes\",\"no\",\"no\",\"no\",\"no\",\"no\",\"no\",\"no\"],\"y\":[1725.5523,4449.462,8240.5896,1826.843,10797.3362,4149.736,1137.011,37701.8768,12268.63225,15612.19335,6313.759,3556.9223,3579.8287,37742.5757,13607.36875,34303.1672,4504.6624,11946.6259,11356.6609,6571.02435,39836.519,43578.9394,5729.0053,47291.055,12105.32,6186.127,21344.8467,3877.30425,10825.2537,4646.759,11488.31695,39556.4945,10115.00885,6082.405,1261.442,27322.73386,3490.5491,40720.55105,6128.79745,2719.27975,8116.68,5246.047,2855.43755,8538.28845,7731.4271,5325.651,6775.961,4922.9159,12557.6053,1137.4697,1639.5631,5649.715,2130.6759,8871.1517,13880.949,1980.07,8162.71625,8520.026,5012.471,10564.8845,5253.524,34779.615,11987.1682,7358.17565,24476.47851,47305.305,44260.7499,4260.744,41097.16175,43921.1837,33750.2918,14590.63205,7441.053,42856.838,12928.7911,11879.10405,9625.92,3172.018,38746.3551,4349.462,19442.3535,4151.0287,11944.59435,7749.1564,34838.873,9722.7695,8835.26495,10435.06525,35491.64,6600.20595,47928.03,13429.0354,13822.803,41919.097,13352.0998,8334.45755,10043.249,4751.07,9778.3472,13430.265,8116.26885,3481.868,7639.41745,36085.219,1391.5287,16455.70785,27000.98473,42303.69215,20781.48892,1261.859,4618.0799,8964.06055,9290.1395,9411.005,8522.003,16586.49771,14692.66935,10269.46,4074.4537,9140.951,46889.2612,39125.33225,2727.3951,8968.33,18804.7524,23082.95533,12638.195,13919.8229,2254.7967,4738.2682,37079.372,7345.084,11881.9696,11840.77505,7682.67,22144.032,12643.3778,2497.0383,2203.47185,20878.78443,1824.2854,1622.1885,9563.029,4347.02335,10461.9794,1748.774,36197.699,32548.3405,6796.86325,2643.2685,11763.0009,2498.4144,1256.299,8413.46305,5240.765,3857.75925,9866.30485,11482.63485,24059.68019,14043.4767,8825.086,27346.04207,3056.3881,10231.4999,13390.559,11187.6567,8334.5896,3935.1799,39983.42595,10923.9332,2494.022,2801.2588,2128.43105,7256.7231,11552.904,13224.05705,9724.53,1639.5631,43943.8761,5976.8311,2566.4707,8823.98575,5594.8455,7441.501,9174.13565,9283.562,6571.544,2207.69745,1880.07,34439.8559,3659.346,40182.246,34617.84065,12949.1554,13143.86485,4466.6214,10141.1362,12430.95335,8280.6227,4058.71245,5148.5526,1136.3994,40003.33225,45710.20785,4837.5823,3943.5954,6185.3208,46130.5265,34806.4677,2362.22905,3577.999,29186.48236,10976.24575,2020.5523,5375.038,6113.23105,8310.83915,12231.6136,4234.927,14007.222,9583.8933,36189.1017,43254.41795,9910.35985,3062.50825,17128.42608,3925.7582,11842.62375,8062.764,7261.741,10560.4917,6986.697,5934.3798,7209.4918,11848.141,1131.5066,9414.92,5584.3057,1877.9294,7445.918,1621.8827,16069.08475,43813.8661,39597.4072,13393.756,11743.9341,5377.4578,4402.233,12622.1795,1526.312,36021.0112,10072.05505,45008.9555,9872.701,10601.63225,37270.1512,14119.62,40974.1649,18218.16139,12269.68865,6849.026,6653.7886,3443.064,5272.1758,11945.1327,13555.0049,4846.92015,7633.7206,33732.6867,2473.3341,5245.2269,13462.52,5488.262,25333.33284,6289.7549,6238.298,39047.285,6358.77645,38998.546,41999.52,41034.2214,8596.8278,16796.41194,4915.05985,8410.04685,4518.82625,10118.424,7418.522,34472.841,4433.3877,36580.28216,8765.249,3987.926,26018.95052,35595.5898,2020.177,9850.432,39725.51805,33475.81715,39727.614,17929.30337,4462.7218,1981.5819,10928.849,13974.45555,1909.52745,8551.347,34672.1472,15161.5344,4076.497,15019.76005,11353.2276,3591.48,33907.548,11299.343,4561.1885,44641.1974,1674.6323,23045.56616,3227.1211,10338.9316,2904.088,11512.405,10807.4863,36124.5737,34166.273,18903.49141,14358.36437,19673.33573,3704.3545,36898.73308,7954.517,6338.0756,9630.397,11289.10925,52590.82939,2261.5688,5979.731,2203.73595,40941.2854,2459.7201,7727.2532,6112.35295,4433.9159,2899.48935,2632.992,13844.7972,5327.40025,13019.16105,33307.5508,5699.8375,2055.3249,9964.06,36910.60803,38415.474,5373.36425,23563.01618,10806.839,3956.07145,41661.602,7537.1639,10594.2257,11938.25595,60021.39897,2699.56835,3171.6149,1135.9407,37607.5277,10370.91255,10704.47,34254.05335,1880.487,3292.52985,3021.80915,2741.948,8283.6807,1720.3537,7147.4728,34828.654,62592.87309,46718.16325,33900.653,6875.961,36397.576,5425.02335,13143.33665,7050.0213,9377.9047,10795.93733,10600.5483,2205.9808],\"type\":\"bar\"},{\"marker\":{\"color\":\"rgb(255, 127, 14)\"},\"name\":\"Normal range\",\"x\":[\"no\",\"no\",\"no\",\"no\",\"no\",\"no\",\"no\",\"no\",\"yes\",\"no\",\"yes\",\"yes\",\"yes\",\"yes\",\"no\",\"yes\",\"yes\",\"no\",\"no\",\"no\",\"no\",\"no\",\"yes\",\"yes\",\"no\",\"no\",\"no\",\"no\",\"no\",\"no\",\"yes\",\"no\",\"yes\",\"no\",\"no\",\"no\",\"yes\",\"yes\",\"no\",\"no\",\"no\",\"no\",\"yes\",\"no\",\"no\",\"no\",\"no\",\"yes\",\"no\",\"no\",\"no\",\"no\",\"yes\",\"no\",\"no\",\"no\",\"no\",\"no\",\"no\",\"no\",\"no\",\"yes\",\"no\",\"yes\",\"no\",\"no\",\"no\",\"no\",\"no\",\"no\",\"no\",\"no\",\"no\",\"yes\",\"no\",\"no\",\"no\",\"no\",\"no\",\"no\",\"no\",\"no\",\"no\",\"no\",\"yes\",\"yes\",\"no\",\"no\",\"no\",\"no\",\"no\",\"no\",\"yes\",\"no\",\"no\",\"no\",\"no\",\"no\",\"no\",\"no\",\"no\",\"no\",\"no\",\"no\",\"yes\",\"yes\",\"no\",\"no\",\"no\",\"no\",\"no\",\"no\",\"no\",\"yes\",\"no\",\"no\",\"yes\",\"no\",\"yes\",\"no\",\"no\",\"no\",\"no\",\"no\",\"no\",\"no\",\"no\",\"no\",\"no\",\"no\",\"yes\",\"yes\",\"no\",\"no\",\"no\",\"no\",\"no\",\"no\",\"no\",\"yes\",\"no\",\"no\",\"yes\",\"no\",\"yes\",\"no\",\"no\",\"no\",\"no\",\"no\",\"no\",\"no\",\"yes\",\"no\",\"no\",\"yes\",\"no\",\"yes\",\"no\",\"yes\",\"no\",\"yes\",\"no\",\"no\",\"no\",\"yes\",\"no\",\"no\",\"no\",\"yes\",\"yes\",\"no\",\"no\",\"yes\",\"no\",\"no\",\"no\",\"no\",\"no\",\"no\",\"yes\",\"no\",\"no\",\"no\",\"no\",\"no\",\"no\",\"no\",\"no\",\"no\",\"no\",\"no\",\"yes\",\"no\",\"no\",\"no\",\"no\",\"no\",\"no\",\"no\",\"yes\",\"no\",\"yes\",\"no\",\"no\",\"no\",\"no\",\"no\",\"no\",\"no\",\"no\",\"no\",\"yes\",\"no\",\"yes\",\"no\",\"no\",\"no\",\"no\",\"no\",\"yes\",\"yes\",\"yes\",\"no\",\"no\"],\"y\":[21984.47061,1837.237,2395.17155,14451.83515,1625.43375,2302.3,6272.4772,12629.8967,23244.7902,30166.61817,14711.7438,17663.1442,16577.7795,21098.55405,10942.13205,22412.6485,15820.699,6686.4313,1705.6245,13616.3586,27375.90478,5125.2157,19964.7463,21223.6758,4827.90495,4005.4225,13012.20865,7147.105,2483.736,25081.76784,19515.5416,6710.1919,19444.2658,5354.07465,1832.094,11520.09985,24869.8368,17179.522,2803.69785,2150.469,9855.1314,1704.5681,24873.3849,1737.376,3561.8889,11830.6072,1607.5101,13844.506,3180.5101,8017.06115,13415.0381,12029.2867,21659.9301,8302.53565,3176.8159,7526.70645,9264.797,3260.199,4185.0979,8539.671,6652.5288,19594.80965,5080.096,18608.262,9788.8659,4906.40965,4032.2407,1969.614,23288.9284,2201.0971,12475.3513,4931.647,8211.1002,22218.1149,3077.0955,9361.3268,12957.118,3847.674,9193.8385,3206.49135,17626.23951,1242.816,3861.20965,8428.0693,15359.1045,25678.77845,6753.038,9182.17,7173.35995,2709.1119,8252.2843,22192.43711,27037.9141,7222.78625,10156.7832,1242.26,9863.4718,4766.022,26236.57997,2352.96845,10107.2206,2457.502,9566.9909,13112.6048,16657.71745,19361.9988,10065.413,3484.331,8604.48365,1627.28245,11833.7823,7985.815,6933.24225,18259.216,5209.57885,2731.9122,21195.818,4719.52405,17904.52705,2103.08,11013.7119,4428.88785,2842.76075,12523.6048,6117.4945,4719.73655,6402.29135,12323.936,2974.126,11729.6795,24106.91255,15817.9857,5458.04645,13129.60345,4391.652,5966.8874,8891.1395,2585.85065,10422.91665,19798.05455,2117.33885,8688.85885,17496.306,5257.50795,35069.37452,6250.435,2913.569,12032.326,8965.79575,1121.8739,1628.4709,9500.57305,23967.38305,4992.3764,2527.81865,16138.76205,4500.33925,14571.8908,3378.91,16420.49455,7986.47525,17361.7661,8627.5411,23241.47453,8269.044,18767.7377,2709.24395,1711.0268,21595.38229,21677.28345,13747.87235,12094.478,1704.70015,21880.82,3594.17085,3353.4703,14349.8544,11884.04858,5855.9025,10577.087,16776.30405,8605.3615,2396.0959,5693.4305,1728.897,8582.3023,3176.2877,27117.99378,10791.96,7228.21565,14426.07385,4529.477,23887.6627,8603.8234,13725.47184,4134.08245,6198.7518,1702.4553,4718.20355,6593.5083,26125.67477,6858.4796,20167.33603,12479.70895,11345.519,14449.8544,6985.50695,4296.2712,5615.369,1241.565,10197.7722,4544.2348,26926.5144,10959.33,14283.4594,8534.6718,7133.9025,1515.3449,1964.78,3208.787,21259.37795,16115.3045,18765.87545,1731.677,22395.74424],\"type\":\"bar\"},{\"marker\":{\"color\":\"rgb(228, 26, 28)\"},\"name\":\"Obese II\",\"x\":[\"no\",\"yes\",\"no\",\"yes\",\"yes\",\"yes\",\"yes\",\"yes\",\"no\",\"no\",\"no\",\"no\",\"yes\",\"no\",\"yes\",\"no\",\"no\",\"no\",\"no\",\"no\",\"no\",\"yes\",\"no\",\"no\",\"no\",\"yes\",\"no\",\"no\",\"no\",\"no\",\"no\",\"no\",\"no\",\"no\",\"no\",\"no\",\"yes\",\"yes\",\"no\",\"no\",\"yes\",\"no\",\"no\",\"yes\",\"no\",\"no\",\"no\",\"no\",\"no\",\"yes\",\"no\",\"no\",\"no\",\"yes\",\"no\",\"no\",\"yes\",\"no\",\"no\",\"yes\",\"no\",\"no\",\"yes\",\"no\",\"yes\",\"no\",\"no\",\"no\",\"no\",\"no\",\"no\",\"no\",\"no\",\"no\",\"no\",\"no\",\"no\",\"no\",\"yes\",\"no\",\"no\",\"no\",\"no\",\"no\",\"no\",\"no\",\"no\",\"no\",\"no\",\"yes\",\"no\",\"no\",\"no\",\"no\",\"no\",\"no\",\"no\",\"no\",\"no\",\"no\",\"no\",\"no\",\"no\",\"yes\",\"no\",\"no\",\"no\",\"no\",\"yes\",\"yes\",\"no\",\"no\",\"yes\",\"no\",\"no\",\"no\",\"no\",\"no\",\"no\",\"no\",\"no\",\"no\",\"no\",\"yes\",\"no\",\"yes\",\"no\",\"yes\",\"no\",\"yes\",\"no\",\"no\",\"no\",\"no\",\"no\",\"yes\",\"no\",\"yes\",\"yes\",\"no\",\"no\",\"no\",\"yes\",\"no\",\"no\",\"no\",\"no\",\"no\",\"no\",\"no\",\"no\",\"no\",\"no\",\"no\",\"no\",\"yes\",\"no\",\"yes\",\"no\",\"no\",\"yes\",\"no\",\"yes\",\"no\",\"no\",\"no\",\"no\",\"no\",\"no\",\"no\",\"no\",\"no\",\"no\",\"no\",\"no\",\"no\",\"no\",\"no\",\"no\",\"no\",\"no\",\"no\",\"no\",\"no\",\"yes\",\"yes\",\"no\",\"yes\",\"no\",\"no\",\"no\",\"no\",\"yes\",\"yes\",\"no\",\"no\",\"yes\",\"yes\",\"no\",\"yes\",\"no\",\"no\",\"no\",\"no\",\"no\",\"no\",\"yes\",\"no\",\"no\",\"no\",\"no\",\"no\",\"no\",\"yes\",\"no\",\"no\",\"no\",\"no\",\"no\",\"yes\",\"yes\",\"no\",\"no\",\"no\",\"no\"],\"y\":[11090.7178,36837.467,13228.84695,38711.0,35585.576,51194.55914,39774.2763,48173.361,4949.7587,6079.6715,20630.28351,3393.35635,38709.176,2211.13075,47496.49445,5989.52365,14235.072,5920.1041,1532.4697,2755.02095,7935.29115,37165.1638,2026.9741,3766.8838,10226.2842,47055.5321,2404.7338,7740.337,9634.538,11163.568,2166.732,5138.2567,9877.6077,10959.6947,6334.34355,6948.7008,36950.2567,36149.4835,10450.552,4830.63,48824.45,1631.8212,14901.5167,37133.8982,7371.772,2689.4954,7443.64305,4463.2051,7152.6714,38511.6283,7196.867,12648.7034,1986.9334,36219.40545,20462.99766,7265.7025,47896.79135,12265.5069,12646.207,42124.5153,8124.4084,4667.60765,42760.5022,9144.565,48517.56315,19144.57652,13981.85035,4889.9995,12404.8791,14133.03775,11856.4115,10736.87075,2138.0707,1631.6683,11396.9002,2134.9015,7345.7266,14418.2804,46599.1084,28287.89766,4762.329,21797.0004,10601.412,10381.4787,15230.32405,2534.39375,1534.3045,9304.7019,9880.068,48885.13561,13470.86,11362.755,27724.28875,5397.6167,8342.90875,19214.70553,5972.378,6196.448,13887.204,3268.84665,1646.4297,2219.4451,31620.00106,58571.07448,13635.6379,33471.97189,1633.0444,16085.1275,39241.442,42969.8527,10713.644,11365.952,42983.4585,10085.846,3366.6697,9391.346,14410.9321,24915.04626,18806.14547,10579.711,8527.532,12244.531,26392.26029,42560.4304,12363.547,40103.89,8068.185,40273.6455,3500.6123,44400.4064,1727.54,10848.1343,11264.541,12979.358,1263.249,40932.4295,6781.3542,40419.0191,44585.45587,8556.907,14210.53595,5428.7277,36307.7983,2416.955,14319.031,27941.28758,12797.20962,7448.40395,9386.1613,12741.16745,1917.3184,14313.8463,7731.85785,2136.88225,3597.596,55135.40209,7160.3303,42111.6647,1141.4451,8457.818,46255.1125,1682.597,44202.6536,8125.7845,12644.589,15170.069,4320.41085,13470.8044,7348.142,4673.3922,12982.8747,11674.13,7160.094,3875.7341,28468.91901,2730.10785,14474.675,26467.09737,2322.6218,9704.66805,13887.9685,6551.7501,12495.29085,8798.593,42211.1382,44423.803,12950.0712,37484.4493,11394.06555,8023.13545,2480.9791,8978.1851,39871.7043,41676.0811,3471.4096,11363.2832,41949.2441,38282.7495,8347.1643,46661.4424,5836.5204,9048.0273,12235.8392,5630.45785,18963.17192,4670.64,37465.34375,8671.19125,12347.172,12890.05765,4058.1161,4795.6568,7162.0122,49577.6624,1633.9618,6474.013,11436.73815,30063.58055,3277.161,47403.88,38344.566,19496.71917,12981.3457,10325.206,1629.8335],\"type\":\"bar\"},{\"marker\":{\"color\":\"rgb(176, 28, 58)\"},\"name\":\"Obese III\",\"x\":[\"yes\",\"no\",\"no\",\"no\",\"no\",\"yes\",\"no\",\"no\",\"no\",\"yes\",\"yes\",\"no\",\"yes\",\"no\",\"no\",\"no\",\"no\",\"yes\",\"no\",\"no\",\"no\",\"no\",\"no\",\"no\",\"no\",\"no\",\"yes\",\"no\",\"yes\",\"no\",\"yes\",\"no\",\"no\",\"no\",\"yes\",\"no\",\"no\",\"no\",\"no\",\"no\",\"no\",\"no\",\"no\",\"yes\",\"no\",\"no\",\"no\",\"no\",\"no\",\"no\",\"no\",\"no\",\"no\",\"no\",\"no\",\"yes\",\"no\",\"no\",\"no\",\"yes\",\"no\",\"no\",\"no\",\"yes\",\"no\",\"no\",\"no\",\"yes\",\"no\",\"no\",\"no\",\"yes\",\"yes\",\"no\",\"no\",\"yes\",\"no\",\"no\",\"yes\",\"no\",\"no\",\"no\",\"no\",\"no\",\"no\",\"no\",\"yes\",\"no\",\"no\",\"yes\",\"no\"],\"y\":[39611.7577,10602.385,11033.6617,11381.3254,13405.3903,43753.33705,6610.1097,24227.33724,5400.9805,46151.1245,48549.17835,9432.9253,42112.2356,11566.30055,10977.2063,8944.1151,1837.2819,38126.2465,5846.9176,8083.9198,12592.5345,1149.3959,4686.3887,15555.18875,12574.049,3994.1778,48675.5177,13831.1152,63770.42801,11538.421,45863.205,17878.90068,9058.7303,6373.55735,45702.02235,4753.6368,6356.2707,5709.1644,11326.71487,6666.243,9800.8882,3410.324,6435.6237,46200.9851,12485.8009,5438.7491,3201.24515,9541.69555,9504.3103,1984.4533,9875.6804,2217.6012,1146.7966,5662.225,4266.1658,38792.6856,28476.73499,6360.9936,2438.0552,46113.511,11576.13,13063.883,1634.5734,48673.5588,2927.0647,9549.5651,2217.46915,47462.894,1759.338,7804.1605,8569.8618,44501.3982,48970.2476,5757.41345,9748.9106,40904.1995,3693.428,20709.02034,39722.7462,3989.841,5124.1887,10982.5013,11093.6229,7650.77375,8733.22925,3238.4357,47269.854,4536.259,1163.4627,43896.3763,11411.685],\"type\":\"bar\"},{\"marker\":{\"color\":\"rgb(128, 205, 193)\"},\"name\":\"Underweight I\",\"x\":[\"no\",\"yes\",\"no\",\"no\",\"yes\",\"yes\",\"no\",\"yes\",\"no\",\"no\",\"no\",\"no\",\"no\",\"yes\",\"no\",\"no\",\"no\"],\"y\":[2775.19215,32734.1863,9644.2525,1727.785,12829.4551,15006.57945,1621.3402,14455.64405,2585.269,2680.9493,11534.87265,6877.9801,13204.28565,19023.26,9991.03765,5116.5004,3732.6251],\"type\":\"bar\"},{\"marker\":{\"color\":\"rgb(31, 119, 180)\"},\"name\":\"Underweight III\",\"x\":[\"no\"],\"y\":[1694.7964],\"type\":\"bar\"},{\"marker\":{\"color\":\"rgb(65, 171, 93)\"},\"name\":\"Underweight II\",\"x\":[\"no\",\"no\"],\"y\":[3167.45585,6640.54485],\"type\":\"bar\"}],                        {\"template\":{\"data\":{\"histogram2dcontour\":[{\"type\":\"histogram2dcontour\",\"colorbar\":{\"outlinewidth\":0,\"ticks\":\"\"},\"colorscale\":[[0.0,\"#0d0887\"],[0.1111111111111111,\"#46039f\"],[0.2222222222222222,\"#7201a8\"],[0.3333333333333333,\"#9c179e\"],[0.4444444444444444,\"#bd3786\"],[0.5555555555555556,\"#d8576b\"],[0.6666666666666666,\"#ed7953\"],[0.7777777777777778,\"#fb9f3a\"],[0.8888888888888888,\"#fdca26\"],[1.0,\"#f0f921\"]]}],\"choropleth\":[{\"type\":\"choropleth\",\"colorbar\":{\"outlinewidth\":0,\"ticks\":\"\"}}],\"histogram2d\":[{\"type\":\"histogram2d\",\"colorbar\":{\"outlinewidth\":0,\"ticks\":\"\"},\"colorscale\":[[0.0,\"#0d0887\"],[0.1111111111111111,\"#46039f\"],[0.2222222222222222,\"#7201a8\"],[0.3333333333333333,\"#9c179e\"],[0.4444444444444444,\"#bd3786\"],[0.5555555555555556,\"#d8576b\"],[0.6666666666666666,\"#ed7953\"],[0.7777777777777778,\"#fb9f3a\"],[0.8888888888888888,\"#fdca26\"],[1.0,\"#f0f921\"]]}],\"heatmap\":[{\"type\":\"heatmap\",\"colorbar\":{\"outlinewidth\":0,\"ticks\":\"\"},\"colorscale\":[[0.0,\"#0d0887\"],[0.1111111111111111,\"#46039f\"],[0.2222222222222222,\"#7201a8\"],[0.3333333333333333,\"#9c179e\"],[0.4444444444444444,\"#bd3786\"],[0.5555555555555556,\"#d8576b\"],[0.6666666666666666,\"#ed7953\"],[0.7777777777777778,\"#fb9f3a\"],[0.8888888888888888,\"#fdca26\"],[1.0,\"#f0f921\"]]}],\"heatmapgl\":[{\"type\":\"heatmapgl\",\"colorbar\":{\"outlinewidth\":0,\"ticks\":\"\"},\"colorscale\":[[0.0,\"#0d0887\"],[0.1111111111111111,\"#46039f\"],[0.2222222222222222,\"#7201a8\"],[0.3333333333333333,\"#9c179e\"],[0.4444444444444444,\"#bd3786\"],[0.5555555555555556,\"#d8576b\"],[0.6666666666666666,\"#ed7953\"],[0.7777777777777778,\"#fb9f3a\"],[0.8888888888888888,\"#fdca26\"],[1.0,\"#f0f921\"]]}],\"contourcarpet\":[{\"type\":\"contourcarpet\",\"colorbar\":{\"outlinewidth\":0,\"ticks\":\"\"}}],\"contour\":[{\"type\":\"contour\",\"colorbar\":{\"outlinewidth\":0,\"ticks\":\"\"},\"colorscale\":[[0.0,\"#0d0887\"],[0.1111111111111111,\"#46039f\"],[0.2222222222222222,\"#7201a8\"],[0.3333333333333333,\"#9c179e\"],[0.4444444444444444,\"#bd3786\"],[0.5555555555555556,\"#d8576b\"],[0.6666666666666666,\"#ed7953\"],[0.7777777777777778,\"#fb9f3a\"],[0.8888888888888888,\"#fdca26\"],[1.0,\"#f0f921\"]]}],\"surface\":[{\"type\":\"surface\",\"colorbar\":{\"outlinewidth\":0,\"ticks\":\"\"},\"colorscale\":[[0.0,\"#0d0887\"],[0.1111111111111111,\"#46039f\"],[0.2222222222222222,\"#7201a8\"],[0.3333333333333333,\"#9c179e\"],[0.4444444444444444,\"#bd3786\"],[0.5555555555555556,\"#d8576b\"],[0.6666666666666666,\"#ed7953\"],[0.7777777777777778,\"#fb9f3a\"],[0.8888888888888888,\"#fdca26\"],[1.0,\"#f0f921\"]]}],\"mesh3d\":[{\"type\":\"mesh3d\",\"colorbar\":{\"outlinewidth\":0,\"ticks\":\"\"}}],\"scatter\":[{\"fillpattern\":{\"fillmode\":\"overlay\",\"size\":10,\"solidity\":0.2},\"type\":\"scatter\"}],\"parcoords\":[{\"type\":\"parcoords\",\"line\":{\"colorbar\":{\"outlinewidth\":0,\"ticks\":\"\"}}}],\"scatterpolargl\":[{\"type\":\"scatterpolargl\",\"marker\":{\"colorbar\":{\"outlinewidth\":0,\"ticks\":\"\"}}}],\"bar\":[{\"error_x\":{\"color\":\"#2a3f5f\"},\"error_y\":{\"color\":\"#2a3f5f\"},\"marker\":{\"line\":{\"color\":\"#E5ECF6\",\"width\":0.5},\"pattern\":{\"fillmode\":\"overlay\",\"size\":10,\"solidity\":0.2}},\"type\":\"bar\"}],\"scattergeo\":[{\"type\":\"scattergeo\",\"marker\":{\"colorbar\":{\"outlinewidth\":0,\"ticks\":\"\"}}}],\"scatterpolar\":[{\"type\":\"scatterpolar\",\"marker\":{\"colorbar\":{\"outlinewidth\":0,\"ticks\":\"\"}}}],\"histogram\":[{\"marker\":{\"pattern\":{\"fillmode\":\"overlay\",\"size\":10,\"solidity\":0.2}},\"type\":\"histogram\"}],\"scattergl\":[{\"type\":\"scattergl\",\"marker\":{\"colorbar\":{\"outlinewidth\":0,\"ticks\":\"\"}}}],\"scatter3d\":[{\"type\":\"scatter3d\",\"line\":{\"colorbar\":{\"outlinewidth\":0,\"ticks\":\"\"}},\"marker\":{\"colorbar\":{\"outlinewidth\":0,\"ticks\":\"\"}}}],\"scattermapbox\":[{\"type\":\"scattermapbox\",\"marker\":{\"colorbar\":{\"outlinewidth\":0,\"ticks\":\"\"}}}],\"scatterternary\":[{\"type\":\"scatterternary\",\"marker\":{\"colorbar\":{\"outlinewidth\":0,\"ticks\":\"\"}}}],\"scattercarpet\":[{\"type\":\"scattercarpet\",\"marker\":{\"colorbar\":{\"outlinewidth\":0,\"ticks\":\"\"}}}],\"carpet\":[{\"aaxis\":{\"endlinecolor\":\"#2a3f5f\",\"gridcolor\":\"white\",\"linecolor\":\"white\",\"minorgridcolor\":\"white\",\"startlinecolor\":\"#2a3f5f\"},\"baxis\":{\"endlinecolor\":\"#2a3f5f\",\"gridcolor\":\"white\",\"linecolor\":\"white\",\"minorgridcolor\":\"white\",\"startlinecolor\":\"#2a3f5f\"},\"type\":\"carpet\"}],\"table\":[{\"cells\":{\"fill\":{\"color\":\"#EBF0F8\"},\"line\":{\"color\":\"white\"}},\"header\":{\"fill\":{\"color\":\"#C8D4E3\"},\"line\":{\"color\":\"white\"}},\"type\":\"table\"}],\"barpolar\":[{\"marker\":{\"line\":{\"color\":\"#E5ECF6\",\"width\":0.5},\"pattern\":{\"fillmode\":\"overlay\",\"size\":10,\"solidity\":0.2}},\"type\":\"barpolar\"}],\"pie\":[{\"automargin\":true,\"type\":\"pie\"}]},\"layout\":{\"autotypenumbers\":\"strict\",\"colorway\":[\"#636efa\",\"#EF553B\",\"#00cc96\",\"#ab63fa\",\"#FFA15A\",\"#19d3f3\",\"#FF6692\",\"#B6E880\",\"#FF97FF\",\"#FECB52\"],\"font\":{\"color\":\"#2a3f5f\"},\"hovermode\":\"closest\",\"hoverlabel\":{\"align\":\"left\"},\"paper_bgcolor\":\"white\",\"plot_bgcolor\":\"#E5ECF6\",\"polar\":{\"bgcolor\":\"#E5ECF6\",\"angularaxis\":{\"gridcolor\":\"white\",\"linecolor\":\"white\",\"ticks\":\"\"},\"radialaxis\":{\"gridcolor\":\"white\",\"linecolor\":\"white\",\"ticks\":\"\"}},\"ternary\":{\"bgcolor\":\"#E5ECF6\",\"aaxis\":{\"gridcolor\":\"white\",\"linecolor\":\"white\",\"ticks\":\"\"},\"baxis\":{\"gridcolor\":\"white\",\"linecolor\":\"white\",\"ticks\":\"\"},\"caxis\":{\"gridcolor\":\"white\",\"linecolor\":\"white\",\"ticks\":\"\"}},\"coloraxis\":{\"colorbar\":{\"outlinewidth\":0,\"ticks\":\"\"}},\"colorscale\":{\"sequential\":[[0.0,\"#0d0887\"],[0.1111111111111111,\"#46039f\"],[0.2222222222222222,\"#7201a8\"],[0.3333333333333333,\"#9c179e\"],[0.4444444444444444,\"#bd3786\"],[0.5555555555555556,\"#d8576b\"],[0.6666666666666666,\"#ed7953\"],[0.7777777777777778,\"#fb9f3a\"],[0.8888888888888888,\"#fdca26\"],[1.0,\"#f0f921\"]],\"sequentialminus\":[[0.0,\"#0d0887\"],[0.1111111111111111,\"#46039f\"],[0.2222222222222222,\"#7201a8\"],[0.3333333333333333,\"#9c179e\"],[0.4444444444444444,\"#bd3786\"],[0.5555555555555556,\"#d8576b\"],[0.6666666666666666,\"#ed7953\"],[0.7777777777777778,\"#fb9f3a\"],[0.8888888888888888,\"#fdca26\"],[1.0,\"#f0f921\"]],\"diverging\":[[0,\"#8e0152\"],[0.1,\"#c51b7d\"],[0.2,\"#de77ae\"],[0.3,\"#f1b6da\"],[0.4,\"#fde0ef\"],[0.5,\"#f7f7f7\"],[0.6,\"#e6f5d0\"],[0.7,\"#b8e186\"],[0.8,\"#7fbc41\"],[0.9,\"#4d9221\"],[1,\"#276419\"]]},\"xaxis\":{\"gridcolor\":\"white\",\"linecolor\":\"white\",\"ticks\":\"\",\"title\":{\"standoff\":15},\"zerolinecolor\":\"white\",\"automargin\":true,\"zerolinewidth\":2},\"yaxis\":{\"gridcolor\":\"white\",\"linecolor\":\"white\",\"ticks\":\"\",\"title\":{\"standoff\":15},\"zerolinecolor\":\"white\",\"automargin\":true,\"zerolinewidth\":2},\"scene\":{\"xaxis\":{\"backgroundcolor\":\"#E5ECF6\",\"gridcolor\":\"white\",\"linecolor\":\"white\",\"showbackground\":true,\"ticks\":\"\",\"zerolinecolor\":\"white\",\"gridwidth\":2},\"yaxis\":{\"backgroundcolor\":\"#E5ECF6\",\"gridcolor\":\"white\",\"linecolor\":\"white\",\"showbackground\":true,\"ticks\":\"\",\"zerolinecolor\":\"white\",\"gridwidth\":2},\"zaxis\":{\"backgroundcolor\":\"#E5ECF6\",\"gridcolor\":\"white\",\"linecolor\":\"white\",\"showbackground\":true,\"ticks\":\"\",\"zerolinecolor\":\"white\",\"gridwidth\":2}},\"shapedefaults\":{\"line\":{\"color\":\"#2a3f5f\"}},\"annotationdefaults\":{\"arrowcolor\":\"#2a3f5f\",\"arrowhead\":0,\"arrowwidth\":1},\"geo\":{\"bgcolor\":\"white\",\"landcolor\":\"#E5ECF6\",\"subunitcolor\":\"white\",\"showland\":true,\"showlakes\":true,\"lakecolor\":\"white\"},\"title\":{\"x\":0.05},\"mapbox\":{\"style\":\"light\"}}},\"title\":{\"text\":\"Bar Plot: Charges by Smokers and BMI Classes\"},\"xaxis\":{\"title\":{\"text\":\"Smoker\"}},\"yaxis\":{\"title\":{\"text\":\"Charges\"}}},                        {\"responsive\": true}                    ).then(function(){\n",
       "                            \n",
       "var gd = document.getElementById('ee76f795-3e93-4e93-9f5f-23308d829ae2');\n",
       "var x = new MutationObserver(function (mutations, observer) {{\n",
       "        var display = window.getComputedStyle(gd).display;\n",
       "        if (!display || display === 'none') {{\n",
       "            console.log([gd, 'removed!']);\n",
       "            Plotly.purge(gd);\n",
       "            observer.disconnect();\n",
       "        }}\n",
       "}});\n",
       "\n",
       "// Listen for the removal of the full notebook cells\n",
       "var notebookContainer = gd.closest('#notebook-container');\n",
       "if (notebookContainer) {{\n",
       "    x.observe(notebookContainer, {childList: true});\n",
       "}}\n",
       "\n",
       "// Listen for the clearing of the current output cell\n",
       "var outputEl = gd.closest('.output');\n",
       "if (outputEl) {{\n",
       "    x.observe(outputEl, {childList: true});\n",
       "}}\n",
       "\n",
       "                        })                };                });            </script>        </div>"
      ]
     },
     "metadata": {},
     "output_type": "display_data"
    }
   ],
   "source": [
    "import plotly.graph_objects as go\n",
    "\n",
    "# Define custom color scale for 'bmi_classes'\n",
    "color_scale = {\n",
    "    'Underweight III': 'rgb(31, 119, 180)',  # Blue\n",
    "    'Underweight II': 'rgb(65, 171, 93)',    # Green\n",
    "    'Underweight I': 'rgb(128, 205, 193)',   # Light Green\n",
    "    'Normal range': 'rgb(255, 127, 14)',     # Orange\n",
    "    'Overweight': 'rgb(252, 186, 3)',        # Yellow\n",
    "    'Obese I': 'rgb(244, 109, 67)',          # Light Red\n",
    "    'Obese II': 'rgb(228, 26, 28)',          # Red\n",
    "    'Obese III': 'rgb(176, 28, 58)'          # Dark Red\n",
    "}\n",
    "# Create the bar plot using Plotly\n",
    "fig = go.Figure()\n",
    "\n",
    "# Add the bar trace for each 'bmi_classes' category\n",
    "for bmi_class in df['bmi_classes'].unique():\n",
    "    data_filtered = df[df['bmi_classes'] == bmi_class]\n",
    "    fig.add_trace(go.Bar(\n",
    "        x=data_filtered['smoker'],\n",
    "        y=data_filtered['charges'],\n",
    "        name=bmi_class,\n",
    "        marker_color=color_scale[bmi_class]\n",
    "    ))\n",
    "\n",
    "# Set the chart title and axis labels\n",
    "fig.update_layout(\n",
    "    title='Bar Plot: Charges by Smokers and BMI Classes',\n",
    "    xaxis_title='Smoker',\n",
    "    yaxis_title='Charges'\n",
    ")\n",
    "\n",
    "# Show the plot\n",
    "fig.show()"
   ]
  },
  {
   "cell_type": "markdown",
   "id": "20c4795c",
   "metadata": {},
   "source": [
    "#### This graph shows the charges with respect to the BMI classes for smokers, yes or no, and clearly shows that for people who don’t smoke have less charges but in the less charges with higher obesity, the charges increases"
   ]
  },
  {
   "cell_type": "markdown",
   "id": "20648779",
   "metadata": {},
   "source": [
    "## 9. Analysis of Smoker wrt to Children"
   ]
  },
  {
   "cell_type": "code",
   "execution_count": 44,
   "id": "80dfbd72",
   "metadata": {},
   "outputs": [
    {
     "data": {
      "image/png": "[encoded data removed]",
      "text/plain": [
       "<Figure size 864x576 with 1 Axes>"
      ]
     },
     "metadata": {
      "needs_background": "light"
     },
     "output_type": "display_data"
    }
   ],
   "source": [
    "f, ax = plt.subplots(1, 1, figsize=(12, 8))\n",
    "ax = sns.barplot(x='children', y='charges', hue='smoker', data=df, palette='Set3')"
   ]
  },
  {
   "cell_type": "markdown",
   "id": "ee97df04",
   "metadata": {},
   "source": [
    "#### Smokers analysis with respect to children. Clearly the people who smoke have high number of charges whereas people who don in this situation the person who has four children has hired charges and he is a non-smoker."
   ]
  },
  {
   "cell_type": "markdown",
   "id": "9b23e959",
   "metadata": {},
   "source": [
    "## 10. Smoker wrt to regions "
   ]
  },
  {
   "cell_type": "code",
   "execution_count": 45,
   "id": "c9cd1794",
   "metadata": {},
   "outputs": [
    {
     "data": {
      "image/png": "[encoded data removed]",
      "text/plain": [
       "<Figure size 720x360 with 1 Axes>"
      ]
     },
     "metadata": {
      "needs_background": "light"
     },
     "output_type": "display_data"
    }
   ],
   "source": [
    "f, ax = plt.subplots(1, 1, figsize=(10, 5))\n",
    "ax = sns.barplot(x = 'region', y = 'charges', data=df,\n",
    "                 orient='v', hue='smoker', palette='inferno')"
   ]
  },
  {
   "cell_type": "markdown",
   "id": "e06627f4",
   "metadata": {},
   "source": [
    "### This shows a Analysis that The SOUTHEAST reagion has the most Charges and its High for Smokers "
   ]
  },
  {
   "cell_type": "markdown",
   "id": "f3ef2f79",
   "metadata": {},
   "source": [
    "## 11. HeatMap Analysis "
   ]
  },
  {
   "cell_type": "code",
   "execution_count": 46,
   "id": "5abd0329",
   "metadata": {},
   "outputs": [
    {
     "data": {
      "image/png": "[encoded data removed]",
      "text/plain": [
       "<Figure size 720x720 with 2 Axes>"
      ]
     },
     "metadata": {
      "needs_background": "light"
     },
     "output_type": "display_data"
    }
   ],
   "source": [
    "f, ax = plt.subplots(1, 1, figsize=(10, 10))\n",
    "ax = sns.heatmap(df.corr(), annot=True)\n"
   ]
  },
  {
   "cell_type": "markdown",
   "id": "b49a00c1",
   "metadata": {},
   "source": [
    "### HeatMap showing that there is very less corelation bw the variales most of them are no correlated to each other "
   ]
  },
  {
   "cell_type": "markdown",
   "id": "24ec8768",
   "metadata": {},
   "source": [
    "# Encoding "
   ]
  },
  {
   "cell_type": "code",
   "execution_count": 47,
   "id": "8960b2b3",
   "metadata": {},
   "outputs": [],
   "source": [
    "# label Encoding \n",
    "from sklearn.preprocessing import LabelEncoder\n",
    "label = LabelEncoder()\n",
    "df[\"sex\"] = label.fit_transform(df[\"sex\"]) \n",
    "df[\"smoker\"] = label.fit_transform(df[\"smoker\"]) \n",
    "df[\"region\"] = label.fit_transform(df[\"region\"]) "
   ]
  },
  {
   "cell_type": "code",
   "execution_count": 48,
   "id": "20bdd0e6",
   "metadata": {},
   "outputs": [
    {
     "data": {
      "text/html": [
       "<div>\n",
       "<style scoped>\n",
       "    .dataframe tbody tr th:only-of-type {\n",
       "        vertical-align: middle;\n",
       "    }\n",
       "\n",
       "    .dataframe tbody tr th {\n",
       "        vertical-align: top;\n",
       "    }\n",
       "\n",
       "    .dataframe thead th {\n",
       "        text-align: right;\n",
       "    }\n",
       "</style>\n",
       "<table border=\"1\" class=\"dataframe\">\n",
       "  <thead>\n",
       "    <tr style=\"text-align: right;\">\n",
       "      <th></th>\n",
       "      <th>age</th>\n",
       "      <th>sex</th>\n",
       "      <th>bmi</th>\n",
       "      <th>children</th>\n",
       "      <th>smoker</th>\n",
       "      <th>region</th>\n",
       "      <th>charges</th>\n",
       "      <th>AgeGroup</th>\n",
       "      <th>bmi_classes</th>\n",
       "    </tr>\n",
       "  </thead>\n",
       "  <tbody>\n",
       "    <tr>\n",
       "      <th>0</th>\n",
       "      <td>19</td>\n",
       "      <td>0</td>\n",
       "      <td>27.900</td>\n",
       "      <td>0</td>\n",
       "      <td>1</td>\n",
       "      <td>3</td>\n",
       "      <td>16884.92400</td>\n",
       "      <td>(15, 20]</td>\n",
       "      <td>Overweight</td>\n",
       "    </tr>\n",
       "    <tr>\n",
       "      <th>1</th>\n",
       "      <td>18</td>\n",
       "      <td>1</td>\n",
       "      <td>33.770</td>\n",
       "      <td>1</td>\n",
       "      <td>0</td>\n",
       "      <td>2</td>\n",
       "      <td>1725.55230</td>\n",
       "      <td>(15, 20]</td>\n",
       "      <td>Obese I</td>\n",
       "    </tr>\n",
       "    <tr>\n",
       "      <th>2</th>\n",
       "      <td>28</td>\n",
       "      <td>1</td>\n",
       "      <td>33.000</td>\n",
       "      <td>3</td>\n",
       "      <td>0</td>\n",
       "      <td>2</td>\n",
       "      <td>4449.46200</td>\n",
       "      <td>(25, 30]</td>\n",
       "      <td>Obese I</td>\n",
       "    </tr>\n",
       "    <tr>\n",
       "      <th>3</th>\n",
       "      <td>33</td>\n",
       "      <td>1</td>\n",
       "      <td>22.705</td>\n",
       "      <td>0</td>\n",
       "      <td>0</td>\n",
       "      <td>1</td>\n",
       "      <td>21984.47061</td>\n",
       "      <td>(30, 35]</td>\n",
       "      <td>Normal range</td>\n",
       "    </tr>\n",
       "    <tr>\n",
       "      <th>4</th>\n",
       "      <td>32</td>\n",
       "      <td>1</td>\n",
       "      <td>28.880</td>\n",
       "      <td>0</td>\n",
       "      <td>0</td>\n",
       "      <td>1</td>\n",
       "      <td>3866.85520</td>\n",
       "      <td>(30, 35]</td>\n",
       "      <td>Overweight</td>\n",
       "    </tr>\n",
       "  </tbody>\n",
       "</table>\n",
       "</div>"
      ],
      "text/plain": [
       "   age  sex     bmi  children  smoker  region      charges  AgeGroup  \\\n",
       "0   19    0  27.900         0       1       3  16884.92400  (15, 20]   \n",
       "1   18    1  33.770         1       0       2   1725.55230  (15, 20]   \n",
       "2   28    1  33.000         3       0       2   4449.46200  (25, 30]   \n",
       "3   33    1  22.705         0       0       1  21984.47061  (30, 35]   \n",
       "4   32    1  28.880         0       0       1   3866.85520  (30, 35]   \n",
       "\n",
       "    bmi_classes  \n",
       "0    Overweight  \n",
       "1       Obese I  \n",
       "2       Obese I  \n",
       "3  Normal range  \n",
       "4    Overweight  "
      ]
     },
     "execution_count": 48,
     "metadata": {},
     "output_type": "execute_result"
    }
   ],
   "source": [
    "df.head()"
   ]
  },
  {
   "cell_type": "code",
   "execution_count": 49,
   "id": "a79456da",
   "metadata": {},
   "outputs": [
    {
     "data": {
      "text/plain": [
       "age               int64\n",
       "sex               int32\n",
       "bmi             float64\n",
       "children          int64\n",
       "smoker            int32\n",
       "region            int32\n",
       "charges         float64\n",
       "AgeGroup       category\n",
       "bmi_classes    category\n",
       "dtype: object"
      ]
     },
     "execution_count": 49,
     "metadata": {},
     "output_type": "execute_result"
    }
   ],
   "source": [
    "df.dtypes"
   ]
  },
  {
   "cell_type": "code",
   "execution_count": 50,
   "id": "8121bd57",
   "metadata": {},
   "outputs": [
    {
     "data": {
      "image/png": "[encoded data removed]",
      "text/plain": [
       "<Figure size 720x720 with 2 Axes>"
      ]
     },
     "metadata": {
      "needs_background": "light"
     },
     "output_type": "display_data"
    }
   ],
   "source": [
    "f, ax = plt.subplots(1, 1, figsize=(10, 10))\n",
    "ax = sns.heatmap(df.corr(), annot=True)"
   ]
  },
  {
   "cell_type": "markdown",
   "id": "149e36ce",
   "metadata": {},
   "source": [
    "#### Here we can see that smoker after Encoding shows that it is corelated to charges. Hence Smoker is very much related to the Insurabce charges !"
   ]
  },
  {
   "cell_type": "markdown",
   "id": "5ddf9ff3",
   "metadata": {},
   "source": [
    "# Feature Selection "
   ]
  },
  {
   "cell_type": "code",
   "execution_count": 51,
   "id": "da422c5e",
   "metadata": {},
   "outputs": [
    {
     "name": "stdout",
     "output_type": "stream",
     "text": [
      "Feature: charges, Score: 5.942439833630057\n",
      "Feature: age, Score: 1.4978459002794176\n",
      "Feature: children, Score: 0.16128113527674026\n",
      "Feature: bmi, Score: 0.072898296491406\n"
     ]
    }
   ],
   "source": [
    "import pandas as pd\n",
    "from sklearn.feature_selection import SelectKBest\n",
    "from sklearn.feature_selection import mutual_info_regression\n",
    "\n",
    "numeric_columns = df.select_dtypes(include=['int64', 'float64']).columns\n",
    "\n",
    "# Extract the feature matrix and target variable\n",
    "X = df[numeric_columns]\n",
    "y = df['charges']  \n",
    "\n",
    "# Perform feature selection using mutual information regression\n",
    "selector = SelectKBest(score_func=mutual_info_regression, k='all')\n",
    "selector.fit(X, y)\n",
    "\n",
    "scores = selector.scores_\n",
    "feature_names = X.columns\n",
    "\n",
    "\n",
    "feature_scores = dict(zip(feature_names, scores))\n",
    "\n",
    "\n",
    "sorted_features = sorted(feature_scores.items(), key=lambda x: x[1], reverse=True)\n",
    "\n",
    "# Print the feature names and their scores\n",
    "for feature, score in sorted_features:\n",
    "    print(f\"Feature: {feature}, Score: {score}\")"
   ]
  },
  {
   "cell_type": "code",
   "execution_count": 52,
   "id": "fd08deb7",
   "metadata": {},
   "outputs": [
    {
     "data": {
      "image/png": "[encoded data removed]",
      "text/plain": [
       "<Figure size 576x360 with 1 Axes>"
      ]
     },
     "metadata": {
      "needs_background": "light"
     },
     "output_type": "display_data"
    }
   ],
   "source": [
    "# Extract feature names and scores for plotting\n",
    "features, scores = zip(*sorted_features)\n",
    "\n",
    "# Create a bar graph of feature scores\n",
    "plt.figure(figsize=(8, 5))\n",
    "plt.bar(features, scores)\n",
    "plt.xticks(rotation=90)\n",
    "plt.xlabel('Features')\n",
    "plt.ylabel('Scores')\n",
    "plt.title('Feature Scores (Mutual Information Regression)')\n",
    "plt.tight_layout()\n",
    "plt.show()"
   ]
  },
  {
   "cell_type": "markdown",
   "id": "394e24b8",
   "metadata": {},
   "source": [
    "# Model Building "
   ]
  },
  {
   "cell_type": "markdown",
   "id": "9ccdec15",
   "metadata": {},
   "source": [
    " ## 1. Linear Regression"
   ]
  },
  {
   "cell_type": "code",
   "execution_count": 53,
   "id": "d56ae637",
   "metadata": {},
   "outputs": [],
   "source": [
    "from sklearn.model_selection import train_test_split as tt\n",
    "from sklearn.linear_model import LinearRegression\n",
    "from sklearn import metrics\n",
    "\n",
    "x = df.drop(['charges','AgeGroup','bmi_classes'], axis = 1)\n",
    "y = df['charges']\n",
    "\n",
    "x_train, x_test, y_train, y_test = tt(x, y, test_size=0.2, random_state=0)\n",
    "eval_metrics=[[\"model\",\"MAE\",\"MSE\",\"RMSE\",\"R2\"],0,0,0,0,0]"
   ]
  },
  {
   "cell_type": "code",
   "execution_count": 54,
   "id": "f3d057b2",
   "metadata": {},
   "outputs": [
    {
     "name": "stdout",
     "output_type": "stream",
     "text": [
      "      age  sex     bmi  children  smoker  region\n",
      "0      19    0  27.900         0       1       3\n",
      "1      18    1  33.770         1       0       2\n",
      "2      28    1  33.000         3       0       2\n",
      "3      33    1  22.705         0       0       1\n",
      "4      32    1  28.880         0       0       1\n",
      "...   ...  ...     ...       ...     ...     ...\n",
      "1333   50    1  30.970         3       0       1\n",
      "1334   18    0  31.920         0       0       0\n",
      "1335   18    0  36.850         0       0       2\n",
      "1336   21    0  25.800         0       0       3\n",
      "1337   61    0  29.070         0       1       1\n",
      "\n",
      "[1338 rows x 6 columns]\n"
     ]
    }
   ],
   "source": [
    "print(x)"
   ]
  },
  {
   "cell_type": "code",
   "execution_count": 55,
   "id": "42cca664",
   "metadata": {},
   "outputs": [
    {
     "name": "stdout",
     "output_type": "stream",
     "text": [
      "0       16884.92400\n",
      "1        1725.55230\n",
      "2        4449.46200\n",
      "3       21984.47061\n",
      "4        3866.85520\n",
      "           ...     \n",
      "1333    10600.54830\n",
      "1334     2205.98080\n",
      "1335     1629.83350\n",
      "1336     2007.94500\n",
      "1337    29141.36030\n",
      "Name: charges, Length: 1338, dtype: float64\n"
     ]
    }
   ],
   "source": [
    "print(y)"
   ]
  },
  {
   "cell_type": "code",
   "execution_count": 56,
   "id": "aeb25fe0",
   "metadata": {},
   "outputs": [
    {
     "name": "stdout",
     "output_type": "stream",
     "text": [
      "(1338, 6) (1070, 6) (268, 6)\n"
     ]
    }
   ],
   "source": [
    "print(x.shape, x_train.shape, x_test.shape)"
   ]
  },
  {
   "cell_type": "code",
   "execution_count": 57,
   "id": "f5b048fd",
   "metadata": {},
   "outputs": [
    {
     "data": {
      "text/plain": [
       "LinearRegression()"
      ]
     },
     "execution_count": 57,
     "metadata": {},
     "output_type": "execute_result"
    }
   ],
   "source": [
    "# loading the Linear Regression model\n",
    "regressor = LinearRegression()\n",
    "regressor.fit(x_train, y_train)"
   ]
  },
  {
   "cell_type": "markdown",
   "id": "6f7cc5d2",
   "metadata": {},
   "source": [
    "### Model Evaluation (Test Data)"
   ]
  },
  {
   "cell_type": "code",
   "execution_count": 58,
   "id": "236c3c6c",
   "metadata": {},
   "outputs": [
    {
     "name": "stdout",
     "output_type": "stream",
     "text": [
      "MAE -> 3930.333273901141\n",
      "MSE -> 31845929.13415944\n",
      "RMSE -> 62.69237014103982\n",
      "R2_Score -> 0.7998747145449959\n"
     ]
    }
   ],
   "source": [
    "from sklearn.metrics import mean_absolute_error,mean_squared_error,r2_score\n",
    "y_pred = regressor.predict(x_test)\n",
    "print(\"MAE ->\",mean_absolute_error(y_test,y_pred))\n",
    "print(\"MSE ->\",mean_squared_error(y_test,y_pred))\n",
    "print(\"RMSE ->\",np.sqrt(mean_absolute_error(y_test,y_pred)))\n",
    "print(\"R2_Score ->\",r2_score(y_test,y_pred))\n",
    "\n",
    "mae = mean_absolute_error(y_test,y_pred)\n",
    "mse = mean_squared_error(y_test,y_pred)\n",
    "rmse = np.sqrt(mse)\n",
    "r2 = r2_score(y_test,y_pred)\n",
    "\n",
    "err=[\"Linear Regression\",mae,mse,rmse,r2]\n",
    "eval_metrics[1]=err\n"
   ]
  },
  {
   "cell_type": "markdown",
   "id": "38d42d45",
   "metadata": {},
   "source": [
    "### Model Evaluation (Train Data)"
   ]
  },
  {
   "cell_type": "code",
   "execution_count": 59,
   "id": "55b0f417",
   "metadata": {},
   "outputs": [
    {
     "name": "stdout",
     "output_type": "stream",
     "text": [
      "MAE -> 4235.383876032093\n",
      "MSE -> 37729580.5098492\n",
      "RMSE -> 65.07982695146087\n",
      "R2_Score -> 0.7368306228430944\n"
     ]
    }
   ],
   "source": [
    "# prediction on training data\n",
    "y_pred_train =regressor.predict(x_train)\n",
    "print(\"MAE ->\",mean_absolute_error(y_train,y_pred_train))\n",
    "print(\"MSE ->\",mean_squared_error(y_train,y_pred_train))\n",
    "print(\"RMSE ->\",np.sqrt(mean_absolute_error(y_train,y_pred_train)))\n",
    "print(\"R2_Score ->\",r2_score(y_train,y_pred_train))"
   ]
  },
  {
   "cell_type": "markdown",
   "id": "9aa4fe82",
   "metadata": {},
   "source": [
    "## 2. Ridge Regression"
   ]
  },
  {
   "cell_type": "code",
   "execution_count": 60,
   "id": "15178e93",
   "metadata": {},
   "outputs": [
    {
     "name": "stdout",
     "output_type": "stream",
     "text": [
      "Alpha=0.1, Average MSE: 38204905.58233534\n",
      "Alpha=0.2, Average MSE: 38205036.716369435\n",
      "Alpha=0.3, Average MSE: 38205262.39272244\n",
      "Alpha=0.4, Average MSE: 38205582.19904311\n",
      "Alpha=0.5, Average MSE: 38205995.72477923\n",
      "Alpha=0.6, Average MSE: 38206502.561168775\n",
      "Alpha=0.7, Average MSE: 38207102.30123131\n",
      "Alpha=0.8, Average MSE: 38207794.539759316\n",
      "Alpha=0.9, Average MSE: 38208578.873309664\n",
      "Alpha=1.0, Average MSE: 38209454.900195025\n"
     ]
    }
   ],
   "source": [
    "from sklearn.linear_model import Ridge\n",
    "from sklearn.model_selection import cross_val_score\n",
    "import numpy as np\n",
    "\n",
    "# Define a range of alpha values to test\n",
    "alphas = [0.1, 0.2, 0.3, 0.4, 0.5, 0.6, 0.7, 0.8, 0.9, 1.0]\n",
    "\n",
    "# Perform cross-validation for each alpha value\n",
    "for alpha in alphas:\n",
    "    ridge = Ridge(alpha=alpha)\n",
    "    mse_scores = -cross_val_score(ridge, x_train, y_train, scoring='neg_mean_squared_error', cv=5)\n",
    "    avg_mse = np.mean(mse_scores)\n",
    "    print(f\"Alpha={alpha}, Average MSE: {avg_mse}\")"
   ]
  },
  {
   "cell_type": "code",
   "execution_count": 61,
   "id": "8989e5e3",
   "metadata": {},
   "outputs": [],
   "source": [
    "## alpha value that yields the best performance (e.g., lowest MSE) on the validation data."
   ]
  },
  {
   "cell_type": "code",
   "execution_count": 62,
   "id": "460c4a39",
   "metadata": {},
   "outputs": [
    {
     "data": {
      "text/plain": [
       "Ridge()"
      ]
     },
     "execution_count": 62,
     "metadata": {},
     "output_type": "execute_result"
    }
   ],
   "source": [
    "Ridge = Ridge(alpha=1.0)\n",
    "Ridge.fit(x_train, y_train)"
   ]
  },
  {
   "cell_type": "code",
   "execution_count": 63,
   "id": "2d62f573",
   "metadata": {},
   "outputs": [],
   "source": [
    "from sklearn.metrics import mean_squared_error\n",
    "y_pred_r = Ridge.predict(x_test)"
   ]
  },
  {
   "cell_type": "markdown",
   "id": "6b100293",
   "metadata": {},
   "source": [
    "### Model Evaluation (Test Data)"
   ]
  },
  {
   "cell_type": "code",
   "execution_count": 64,
   "id": "8b3f15ec",
   "metadata": {},
   "outputs": [
    {
     "name": "stdout",
     "output_type": "stream",
     "text": [
      "MAE -> 3942.9518574700683\n",
      "MSE -> 31903202.87512911\n",
      "RMSE -> 62.79292840336456\n",
      "R2_Score -> 0.7995147965249455\n"
     ]
    }
   ],
   "source": [
    "from sklearn.metrics import mean_absolute_error,mean_squared_error,r2_score\n",
    "print(\"MAE ->\",mean_absolute_error(y_test,y_pred_r))\n",
    "print(\"MSE ->\",mean_squared_error(y_test,y_pred_r))\n",
    "print(\"RMSE ->\",np.sqrt(mean_absolute_error(y_test,y_pred_r)))\n",
    "print(\"R2_Score ->\",r2_score(y_test,y_pred_r))\n",
    "\n",
    "mae = mean_absolute_error(y_test,y_pred_r)\n",
    "mse = mean_squared_error(y_test,y_pred_r)\n",
    "rmse = np.sqrt(mse)\n",
    "r2 = r2_score(y_test,y_pred_r)\n",
    "err=[\"Ridge Regression Model\",mae,mse,rmse,r2]\n",
    "eval_metrics[2]=err"
   ]
  },
  {
   "cell_type": "code",
   "execution_count": 65,
   "id": "836fb2d9",
   "metadata": {},
   "outputs": [
    {
     "name": "stdout",
     "output_type": "stream",
     "text": [
      "MAE -> 4244.302952871445\n",
      "MSE -> 37732546.03188905\n",
      "RMSE -> 65.14831504245866\n",
      "R2_Score -> 0.7368099378903961\n"
     ]
    }
   ],
   "source": [
    "# prediction on training data\n",
    "y_pred_train_r =Ridge.predict(x_train)\n",
    "print(\"MAE ->\",mean_absolute_error(y_train,y_pred_train_r))\n",
    "print(\"MSE ->\",mean_squared_error(y_train,y_pred_train_r))\n",
    "print(\"RMSE ->\",np.sqrt(mean_absolute_error(y_train,y_pred_train_r)))\n",
    "print(\"R2_Score ->\",r2_score(y_train,y_pred_train_r))"
   ]
  },
  {
   "cell_type": "markdown",
   "id": "1f4c16c6",
   "metadata": {},
   "source": [
    "## 3. Lasso Regression"
   ]
  },
  {
   "cell_type": "code",
   "execution_count": 66,
   "id": "2e11cb04",
   "metadata": {},
   "outputs": [
    {
     "data": {
      "text/plain": [
       "Lasso(alpha=0.2)"
      ]
     },
     "execution_count": 66,
     "metadata": {},
     "output_type": "execute_result"
    }
   ],
   "source": [
    "from sklearn.linear_model import Lasso\n",
    "Lasso = Lasso(alpha=0.2, fit_intercept=True, precompute=False, max_iter=1000,\n",
    "              tol=0.0001, warm_start=False, positive=False, random_state=None, selection='cyclic')\n",
    "Lasso.fit(x_train, y_train)\n"
   ]
  },
  {
   "cell_type": "code",
   "execution_count": 67,
   "id": "ea74d256",
   "metadata": {},
   "outputs": [],
   "source": [
    "y_pred_l = Lasso.predict(x_test)"
   ]
  },
  {
   "cell_type": "code",
   "execution_count": 68,
   "id": "9c1ffc1e",
   "metadata": {},
   "outputs": [
    {
     "name": "stdout",
     "output_type": "stream",
     "text": [
      "MAE -> 3930.478756589607\n",
      "MSE -> 31846834.730446473\n",
      "RMSE -> 62.6935304205275\n",
      "R2_Score -> 0.7998690236224706\n"
     ]
    }
   ],
   "source": [
    "from sklearn.metrics import mean_absolute_error,mean_squared_error,r2_score\n",
    "print(\"MAE ->\",mean_absolute_error(y_test,y_pred_l))\n",
    "print(\"MSE ->\",mean_squared_error(y_test,y_pred_l))\n",
    "print(\"RMSE ->\",np.sqrt(mean_absolute_error(y_test,y_pred_l)))\n",
    "print(\"R2_Score ->\",r2_score(y_test,y_pred_l))"
   ]
  },
  {
   "cell_type": "code",
   "execution_count": 69,
   "id": "2bd1aedd",
   "metadata": {},
   "outputs": [
    {
     "name": "stdout",
     "output_type": "stream",
     "text": [
      "MAE -> 4235.453069411862\n",
      "MSE -> 37729581.00157293\n",
      "RMSE -> 65.0803585531907\n",
      "R2_Score -> 0.736830619413249\n"
     ]
    }
   ],
   "source": [
    "y_pred_train_l = Lasso.predict(x_train)\n",
    "print(\"MAE ->\",mean_absolute_error(y_train,y_pred_train_l))\n",
    "print(\"MSE ->\",mean_squared_error(y_train,y_pred_train_l))\n",
    "print(\"RMSE ->\",np.sqrt(mean_absolute_error(y_train,y_pred_train_l)))\n",
    "print(\"R2_Score ->\",r2_score(y_train,y_pred_train_l))"
   ]
  },
  {
   "cell_type": "markdown",
   "id": "fae192c7",
   "metadata": {},
   "source": [
    "## 4. rf Regression"
   ]
  },
  {
   "cell_type": "code",
   "execution_count": 70,
   "id": "8b425910",
   "metadata": {},
   "outputs": [],
   "source": [
    "from sklearn.ensemble import RandomForestRegressor as rfr\n",
    "x = df.drop(['charges'], axis=1)\n",
    "y = df.charges\n",
    "Rfr = rfr(n_estimators = 100, criterion = 'friedman_mse',\n",
    "                              random_state = 1,\n",
    "                              n_jobs = -1)\n",
    "Rfr.fit(x_train,y_train)\n",
    "x_train_pred = Rfr.predict(x_train)\n",
    "x_test_pred = Rfr.predict(x_test)"
   ]
  },
  {
   "cell_type": "markdown",
   "id": "fd65a253",
   "metadata": {},
   "source": [
    "### Model Evaluation (Test Data)"
   ]
  },
  {
   "cell_type": "code",
   "execution_count": 71,
   "id": "73218c13",
   "metadata": {},
   "outputs": [
    {
     "name": "stdout",
     "output_type": "stream",
     "text": [
      "MAE -> 2629.991602102189\n",
      "MSE -> 19580381.390329055\n",
      "RMSE -> 51.28344374261726\n",
      "R2_Score -> 0.8769535221111118\n"
     ]
    }
   ],
   "source": [
    "from sklearn.metrics import mean_absolute_error,mean_squared_error,r2_score\n",
    "print(\"MAE ->\",mean_absolute_error(y_test,x_test_pred))\n",
    "print(\"MSE ->\",mean_squared_error(y_test,x_test_pred))\n",
    "print(\"RMSE ->\",np.sqrt(mean_absolute_error(y_test,x_test_pred)))\n",
    "print(\"R2_Score ->\",r2_score(y_test,x_test_pred))\n",
    "\n",
    "mae = mean_absolute_error(y_test,x_test_pred)\n",
    "mse = mean_squared_error(y_test,x_test_pred)\n",
    "rmse = np.sqrt(mse)\n",
    "r2 = r2_score(y_test,x_test_pred)\n",
    "err=[\"Random Forest Regression\",mae,mse,rmse,r2]\n",
    "eval_metrics[3]=err"
   ]
  },
  {
   "cell_type": "markdown",
   "id": "a7f556cc",
   "metadata": {},
   "source": [
    "### MOdel Evaluation (Train Data)"
   ]
  },
  {
   "cell_type": "code",
   "execution_count": 72,
   "id": "96152d7f",
   "metadata": {},
   "outputs": [
    {
     "name": "stdout",
     "output_type": "stream",
     "text": [
      "MAE -> 1047.6187716706281\n",
      "MSE -> 3627543.3133752937\n",
      "RMSE -> 32.366939485694786\n",
      "R2_Score -> 0.9746973514815129\n"
     ]
    }
   ],
   "source": [
    "print(\"MAE ->\",mean_absolute_error(y_train,x_train_pred))\n",
    "print(\"MSE ->\",mean_squared_error(y_train,x_train_pred))\n",
    "print(\"RMSE ->\",np.sqrt(mean_absolute_error(y_train,x_train_pred)))\n",
    "print(\"R2_Score ->\",r2_score(y_train,x_train_pred))"
   ]
  },
  {
   "cell_type": "code",
   "execution_count": 73,
   "id": "e85624ed",
   "metadata": {},
   "outputs": [
    {
     "data": {
      "text/plain": [
       "<matplotlib.collections.LineCollection at 0x1ee002af040>"
      ]
     },
     "execution_count": 73,
     "metadata": {},
     "output_type": "execute_result"
    },
    {
     "data": {
      "image/png": "[encoded data removed]",
      "text/plain": [
       "<Figure size 576x432 with 1 Axes>"
      ]
     },
     "metadata": {
      "needs_background": "light"
     },
     "output_type": "display_data"
    }
   ],
   "source": [
    "plt.figure(figsize=(8,6))\n",
    "\n",
    "plt.scatter(x_train_pred, x_train_pred - y_train,\n",
    "          c = 'black', marker = '*', s = 35, alpha = 0.5,\n",
    "          label = 'Train data')\n",
    "\n",
    "plt.scatter(x_test_pred, x_test_pred - y_test,\n",
    "          c = 'red', marker = 'o', s = 35, alpha = 0.7,\n",
    "          label = 'Test data')\n",
    "plt.xlabel('Predicted values')\n",
    "plt.ylabel('Actual values')\n",
    "plt.legend(loc = 'upper right')\n",
    "plt.hlines(y = 0, xmin = 0, xmax = 60000, lw = 2, color = 'red')"
   ]
  },
  {
   "cell_type": "markdown",
   "id": "f8c5be0b",
   "metadata": {},
   "source": [
    "## Feature Selection Rate"
   ]
  },
  {
   "cell_type": "code",
   "execution_count": 74,
   "id": "4ff06848",
   "metadata": {},
   "outputs": [
    {
     "name": "stdout",
     "output_type": "stream",
     "text": [
      "Feature importance ranking\n",
      "\n",
      "\n",
      "1. smoker (0.601678)\n",
      "2. bmi (0.218492)\n",
      "3. age (0.136950)\n",
      "4. children (0.021107)\n",
      "5. region (0.015409)\n",
      "6. sex (0.006364)\n"
     ]
    },
    {
     "data": {
      "text/plain": [
       "<BarContainer object of 6 artists>"
      ]
     },
     "execution_count": 74,
     "metadata": {},
     "output_type": "execute_result"
    },
    {
     "data": {
      "image/png": "[encoded data removed]",
      "text/plain": [
       "<Figure size 432x288 with 1 Axes>"
      ]
     },
     "metadata": {
      "needs_background": "light"
     },
     "output_type": "display_data"
    }
   ],
   "source": [
    "print('Feature importance ranking\\n\\n')\n",
    "importances = Rfr.feature_importances_\n",
    "std = np.std([tree.feature_importances_ for tree in Rfr.estimators_], axis=0)\n",
    "indices = np.argsort(importances)[::-1]\n",
    "\n",
    "variables = ['age', 'sex', 'bmi', 'children', 'smoker', 'region']\n",
    "\n",
    "importance_list = []\n",
    "for f in range(min(x.shape[1], len(variables))):\n",
    "    variable = variables[indices[f]]\n",
    "    importance_list.append(variable)\n",
    "    print(\"%d. %s (%f)\" % (f + 1, variable, importances[indices[f]]))\n",
    "    \n",
    "# Plot the feature importances of the forest\n",
    "plt.figure()\n",
    "plt.title(\"Feature importances\")\n",
    "plt.bar(importance_list, importances[indices],\n",
    "       color=\"y\", yerr=std[indices], align=\"center\")"
   ]
  },
  {
   "cell_type": "code",
   "execution_count": 75,
   "id": "228bcb8e",
   "metadata": {},
   "outputs": [
    {
     "data": {
      "text/html": [
       "<div>\n",
       "<style scoped>\n",
       "    .dataframe tbody tr th:only-of-type {\n",
       "        vertical-align: middle;\n",
       "    }\n",
       "\n",
       "    .dataframe tbody tr th {\n",
       "        vertical-align: top;\n",
       "    }\n",
       "\n",
       "    .dataframe thead th {\n",
       "        text-align: right;\n",
       "    }\n",
       "</style>\n",
       "<table border=\"1\" class=\"dataframe\">\n",
       "  <thead>\n",
       "    <tr style=\"text-align: right;\">\n",
       "      <th></th>\n",
       "      <th>age</th>\n",
       "      <th>sex</th>\n",
       "      <th>bmi</th>\n",
       "      <th>children</th>\n",
       "      <th>smoker</th>\n",
       "      <th>region</th>\n",
       "      <th>charges</th>\n",
       "      <th>AgeGroup</th>\n",
       "      <th>bmi_classes</th>\n",
       "    </tr>\n",
       "  </thead>\n",
       "  <tbody>\n",
       "    <tr>\n",
       "      <th>0</th>\n",
       "      <td>19</td>\n",
       "      <td>0</td>\n",
       "      <td>27.900</td>\n",
       "      <td>0</td>\n",
       "      <td>1</td>\n",
       "      <td>3</td>\n",
       "      <td>16884.92400</td>\n",
       "      <td>(15, 20]</td>\n",
       "      <td>Overweight</td>\n",
       "    </tr>\n",
       "    <tr>\n",
       "      <th>1</th>\n",
       "      <td>18</td>\n",
       "      <td>1</td>\n",
       "      <td>33.770</td>\n",
       "      <td>1</td>\n",
       "      <td>0</td>\n",
       "      <td>2</td>\n",
       "      <td>1725.55230</td>\n",
       "      <td>(15, 20]</td>\n",
       "      <td>Obese I</td>\n",
       "    </tr>\n",
       "    <tr>\n",
       "      <th>2</th>\n",
       "      <td>28</td>\n",
       "      <td>1</td>\n",
       "      <td>33.000</td>\n",
       "      <td>3</td>\n",
       "      <td>0</td>\n",
       "      <td>2</td>\n",
       "      <td>4449.46200</td>\n",
       "      <td>(25, 30]</td>\n",
       "      <td>Obese I</td>\n",
       "    </tr>\n",
       "    <tr>\n",
       "      <th>3</th>\n",
       "      <td>33</td>\n",
       "      <td>1</td>\n",
       "      <td>22.705</td>\n",
       "      <td>0</td>\n",
       "      <td>0</td>\n",
       "      <td>1</td>\n",
       "      <td>21984.47061</td>\n",
       "      <td>(30, 35]</td>\n",
       "      <td>Normal range</td>\n",
       "    </tr>\n",
       "    <tr>\n",
       "      <th>4</th>\n",
       "      <td>32</td>\n",
       "      <td>1</td>\n",
       "      <td>28.880</td>\n",
       "      <td>0</td>\n",
       "      <td>0</td>\n",
       "      <td>1</td>\n",
       "      <td>3866.85520</td>\n",
       "      <td>(30, 35]</td>\n",
       "      <td>Overweight</td>\n",
       "    </tr>\n",
       "  </tbody>\n",
       "</table>\n",
       "</div>"
      ],
      "text/plain": [
       "   age  sex     bmi  children  smoker  region      charges  AgeGroup  \\\n",
       "0   19    0  27.900         0       1       3  16884.92400  (15, 20]   \n",
       "1   18    1  33.770         1       0       2   1725.55230  (15, 20]   \n",
       "2   28    1  33.000         3       0       2   4449.46200  (25, 30]   \n",
       "3   33    1  22.705         0       0       1  21984.47061  (30, 35]   \n",
       "4   32    1  28.880         0       0       1   3866.85520  (30, 35]   \n",
       "\n",
       "    bmi_classes  \n",
       "0    Overweight  \n",
       "1       Obese I  \n",
       "2       Obese I  \n",
       "3  Normal range  \n",
       "4    Overweight  "
      ]
     },
     "execution_count": 75,
     "metadata": {},
     "output_type": "execute_result"
    }
   ],
   "source": [
    "df.head()"
   ]
  },
  {
   "cell_type": "markdown",
   "id": "1cc8ea40",
   "metadata": {},
   "source": [
    "## 4. Polynomial Regression "
   ]
  },
  {
   "cell_type": "code",
   "execution_count": 76,
   "id": "d133e38a",
   "metadata": {},
   "outputs": [],
   "source": [
    "from sklearn.preprocessing import PolynomialFeatures\n",
    "\n",
    "x = df.drop(['charges','AgeGroup','bmi_classes','sex'], axis = 1)\n",
    "y = df.charges\n",
    "\n",
    "pol = PolynomialFeatures (degree = 2)\n",
    "x_pol = pol.fit_transform(x)\n",
    "\n",
    "x_train, x_test, y_train, y_test = tt(x_pol, y, test_size=0.2, random_state=0)\n",
    "Pol_reg = LinearRegression()\n",
    "Pol_reg.fit(x_train, y_train)\n",
    "\n",
    "y_train_pred = Pol_reg.predict(x_train)\n",
    "y_test_pred = Pol_reg.predict(x_test)"
   ]
  },
  {
   "cell_type": "markdown",
   "id": "23f5c4c5",
   "metadata": {},
   "source": [
    "### Model Evaluation (Test Data)"
   ]
  },
  {
   "cell_type": "code",
   "execution_count": 77,
   "id": "35766f73",
   "metadata": {},
   "outputs": [
    {
     "name": "stdout",
     "output_type": "stream",
     "text": [
      "MAE -> 2899.4450237900974\n",
      "MSE -> 18729358.035948996\n",
      "RMSE -> 53.8464950000471\n",
      "R2_Score -> 0.8823014989594776\n"
     ]
    }
   ],
   "source": [
    "from sklearn.metrics import mean_absolute_error,mean_squared_error,r2_score\n",
    "print(\"MAE ->\",mean_absolute_error(y_test,y_test_pred))\n",
    "print(\"MSE ->\",mean_squared_error(y_test,y_test_pred))\n",
    "print(\"RMSE ->\",np.sqrt(mean_absolute_error(y_test,y_test_pred)))\n",
    "print(\"R2_Score ->\",r2_score(y_test,y_test_pred))\n",
    "\n",
    "mae = mean_absolute_error(y_test,y_test_pred)\n",
    "mse = mean_squared_error(y_test,y_test_pred)\n",
    "rmse = np.sqrt(mse)\n",
    "r2 = r2_score(y_test,y_test_pred)\n",
    "err=[\"Polynomial Regression\",mae,mse,rmse,r2]\n",
    "eval_metrics[4]=err"
   ]
  },
  {
   "cell_type": "markdown",
   "id": "d759df66",
   "metadata": {},
   "source": [
    "### Model Evaluation (Train Data)"
   ]
  },
  {
   "cell_type": "code",
   "execution_count": 78,
   "id": "5bae2c28",
   "metadata": {},
   "outputs": [
    {
     "name": "stdout",
     "output_type": "stream",
     "text": [
      "MAE -> 2932.934647202127\n",
      "MSE -> 23621801.409892865\n",
      "RMSE -> 54.156575290560305\n",
      "R2_Score -> 0.8352344584710447\n"
     ]
    }
   ],
   "source": [
    "print(\"MAE ->\",mean_absolute_error(y_train,y_train_pred))\n",
    "print(\"MSE ->\",mean_squared_error(y_train,y_train_pred))\n",
    "print(\"RMSE ->\",np.sqrt(mean_absolute_error(y_train,y_train_pred)))\n",
    "print(\"R2_Score ->\",r2_score(y_train,y_train_pred))"
   ]
  },
  {
   "cell_type": "code",
   "execution_count": 79,
   "id": "6f124343",
   "metadata": {},
   "outputs": [
    {
     "data": {
      "text/html": [
       "<div>\n",
       "<style scoped>\n",
       "    .dataframe tbody tr th:only-of-type {\n",
       "        vertical-align: middle;\n",
       "    }\n",
       "\n",
       "    .dataframe tbody tr th {\n",
       "        vertical-align: top;\n",
       "    }\n",
       "\n",
       "    .dataframe thead th {\n",
       "        text-align: right;\n",
       "    }\n",
       "</style>\n",
       "<table border=\"1\" class=\"dataframe\">\n",
       "  <thead>\n",
       "    <tr style=\"text-align: right;\">\n",
       "      <th></th>\n",
       "      <th>Actual</th>\n",
       "      <th>Predicted</th>\n",
       "    </tr>\n",
       "  </thead>\n",
       "  <tbody>\n",
       "    <tr>\n",
       "      <th>578</th>\n",
       "      <td>9724.53000</td>\n",
       "      <td>11851.170052</td>\n",
       "    </tr>\n",
       "    <tr>\n",
       "      <th>610</th>\n",
       "      <td>8547.69130</td>\n",
       "      <td>10162.090622</td>\n",
       "    </tr>\n",
       "    <tr>\n",
       "      <th>569</th>\n",
       "      <td>45702.02235</td>\n",
       "      <td>48995.768687</td>\n",
       "    </tr>\n",
       "    <tr>\n",
       "      <th>1034</th>\n",
       "      <td>12950.07120</td>\n",
       "      <td>14201.008650</td>\n",
       "    </tr>\n",
       "    <tr>\n",
       "      <th>198</th>\n",
       "      <td>9644.25250</td>\n",
       "      <td>8389.389960</td>\n",
       "    </tr>\n",
       "    <tr>\n",
       "      <th>...</th>\n",
       "      <td>...</td>\n",
       "      <td>...</td>\n",
       "    </tr>\n",
       "    <tr>\n",
       "      <th>1084</th>\n",
       "      <td>15019.76005</td>\n",
       "      <td>16700.567688</td>\n",
       "    </tr>\n",
       "    <tr>\n",
       "      <th>726</th>\n",
       "      <td>6664.68595</td>\n",
       "      <td>8686.775634</td>\n",
       "    </tr>\n",
       "    <tr>\n",
       "      <th>1132</th>\n",
       "      <td>20709.02034</td>\n",
       "      <td>13213.136268</td>\n",
       "    </tr>\n",
       "    <tr>\n",
       "      <th>725</th>\n",
       "      <td>40932.42950</td>\n",
       "      <td>41300.963900</td>\n",
       "    </tr>\n",
       "    <tr>\n",
       "      <th>963</th>\n",
       "      <td>9500.57305</td>\n",
       "      <td>11813.375444</td>\n",
       "    </tr>\n",
       "  </tbody>\n",
       "</table>\n",
       "<p>268 rows × 2 columns</p>\n",
       "</div>"
      ],
      "text/plain": [
       "           Actual     Predicted\n",
       "578    9724.53000  11851.170052\n",
       "610    8547.69130  10162.090622\n",
       "569   45702.02235  48995.768687\n",
       "1034  12950.07120  14201.008650\n",
       "198    9644.25250   8389.389960\n",
       "...           ...           ...\n",
       "1084  15019.76005  16700.567688\n",
       "726    6664.68595   8686.775634\n",
       "1132  20709.02034  13213.136268\n",
       "725   40932.42950  41300.963900\n",
       "963    9500.57305  11813.375444\n",
       "\n",
       "[268 rows x 2 columns]"
      ]
     },
     "execution_count": 79,
     "metadata": {},
     "output_type": "execute_result"
    }
   ],
   "source": [
    "##Predicting the charges\n",
    "y_test_pred = Pol_reg.predict(x_test)\n",
    "##Comparing the actual output values with the predicted values\n",
    "df = pd.DataFrame({'Actual': y_test, 'Predicted': y_test_pred})\n",
    "df"
   ]
  },
  {
   "cell_type": "markdown",
   "id": "78edc1d7",
   "metadata": {},
   "source": [
    "## 5. SVR Model"
   ]
  },
  {
   "cell_type": "code",
   "execution_count": 80,
   "id": "7889e21b",
   "metadata": {},
   "outputs": [
    {
     "data": {
      "text/plain": [
       "SVR()"
      ]
     },
     "execution_count": 80,
     "metadata": {},
     "output_type": "execute_result"
    }
   ],
   "source": [
    "from sklearn.svm import SVR\n",
    "svm = SVR()\n",
    "svm.fit(x_train,y_train)"
   ]
  },
  {
   "cell_type": "code",
   "execution_count": 81,
   "id": "4686e696",
   "metadata": {},
   "outputs": [],
   "source": [
    "y_pred1 = svm.predict(x_test)"
   ]
  },
  {
   "cell_type": "code",
   "execution_count": 82,
   "id": "bd263c13",
   "metadata": {},
   "outputs": [
    {
     "name": "stdout",
     "output_type": "stream",
     "text": [
      "MAE -> 8537.14343366542\n",
      "MSE -> 175432069.10567868\n",
      "RMSE -> 92.39666354184777\n",
      "R2_Score -> -0.10244523750060863\n"
     ]
    }
   ],
   "source": [
    "from sklearn.metrics import mean_absolute_error,mean_squared_error,r2_score\n",
    "print(\"MAE ->\",mean_absolute_error(y_test,y_pred1))\n",
    "print(\"MSE ->\",mean_squared_error(y_test,y_pred1))\n",
    "print(\"RMSE ->\",np.sqrt(mean_absolute_error(y_test,y_pred1)))\n",
    "print(\"R2_Score ->\",r2_score(y_test,y_pred1))"
   ]
  },
  {
   "cell_type": "markdown",
   "id": "34b7033b",
   "metadata": {},
   "source": [
    "## 6. Gradient Boosting"
   ]
  },
  {
   "cell_type": "code",
   "execution_count": 83,
   "id": "2a35cd55",
   "metadata": {},
   "outputs": [
    {
     "data": {
      "text/plain": [
       "GradientBoostingRegressor()"
      ]
     },
     "execution_count": 83,
     "metadata": {},
     "output_type": "execute_result"
    }
   ],
   "source": [
    "from sklearn.ensemble import GradientBoostingRegressor\n",
    "gr = GradientBoostingRegressor()\n",
    "gr.fit(x_train,y_train)"
   ]
  },
  {
   "cell_type": "code",
   "execution_count": 84,
   "id": "3680c377",
   "metadata": {},
   "outputs": [
    {
     "name": "stdout",
     "output_type": "stream",
     "text": [
      "MAE -> 2528.047659313625\n",
      "MSE -> 17951810.224168975\n",
      "RMSE -> 50.2796943040988\n",
      "R2_Score -> 0.8871877428850937\n"
     ]
    }
   ],
   "source": [
    "y_pred2 = gr.predict(x_test)\n",
    "from sklearn.metrics import mean_absolute_error,mean_squared_error,r2_score\n",
    "print(\"MAE ->\",mean_absolute_error(y_test,y_pred2))\n",
    "print(\"MSE ->\",mean_squared_error(y_test,y_pred2))\n",
    "print(\"RMSE ->\",np.sqrt(mean_absolute_error(y_test,y_pred2)))\n",
    "print(\"R2_Score ->\",r2_score(y_test,y_pred2))\n",
    "\n",
    "\n",
    "mae = mean_absolute_error(y_test,y_pred2)\n",
    "mse = mean_squared_error(y_test,y_pred2)\n",
    "rmse = np.sqrt(mse)\n",
    "r2 = r2_score(y_test,y_pred2)\n",
    "err=[\"Gradient Boosting Regression\",mae,mse,rmse,r2]\n",
    "eval_metrics[5]=err"
   ]
  },
  {
   "cell_type": "code",
   "execution_count": 85,
   "id": "42be30ce",
   "metadata": {},
   "outputs": [
    {
     "name": "stdout",
     "output_type": "stream",
     "text": [
      "MAE -> 1946.1362829549485\n",
      "MSE -> 12597649.197682105\n",
      "RMSE -> 44.11503465888867\n",
      "R2_Score -> 0.9121295427037749\n"
     ]
    }
   ],
   "source": [
    "y_train_pred_g = gr.predict(x_train)\n",
    "print(\"MAE ->\",mean_absolute_error(y_train,y_train_pred_g))\n",
    "print(\"MSE ->\",mean_squared_error(y_train,y_train_pred_g))\n",
    "print(\"RMSE ->\",np.sqrt(mean_absolute_error(y_train,y_train_pred_g)))\n",
    "print(\"R2_Score ->\",r2_score(y_train,y_train_pred_g))"
   ]
  },
  {
   "cell_type": "code",
   "execution_count": 86,
   "id": "fb8e0310",
   "metadata": {},
   "outputs": [],
   "source": [
    "from sklearn.tree import DecisionTreeRegressor\n",
    "from sklearn.metrics import mean_squared_error\n",
    "\n",
    "\n",
    "# Initialize the decision tree regression model\n",
    "dt_regressor = DecisionTreeRegressor()\n",
    "\n",
    "# Fit the model to the training data\n",
    "dt_regressor.fit(x_train, y_train)\n",
    "\n",
    "# Make predictions on the testing data\n",
    "y_pred_dt = dt_regressor.predict(x_test)\n"
   ]
  },
  {
   "cell_type": "code",
   "execution_count": 87,
   "id": "1549f040",
   "metadata": {},
   "outputs": [
    {
     "name": "stdout",
     "output_type": "stream",
     "text": [
      "MAE -> 3715.084941544776\n",
      "MSE -> 55449831.70582473\n",
      "RMSE -> 60.951496630884925\n",
      "R2_Score -> 0.6515437388618365\n"
     ]
    }
   ],
   "source": [
    "from sklearn.metrics import mean_absolute_error,mean_squared_error,r2_score\n",
    "print(\"MAE ->\",mean_absolute_error(y_test,y_pred_dt))\n",
    "print(\"MSE ->\",mean_squared_error(y_test,y_pred_dt))\n",
    "print(\"RMSE ->\",np.sqrt(mean_absolute_error(y_test,y_pred_dt)))\n",
    "print(\"R2_Score ->\",r2_score(y_test,y_pred_dt))\n"
   ]
  },
  {
   "cell_type": "code",
   "execution_count": 88,
   "id": "8e3ba1ec",
   "metadata": {},
   "outputs": [
    {
     "name": "stdout",
     "output_type": "stream",
     "text": [
      "MAE -> 30.486534018691586\n",
      "MSE -> 244463.03195243288\n",
      "RMSE -> 5.521461221333677\n",
      "R2_Score -> 0.9982948343716672\n"
     ]
    }
   ],
   "source": [
    "y_train_pred_dt = dt_regressor.predict(x_train)\n",
    "print(\"MAE ->\",mean_absolute_error(y_train,y_train_pred_dt))\n",
    "print(\"MSE ->\",mean_squared_error(y_train,y_train_pred_dt))\n",
    "print(\"RMSE ->\",np.sqrt(mean_absolute_error(y_train,y_train_pred_dt)))\n",
    "print(\"R2_Score ->\",r2_score(y_train,y_train_pred_dt))"
   ]
  },
  {
   "cell_type": "code",
   "execution_count": 89,
   "id": "7f8f6b56",
   "metadata": {},
   "outputs": [
    {
     "name": "stdout",
     "output_type": "stream",
     "text": [
      "Best parameters:  {'max_depth': 5, 'min_samples_leaf': 4, 'min_samples_split': 4}\n",
      "Best score:  0.8307925080204523\n"
     ]
    }
   ],
   "source": [
    "from sklearn.model_selection import GridSearchCV\n",
    "from sklearn.tree import DecisionTreeRegressor\n",
    "\n",
    "# Define the parameter grid\n",
    "param_grid = {\n",
    "    \"max_depth\": [3, 5, 7],\n",
    "    \"min_samples_split\": [2, 4, 8],\n",
    "    \"min_samples_leaf\": [1, 2, 4],\n",
    "}\n",
    "\n",
    "# Create the DecisionTreeRegressor model\n",
    "tree = DecisionTreeRegressor()\n",
    "\n",
    "# Create the GridSearchCV object\n",
    "grid_search = GridSearchCV(estimator=tree, param_grid=param_grid, cv=5)\n",
    "\n",
    "# Perform grid search on the dataset\n",
    "grid_search.fit(x_train, y_train)  \n",
    "\n",
    "# Print the best parameter combination\n",
    "print(\"Best parameters: \", grid_search.best_params_)\n",
    "\n",
    "# Print the best score\n",
    "print(\"Best score: \", grid_search.best_score_)"
   ]
  },
  {
   "cell_type": "code",
   "execution_count": 90,
   "id": "bccb8304",
   "metadata": {},
   "outputs": [
    {
     "name": "stdout",
     "output_type": "stream",
     "text": [
      "Best parameters:  {'bootstrap': True, 'max_features': 'sqrt', 'min_samples_split': 8, 'n_estimators': 400}\n",
      "Best score:  0.8386628164826124\n"
     ]
    }
   ],
   "source": [
    "from sklearn.model_selection import GridSearchCV\n",
    "from sklearn.ensemble import RandomForestRegressor\n",
    "\n",
    "# Define the parameter grid\n",
    "param_grid = {\n",
    "    \"n_estimators\": [100, 200, 300, 400],\n",
    "    \"max_features\": [\"auto\", \"sqrt\",\"log2\"],\n",
    "    \"min_samples_split\": [2, 4, 8],\n",
    "    \"bootstrap\": [True, False]\n",
    "}\n",
    "\n",
    "# Create the RandomForestRegressor model\n",
    "rf = RandomForestRegressor()\n",
    "\n",
    "# Create the GridSearchCV object\n",
    "grid_search = GridSearchCV(estimator=rf, param_grid=param_grid, cv=5)\n",
    "\n",
    "# Perform grid search on the dataset\n",
    "grid_search.fit(x_train, y_train) \n",
    "\n",
    "# Print the best parameter combination\n",
    "print(\"Best parameters: \", grid_search.best_params_)\n",
    "\n",
    "# Print the best score\n",
    "print(\"Best score: \", grid_search.best_score_)\n"
   ]
  },
  {
   "cell_type": "markdown",
   "id": "5ad8fa3f",
   "metadata": {},
   "source": [
    "## Score Analysis of the Major Algorithms -"
   ]
  },
  {
   "cell_type": "code",
   "execution_count": 91,
   "id": "168f792d",
   "metadata": {},
   "outputs": [
    {
     "name": "stdout",
     "output_type": "stream",
     "text": [
      "model                             MAE          MSE     RMSE        R2\n",
      "----------------------------  -------  -----------  -------  --------\n",
      "Linear Regression             3930.33  3.18459e+07  5643.22  0.799875\n",
      "Ridge Regression Model        3942.95  3.19032e+07  5648.29  0.799515\n",
      "Random Forest Regression      2629.99  1.95804e+07  4424.97  0.876954\n",
      "Polynomial Regression         2899.45  1.87294e+07  4327.74  0.882301\n",
      "Gradient Boosting Regression  2528.05  1.79518e+07  4236.96  0.887188\n"
     ]
    }
   ],
   "source": [
    "from tabulate import tabulate\n",
    "print(tabulate(eval_metrics,headers=\"firstrow\"))"
   ]
  },
  {
   "cell_type": "code",
   "execution_count": 92,
   "id": "81cfdedc",
   "metadata": {},
   "outputs": [],
   "source": [
    "df1 = pd.DataFrame({'Actual':y_test,'gr':y_pred2,'PloyR':y_test_pred,\n",
    "                  'Rf':x_test_pred})"
   ]
  },
  {
   "cell_type": "code",
   "execution_count": 93,
   "id": "df639dd3",
   "metadata": {},
   "outputs": [
    {
     "data": {
      "text/html": [
       "<div>\n",
       "<style scoped>\n",
       "    .dataframe tbody tr th:only-of-type {\n",
       "        vertical-align: middle;\n",
       "    }\n",
       "\n",
       "    .dataframe tbody tr th {\n",
       "        vertical-align: top;\n",
       "    }\n",
       "\n",
       "    .dataframe thead th {\n",
       "        text-align: right;\n",
       "    }\n",
       "</style>\n",
       "<table border=\"1\" class=\"dataframe\">\n",
       "  <thead>\n",
       "    <tr style=\"text-align: right;\">\n",
       "      <th></th>\n",
       "      <th>Actual</th>\n",
       "      <th>gr</th>\n",
       "      <th>PloyR</th>\n",
       "      <th>Rf</th>\n",
       "    </tr>\n",
       "  </thead>\n",
       "  <tbody>\n",
       "    <tr>\n",
       "      <th>578</th>\n",
       "      <td>9724.53000</td>\n",
       "      <td>10903.234075</td>\n",
       "      <td>11851.170052</td>\n",
       "      <td>12184.615023</td>\n",
       "    </tr>\n",
       "    <tr>\n",
       "      <th>610</th>\n",
       "      <td>8547.69130</td>\n",
       "      <td>9798.363714</td>\n",
       "      <td>10162.090622</td>\n",
       "      <td>10132.515056</td>\n",
       "    </tr>\n",
       "    <tr>\n",
       "      <th>569</th>\n",
       "      <td>45702.02235</td>\n",
       "      <td>46026.049943</td>\n",
       "      <td>48995.768687</td>\n",
       "      <td>44695.034190</td>\n",
       "    </tr>\n",
       "    <tr>\n",
       "      <th>1034</th>\n",
       "      <td>12950.07120</td>\n",
       "      <td>13751.737851</td>\n",
       "      <td>14201.008650</td>\n",
       "      <td>13245.465793</td>\n",
       "    </tr>\n",
       "    <tr>\n",
       "      <th>198</th>\n",
       "      <td>9644.25250</td>\n",
       "      <td>9378.565973</td>\n",
       "      <td>8389.389960</td>\n",
       "      <td>10410.237184</td>\n",
       "    </tr>\n",
       "    <tr>\n",
       "      <th>...</th>\n",
       "      <td>...</td>\n",
       "      <td>...</td>\n",
       "      <td>...</td>\n",
       "      <td>...</td>\n",
       "    </tr>\n",
       "    <tr>\n",
       "      <th>1084</th>\n",
       "      <td>15019.76005</td>\n",
       "      <td>16311.568785</td>\n",
       "      <td>16700.567688</td>\n",
       "      <td>16384.764993</td>\n",
       "    </tr>\n",
       "    <tr>\n",
       "      <th>726</th>\n",
       "      <td>6664.68595</td>\n",
       "      <td>7278.063702</td>\n",
       "      <td>8686.775634</td>\n",
       "      <td>6577.481215</td>\n",
       "    </tr>\n",
       "    <tr>\n",
       "      <th>1132</th>\n",
       "      <td>20709.02034</td>\n",
       "      <td>11344.905953</td>\n",
       "      <td>13213.136268</td>\n",
       "      <td>11571.218319</td>\n",
       "    </tr>\n",
       "    <tr>\n",
       "      <th>725</th>\n",
       "      <td>40932.42950</td>\n",
       "      <td>42979.884784</td>\n",
       "      <td>41300.963900</td>\n",
       "      <td>40932.246912</td>\n",
       "    </tr>\n",
       "    <tr>\n",
       "      <th>963</th>\n",
       "      <td>9500.57305</td>\n",
       "      <td>10644.229651</td>\n",
       "      <td>11813.375444</td>\n",
       "      <td>9602.199634</td>\n",
       "    </tr>\n",
       "  </tbody>\n",
       "</table>\n",
       "<p>268 rows × 4 columns</p>\n",
       "</div>"
      ],
      "text/plain": [
       "           Actual            gr         PloyR            Rf\n",
       "578    9724.53000  10903.234075  11851.170052  12184.615023\n",
       "610    8547.69130   9798.363714  10162.090622  10132.515056\n",
       "569   45702.02235  46026.049943  48995.768687  44695.034190\n",
       "1034  12950.07120  13751.737851  14201.008650  13245.465793\n",
       "198    9644.25250   9378.565973   8389.389960  10410.237184\n",
       "...           ...           ...           ...           ...\n",
       "1084  15019.76005  16311.568785  16700.567688  16384.764993\n",
       "726    6664.68595   7278.063702   8686.775634   6577.481215\n",
       "1132  20709.02034  11344.905953  13213.136268  11571.218319\n",
       "725   40932.42950  42979.884784  41300.963900  40932.246912\n",
       "963    9500.57305  10644.229651  11813.375444   9602.199634\n",
       "\n",
       "[268 rows x 4 columns]"
      ]
     },
     "execution_count": 93,
     "metadata": {},
     "output_type": "execute_result"
    }
   ],
   "source": [
    "df1"
   ]
  },
  {
   "cell_type": "code",
   "execution_count": null,
   "id": "165cf616",
   "metadata": {},
   "outputs": [],
   "source": []
  },
  {
   "cell_type": "code",
   "execution_count": null,
   "id": "edc8699e",
   "metadata": {},
   "outputs": [],
   "source": []
  },
  {
   "cell_type": "code",
   "execution_count": null,
   "id": "7aa01fbf",
   "metadata": {},
   "outputs": [],
   "source": []
  },
  {
   "cell_type": "code",
   "execution_count": null,
   "id": "5e7795b7",
   "metadata": {},
   "outputs": [],
   "source": []
  }
 ],
 "metadata": {
  "kernelspec": {
   "display_name": "Python 3 (ipykernel)",
   "language": "python",
   "name": "python3"
  },
  "language_info": {
   "codemirror_mode": {
    "name": "ipython",
    "version": 3
   },
   "file_extension": ".py",
   "mimetype": "text/x-python",
   "name": "python",
   "nbconvert_exporter": "python",
   "pygments_lexer": "ipython3",
   "version": "3.9.7"
  }
 },
 "nbformat": 4,
 "nbformat_minor": 5
}
